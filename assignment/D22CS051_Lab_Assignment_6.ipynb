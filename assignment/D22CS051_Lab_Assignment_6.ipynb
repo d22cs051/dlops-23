{
 "cells": [
  {
   "attachments": {},
   "cell_type": "markdown",
   "metadata": {},
   "source": [
    "# Lab Assignment 6: perform experiments with CIFAR100"
   ]
  },
  {
   "attachments": {},
   "cell_type": "markdown",
   "metadata": {},
   "source": [
    "## Checking Avilable GPU"
   ]
  },
  {
   "cell_type": "code",
   "execution_count": 11,
   "metadata": {},
   "outputs": [
    {
     "name": "stdout",
     "output_type": "stream",
     "text": [
      "Sun Apr  2 21:48:54 2023       \n",
      "+-----------------------------------------------------------------------------+\n",
      "| NVIDIA-SMI 525.89.02    Driver Version: 525.89.02    CUDA Version: 12.0     |\n",
      "|-------------------------------+----------------------+----------------------+\n",
      "| GPU  Name        Persistence-M| Bus-Id        Disp.A | Volatile Uncorr. ECC |\n",
      "| Fan  Temp  Perf  Pwr:Usage/Cap|         Memory-Usage | GPU-Util  Compute M. |\n",
      "|                               |                      |               MIG M. |\n",
      "|===============================+======================+======================|\n",
      "|   0  NVIDIA GeForce ...  Off  | 00000000:01:00.0  On |                  N/A |\n",
      "|  0%   55C    P8    38W / 350W |    226MiB / 24576MiB |      0%      Default |\n",
      "|                               |                      |                  N/A |\n",
      "+-------------------------------+----------------------+----------------------+\n",
      "                                                                               \n",
      "+-----------------------------------------------------------------------------+\n",
      "| Processes:                                                                  |\n",
      "|  GPU   GI   CI        PID   Type   Process name                  GPU Memory |\n",
      "|        ID   ID                                                   Usage      |\n",
      "|=============================================================================|\n",
      "|    0   N/A  N/A      1656      G   /usr/lib/xorg/Xorg                122MiB |\n",
      "|    0   N/A  N/A      2112      G   /usr/bin/gnome-shell               54MiB |\n",
      "|    0   N/A  N/A      2315      G   /opt/freedownloadmanager/fdm        4MiB |\n",
      "|    0   N/A  N/A      2882      G   ...RendererForSitePerProcess       22MiB |\n",
      "|    0   N/A  N/A     16919      G   ...2gtk-4.0/WebKitWebProcess       16MiB |\n",
      "+-----------------------------------------------------------------------------+\n"
     ]
    }
   ],
   "source": [
    "!nvidia-smi"
   ]
  },
  {
   "cell_type": "markdown",
   "metadata": {},
   "source": [
    "## Importing requirements"
   ]
  },
  {
   "cell_type": "code",
   "execution_count": 12,
   "metadata": {},
   "outputs": [],
   "source": [
    "# pytorch libs\n",
    "import torch\n",
    "from torch import nn\n",
    "import torchvision\n",
    "\n",
    "# matplot libs\n",
    "import matplotlib.pyplot as plt\n",
    "\n",
    "# numpy\n",
    "import numpy as np\n",
    "\n",
    "# torch metrics\n",
    "try:\n",
    "  import torchmetrics\n",
    "except:\n",
    "  !pip3 -q install torchmetrics\n",
    "import torchmetrics\n",
    "from torchmetrics.classification import Accuracy\n",
    "\n",
    "try:\n",
    "  import torchinfo\n",
    "except:\n",
    "  !pip3 -q install torchinfo\n",
    "finally:\n",
    "  from torchinfo import summary\n",
    "\n",
    "try:\n",
    "  import torchattacks\n",
    "except:\n",
    "  !pip3 -q install torchattacks\n",
    "finally:\n",
    "  import torchattacks"
   ]
  },
  {
   "cell_type": "markdown",
   "metadata": {},
   "source": [
    "## device agnostic code"
   ]
  },
  {
   "cell_type": "code",
   "execution_count": 13,
   "metadata": {},
   "outputs": [
    {
     "data": {
      "text/plain": [
       "'cuda'"
      ]
     },
     "execution_count": 13,
     "metadata": {},
     "output_type": "execute_result"
    }
   ],
   "source": [
    "device = \"cuda\" if torch.cuda.is_available() else \"cpu\"\n",
    "device"
   ]
  },
  {
   "cell_type": "markdown",
   "metadata": {},
   "source": [
    "## Model Defination"
   ]
  },
  {
   "attachments": {},
   "cell_type": "markdown",
   "metadata": {},
   "source": [
    "### ResNet-34"
   ]
  },
  {
   "cell_type": "code",
   "execution_count": 14,
   "metadata": {},
   "outputs": [],
   "source": [
    "from torchvision.models import resnet34\n",
    "# Model with pretrained weights Architecture - Resnet18resnet18\n",
    "def get_resnet_model():\n",
    "    model_resnet = resnet34()\n",
    "\n",
    "    model_resnet.fc = nn.Linear(512, 100)\n",
    "    \n",
    "    return model_resnet"
   ]
  },
  {
   "attachments": {},
   "cell_type": "markdown",
   "metadata": {},
   "source": [
    "### DenseNet-121"
   ]
  },
  {
   "cell_type": "code",
   "execution_count": 15,
   "metadata": {},
   "outputs": [],
   "source": [
    "from torchvision.models import densenet121\n",
    "# Model with pretrained weights Architecture - Resnet18resnet18\n",
    "def get_densenet_model():\n",
    "    model_densenet = densenet121()\n",
    "\n",
    "    model_densenet.classifier = nn.Linear(1024, 100)\n",
    "    \n",
    "    return model_densenet"
   ]
  },
  {
   "attachments": {},
   "cell_type": "markdown",
   "metadata": {},
   "source": [
    "### EfficientNet-B0"
   ]
  },
  {
   "cell_type": "code",
   "execution_count": 16,
   "metadata": {},
   "outputs": [],
   "source": [
    "from torchvision.models import efficientnet_b0\n",
    "# Model with pretrained weights Architecture - Resnet18resnet18\n",
    "\n",
    "def get_effnet_model():\n",
    "    model_effnet = efficientnet_b0()\n",
    "\n",
    "    model_effnet.classifier = nn.Sequential(\n",
    "        nn.Dropout(p=0.2, inplace=True),\n",
    "        nn.Linear(in_features=1280, out_features=100, bias=True)\n",
    "    )\n",
    "    \n",
    "    return model_effnet"
   ]
  },
  {
   "cell_type": "markdown",
   "metadata": {},
   "source": [
    "### ConvNeXt-T"
   ]
  },
  {
   "cell_type": "code",
   "execution_count": 17,
   "metadata": {},
   "outputs": [
    {
     "name": "stdout",
     "output_type": "stream",
     "text": [
      "Sequential(\n",
      "  (0): LayerNorm2d((768,), eps=1e-06, elementwise_affine=True)\n",
      "  (1): Flatten(start_dim=1, end_dim=-1)\n",
      "  (2): Linear(in_features=768, out_features=1000, bias=True)\n",
      ")\n"
     ]
    }
   ],
   "source": [
    "from torchvision.models import convnext_tiny\n",
    "# Model with pretrained weights Architecture - Resnet18resnet18\n",
    "model_convnext = convnext_tiny()\n",
    "print(model_convnext.classifier)\n",
    "def get_convnext_model():\n",
    "    model_convnext = convnext_tiny()\n",
    "\n",
    "    model_convnext.classifier = nn.Sequential(\n",
    "        # nn.LayerNorm([128,768,1,1], eps=1e-06, elementwise_affine=True),\n",
    "        nn.Flatten(start_dim=1, end_dim=-1),\n",
    "        nn.Linear(in_features=768, out_features=100, bias=True)\n",
    "    )\n",
    "    \n",
    "    return model_convnext"
   ]
  },
  {
   "attachments": {},
   "cell_type": "markdown",
   "metadata": {},
   "source": [
    "## Getting Dataset with pytorch\n"
   ]
  },
  {
   "cell_type": "markdown",
   "metadata": {},
   "source": [
    "### Downloading the dataset"
   ]
  },
  {
   "cell_type": "code",
   "execution_count": 18,
   "metadata": {},
   "outputs": [
    {
     "name": "stdout",
     "output_type": "stream",
     "text": [
      "Files already downloaded and verified\n",
      "Files already downloaded and verified\n"
     ]
    },
    {
     "data": {
      "text/plain": [
       "(Dataset CIFAR100\n",
       "     Number of datapoints: 50000\n",
       "     Root location: data\n",
       "     Split: Train\n",
       "     StandardTransform\n",
       " Transform: Compose(\n",
       "                TrivialAugmentWide(num_magnitude_bins=31, interpolation=InterpolationMode.NEAREST, fill=None)\n",
       "                ToTensor()\n",
       "                Normalize(mean=[0.5071, 0.4867, 0.4408], std=[0.2675, 0.2565, 0.2761])\n",
       "            ),\n",
       " Dataset CIFAR100\n",
       "     Number of datapoints: 10000\n",
       "     Root location: data\n",
       "     Split: Test\n",
       "     StandardTransform\n",
       " Transform: Compose(\n",
       "                ToTensor()\n",
       "                Normalize(mean=[0.5071, 0.4867, 0.4408], std=[0.2675, 0.2565, 0.2761])\n",
       "            ))"
      ]
     },
     "execution_count": 18,
     "metadata": {},
     "output_type": "execute_result"
    }
   ],
   "source": [
    "from torchvision import transforms\n",
    "\n",
    "data_transforms_train = transforms.Compose([\n",
    "    transforms.TrivialAugmentWide(num_magnitude_bins=31),\n",
    "    transforms.ToTensor(),\n",
    "    transforms.Normalize(mean=[0.5071, 0.4867, 0.4408], std=[0.2675, 0.2565, 0.2761]),\n",
    "])\n",
    "\n",
    "data_transforms_test = transforms.Compose([\n",
    "    transforms.ToTensor(),\n",
    "    transforms.Normalize(mean=[0.5071, 0.4867, 0.4408], std=[0.2675, 0.2565, 0.2761]),\n",
    "])\n",
    "\n",
    "train_dataset = torchvision.datasets.CIFAR100(\n",
    "    root='data',\n",
    "    train=True,\n",
    "    download=True,\n",
    "    transform=data_transforms_train,\n",
    ")\n",
    "\n",
    "test_dataset = torchvision.datasets.CIFAR100(\n",
    "    root='data',\n",
    "    train=False,\n",
    "    download=True,\n",
    "    transform=data_transforms_test,\n",
    ")\n",
    "train_dataset, test_dataset"
   ]
  },
  {
   "attachments": {},
   "cell_type": "markdown",
   "metadata": {},
   "source": [
    "### Vis. dataset (train dataset)"
   ]
  },
  {
   "cell_type": "code",
   "execution_count": 19,
   "metadata": {},
   "outputs": [
    {
     "name": "stderr",
     "output_type": "stream",
     "text": [
      "Clipping input data to the valid range for imshow with RGB data ([0..1] for floats or [0..255] for integers).\n",
      "Clipping input data to the valid range for imshow with RGB data ([0..1] for floats or [0..255] for integers).\n",
      "Clipping input data to the valid range for imshow with RGB data ([0..1] for floats or [0..255] for integers).\n",
      "Clipping input data to the valid range for imshow with RGB data ([0..1] for floats or [0..255] for integers).\n",
      "Clipping input data to the valid range for imshow with RGB data ([0..1] for floats or [0..255] for integers).\n",
      "Clipping input data to the valid range for imshow with RGB data ([0..1] for floats or [0..255] for integers).\n",
      "Clipping input data to the valid range for imshow with RGB data ([0..1] for floats or [0..255] for integers).\n",
      "Clipping input data to the valid range for imshow with RGB data ([0..1] for floats or [0..255] for integers).\n",
      "Clipping input data to the valid range for imshow with RGB data ([0..1] for floats or [0..255] for integers).\n"
     ]
    },
    {
     "data": {
      "image/png": "[encoded data removed]",
      "text/plain": [
       "<Figure size 800x800 with 9 Axes>"
      ]
     },
     "metadata": {},
     "output_type": "display_data"
    }
   ],
   "source": [
    "# randomly ploting image samples from the grayscale dataset\n",
    "classes = train_dataset.classes\n",
    "labels_map = {classes[i]:i for i in range(100)}  # getting class -> index map\n",
    "labels_map = dict(map(reversed, labels_map.items()))  # inverting dict\n",
    "# print(labels_map)\n",
    "\n",
    "figure = plt.figure(figsize=(8, 8))  # fixing plotsize\n",
    "cols, rows = 3, 3\n",
    "for i in range(1, cols * rows + 1):\n",
    "    sample_idx = torch.randint(\n",
    "        len(train_dataset), size=(1,)\n",
    "    )  # randomely selecting one image sample from the image index\n",
    "    img, label = train_dataset[sample_idx]  # getting image and label of selected index\n",
    "    # sub plot code\n",
    "    figure.add_subplot(rows, cols, i)\n",
    "    plt.title(labels_map[label])\n",
    "    plt.axis(\"off\")\n",
    "    plt.imshow(\n",
    "        img.permute(1, 2, 0)\n",
    "    )  # NOTE:- Color map is gray because we're converting imgae to grayscale / changing channel to HWC for color image\n",
    "    # sub plot code ends\n",
    "plt.show()\n",
    "# NOTE: WARRING BECAUSE OF auto_transforms"
   ]
  },
  {
   "attachments": {},
   "cell_type": "markdown",
   "metadata": {},
   "source": [
    "### Converting dataset to dataloader"
   ]
  },
  {
   "cell_type": "code",
   "execution_count": 20,
   "metadata": {},
   "outputs": [
    {
     "name": "stdout",
     "output_type": "stream",
     "text": [
      "Numbers of Batches in Train Dataloader: 391\n",
      "Numbers of Batches in Test Dataloader: 79\n"
     ]
    }
   ],
   "source": [
    "import os\n",
    "\n",
    "# hyper parms. for dataloader\n",
    "BATCH_SIZE = 128\n",
    "NUM_WORKERS = os.cpu_count()//2  # no. of avilable cpu cores\n",
    "\n",
    "# train dataloader\n",
    "train_dataloader = torch.utils.data.DataLoader(\n",
    "    dataset=train_dataset, batch_size=BATCH_SIZE, shuffle=True, num_workers=NUM_WORKERS\n",
    ")\n",
    "\n",
    "# test dataloader\n",
    "test_dataloader = torch.utils.data.DataLoader(\n",
    "    dataset=test_dataset, batch_size=BATCH_SIZE, shuffle=False, num_workers=NUM_WORKERS\n",
    ")\n",
    "\n",
    "print(f\"Numbers of Batches in Train Dataloader: {len(train_dataloader)}\")\n",
    "print(f\"Numbers of Batches in Test Dataloader: {len(test_dataloader)}\")\n",
    "# train_dataloader,test_dataloader"
   ]
  },
  {
   "attachments": {},
   "cell_type": "markdown",
   "metadata": {},
   "source": [
    "## Models Training Utils Functions"
   ]
  },
  {
   "cell_type": "markdown",
   "metadata": {},
   "source": [
    "### Plot loss curves of a model"
   ]
  },
  {
   "cell_type": "code",
   "execution_count": 21,
   "metadata": {},
   "outputs": [],
   "source": [
    "# Plot loss curves of a model\n",
    "def plot_loss_curves(results):\n",
    "    \"\"\"Plots training curves of a results dictionary.\n",
    "\n",
    "    Args:\n",
    "        results (dict): dictionary containing list of values, e.g.\n",
    "            {\"train_loss\": [...],\n",
    "             \"train_acc\": [...],\n",
    "             \"test_loss\": [...],\n",
    "             \"test_acc\": [...]}\n",
    "    \"\"\"\n",
    "    loss = results[\"train_loss\"]\n",
    "    test_loss = results[\"test_loss\"]\n",
    "\n",
    "    accuracy = results[\"train_acc\"]\n",
    "    test_accuracy = results[\"test_acc\"]\n",
    "\n",
    "    epochs = range(len(results[\"train_loss\"]))\n",
    "\n",
    "    plt.figure(figsize=(15, 7))\n",
    "\n",
    "    # Plot loss\n",
    "    plt.subplot(1, 2, 1)\n",
    "    plt.plot(epochs, loss, label=\"train_loss\")\n",
    "    plt.plot(epochs, test_loss, label=\"test_loss\")\n",
    "    plt.title(\"Loss\")\n",
    "    plt.xlabel(\"Epochs\")\n",
    "    plt.legend()\n",
    "\n",
    "    # Plot accuracy\n",
    "    plt.subplot(1, 2, 2)\n",
    "    plt.plot(epochs, accuracy, label=\"train_accuracy\")\n",
    "    plt.plot(epochs, test_accuracy, label=\"test_accuracy\")\n",
    "    plt.title(\"Accuracy\")\n",
    "    plt.xlabel(\"Epochs\")\n",
    "    plt.legend()\n",
    "    plt.show()"
   ]
  },
  {
   "cell_type": "markdown",
   "metadata": {},
   "source": [
    "### making training, testing steps, train model functions"
   ]
  },
  {
   "attachments": {},
   "cell_type": "markdown",
   "metadata": {},
   "source": [
    "#### train step"
   ]
  },
  {
   "cell_type": "code",
   "execution_count": 22,
   "metadata": {},
   "outputs": [],
   "source": [
    "def training_step(\n",
    "    model: nn.Module,\n",
    "    dataloader: torch.utils.data.DataLoader,\n",
    "    loss_fn: nn.Module,\n",
    "    acc_fn: torchmetrics.classification.accuracy.MulticlassAccuracy,\n",
    "    optimizer: torch.optim.Optimizer,\n",
    "    device: str,\n",
    "    profiler: torch.profiler.profile = None,\n",
    "):\n",
    "    \"\"\"\n",
    "    Desc:\n",
    "      funtion to perform traning step for one EPOCH\n",
    "\n",
    "    Args:\n",
    "      model (nn.Module): Pytorch model class object\n",
    "      dataloader (torch.utils.data.DataLoader): training dataloder from training dataset\n",
    "      loss_fn (nn.Module): Loss Function (object) of your choice\n",
    "      acc_fn (torchmetrics.classification.accuracy.MulticlassAccuracy): accuracy function from trochmetrics\n",
    "      optimizer (torch.optim.Optimizer): Optimizer Function (object) of your choice\n",
    "      device (str): Torch Device \"CPU/GPU\"\n",
    "      profiler (torch.profiler.profile, optional): Pytorch Profiler. Defaults to None.\n",
    "    Returns:\n",
    "      train_loss (float), train_acc (float): training loss and training accuracy for one EPOCH\n",
    "    \"\"\"\n",
    "    model.train()  # putting model in traing model\n",
    "\n",
    "    train_loss, train_acc = 0, 0  # initlizing loss and acc. for the epoch\n",
    "\n",
    "    if profiler != None:\n",
    "      profiler.start()\n",
    "      for step,(X, y) in enumerate(dataloader):  # loop in batches\n",
    "        if step >= (1 + 1 + 3) * 2:\n",
    "          break\n",
    "        X, y = X.to(device), y.to(device)  # sending the data to target device\n",
    "        # print(f\"shape of X: {X.shape}, shape of y: {y.shape}\")\n",
    "        \n",
    "        # 1. forward pass\n",
    "        y_pred_logits = model(X)\n",
    "        # y_pred = y_pred_logits.argmax(dim=1).type(torch.int)\n",
    "        # print(y_pred)\n",
    "        # 2. calculate the loss\n",
    "        loss = loss_fn(y_pred_logits, y)\n",
    "        train_loss += loss.item()\n",
    "\n",
    "        # 3. optimizer zero grad\n",
    "        optimizer.zero_grad()\n",
    "\n",
    "        # 4. loss backword\n",
    "        loss.backward()\n",
    "\n",
    "        # 5. optimizer step\n",
    "        optimizer.step()\n",
    "        \n",
    "        train_acc += acc_fn(y_pred_logits, y).item()\n",
    "        \n",
    "        profiler.step()\n",
    "      profiler.stop()\n",
    "    else:\n",
    "      for step,(X, y) in enumerate(dataloader):  # loop in batches\n",
    "        X, y = X.to(device), y.to(device)  # sending the data to target device\n",
    "        # print(f\"shape of X: {X.shape}, shape of y: {y.shape}\")\n",
    "        \n",
    "        # 1. forward pass\n",
    "        y_pred_logits = model(X)\n",
    "        # y_pred = y_pred_logits.argmax(dim=1).type(torch.int)\n",
    "        # print(y_pred)\n",
    "        # 2. calculate the loss\n",
    "        loss = loss_fn(y_pred_logits, y)\n",
    "        train_loss += loss.item()\n",
    "\n",
    "        # 3. optimizer zero grad\n",
    "        optimizer.zero_grad()\n",
    "\n",
    "        # 4. loss backword\n",
    "        loss.backward()\n",
    "\n",
    "        # 5. optimizer step\n",
    "        optimizer.step()\n",
    "        \n",
    "        train_acc += acc_fn(y_pred_logits, y).item()\n",
    "    # 6. returning actual loss and acc.x\n",
    "    return train_loss / len(dataloader), train_acc / len(dataloader)"
   ]
  },
  {
   "cell_type": "markdown",
   "metadata": {},
   "source": [
    "#### test step"
   ]
  },
  {
   "cell_type": "code",
   "execution_count": 23,
   "metadata": {},
   "outputs": [],
   "source": [
    "def testing_step(\n",
    "    model: nn.Module,\n",
    "    dataloader: torch.utils.data.DataLoader,\n",
    "    loss_fn: nn.Module,\n",
    "    acc_fn: torchmetrics.classification.accuracy.MulticlassAccuracy,\n",
    "    device: str,\n",
    "):\n",
    "    \"\"\"\n",
    "    Desc:\n",
    "      funtion to perform testing step for one EPOCH\n",
    "\n",
    "    Args:\n",
    "      model (nn.Module): Pytorch model class object\n",
    "      dataloader (torch.utils.data.DataLoader): testing dataloder from training dataset\n",
    "      loss_fn (nn.Module): Loss Function (object) of your choice\n",
    "      acc_fn (torchmetrics.classification.accuracy.MulticlassAccuracy): accuracy function from trochmetrics\n",
    "      device (str): Torch Device \"CPU/GPU\"\n",
    "    Returns:\n",
    "      test_loss (float), test_acc (float): testing loss and testing accuracy for one EPOCH\n",
    "    \"\"\"\n",
    "    model.eval()  # putting model in eval model\n",
    "\n",
    "    test_loss, test_acc = 0, 0  # initlizing loss and acc. for the epoch\n",
    "\n",
    "    # with torch.inference_mode(): # disabling inference mode for aqcuiring gradients of perturbed data\n",
    "    for (X, y) in dataloader:  # loop in batches\n",
    "        X, y = X.to(device), y.to(device)  # sending the data to target device\n",
    "        # print(f\"shape of X: {X.shape}, shape of y: {y.shape}\")\n",
    "\n",
    "        # 1. forward pass\n",
    "        y_pred_logits = model(X)\n",
    "\n",
    "        # 2. calculate the loss\n",
    "        loss = loss_fn(y_pred_logits, y)\n",
    "        test_loss += loss.item()\n",
    "\n",
    "        # printing the prediction and actual label\n",
    "        # print(y_pred_logits.argmax(dim=1), y,sep='\\n')\n",
    "        \n",
    "        # 3. calculating accuracy\n",
    "        test_acc += acc_fn(y_pred_logits, y).item()\n",
    "\n",
    "    # 6. returning actual loss and acc.\n",
    "    return test_loss / len(dataloader), test_acc / len(dataloader)"
   ]
  },
  {
   "cell_type": "markdown",
   "metadata": {},
   "source": [
    "#### training function"
   ]
  },
  {
   "cell_type": "code",
   "execution_count": 24,
   "metadata": {},
   "outputs": [],
   "source": [
    "from tqdm.auto import tqdm\n",
    "\n",
    "\n",
    "def train(\n",
    "    model: nn.Module,\n",
    "    train_dataloader: torch.utils.data.DataLoader,\n",
    "    test_dataloader: torch.utils.data.DataLoader,\n",
    "    loss_fn: nn.Module,\n",
    "    acc_fn: torchmetrics.classification.accuracy.MulticlassAccuracy,\n",
    "    optimizer: torch.optim.Optimizer,\n",
    "    epochs: int,\n",
    "    save_info: str,\n",
    "    profiler:torch.profiler.profile = None,\n",
    "):\n",
    "    \"\"\"\n",
    "    Desc:\n",
    "      funtion to perform training for one {epochs} param\n",
    "\n",
    "    Args:\n",
    "      model (nn.Module): Pytorch model class object\n",
    "      train_dataloader (torch.utils.data.DataLoader): training dataloder from training dataset\n",
    "      test_dataloader (torch.utils.data.DataLoader): testing dataloder from testing dataset\n",
    "      loss_fn (nn.Module): Loss Function (object) of your choice\n",
    "      acc_fn (torchmetrics.classification.accuracy.MulticlassAccuracy): accuracy function from trochmetrics\n",
    "      device (str): Torch Device \"CPU/GPU\"\n",
    "      epochs (int): number of epochs to train the model\n",
    "      save_info (str): info for saving model\n",
    "      profiler (torch.profiler.profile, optional): Pytorch Profiler. Defaults to None.\n",
    "    Returns:\n",
    "      result_dict ({str: List[float]}): testing loss and testing accuracy for one EPOCH\n",
    "    \"\"\"\n",
    "    # 1. init. result dict\n",
    "    result_dict = {\"train_loss\": [], \"train_acc\": [], \"test_loss\": [], \"test_acc\": []}\n",
    "    best_test_acc = 0\n",
    "    best_model_params = None\n",
    "\n",
    "    # 2. loop in range epochs performs train and test steps on the model\n",
    "    for epoch in tqdm(range(epochs)):\n",
    "        train_loss, train_acc = training_step(\n",
    "            model=model,\n",
    "            dataloader=train_dataloader,\n",
    "            loss_fn=loss_fn,\n",
    "            acc_fn=acc_fn,\n",
    "            optimizer=optimizer,\n",
    "            device=device,\n",
    "            profiler=profiler,\n",
    "        )\n",
    "\n",
    "        test_loss, test_acc = testing_step(\n",
    "            model=model,\n",
    "            dataloader=test_dataloader,\n",
    "            loss_fn=loss_fn,\n",
    "            acc_fn=acc_fn,\n",
    "            device=device,\n",
    "        )\n",
    "\n",
    "        # 3. print out results\n",
    "        print(\n",
    "            f\"Epoch: {epoch+1} | \"\n",
    "            f\"train_loss: {train_loss:.4f} | \"\n",
    "            f\"train_acc: {train_acc:.4f} | \"\n",
    "            f\"test_loss: {test_loss:.4f} | \"\n",
    "            f\"test_acc: {test_acc:.4f}\"\n",
    "        )\n",
    "\n",
    "        # 4. adding results to result_dict\n",
    "        result_dict[\"train_loss\"].append(train_loss)\n",
    "        result_dict[\"train_acc\"].append(train_acc)\n",
    "        result_dict[\"test_loss\"].append(test_loss)\n",
    "        result_dict[\"test_acc\"].append(test_acc)\n",
    "        \n",
    "        if test_acc > best_test_acc:\n",
    "            best_test_acc = test_acc\n",
    "            best_model_params = model.state_dict()\n",
    "\n",
    "    # 5. saving the best model\n",
    "    torch.save(best_model_params, f\"{model.__class__.__name__}_epoch_{epochs}_optim_adam_\"+save_info+\".pth\")\n",
    "    # 6. return result dict\n",
    "    return result_dict"
   ]
  },
  {
   "cell_type": "markdown",
   "metadata": {},
   "source": [
    "## Training the models"
   ]
  },
  {
   "attachments": {},
   "cell_type": "markdown",
   "metadata": {},
   "source": [
    "### Training ResNet-34"
   ]
  },
  {
   "cell_type": "code",
   "execution_count": 25,
   "metadata": {},
   "outputs": [],
   "source": [
    "# # Hyperparms\n",
    "# lr = [1e-3,1e-4] # learning rate\n",
    "# betas=[(0.8, 0.888),(0.9, 0.999)] # coefficients used for computing running averages of gradient and its square\n",
    "# eps = [1e-8] # term added to the denominator to improve numerical stability\n",
    "# weight_decay = [1e-3] # weight decay (L2 penalty)\n",
    "\n",
    "# Best parms: Training with: lr: 0.0001, betas: (0.9, 0.999), eps: 1e-08, weight_decay: 0.001\n",
    "lr = [1e-4] # learning rate\n",
    "betas=[(0.9, 0.999)] # coefficients used for computing running averages of gradient and its square\n",
    "eps = [1e-8] # term added to the denominator to improve numerical stability\n",
    "weight_decay = [1e-3] # weight decay (L2 penalty)\n",
    "\n",
    "parms_combs = [(l,b,e,w_d) for l in lr for b in betas for e in eps for w_d in weight_decay]\n",
    "# print(parms_combs)\n",
    "\n",
    "# init. epochs\n",
    "NUM_EPOCHS = 50\n",
    "\n",
    "# init. loss function, accuracy function and optimizer\n",
    "loss_fn = nn.CrossEntropyLoss()\n",
    "acc_fn = Accuracy(task=\"multiclass\", num_classes=100).to(device=device)"
   ]
  },
  {
   "attachments": {},
   "cell_type": "markdown",
   "metadata": {},
   "source": [
    "#### Profiling"
   ]
  },
  {
   "cell_type": "code",
   "execution_count": 26,
   "metadata": {},
   "outputs": [
    {
     "name": "stdout",
     "output_type": "stream",
     "text": [
      "current exp / total: 1 / 1\n",
      "Training with: lr: 0.0001, betas: (0.9, 0.999), eps: 1e-08, weight_decay: 0.001\n"
     ]
    },
    {
     "data": {
      "application/vnd.jupyter.widget-view+json": {
       "model_id": "c47f14aafdcb404bb1659dc3f0c7abdd",
       "version_major": 2,
       "version_minor": 0
      },
      "text/plain": [
       "  0%|          | 0/50 [00:00<?, ?it/s]"
      ]
     },
     "metadata": {},
     "output_type": "display_data"
    },
    {
     "name": "stderr",
     "output_type": "stream",
     "text": [
      "STAGE:2023-04-02 21:49:01 1994106:1994106 ActivityProfilerController.cpp:294] Completed Stage: Warm Up\n",
      "STAGE:2023-04-02 21:49:01 1994106:1994106 ActivityProfilerController.cpp:300] Completed Stage: Collection\n",
      "STAGE:2023-04-02 21:49:04 1994106:1994106 output_json.cpp:417] Completed Stage: Post Processing\n",
      "STAGE:2023-04-02 21:49:04 1994106:1994106 ActivityProfilerController.cpp:294] Completed Stage: Warm Up\n",
      "STAGE:2023-04-02 21:49:05 1994106:1994106 ActivityProfilerController.cpp:300] Completed Stage: Collection\n",
      "STAGE:2023-04-02 21:49:08 1994106:1994106 output_json.cpp:417] Completed Stage: Post Processing\n"
     ]
    },
    {
     "name": "stdout",
     "output_type": "stream",
     "text": [
      "Epoch: 1 | train_loss: 0.1260 | train_acc: 0.0003 | test_loss: 4.6238 | test_acc: 0.0093\n",
      "Epoch: 2 | train_loss: 0.1222 | train_acc: 0.0002 | test_loss: 4.6303 | test_acc: 0.0113\n",
      "Epoch: 3 | train_loss: 0.1216 | train_acc: 0.0004 | test_loss: 4.5998 | test_acc: 0.0185\n",
      "Epoch: 4 | train_loss: 0.1198 | train_acc: 0.0005 | test_loss: 4.5723 | test_acc: 0.0262\n",
      "Epoch: 5 | train_loss: 0.1185 | train_acc: 0.0007 | test_loss: 4.5302 | test_acc: 0.0328\n",
      "Epoch: 6 | train_loss: 0.1184 | train_acc: 0.0009 | test_loss: 4.4974 | test_acc: 0.0424\n",
      "Epoch: 7 | train_loss: 0.1180 | train_acc: 0.0007 | test_loss: 4.4623 | test_acc: 0.0416\n",
      "Epoch: 8 | train_loss: 0.1167 | train_acc: 0.0010 | test_loss: 4.4043 | test_acc: 0.0448\n",
      "Epoch: 9 | train_loss: 0.1164 | train_acc: 0.0007 | test_loss: 4.3640 | test_acc: 0.0466\n",
      "Epoch: 10 | train_loss: 0.1148 | train_acc: 0.0009 | test_loss: 4.3496 | test_acc: 0.0458\n",
      "Epoch: 11 | train_loss: 0.1147 | train_acc: 0.0009 | test_loss: 4.2948 | test_acc: 0.0548\n",
      "Epoch: 12 | train_loss: 0.1126 | train_acc: 0.0011 | test_loss: 4.2555 | test_acc: 0.0567\n",
      "Epoch: 13 | train_loss: 0.1132 | train_acc: 0.0011 | test_loss: 4.2353 | test_acc: 0.0581\n",
      "Epoch: 14 | train_loss: 0.1117 | train_acc: 0.0014 | test_loss: 4.1900 | test_acc: 0.0653\n",
      "Epoch: 15 | train_loss: 0.1117 | train_acc: 0.0014 | test_loss: 4.1622 | test_acc: 0.0708\n",
      "Epoch: 16 | train_loss: 0.1108 | train_acc: 0.0018 | test_loss: 4.1547 | test_acc: 0.0756\n",
      "Epoch: 17 | train_loss: 0.1109 | train_acc: 0.0014 | test_loss: 4.1279 | test_acc: 0.0756\n",
      "Epoch: 18 | train_loss: 0.1100 | train_acc: 0.0015 | test_loss: 4.1065 | test_acc: 0.0792\n",
      "Epoch: 19 | train_loss: 0.1104 | train_acc: 0.0012 | test_loss: 4.0933 | test_acc: 0.0809\n",
      "Epoch: 20 | train_loss: 0.1093 | train_acc: 0.0016 | test_loss: 4.1002 | test_acc: 0.0758\n",
      "Epoch: 21 | train_loss: 0.1085 | train_acc: 0.0016 | test_loss: 4.0897 | test_acc: 0.0769\n",
      "Epoch: 22 | train_loss: 0.1083 | train_acc: 0.0016 | test_loss: 4.0423 | test_acc: 0.0830\n",
      "Epoch: 23 | train_loss: 0.1093 | train_acc: 0.0018 | test_loss: 4.0303 | test_acc: 0.0844\n",
      "Epoch: 24 | train_loss: 0.1079 | train_acc: 0.0017 | test_loss: 4.0242 | test_acc: 0.0845\n",
      "Epoch: 25 | train_loss: 0.1078 | train_acc: 0.0017 | test_loss: 4.0089 | test_acc: 0.0909\n",
      "Epoch: 26 | train_loss: 0.1080 | train_acc: 0.0016 | test_loss: 4.0005 | test_acc: 0.0960\n",
      "Epoch: 27 | train_loss: 0.1066 | train_acc: 0.0019 | test_loss: 3.9766 | test_acc: 0.0995\n",
      "Epoch: 28 | train_loss: 0.1076 | train_acc: 0.0017 | test_loss: 3.9677 | test_acc: 0.0970\n",
      "Epoch: 29 | train_loss: 0.1070 | train_acc: 0.0016 | test_loss: 3.9527 | test_acc: 0.0971\n",
      "Epoch: 30 | train_loss: 0.1077 | train_acc: 0.0019 | test_loss: 3.9478 | test_acc: 0.0974\n",
      "Epoch: 31 | train_loss: 0.1069 | train_acc: 0.0016 | test_loss: 3.9248 | test_acc: 0.1029\n",
      "Epoch: 32 | train_loss: 0.1071 | train_acc: 0.0019 | test_loss: 3.9000 | test_acc: 0.1049\n",
      "Epoch: 33 | train_loss: 0.1065 | train_acc: 0.0020 | test_loss: 3.9072 | test_acc: 0.1056\n",
      "Epoch: 34 | train_loss: 0.1069 | train_acc: 0.0020 | test_loss: 3.9055 | test_acc: 0.0989\n",
      "Epoch: 35 | train_loss: 0.1073 | train_acc: 0.0019 | test_loss: 3.8963 | test_acc: 0.1061\n",
      "Epoch: 36 | train_loss: 0.1055 | train_acc: 0.0020 | test_loss: 3.8809 | test_acc: 0.1127\n",
      "Epoch: 37 | train_loss: 0.1059 | train_acc: 0.0019 | test_loss: 3.8611 | test_acc: 0.1138\n",
      "Epoch: 38 | train_loss: 0.1069 | train_acc: 0.0019 | test_loss: 3.8636 | test_acc: 0.1133\n",
      "Epoch: 39 | train_loss: 0.1061 | train_acc: 0.0019 | test_loss: 3.8799 | test_acc: 0.1072\n",
      "Epoch: 40 | train_loss: 0.1051 | train_acc: 0.0022 | test_loss: 3.8602 | test_acc: 0.1132\n",
      "Epoch: 41 | train_loss: 0.1066 | train_acc: 0.0017 | test_loss: 3.8325 | test_acc: 0.1193\n",
      "Epoch: 42 | train_loss: 0.1059 | train_acc: 0.0020 | test_loss: 3.8273 | test_acc: 0.1132\n",
      "Epoch: 43 | train_loss: 0.1057 | train_acc: 0.0023 | test_loss: 3.8231 | test_acc: 0.1144\n",
      "Epoch: 44 | train_loss: 0.1030 | train_acc: 0.0024 | test_loss: 3.8081 | test_acc: 0.1220\n",
      "Epoch: 45 | train_loss: 0.1037 | train_acc: 0.0024 | test_loss: 3.7916 | test_acc: 0.1218\n",
      "Epoch: 46 | train_loss: 0.1032 | train_acc: 0.0028 | test_loss: 3.7972 | test_acc: 0.1221\n",
      "Epoch: 47 | train_loss: 0.1041 | train_acc: 0.0020 | test_loss: 3.7819 | test_acc: 0.1268\n",
      "Epoch: 48 | train_loss: 0.1034 | train_acc: 0.0022 | test_loss: 3.7679 | test_acc: 0.1304\n",
      "Epoch: 49 | train_loss: 0.1038 | train_acc: 0.0021 | test_loss: 3.7431 | test_acc: 0.1356\n",
      "Epoch: 50 | train_loss: 0.1028 | train_acc: 0.0023 | test_loss: 3.7552 | test_acc: 0.1253\n",
      "total training time: 242.277 sec.\n",
      "LOSS & Accuracy Curves\n",
      "lr: 0.0001, betas: (0.9, 0.999), eps: 1e-08, weight_decay: 0.001\n"
     ]
    },
    {
     "data": {
      "image/png": "[encoded data removed]",
      "text/plain": [
       "<Figure size 1500x700 with 2 Axes>"
      ]
     },
     "metadata": {},
     "output_type": "display_data"
    },
    {
     "name": "stdout",
     "output_type": "stream",
     "text": [
      "\n"
     ]
    }
   ],
   "source": [
    "cur,total = 1, len(lr)*len(betas)*len(eps)*len(weight_decay)\n",
    "for h_parms in parms_combs:\n",
    "  ### INIT MODEL STARTS ###\n",
    "  # traning same model for each parms\n",
    "  model_resnet = get_resnet_model().to(device=device)\n",
    "  ### INIT MODEL END ###\n",
    "\n",
    "  optimizer = torch.optim.Adam(\n",
    "      params=model_resnet.parameters(), lr=h_parms[0], betas=h_parms[1], eps=h_parms[2],weight_decay=h_parms[3]\n",
    "  )\n",
    "\n",
    "  # importing and init. the timer for checking model training time\n",
    "  from timeit import default_timer as timer\n",
    "\n",
    "  start_time = timer()\n",
    "  print(f\"current exp / total: {cur} / {total}\")\n",
    "  print(f\"Training with: lr: {h_parms[0]}, betas: {h_parms[1]}, eps: {h_parms[2]}, weight_decay: {h_parms[3]}\")\n",
    "  \n",
    "  # creating profiler\n",
    "  prof = torch.profiler.profile(\n",
    "        schedule=torch.profiler.schedule(wait=1, warmup=1, active=3, repeat=2),\n",
    "        on_trace_ready=torch.profiler.tensorboard_trace_handler('log/resnet34'),\n",
    "        record_shapes=True,\n",
    "        profile_memory=True,\n",
    "        with_stack=True\n",
    "        )\n",
    "  # train model\n",
    "  model_resnet_results = train(\n",
    "      model=model_resnet,\n",
    "      train_dataloader=train_dataloader,\n",
    "      test_dataloader=test_dataloader,\n",
    "      optimizer=optimizer,\n",
    "      loss_fn=loss_fn,\n",
    "      acc_fn=acc_fn,\n",
    "      epochs=NUM_EPOCHS,\n",
    "      save_info=f\"lr_{h_parms[0]}_betas_{h_parms[1]}_eps_{h_parms[2]}_weight_decay_{h_parms[3]}\",\n",
    "      profiler=prof\n",
    "  )\n",
    "\n",
    "  # end timer\n",
    "  end_time = timer()\n",
    "  # printing time taken\n",
    "  print(f\"total training time: {end_time-start_time:.3f} sec.\")\n",
    "  # print(\"model stats:\")\n",
    "  # print(model_0_results)\n",
    "  print(f\"LOSS & Accuracy Curves\\n\"\n",
    "        f\"lr: {h_parms[0]}, betas: {h_parms[1]}, eps: {h_parms[2]}, weight_decay: {h_parms[3]}\")\n",
    "  plot_loss_curves(model_resnet_results)\n",
    "  cur+=1\n",
    "  print()"
   ]
  },
  {
   "cell_type": "code",
   "execution_count": null,
   "metadata": {},
   "outputs": [],
   "source": [
    "cur,total = 1, len(lr)*len(betas)*len(eps)*len(weight_decay)\n",
    "for h_parms in parms_combs:\n",
    "  ### INIT MODEL STARTS ###\n",
    "  # traning same model for each parms\n",
    "  model_resnet = get_resnet_model().to(device=device)\n",
    "  ### INIT MODEL END ###\n",
    "\n",
    "  optimizer = torch.optim.Adam(\n",
    "      params=model_resnet.parameters(), lr=h_parms[0], betas=h_parms[1], eps=h_parms[2],weight_decay=h_parms[3]\n",
    "  )\n",
    "\n",
    "  # importing and init. the timer for checking model training time\n",
    "  from timeit import default_timer as timer\n",
    "\n",
    "  start_time = timer()\n",
    "  print(f\"current exp / total: {cur} / {total}\")\n",
    "  print(f\"Training with: lr: {h_parms[0]}, betas: {h_parms[1]}, eps: {h_parms[2]}, weight_decay: {h_parms[3]}\")\n",
    "  \n",
    "  # creating profiler\n",
    "  prof = torch.profiler.profile(\n",
    "        schedule=torch.profiler.schedule(wait=1, warmup=1, active=3, repeat=2),\n",
    "        on_trace_ready=torch.profiler.tensorboard_trace_handler('log/resnet34'),\n",
    "        record_shapes=True,\n",
    "        profile_memory=True,\n",
    "        with_stack=True\n",
    "        )\n",
    "  # train model\n",
    "  model_resnet_results = train(\n",
    "      model=model_resnet,\n",
    "      train_dataloader=train_dataloader,\n",
    "      test_dataloader=test_dataloader,\n",
    "      optimizer=optimizer,\n",
    "      loss_fn=loss_fn,\n",
    "      acc_fn=acc_fn,\n",
    "      epochs=NUM_EPOCHS,\n",
    "      save_info=f\"lr_{h_parms[0]}_betas_{h_parms[1]}_eps_{h_parms[2]}_weight_decay_{h_parms[3]}\",\n",
    "  )\n",
    "\n",
    "  # end timer\n",
    "  end_time = timer()\n",
    "  # printing time taken\n",
    "  print(f\"total training time: {end_time-start_time:.3f} sec.\")\n",
    "  # print(\"model stats:\")\n",
    "  # print(model_0_results)\n",
    "  print(f\"LOSS & Accuracy Curves\\n\"\n",
    "        f\"lr: {h_parms[0]}, betas: {h_parms[1]}, eps: {h_parms[2]}, weight_decay: {h_parms[3]}\")\n",
    "  plot_loss_curves(model_resnet_results)\n",
    "  cur+=1\n",
    "  print()"
   ]
  },
  {
   "attachments": {},
   "cell_type": "markdown",
   "metadata": {},
   "source": [
    "### DenseNet-121"
   ]
  },
  {
   "cell_type": "code",
   "execution_count": 32,
   "metadata": {},
   "outputs": [],
   "source": [
    "# Hyperparms\n",
    "# lr = [1e-3,1e-4] # learning rate\n",
    "# betas=[(0.8, 0.888),(0.9, 0.999)] # coefficients used for computing running averages of gradient and its square\n",
    "# eps = [1e-8] # term added to the denominator to improve numerical stability\n",
    "# weight_decay = [1e-3] # weight decay (L2 penalty)\n",
    "\n",
    "# Best parms: Training with: lr: 0.0001, betas: (0.9, 0.999), eps: 1e-08, weight_decay: 0.001\n",
    "lr = [1e-4] # learning rate\n",
    "betas=[(0.9, 0.999)] # coefficients used for computing running averages of gradient and its square\n",
    "eps = [1e-8] # term added to the denominator to improve numerical stability\n",
    "weight_decay = [1e-3] # weight decay (L2 penalty)\n",
    "\n",
    "parms_combs = [(l,b,e,w_d) for l in lr for b in betas for e in eps for w_d in weight_decay]\n",
    "# print(parms_combs)\n",
    "\n",
    "# init. epochs\n",
    "NUM_EPOCHS = 50\n",
    "\n",
    "# init. loss function, accuracy function and optimizer\n",
    "loss_fn = nn.CrossEntropyLoss()\n",
    "acc_fn = Accuracy(task=\"multiclass\", num_classes=100).to(device=device)"
   ]
  },
  {
   "cell_type": "code",
   "execution_count": 33,
   "metadata": {},
   "outputs": [
    {
     "name": "stdout",
     "output_type": "stream",
     "text": [
      "current exp / total: 1 / 1\n",
      "Training with: lr: 0.0001, betas: (0.9, 0.999), eps: 1e-08, weight_decay: 0.001\n"
     ]
    },
    {
     "data": {
      "application/vnd.jupyter.widget-view+json": {
       "model_id": "513193d559c545368f2ead597b7687e6",
       "version_major": 2,
       "version_minor": 0
      },
      "text/plain": [
       "  0%|          | 0/50 [00:00<?, ?it/s]"
      ]
     },
     "metadata": {},
     "output_type": "display_data"
    },
    {
     "name": "stdout",
     "output_type": "stream",
     "text": [
      "Epoch: 1 | train_loss: 4.3133 | train_acc: 0.0569 | test_loss: 3.8488 | test_acc: 0.1305\n",
      "Epoch: 2 | train_loss: 3.9578 | train_acc: 0.1067 | test_loss: 3.5097 | test_acc: 0.1830\n",
      "Epoch: 3 | train_loss: 3.7550 | train_acc: 0.1367 | test_loss: 3.2879 | test_acc: 0.2173\n",
      "Epoch: 4 | train_loss: 3.5939 | train_acc: 0.1635 | test_loss: 3.1313 | test_acc: 0.2453\n",
      "Epoch: 5 | train_loss: 3.4635 | train_acc: 0.1848 | test_loss: 3.0098 | test_acc: 0.2703\n",
      "Epoch: 6 | train_loss: 3.3575 | train_acc: 0.2028 | test_loss: 2.8907 | test_acc: 0.2898\n",
      "Epoch: 7 | train_loss: 3.2791 | train_acc: 0.2173 | test_loss: 2.8178 | test_acc: 0.3022\n",
      "Epoch: 8 | train_loss: 3.1835 | train_acc: 0.2373 | test_loss: 2.7276 | test_acc: 0.3191\n",
      "Epoch: 9 | train_loss: 3.1111 | train_acc: 0.2505 | test_loss: 2.6591 | test_acc: 0.3340\n",
      "Epoch: 10 | train_loss: 3.0440 | train_acc: 0.2610 | test_loss: 2.6198 | test_acc: 0.3388\n",
      "Epoch: 11 | train_loss: 2.9651 | train_acc: 0.2779 | test_loss: 2.5540 | test_acc: 0.3520\n",
      "Epoch: 12 | train_loss: 2.9039 | train_acc: 0.2914 | test_loss: 2.5179 | test_acc: 0.3609\n",
      "Epoch: 13 | train_loss: 2.8478 | train_acc: 0.3003 | test_loss: 2.4759 | test_acc: 0.3711\n",
      "Epoch: 14 | train_loss: 2.7932 | train_acc: 0.3155 | test_loss: 2.4325 | test_acc: 0.3803\n",
      "Epoch: 15 | train_loss: 2.7343 | train_acc: 0.3262 | test_loss: 2.4246 | test_acc: 0.3807\n",
      "Epoch: 16 | train_loss: 2.6842 | train_acc: 0.3400 | test_loss: 2.3858 | test_acc: 0.3954\n",
      "Epoch: 17 | train_loss: 2.6419 | train_acc: 0.3483 | test_loss: 2.3735 | test_acc: 0.3945\n",
      "Epoch: 18 | train_loss: 2.5939 | train_acc: 0.3591 | test_loss: 2.3377 | test_acc: 0.4018\n",
      "Epoch: 19 | train_loss: 2.5332 | train_acc: 0.3732 | test_loss: 2.3251 | test_acc: 0.4052\n",
      "Epoch: 20 | train_loss: 2.4971 | train_acc: 0.3803 | test_loss: 2.3010 | test_acc: 0.4125\n",
      "Epoch: 21 | train_loss: 2.4506 | train_acc: 0.3923 | test_loss: 2.3117 | test_acc: 0.4086\n",
      "Epoch: 22 | train_loss: 2.4022 | train_acc: 0.4051 | test_loss: 2.2626 | test_acc: 0.4231\n",
      "Epoch: 23 | train_loss: 2.3630 | train_acc: 0.4131 | test_loss: 2.2639 | test_acc: 0.4214\n",
      "Epoch: 24 | train_loss: 2.3205 | train_acc: 0.4234 | test_loss: 2.2844 | test_acc: 0.4150\n",
      "Epoch: 25 | train_loss: 2.2937 | train_acc: 0.4293 | test_loss: 2.2569 | test_acc: 0.4265\n",
      "Epoch: 26 | train_loss: 2.2527 | train_acc: 0.4392 | test_loss: 2.2324 | test_acc: 0.4284\n",
      "Epoch: 27 | train_loss: 2.2207 | train_acc: 0.4477 | test_loss: 2.2409 | test_acc: 0.4298\n",
      "Epoch: 28 | train_loss: 2.1735 | train_acc: 0.4609 | test_loss: 2.2368 | test_acc: 0.4334\n",
      "Epoch: 29 | train_loss: 2.1533 | train_acc: 0.4650 | test_loss: 2.2315 | test_acc: 0.4356\n",
      "Epoch: 30 | train_loss: 2.1006 | train_acc: 0.4768 | test_loss: 2.2228 | test_acc: 0.4393\n",
      "Epoch: 31 | train_loss: 2.0833 | train_acc: 0.4804 | test_loss: 2.2508 | test_acc: 0.4356\n",
      "Epoch: 32 | train_loss: 2.0497 | train_acc: 0.4897 | test_loss: 2.2625 | test_acc: 0.4355\n",
      "Epoch: 33 | train_loss: 2.0191 | train_acc: 0.4978 | test_loss: 2.2636 | test_acc: 0.4406\n",
      "Epoch: 34 | train_loss: 1.9755 | train_acc: 0.5069 | test_loss: 2.2499 | test_acc: 0.4400\n",
      "Epoch: 35 | train_loss: 1.9665 | train_acc: 0.5092 | test_loss: 2.2330 | test_acc: 0.4417\n",
      "Epoch: 36 | train_loss: 1.9480 | train_acc: 0.5160 | test_loss: 2.2729 | test_acc: 0.4382\n",
      "Epoch: 37 | train_loss: 1.9134 | train_acc: 0.5247 | test_loss: 2.2532 | test_acc: 0.4424\n",
      "Epoch: 38 | train_loss: 1.8932 | train_acc: 0.5282 | test_loss: 2.2286 | test_acc: 0.4494\n",
      "Epoch: 39 | train_loss: 1.8655 | train_acc: 0.5357 | test_loss: 2.2379 | test_acc: 0.4492\n",
      "Epoch: 40 | train_loss: 1.8424 | train_acc: 0.5436 | test_loss: 2.2755 | test_acc: 0.4408\n",
      "Epoch: 41 | train_loss: 1.8258 | train_acc: 0.5440 | test_loss: 2.2387 | test_acc: 0.4455\n",
      "Epoch: 42 | train_loss: 1.8074 | train_acc: 0.5516 | test_loss: 2.2570 | test_acc: 0.4465\n",
      "Epoch: 43 | train_loss: 1.7990 | train_acc: 0.5553 | test_loss: 2.2566 | test_acc: 0.4527\n",
      "Epoch: 44 | train_loss: 1.7730 | train_acc: 0.5595 | test_loss: 2.2451 | test_acc: 0.4589\n",
      "Epoch: 45 | train_loss: 1.7443 | train_acc: 0.5660 | test_loss: 2.2819 | test_acc: 0.4433\n",
      "Epoch: 46 | train_loss: 1.7388 | train_acc: 0.5694 | test_loss: 2.2751 | test_acc: 0.4548\n",
      "Epoch: 47 | train_loss: 1.7145 | train_acc: 0.5758 | test_loss: 2.2579 | test_acc: 0.4553\n",
      "Epoch: 48 | train_loss: 1.6983 | train_acc: 0.5790 | test_loss: 2.2695 | test_acc: 0.4520\n",
      "Epoch: 49 | train_loss: 1.6916 | train_acc: 0.5805 | test_loss: 2.3049 | test_acc: 0.4439\n",
      "Epoch: 50 | train_loss: 1.6785 | train_acc: 0.5857 | test_loss: 2.2915 | test_acc: 0.4544\n",
      "total training time: 2027.141 sec.\n",
      "LOSS & Accuracy Curves\n",
      "lr: 0.0001, betas: (0.9, 0.999), eps: 1e-08, weight_decay: 0.001\n"
     ]
    },
    {
     "data": {
      "image/png": "[encoded data removed]",
      "text/plain": [
       "<Figure size 1500x700 with 2 Axes>"
      ]
     },
     "metadata": {},
     "output_type": "display_data"
    },
    {
     "name": "stdout",
     "output_type": "stream",
     "text": [
      "\n"
     ]
    }
   ],
   "source": [
    "cur,total = 1, len(lr)*len(betas)*len(eps)*len(weight_decay)\n",
    "for h_parms in parms_combs:\n",
    "  ### INIT MODEL STARTS ###\n",
    "  # traning same model for each parms\n",
    "  model_densenet = get_densenet_model().to(device=device)\n",
    "  ### INIT MODEL END ###\n",
    "\n",
    "  optimizer = torch.optim.Adam(\n",
    "      params=model_densenet.parameters(), lr=h_parms[0], betas=h_parms[1], eps=h_parms[2],weight_decay=h_parms[3]\n",
    "  )\n",
    "\n",
    "  # importing and init. the timer for checking model training time\n",
    "  from timeit import default_timer as timer\n",
    "\n",
    "  start_time = timer()\n",
    "  print(f\"current exp / total: {cur} / {total}\")\n",
    "  print(f\"Training with: lr: {h_parms[0]}, betas: {h_parms[1]}, eps: {h_parms[2]}, weight_decay: {h_parms[3]}\")\n",
    "  # train model\n",
    "  model_densenet_results = train(\n",
    "      model=model_densenet,\n",
    "      train_dataloader=train_dataloader,\n",
    "      test_dataloader=test_dataloader,\n",
    "      optimizer=optimizer,\n",
    "      loss_fn=loss_fn,\n",
    "      acc_fn=acc_fn,\n",
    "      epochs=NUM_EPOCHS,\n",
    "      save_info=f\"densenet_lr_{h_parms[0]}_betas_{h_parms[1]}_eps_{h_parms[2]}_weight_decay_{h_parms[3]}\",\n",
    "  )\n",
    "\n",
    "  # end timer\n",
    "  end_time = timer()\n",
    "  # printing time taken\n",
    "  print(f\"total training time: {end_time-start_time:.3f} sec.\")\n",
    "  # print(\"model stats:\")\n",
    "  # print(model_0_results)\n",
    "  print(f\"LOSS & Accuracy Curves\\n\"\n",
    "        f\"lr: {h_parms[0]}, betas: {h_parms[1]}, eps: {h_parms[2]}, weight_decay: {h_parms[3]}\")\n",
    "  plot_loss_curves(model_densenet_results)\n",
    "  cur+=1\n",
    "  print()"
   ]
  },
  {
   "attachments": {},
   "cell_type": "markdown",
   "metadata": {},
   "source": [
    "### EfficientNet-B0"
   ]
  },
  {
   "cell_type": "code",
   "execution_count": 28,
   "metadata": {},
   "outputs": [],
   "source": [
    "# Hyperparms\n",
    "# lr = [1e-3,1e-4] # learning rate\n",
    "# betas=[(0.8, 0.888),(0.9, 0.999)] # coefficients used for computing running averages of gradient and its square\n",
    "# eps = [1e-8] # term added to the denominator to improve numerical stability\n",
    "# weight_decay = [1e-3] # weight decay (L2 penalty)\n",
    "\n",
    "# Best parms: Training with: lr: 0.0001, betas: (0.9, 0.999), eps: 1e-08, weight_decay: 0.001\n",
    "lr = [1e-4] # learning rate\n",
    "betas=[(0.9, 0.999)] # coefficients used for computing running averages of gradient and its square\n",
    "eps = [1e-8] # term added to the denominator to improve numerical stability\n",
    "weight_decay = [1e-3] # weight decay (L2 penalty)\n",
    "\n",
    "parms_combs = [(l,b,e,w_d) for l in lr for b in betas for e in eps for w_d in weight_decay]\n",
    "# print(parms_combs)\n",
    "\n",
    "# init. epochs\n",
    "NUM_EPOCHS = 50\n",
    "\n",
    "# init. loss function, accuracy function and optimizer\n",
    "loss_fn = nn.CrossEntropyLoss()\n",
    "acc_fn = Accuracy(task=\"multiclass\", num_classes=100).to(device=device)"
   ]
  },
  {
   "cell_type": "code",
   "execution_count": 29,
   "metadata": {},
   "outputs": [
    {
     "name": "stdout",
     "output_type": "stream",
     "text": [
      "current exp / total: 1 / 1\n",
      "Training with: lr: 0.0001, betas: (0.9, 0.999), eps: 1e-08, weight_decay: 0.001\n"
     ]
    },
    {
     "data": {
      "application/vnd.jupyter.widget-view+json": {
       "model_id": "9fe081ce426a4ef9a30be034fb7e2cf1",
       "version_major": 2,
       "version_minor": 0
      },
      "text/plain": [
       "  0%|          | 0/50 [00:00<?, ?it/s]"
      ]
     },
     "metadata": {},
     "output_type": "display_data"
    },
    {
     "name": "stdout",
     "output_type": "stream",
     "text": [
      "Epoch: 1 | train_loss: 4.6227 | train_acc: 0.0137 | test_loss: 4.5729 | test_acc: 0.0128\n",
      "Epoch: 2 | train_loss: 4.5708 | train_acc: 0.0165 | test_loss: 4.5244 | test_acc: 0.0205\n",
      "Epoch: 3 | train_loss: 4.5214 | train_acc: 0.0228 | test_loss: 4.4281 | test_acc: 0.0310\n",
      "Epoch: 4 | train_loss: 4.4339 | train_acc: 0.0303 | test_loss: 4.2844 | test_acc: 0.0521\n",
      "Epoch: 5 | train_loss: 4.3433 | train_acc: 0.0407 | test_loss: 4.1510 | test_acc: 0.0752\n",
      "Epoch: 6 | train_loss: 4.2649 | train_acc: 0.0517 | test_loss: 4.0472 | test_acc: 0.0891\n",
      "Epoch: 7 | train_loss: 4.1940 | train_acc: 0.0615 | test_loss: 3.9402 | test_acc: 0.1048\n",
      "Epoch: 8 | train_loss: 4.1356 | train_acc: 0.0692 | test_loss: 3.8409 | test_acc: 0.1131\n",
      "Epoch: 9 | train_loss: 4.0722 | train_acc: 0.0779 | test_loss: 3.7788 | test_acc: 0.1273\n",
      "Epoch: 10 | train_loss: 4.0126 | train_acc: 0.0854 | test_loss: 3.6942 | test_acc: 0.1459\n",
      "Epoch: 11 | train_loss: 3.9554 | train_acc: 0.0965 | test_loss: 3.6193 | test_acc: 0.1607\n",
      "Epoch: 12 | train_loss: 3.8909 | train_acc: 0.1077 | test_loss: 3.5299 | test_acc: 0.1729\n",
      "Epoch: 13 | train_loss: 3.8399 | train_acc: 0.1144 | test_loss: 3.4569 | test_acc: 0.1918\n",
      "Epoch: 14 | train_loss: 3.7727 | train_acc: 0.1271 | test_loss: 3.3846 | test_acc: 0.2003\n",
      "Epoch: 15 | train_loss: 3.7180 | train_acc: 0.1340 | test_loss: 3.3211 | test_acc: 0.2076\n",
      "Epoch: 16 | train_loss: 3.6668 | train_acc: 0.1437 | test_loss: 3.2615 | test_acc: 0.2252\n",
      "Epoch: 17 | train_loss: 3.6148 | train_acc: 0.1531 | test_loss: 3.1974 | test_acc: 0.2391\n",
      "Epoch: 18 | train_loss: 3.5572 | train_acc: 0.1642 | test_loss: 3.1365 | test_acc: 0.2440\n",
      "Epoch: 19 | train_loss: 3.5176 | train_acc: 0.1686 | test_loss: 3.0795 | test_acc: 0.2542\n",
      "Epoch: 20 | train_loss: 3.4757 | train_acc: 0.1773 | test_loss: 3.0341 | test_acc: 0.2649\n",
      "Epoch: 21 | train_loss: 3.4329 | train_acc: 0.1841 | test_loss: 2.9791 | test_acc: 0.2693\n",
      "Epoch: 22 | train_loss: 3.3995 | train_acc: 0.1912 | test_loss: 2.9421 | test_acc: 0.2821\n",
      "Epoch: 23 | train_loss: 3.3561 | train_acc: 0.1996 | test_loss: 2.9238 | test_acc: 0.2842\n",
      "Epoch: 24 | train_loss: 3.3265 | train_acc: 0.2033 | test_loss: 2.8663 | test_acc: 0.2928\n",
      "Epoch: 25 | train_loss: 3.2903 | train_acc: 0.2129 | test_loss: 2.8258 | test_acc: 0.3013\n",
      "Epoch: 26 | train_loss: 3.2509 | train_acc: 0.2200 | test_loss: 2.8004 | test_acc: 0.3059\n",
      "Epoch: 27 | train_loss: 3.2308 | train_acc: 0.2213 | test_loss: 2.7693 | test_acc: 0.3098\n",
      "Epoch: 28 | train_loss: 3.2052 | train_acc: 0.2265 | test_loss: 2.7543 | test_acc: 0.3191\n",
      "Epoch: 29 | train_loss: 3.1718 | train_acc: 0.2333 | test_loss: 2.7130 | test_acc: 0.3178\n",
      "Epoch: 30 | train_loss: 3.1427 | train_acc: 0.2383 | test_loss: 2.7037 | test_acc: 0.3256\n",
      "Epoch: 31 | train_loss: 3.1204 | train_acc: 0.2427 | test_loss: 2.6579 | test_acc: 0.3310\n",
      "Epoch: 32 | train_loss: 3.0886 | train_acc: 0.2480 | test_loss: 2.6405 | test_acc: 0.3362\n",
      "Epoch: 33 | train_loss: 3.0621 | train_acc: 0.2562 | test_loss: 2.6135 | test_acc: 0.3406\n",
      "Epoch: 34 | train_loss: 3.0398 | train_acc: 0.2576 | test_loss: 2.6010 | test_acc: 0.3439\n",
      "Epoch: 35 | train_loss: 3.0149 | train_acc: 0.2659 | test_loss: 2.5781 | test_acc: 0.3527\n",
      "Epoch: 36 | train_loss: 2.9954 | train_acc: 0.2687 | test_loss: 2.5556 | test_acc: 0.3555\n",
      "Epoch: 37 | train_loss: 2.9704 | train_acc: 0.2730 | test_loss: 2.5171 | test_acc: 0.3609\n",
      "Epoch: 38 | train_loss: 2.9641 | train_acc: 0.2764 | test_loss: 2.5141 | test_acc: 0.3577\n",
      "Epoch: 39 | train_loss: 2.9319 | train_acc: 0.2830 | test_loss: 2.5055 | test_acc: 0.3629\n",
      "Epoch: 40 | train_loss: 2.9174 | train_acc: 0.2844 | test_loss: 2.4776 | test_acc: 0.3705\n",
      "Epoch: 41 | train_loss: 2.8886 | train_acc: 0.2904 | test_loss: 2.4682 | test_acc: 0.3783\n",
      "Epoch: 42 | train_loss: 2.8783 | train_acc: 0.2911 | test_loss: 2.4495 | test_acc: 0.3733\n",
      "Epoch: 43 | train_loss: 2.8551 | train_acc: 0.2946 | test_loss: 2.4344 | test_acc: 0.3794\n",
      "Epoch: 44 | train_loss: 2.8307 | train_acc: 0.3027 | test_loss: 2.4282 | test_acc: 0.3864\n",
      "Epoch: 45 | train_loss: 2.8147 | train_acc: 0.3058 | test_loss: 2.4407 | test_acc: 0.3831\n",
      "Epoch: 46 | train_loss: 2.8026 | train_acc: 0.3104 | test_loss: 2.4418 | test_acc: 0.3814\n",
      "Epoch: 47 | train_loss: 2.7862 | train_acc: 0.3115 | test_loss: 2.3947 | test_acc: 0.3903\n",
      "Epoch: 48 | train_loss: 2.7877 | train_acc: 0.3113 | test_loss: 2.3906 | test_acc: 0.3928\n",
      "Epoch: 49 | train_loss: 2.7598 | train_acc: 0.3158 | test_loss: 2.4695 | test_acc: 0.3992\n",
      "Epoch: 50 | train_loss: 2.7371 | train_acc: 0.3212 | test_loss: 2.3381 | test_acc: 0.4004\n",
      "total training time: 1556.488 sec.\n",
      "LOSS & Accuracy Curves\n",
      "lr: 0.0001, betas: (0.9, 0.999), eps: 1e-08, weight_decay: 0.001\n"
     ]
    },
    {
     "data": {
      "image/png": "[encoded data removed]",
      "text/plain": [
       "<Figure size 1500x700 with 2 Axes>"
      ]
     },
     "metadata": {},
     "output_type": "display_data"
    },
    {
     "name": "stdout",
     "output_type": "stream",
     "text": [
      "\n"
     ]
    }
   ],
   "source": [
    "cur,total = 1, len(lr)*len(betas)*len(eps)*len(weight_decay)\n",
    "for h_parms in parms_combs:\n",
    "  ### INIT MODEL STARTS ###\n",
    "  # traning same model for each parms\n",
    "  model_effnet = get_effnet_model().to(device=device)\n",
    "  ### INIT MODEL END ###\n",
    "\n",
    "  optimizer = torch.optim.Adam(\n",
    "      params=model_effnet.parameters(), lr=h_parms[0], betas=h_parms[1], eps=h_parms[2],weight_decay=h_parms[3]\n",
    "  )\n",
    "\n",
    "  # importing and init. the timer for checking model training time\n",
    "  from timeit import default_timer as timer\n",
    "\n",
    "  start_time = timer()\n",
    "  print(f\"current exp / total: {cur} / {total}\")\n",
    "  print(f\"Training with: lr: {h_parms[0]}, betas: {h_parms[1]}, eps: {h_parms[2]}, weight_decay: {h_parms[3]}\")\n",
    "  # train model\n",
    "  model_effnet_results = train(\n",
    "      model=model_effnet,\n",
    "      train_dataloader=train_dataloader,\n",
    "      test_dataloader=test_dataloader,\n",
    "      optimizer=optimizer,\n",
    "      loss_fn=loss_fn,\n",
    "      acc_fn=acc_fn,\n",
    "      epochs=NUM_EPOCHS,\n",
    "      save_info=f\"densenet_lr_{h_parms[0]}_betas_{h_parms[1]}_eps_{h_parms[2]}_weight_decay_{h_parms[3]}\",\n",
    "  )\n",
    "\n",
    "  # end timer\n",
    "  end_time = timer()\n",
    "  # printing time taken\n",
    "  print(f\"total training time: {end_time-start_time:.3f} sec.\")\n",
    "  # print(\"model stats:\")\n",
    "  # print(model_0_results)\n",
    "  print(f\"LOSS & Accuracy Curves\\n\"\n",
    "        f\"lr: {h_parms[0]}, betas: {h_parms[1]}, eps: {h_parms[2]}, weight_decay: {h_parms[3]}\")\n",
    "  plot_loss_curves(model_effnet_results)\n",
    "  cur+=1\n",
    "  print()"
   ]
  },
  {
   "attachments": {},
   "cell_type": "markdown",
   "metadata": {},
   "source": [
    "### ConvNeXt-T"
   ]
  },
  {
   "cell_type": "code",
   "execution_count": 28,
   "metadata": {},
   "outputs": [],
   "source": [
    "# Hyperparms\n",
    "# lr = [1e-3,1e-4] # learning rate\n",
    "# betas=[(0.8, 0.888),(0.9, 0.999)] # coefficients used for computing running averages of gradient and its square\n",
    "# eps = [1e-8] # term added to the denominator to improve numerical stability\n",
    "# weight_decay = [1e-3] # weight decay (L2 penalty)\n",
    "\n",
    "# Best parms: Training with: lr: 0.0001, betas: (0.9, 0.999), eps: 1e-08, weight_decay: 0.001\n",
    "lr = [1e-4] # learning rate\n",
    "betas=[(0.9, 0.999)] # coefficients used for computing running averages of gradient and its square\n",
    "eps = [1e-8] # term added to the denominator to improve numerical stability\n",
    "weight_decay = [1e-3] # weight decay (L2 penalty)\n",
    "\n",
    "parms_combs = [(l,b,e,w_d) for l in lr for b in betas for e in eps for w_d in weight_decay]\n",
    "# print(parms_combs)\n",
    "\n",
    "# init. epochs\n",
    "NUM_EPOCHS = 50\n",
    "\n",
    "# init. loss function, accuracy function and optimizer\n",
    "loss_fn = nn.CrossEntropyLoss()\n",
    "acc_fn = Accuracy(task=\"multiclass\", num_classes=100).to(device=device)"
   ]
  },
  {
   "cell_type": "code",
   "execution_count": 31,
   "metadata": {},
   "outputs": [
    {
     "name": "stdout",
     "output_type": "stream",
     "text": [
      "current exp / total: 1 / 1\n",
      "Training with: lr: 0.0001, betas: (0.9, 0.999), eps: 1e-08, weight_decay: 0.001\n"
     ]
    },
    {
     "data": {
      "application/vnd.jupyter.widget-view+json": {
       "model_id": "b01dbacdcfe84cd696c48297ca68493c",
       "version_major": 2,
       "version_minor": 0
      },
      "text/plain": [
       "  0%|          | 0/50 [00:00<?, ?it/s]"
      ]
     },
     "metadata": {},
     "output_type": "display_data"
    },
    {
     "name": "stdout",
     "output_type": "stream",
     "text": [
      "Epoch: 1 | train_loss: 4.2251 | train_acc: 0.0797 | test_loss: 3.7578 | test_acc: 0.1593\n",
      "Epoch: 2 | train_loss: 4.0329 | train_acc: 0.1145 | test_loss: 3.6538 | test_acc: 0.1732\n",
      "Epoch: 3 | train_loss: 3.9527 | train_acc: 0.1287 | test_loss: 3.5763 | test_acc: 0.1871\n",
      "Epoch: 4 | train_loss: 3.9044 | train_acc: 0.1388 | test_loss: 3.5162 | test_acc: 0.1971\n",
      "Epoch: 5 | train_loss: 3.8454 | train_acc: 0.1478 | test_loss: 3.4653 | test_acc: 0.2020\n",
      "Epoch: 6 | train_loss: 3.8100 | train_acc: 0.1543 | test_loss: 3.4326 | test_acc: 0.2165\n",
      "Epoch: 7 | train_loss: 3.7833 | train_acc: 0.1606 | test_loss: 3.4346 | test_acc: 0.2077\n",
      "Epoch: 8 | train_loss: 3.7514 | train_acc: 0.1667 | test_loss: 3.4041 | test_acc: 0.2158\n",
      "Epoch: 9 | train_loss: 3.7415 | train_acc: 0.1698 | test_loss: 3.3828 | test_acc: 0.2124\n",
      "Epoch: 10 | train_loss: 3.7245 | train_acc: 0.1753 | test_loss: 3.3725 | test_acc: 0.2193\n",
      "Epoch: 11 | train_loss: 3.6933 | train_acc: 0.1798 | test_loss: 3.3722 | test_acc: 0.2166\n",
      "Epoch: 12 | train_loss: 3.6801 | train_acc: 0.1811 | test_loss: 3.3625 | test_acc: 0.2198\n",
      "Epoch: 13 | train_loss: 3.6786 | train_acc: 0.1841 | test_loss: 3.3565 | test_acc: 0.2198\n",
      "Epoch: 14 | train_loss: 3.6617 | train_acc: 0.1871 | test_loss: 3.3672 | test_acc: 0.2192\n",
      "Epoch: 15 | train_loss: 3.6406 | train_acc: 0.1905 | test_loss: 3.3488 | test_acc: 0.2272\n",
      "Epoch: 16 | train_loss: 3.6469 | train_acc: 0.1898 | test_loss: 3.3393 | test_acc: 0.2243\n",
      "Epoch: 17 | train_loss: 3.6380 | train_acc: 0.1923 | test_loss: 3.3417 | test_acc: 0.2254\n",
      "Epoch: 18 | train_loss: 3.6304 | train_acc: 0.1952 | test_loss: 3.3339 | test_acc: 0.2272\n",
      "Epoch: 19 | train_loss: 3.6175 | train_acc: 0.1951 | test_loss: 3.3284 | test_acc: 0.2263\n",
      "Epoch: 20 | train_loss: 3.6091 | train_acc: 0.1975 | test_loss: 3.3427 | test_acc: 0.2234\n",
      "Epoch: 21 | train_loss: 3.5877 | train_acc: 0.2014 | test_loss: 3.3220 | test_acc: 0.2250\n",
      "Epoch: 22 | train_loss: 3.5932 | train_acc: 0.2024 | test_loss: 3.3114 | test_acc: 0.2272\n",
      "Epoch: 23 | train_loss: 3.5778 | train_acc: 0.2050 | test_loss: 3.2980 | test_acc: 0.2277\n",
      "Epoch: 24 | train_loss: 3.5627 | train_acc: 0.2085 | test_loss: 3.2983 | test_acc: 0.2281\n",
      "Epoch: 25 | train_loss: 3.5410 | train_acc: 0.2118 | test_loss: 3.3060 | test_acc: 0.2281\n",
      "Epoch: 26 | train_loss: 3.5303 | train_acc: 0.2131 | test_loss: 3.2724 | test_acc: 0.2336\n",
      "Epoch: 27 | train_loss: 3.5168 | train_acc: 0.2150 | test_loss: 3.2855 | test_acc: 0.2319\n",
      "Epoch: 28 | train_loss: 3.5021 | train_acc: 0.2166 | test_loss: 3.2418 | test_acc: 0.2344\n",
      "Epoch: 29 | train_loss: 3.4787 | train_acc: 0.2215 | test_loss: 3.2172 | test_acc: 0.2394\n",
      "Epoch: 30 | train_loss: 3.4735 | train_acc: 0.2215 | test_loss: 3.2250 | test_acc: 0.2369\n",
      "Epoch: 31 | train_loss: 3.4676 | train_acc: 0.2238 | test_loss: 3.2192 | test_acc: 0.2360\n",
      "Epoch: 32 | train_loss: 3.4443 | train_acc: 0.2281 | test_loss: 3.2106 | test_acc: 0.2441\n",
      "Epoch: 33 | train_loss: 3.4511 | train_acc: 0.2280 | test_loss: 3.2071 | test_acc: 0.2406\n",
      "Epoch: 34 | train_loss: 3.4346 | train_acc: 0.2288 | test_loss: 3.1739 | test_acc: 0.2467\n",
      "Epoch: 35 | train_loss: 3.4258 | train_acc: 0.2286 | test_loss: 3.1866 | test_acc: 0.2467\n",
      "Epoch: 36 | train_loss: 3.4222 | train_acc: 0.2301 | test_loss: 3.1883 | test_acc: 0.2424\n",
      "Epoch: 37 | train_loss: 3.4181 | train_acc: 0.2336 | test_loss: 3.1843 | test_acc: 0.2457\n",
      "Epoch: 38 | train_loss: 3.4109 | train_acc: 0.2350 | test_loss: 3.1939 | test_acc: 0.2432\n",
      "Epoch: 39 | train_loss: 3.4004 | train_acc: 0.2390 | test_loss: 3.1990 | test_acc: 0.2405\n",
      "Epoch: 40 | train_loss: 3.3990 | train_acc: 0.2387 | test_loss: 3.1855 | test_acc: 0.2429\n",
      "Epoch: 41 | train_loss: 3.3990 | train_acc: 0.2384 | test_loss: 3.1800 | test_acc: 0.2475\n",
      "Epoch: 42 | train_loss: 3.4035 | train_acc: 0.2361 | test_loss: 3.1930 | test_acc: 0.2451\n",
      "Epoch: 43 | train_loss: 3.3914 | train_acc: 0.2382 | test_loss: 3.1711 | test_acc: 0.2514\n",
      "Epoch: 44 | train_loss: 3.3782 | train_acc: 0.2433 | test_loss: 3.1771 | test_acc: 0.2478\n",
      "Epoch: 45 | train_loss: 3.3895 | train_acc: 0.2384 | test_loss: 3.1759 | test_acc: 0.2499\n",
      "Epoch: 46 | train_loss: 3.3821 | train_acc: 0.2418 | test_loss: 3.1871 | test_acc: 0.2475\n",
      "Epoch: 47 | train_loss: 3.3742 | train_acc: 0.2441 | test_loss: 3.1778 | test_acc: 0.2476\n",
      "Epoch: 48 | train_loss: 3.3723 | train_acc: 0.2440 | test_loss: 3.1792 | test_acc: 0.2491\n",
      "Epoch: 49 | train_loss: 3.3679 | train_acc: 0.2456 | test_loss: 3.1866 | test_acc: 0.2467\n",
      "Epoch: 50 | train_loss: 3.3624 | train_acc: 0.2455 | test_loss: 3.1729 | test_acc: 0.2480\n",
      "total training time: 966.417 sec.\n",
      "LOSS & Accuracy Curves\n",
      "lr: 0.0001, betas: (0.9, 0.999), eps: 1e-08, weight_decay: 0.001\n"
     ]
    },
    {
     "data": {
      "image/png": "[encoded data removed]",
      "text/plain": [
       "<Figure size 1500x700 with 2 Axes>"
      ]
     },
     "metadata": {},
     "output_type": "display_data"
    },
    {
     "name": "stdout",
     "output_type": "stream",
     "text": [
      "\n"
     ]
    }
   ],
   "source": [
    "cur,total = 1, len(lr)*len(betas)*len(eps)*len(weight_decay)\n",
    "for h_parms in parms_combs:\n",
    "  ### INIT MODEL STARTS ###\n",
    "  # traning same model for each parms\n",
    "  model_convnext = get_convnext_model().to(device=device)\n",
    "  ### INIT MODEL END ###\n",
    "\n",
    "  optimizer = torch.optim.Adam(\n",
    "      params=model_convnext.parameters(), lr=h_parms[0], betas=h_parms[1], eps=h_parms[2],weight_decay=h_parms[3]\n",
    "  )\n",
    "\n",
    "  # importing and init. the timer for checking model training time\n",
    "  from timeit import default_timer as timer\n",
    "\n",
    "  start_time = timer()\n",
    "  print(f\"current exp / total: {cur} / {total}\")\n",
    "  print(f\"Training with: lr: {h_parms[0]}, betas: {h_parms[1]}, eps: {h_parms[2]}, weight_decay: {h_parms[3]}\")\n",
    "  # train model\n",
    "  model_convnext_results = train(\n",
    "      model=model_convnext,\n",
    "      train_dataloader=train_dataloader,\n",
    "      test_dataloader=test_dataloader,\n",
    "      optimizer=optimizer,\n",
    "      loss_fn=loss_fn,\n",
    "      acc_fn=acc_fn,\n",
    "      epochs=NUM_EPOCHS,\n",
    "      save_info=f\"densenet_lr_{h_parms[0]}_betas_{h_parms[1]}_eps_{h_parms[2]}_weight_decay_{h_parms[3]}\",\n",
    "  )\n",
    "\n",
    "  # end timer\n",
    "  end_time = timer()\n",
    "  # printing time taken\n",
    "  print(f\"total training time: {end_time-start_time:.3f} sec.\")\n",
    "  # print(\"model stats:\")\n",
    "  # print(model_0_results)\n",
    "  print(f\"LOSS & Accuracy Curves\\n\"\n",
    "        f\"lr: {h_parms[0]}, betas: {h_parms[1]}, eps: {h_parms[2]}, weight_decay: {h_parms[3]}\")\n",
    "  plot_loss_curves(model_convnext_results)\n",
    "  cur+=1\n",
    "  print()"
   ]
  },
  {
   "attachments": {},
   "cell_type": "markdown",
   "metadata": {},
   "source": [
    "## Infrencing With Onnx"
   ]
  },
  {
   "attachments": {},
   "cell_type": "markdown",
   "metadata": {},
   "source": [
    "### ResNet-34"
   ]
  },
  {
   "attachments": {},
   "cell_type": "markdown",
   "metadata": {},
   "source": [
    "#### Loading the saved best model ResNet"
   ]
  },
  {
   "cell_type": "code",
   "execution_count": 35,
   "metadata": {},
   "outputs": [
    {
     "name": "stdout",
     "output_type": "stream",
     "text": [
      "Model Loaded successfully\n"
     ]
    }
   ],
   "source": [
    "MODEL_NAME = \"ResNet_epoch_50_optim_adam_lr_0.0001_betas_(0.9, 0.999)_eps_1e-08_weight_decay_0.001.pth\"\n",
    "model_resnet = get_resnet_model().to(device=device)\n",
    "model_resnet.load_state_dict(torch.load(MODEL_NAME))\n",
    "model_resnet.eval()\n",
    "print(\"Model Loaded successfully\")"
   ]
  },
  {
   "attachments": {},
   "cell_type": "markdown",
   "metadata": {},
   "source": [
    "#### Exporting model to onnx"
   ]
  },
  {
   "cell_type": "code",
   "execution_count": 36,
   "metadata": {},
   "outputs": [],
   "source": [
    "dummy_input = torch.randn(128, 3, 32, 32).to(device=device)\n",
    "input_names = [ \"actual_input\" ]\n",
    "output_names = [ \"output\" ]\n",
    "\n",
    "torch.onnx.export(model_resnet,\n",
    "                 dummy_input,\n",
    "                 \"resnet34.onnx\",\n",
    "                 verbose=False,\n",
    "                 input_names=input_names,\n",
    "                 output_names=output_names,\n",
    "                 export_params=True,\n",
    "                 )"
   ]
  },
  {
   "attachments": {},
   "cell_type": "markdown",
   "metadata": {},
   "source": [
    "#### loading and inferring on the model"
   ]
  },
  {
   "cell_type": "code",
   "execution_count": 37,
   "metadata": {},
   "outputs": [
    {
     "name": "stdout",
     "output_type": "stream",
     "text": [
      "(128, 100)\n",
      "torch.Size([128, 100])\n"
     ]
    },
    {
     "ename": "AssertionError",
     "evalue": "\nNot equal to tolerance rtol=0.001, atol=1e-05\n\nMismatched elements: 3457 / 12800 (27%)\nMax absolute difference: 0.00483227\nMax relative difference: 1.5685214\n x: array([[-0.83127 , -0.249052, -2.095519, ..., -1.394046, -2.277586,\n         2.110539],\n       [-1.014306, -0.270482, -1.737485, ..., -1.027353, -1.765285,...\n y: array([[-0.830775, -0.248689, -2.094972, ..., -1.393983, -2.277516,\n         2.109488],\n       [-1.014946, -0.271007, -1.737449, ..., -1.026818, -1.765561,...",
     "output_type": "error",
     "traceback": [
      "\u001b[0;31m---------------------------------------------------------------------------\u001b[0m",
      "\u001b[0;31mAssertionError\u001b[0m                            Traceback (most recent call last)",
      "Cell \u001b[0;32mIn[37], line 16\u001b[0m\n\u001b[1;32m     14\u001b[0m torch_out \u001b[39m=\u001b[39m model_resnet(dummy_input) \u001b[39m#torch.randn(1, 3, 224, 224)\u001b[39;00m\n\u001b[1;32m     15\u001b[0m \u001b[39mprint\u001b[39m(torch_out\u001b[39m.\u001b[39mshape)\n\u001b[0;32m---> 16\u001b[0m np\u001b[39m.\u001b[39;49mtesting\u001b[39m.\u001b[39;49massert_allclose(to_numpy(torch_out), ort_outs[\u001b[39m0\u001b[39;49m], rtol\u001b[39m=\u001b[39;49m\u001b[39m1e-03\u001b[39;49m, atol\u001b[39m=\u001b[39;49m\u001b[39m1e-05\u001b[39;49m)\n",
      "    \u001b[0;31m[... skipping hidden 1 frame]\u001b[0m\n",
      "File \u001b[0;32m~/anaconda3/envs/bikash/lib/python3.10/contextlib.py:79\u001b[0m, in \u001b[0;36mContextDecorator.__call__.<locals>.inner\u001b[0;34m(*args, **kwds)\u001b[0m\n\u001b[1;32m     76\u001b[0m \u001b[39m@wraps\u001b[39m(func)\n\u001b[1;32m     77\u001b[0m \u001b[39mdef\u001b[39;00m \u001b[39minner\u001b[39m(\u001b[39m*\u001b[39margs, \u001b[39m*\u001b[39m\u001b[39m*\u001b[39mkwds):\n\u001b[1;32m     78\u001b[0m     \u001b[39mwith\u001b[39;00m \u001b[39mself\u001b[39m\u001b[39m.\u001b[39m_recreate_cm():\n\u001b[0;32m---> 79\u001b[0m         \u001b[39mreturn\u001b[39;00m func(\u001b[39m*\u001b[39;49margs, \u001b[39m*\u001b[39;49m\u001b[39m*\u001b[39;49mkwds)\n",
      "File \u001b[0;32m~/anaconda3/envs/bikash/lib/python3.10/site-packages/numpy/testing/_private/utils.py:862\u001b[0m, in \u001b[0;36massert_array_compare\u001b[0;34m(comparison, x, y, err_msg, verbose, header, precision, equal_nan, equal_inf, strict)\u001b[0m\n\u001b[1;32m    858\u001b[0m         err_msg \u001b[39m+\u001b[39m\u001b[39m=\u001b[39m \u001b[39m'\u001b[39m\u001b[39m\\n\u001b[39;00m\u001b[39m'\u001b[39m \u001b[39m+\u001b[39m \u001b[39m'\u001b[39m\u001b[39m\\n\u001b[39;00m\u001b[39m'\u001b[39m\u001b[39m.\u001b[39mjoin(remarks)\n\u001b[1;32m    859\u001b[0m         msg \u001b[39m=\u001b[39m build_err_msg([ox, oy], err_msg,\n\u001b[1;32m    860\u001b[0m                             verbose\u001b[39m=\u001b[39mverbose, header\u001b[39m=\u001b[39mheader,\n\u001b[1;32m    861\u001b[0m                             names\u001b[39m=\u001b[39m(\u001b[39m'\u001b[39m\u001b[39mx\u001b[39m\u001b[39m'\u001b[39m, \u001b[39m'\u001b[39m\u001b[39my\u001b[39m\u001b[39m'\u001b[39m), precision\u001b[39m=\u001b[39mprecision)\n\u001b[0;32m--> 862\u001b[0m         \u001b[39mraise\u001b[39;00m \u001b[39mAssertionError\u001b[39;00m(msg)\n\u001b[1;32m    863\u001b[0m \u001b[39mexcept\u001b[39;00m \u001b[39mValueError\u001b[39;00m:\n\u001b[1;32m    864\u001b[0m     \u001b[39mimport\u001b[39;00m \u001b[39mtraceback\u001b[39;00m\n",
      "\u001b[0;31mAssertionError\u001b[0m: \nNot equal to tolerance rtol=0.001, atol=1e-05\n\nMismatched elements: 3457 / 12800 (27%)\nMax absolute difference: 0.00483227\nMax relative difference: 1.5685214\n x: array([[-0.83127 , -0.249052, -2.095519, ..., -1.394046, -2.277586,\n         2.110539],\n       [-1.014306, -0.270482, -1.737485, ..., -1.027353, -1.765285,...\n y: array([[-0.830775, -0.248689, -2.094972, ..., -1.393983, -2.277516,\n         2.109488],\n       [-1.014946, -0.271007, -1.737449, ..., -1.026818, -1.765561,..."
     ]
    }
   ],
   "source": [
    "import onnxruntime\n",
    "\n",
    "ort_session = onnxruntime.InferenceSession(\"resnet34.onnx\")\n",
    "\n",
    "def to_numpy(tensor):\n",
    "    return tensor.detach().cpu().numpy() if tensor.requires_grad else tensor.cpu().numpy()\n",
    "\n",
    "# compute ONNX Runtime output prediction\n",
    "ort_inputs = {ort_session.get_inputs()[0].name: to_numpy(dummy_input)}\n",
    "ort_outs = ort_session.run(None, ort_inputs)\n",
    "print(ort_outs[0].shape)\n",
    "\n",
    "# compare ONNX Runtime and PyTorch results\n",
    "torch_out = model_resnet(dummy_input) #torch.randn(1, 3, 224, 224)\n",
    "print(torch_out.shape)\n",
    "np.testing.assert_allclose(to_numpy(torch_out), ort_outs[0], rtol=1e-03, atol=1e-05)"
   ]
  },
  {
   "attachments": {},
   "cell_type": "markdown",
   "metadata": {},
   "source": [
    "### DenseNet-121"
   ]
  },
  {
   "cell_type": "markdown",
   "metadata": {},
   "source": [
    "#### Loading the saved best model DenseNet"
   ]
  },
  {
   "cell_type": "code",
   "execution_count": 40,
   "metadata": {},
   "outputs": [
    {
     "name": "stdout",
     "output_type": "stream",
     "text": [
      "Model Loaded successfully\n"
     ]
    }
   ],
   "source": [
    "MODEL_NAME = \"DenseNet_epoch_50_optim_adam_lr_0.0001_betas_(0.9, 0.999)_eps_1e-08_weight_decay_0.001.pth\"\n",
    "model_densenet = get_densenet_model().to(device=device)\n",
    "model_densenet.load_state_dict(torch.load(MODEL_NAME))\n",
    "model_densenet.eval()\n",
    "print(\"Model Loaded successfully\")"
   ]
  },
  {
   "cell_type": "markdown",
   "metadata": {},
   "source": [
    "#### Exporting model to onnx"
   ]
  },
  {
   "cell_type": "code",
   "execution_count": 41,
   "metadata": {},
   "outputs": [],
   "source": [
    "dummy_input = torch.randn(128, 3, 32, 32).to(device=device)\n",
    "input_names = [ \"actual_input\" ]\n",
    "output_names = [ \"output\" ]\n",
    "\n",
    "torch.onnx.export(model_densenet,\n",
    "                 dummy_input,\n",
    "                 \"densenet121.onnx\",\n",
    "                 verbose=False,\n",
    "                 input_names=input_names,\n",
    "                 output_names=output_names,\n",
    "                 export_params=True,\n",
    "                 )"
   ]
  },
  {
   "cell_type": "markdown",
   "metadata": {},
   "source": [
    "#### loading and inferring on the model"
   ]
  },
  {
   "cell_type": "code",
   "execution_count": 42,
   "metadata": {},
   "outputs": [
    {
     "name": "stdout",
     "output_type": "stream",
     "text": [
      "(128, 100)\n",
      "torch.Size([128, 100])\n"
     ]
    },
    {
     "ename": "AssertionError",
     "evalue": "\nNot equal to tolerance rtol=0.001, atol=1e-05\n\nMismatched elements: 2507 / 12800 (19.6%)\nMax absolute difference: 0.00370073\nMax relative difference: 2.851312\n x: array([[-1.377174, -2.362814, -2.984988, ..., -2.246604, -2.135296,\n         2.223649],\n       [-1.300864, -2.440155, -2.657663, ..., -2.114394, -1.367235,...\n y: array([[-1.37648 , -2.36254 , -2.984989, ..., -2.246569, -2.135605,\n         2.222578],\n       [-1.300465, -2.43924 , -2.656173, ..., -2.113235, -1.366664,...",
     "output_type": "error",
     "traceback": [
      "\u001b[0;31m---------------------------------------------------------------------------\u001b[0m",
      "\u001b[0;31mAssertionError\u001b[0m                            Traceback (most recent call last)",
      "Cell \u001b[0;32mIn[42], line 17\u001b[0m\n\u001b[1;32m     15\u001b[0m torch_out \u001b[39m=\u001b[39m model_densenet(dummy_input) \u001b[39m#torch.randn(1, 3, 224, 224)\u001b[39;00m\n\u001b[1;32m     16\u001b[0m \u001b[39mprint\u001b[39m(torch_out\u001b[39m.\u001b[39mshape)\n\u001b[0;32m---> 17\u001b[0m np\u001b[39m.\u001b[39;49mtesting\u001b[39m.\u001b[39;49massert_allclose(to_numpy(torch_out), ort_outs[\u001b[39m0\u001b[39;49m], rtol\u001b[39m=\u001b[39;49m\u001b[39m1e-03\u001b[39;49m, atol\u001b[39m=\u001b[39;49m\u001b[39m1e-05\u001b[39;49m)\n",
      "    \u001b[0;31m[... skipping hidden 1 frame]\u001b[0m\n",
      "File \u001b[0;32m~/anaconda3/envs/bikash/lib/python3.10/contextlib.py:79\u001b[0m, in \u001b[0;36mContextDecorator.__call__.<locals>.inner\u001b[0;34m(*args, **kwds)\u001b[0m\n\u001b[1;32m     76\u001b[0m \u001b[39m@wraps\u001b[39m(func)\n\u001b[1;32m     77\u001b[0m \u001b[39mdef\u001b[39;00m \u001b[39minner\u001b[39m(\u001b[39m*\u001b[39margs, \u001b[39m*\u001b[39m\u001b[39m*\u001b[39mkwds):\n\u001b[1;32m     78\u001b[0m     \u001b[39mwith\u001b[39;00m \u001b[39mself\u001b[39m\u001b[39m.\u001b[39m_recreate_cm():\n\u001b[0;32m---> 79\u001b[0m         \u001b[39mreturn\u001b[39;00m func(\u001b[39m*\u001b[39;49margs, \u001b[39m*\u001b[39;49m\u001b[39m*\u001b[39;49mkwds)\n",
      "File \u001b[0;32m~/anaconda3/envs/bikash/lib/python3.10/site-packages/numpy/testing/_private/utils.py:862\u001b[0m, in \u001b[0;36massert_array_compare\u001b[0;34m(comparison, x, y, err_msg, verbose, header, precision, equal_nan, equal_inf, strict)\u001b[0m\n\u001b[1;32m    858\u001b[0m         err_msg \u001b[39m+\u001b[39m\u001b[39m=\u001b[39m \u001b[39m'\u001b[39m\u001b[39m\\n\u001b[39;00m\u001b[39m'\u001b[39m \u001b[39m+\u001b[39m \u001b[39m'\u001b[39m\u001b[39m\\n\u001b[39;00m\u001b[39m'\u001b[39m\u001b[39m.\u001b[39mjoin(remarks)\n\u001b[1;32m    859\u001b[0m         msg \u001b[39m=\u001b[39m build_err_msg([ox, oy], err_msg,\n\u001b[1;32m    860\u001b[0m                             verbose\u001b[39m=\u001b[39mverbose, header\u001b[39m=\u001b[39mheader,\n\u001b[1;32m    861\u001b[0m                             names\u001b[39m=\u001b[39m(\u001b[39m'\u001b[39m\u001b[39mx\u001b[39m\u001b[39m'\u001b[39m, \u001b[39m'\u001b[39m\u001b[39my\u001b[39m\u001b[39m'\u001b[39m), precision\u001b[39m=\u001b[39mprecision)\n\u001b[0;32m--> 862\u001b[0m         \u001b[39mraise\u001b[39;00m \u001b[39mAssertionError\u001b[39;00m(msg)\n\u001b[1;32m    863\u001b[0m \u001b[39mexcept\u001b[39;00m \u001b[39mValueError\u001b[39;00m:\n\u001b[1;32m    864\u001b[0m     \u001b[39mimport\u001b[39;00m \u001b[39mtraceback\u001b[39;00m\n",
      "\u001b[0;31mAssertionError\u001b[0m: \nNot equal to tolerance rtol=0.001, atol=1e-05\n\nMismatched elements: 2507 / 12800 (19.6%)\nMax absolute difference: 0.00370073\nMax relative difference: 2.851312\n x: array([[-1.377174, -2.362814, -2.984988, ..., -2.246604, -2.135296,\n         2.223649],\n       [-1.300864, -2.440155, -2.657663, ..., -2.114394, -1.367235,...\n y: array([[-1.37648 , -2.36254 , -2.984989, ..., -2.246569, -2.135605,\n         2.222578],\n       [-1.300465, -2.43924 , -2.656173, ..., -2.113235, -1.366664,..."
     ]
    }
   ],
   "source": [
    "import onnxruntime\n",
    "\n",
    "ort_session = onnxruntime.InferenceSession(\"densenet121.onnx\")\n",
    "\n",
    "def to_numpy(tensor):\n",
    "    return tensor.detach().cpu().numpy() if tensor.requires_grad else tensor.cpu().numpy()\n",
    "\n",
    "# compute ONNX Runtime output prediction\n",
    "ort_inputs = {ort_session.get_inputs()[0].name: to_numpy(dummy_input)}\n",
    "ort_outs = ort_session.run(None, ort_inputs)\n",
    "print(ort_outs[0].shape)\n",
    "\n",
    "# compare ONNX Runtime and PyTorch results\n",
    "model_densenet.eval()\n",
    "torch_out = model_densenet(dummy_input) #torch.randn(1, 3, 224, 224)\n",
    "print(torch_out.shape)\n",
    "np.testing.assert_allclose(to_numpy(torch_out), ort_outs[0], rtol=1e-03, atol=1e-05)"
   ]
  },
  {
   "attachments": {},
   "cell_type": "markdown",
   "metadata": {},
   "source": [
    "### EfficientNet-B0"
   ]
  },
  {
   "cell_type": "markdown",
   "metadata": {},
   "source": [
    "#### Loading the saved best model DenseNet"
   ]
  },
  {
   "cell_type": "code",
   "execution_count": 44,
   "metadata": {},
   "outputs": [
    {
     "name": "stdout",
     "output_type": "stream",
     "text": [
      "Model Loaded successfully\n"
     ]
    }
   ],
   "source": [
    "MODEL_NAME = \"EfficientNet_epoch_50_optim_adam_lr_0.0001_betas_(0.9, 0.999)_eps_1e-08_weight_decay_0.001.pth\"\n",
    "model_effnet = get_effnet_model().to(device=device)\n",
    "model_effnet.load_state_dict(torch.load(MODEL_NAME))\n",
    "model_effnet.eval()\n",
    "print(\"Model Loaded successfully\")"
   ]
  },
  {
   "cell_type": "markdown",
   "metadata": {},
   "source": [
    "#### Exporting model to onnx"
   ]
  },
  {
   "cell_type": "code",
   "execution_count": 45,
   "metadata": {},
   "outputs": [],
   "source": [
    "dummy_input = torch.randn(128, 3, 32, 32).to(device=device)\n",
    "input_names = [ \"actual_input\" ]\n",
    "output_names = [ \"output\" ]\n",
    "\n",
    "torch.onnx.export(model_effnet,\n",
    "                 dummy_input,\n",
    "                 \"effnet_b0.onnx\",\n",
    "                 verbose=False,\n",
    "                 input_names=input_names,\n",
    "                 output_names=output_names,\n",
    "                 export_params=True,\n",
    "                 )"
   ]
  },
  {
   "cell_type": "markdown",
   "metadata": {},
   "source": [
    "#### loading and inferring on the model"
   ]
  },
  {
   "cell_type": "code",
   "execution_count": 46,
   "metadata": {},
   "outputs": [
    {
     "name": "stdout",
     "output_type": "stream",
     "text": [
      "(128, 100)\n",
      "torch.Size([128, 100])\n"
     ]
    },
    {
     "ename": "AssertionError",
     "evalue": "\nNot equal to tolerance rtol=0.001, atol=1e-05\n\nMismatched elements: 3255 / 12800 (25.4%)\nMax absolute difference: 0.00549221\nMax relative difference: 7.424084\n x: array([[-0.240425, -0.860548, -0.352838, ..., -0.508217, -1.711124,\n         3.130223],\n       [ 0.249967,  0.105939, -1.436937, ..., -0.040607, -1.492493,...\n y: array([[-0.240175, -0.86072 , -0.351628, ..., -0.506916, -1.710201,\n         3.130523],\n       [ 0.251792,  0.10605 , -1.437403, ..., -0.041532, -1.492966,...",
     "output_type": "error",
     "traceback": [
      "\u001b[0;31m---------------------------------------------------------------------------\u001b[0m",
      "\u001b[0;31mAssertionError\u001b[0m                            Traceback (most recent call last)",
      "Cell \u001b[0;32mIn[46], line 17\u001b[0m\n\u001b[1;32m     15\u001b[0m torch_out \u001b[39m=\u001b[39m model_effnet(dummy_input) \u001b[39m#torch.randn(1, 3, 224, 224)\u001b[39;00m\n\u001b[1;32m     16\u001b[0m \u001b[39mprint\u001b[39m(torch_out\u001b[39m.\u001b[39mshape)\n\u001b[0;32m---> 17\u001b[0m np\u001b[39m.\u001b[39;49mtesting\u001b[39m.\u001b[39;49massert_allclose(to_numpy(torch_out), ort_outs[\u001b[39m0\u001b[39;49m], rtol\u001b[39m=\u001b[39;49m\u001b[39m1e-03\u001b[39;49m, atol\u001b[39m=\u001b[39;49m\u001b[39m1e-05\u001b[39;49m)\n",
      "    \u001b[0;31m[... skipping hidden 1 frame]\u001b[0m\n",
      "File \u001b[0;32m~/anaconda3/envs/bikash/lib/python3.10/contextlib.py:79\u001b[0m, in \u001b[0;36mContextDecorator.__call__.<locals>.inner\u001b[0;34m(*args, **kwds)\u001b[0m\n\u001b[1;32m     76\u001b[0m \u001b[39m@wraps\u001b[39m(func)\n\u001b[1;32m     77\u001b[0m \u001b[39mdef\u001b[39;00m \u001b[39minner\u001b[39m(\u001b[39m*\u001b[39margs, \u001b[39m*\u001b[39m\u001b[39m*\u001b[39mkwds):\n\u001b[1;32m     78\u001b[0m     \u001b[39mwith\u001b[39;00m \u001b[39mself\u001b[39m\u001b[39m.\u001b[39m_recreate_cm():\n\u001b[0;32m---> 79\u001b[0m         \u001b[39mreturn\u001b[39;00m func(\u001b[39m*\u001b[39;49margs, \u001b[39m*\u001b[39;49m\u001b[39m*\u001b[39;49mkwds)\n",
      "File \u001b[0;32m~/anaconda3/envs/bikash/lib/python3.10/site-packages/numpy/testing/_private/utils.py:862\u001b[0m, in \u001b[0;36massert_array_compare\u001b[0;34m(comparison, x, y, err_msg, verbose, header, precision, equal_nan, equal_inf, strict)\u001b[0m\n\u001b[1;32m    858\u001b[0m         err_msg \u001b[39m+\u001b[39m\u001b[39m=\u001b[39m \u001b[39m'\u001b[39m\u001b[39m\\n\u001b[39;00m\u001b[39m'\u001b[39m \u001b[39m+\u001b[39m \u001b[39m'\u001b[39m\u001b[39m\\n\u001b[39;00m\u001b[39m'\u001b[39m\u001b[39m.\u001b[39mjoin(remarks)\n\u001b[1;32m    859\u001b[0m         msg \u001b[39m=\u001b[39m build_err_msg([ox, oy], err_msg,\n\u001b[1;32m    860\u001b[0m                             verbose\u001b[39m=\u001b[39mverbose, header\u001b[39m=\u001b[39mheader,\n\u001b[1;32m    861\u001b[0m                             names\u001b[39m=\u001b[39m(\u001b[39m'\u001b[39m\u001b[39mx\u001b[39m\u001b[39m'\u001b[39m, \u001b[39m'\u001b[39m\u001b[39my\u001b[39m\u001b[39m'\u001b[39m), precision\u001b[39m=\u001b[39mprecision)\n\u001b[0;32m--> 862\u001b[0m         \u001b[39mraise\u001b[39;00m \u001b[39mAssertionError\u001b[39;00m(msg)\n\u001b[1;32m    863\u001b[0m \u001b[39mexcept\u001b[39;00m \u001b[39mValueError\u001b[39;00m:\n\u001b[1;32m    864\u001b[0m     \u001b[39mimport\u001b[39;00m \u001b[39mtraceback\u001b[39;00m\n",
      "\u001b[0;31mAssertionError\u001b[0m: \nNot equal to tolerance rtol=0.001, atol=1e-05\n\nMismatched elements: 3255 / 12800 (25.4%)\nMax absolute difference: 0.00549221\nMax relative difference: 7.424084\n x: array([[-0.240425, -0.860548, -0.352838, ..., -0.508217, -1.711124,\n         3.130223],\n       [ 0.249967,  0.105939, -1.436937, ..., -0.040607, -1.492493,...\n y: array([[-0.240175, -0.86072 , -0.351628, ..., -0.506916, -1.710201,\n         3.130523],\n       [ 0.251792,  0.10605 , -1.437403, ..., -0.041532, -1.492966,..."
     ]
    }
   ],
   "source": [
    "import onnxruntime\n",
    "\n",
    "ort_session = onnxruntime.InferenceSession(\"effnet_b0.onnx\")\n",
    "\n",
    "def to_numpy(tensor):\n",
    "    return tensor.detach().cpu().numpy() if tensor.requires_grad else tensor.cpu().numpy()\n",
    "\n",
    "# compute ONNX Runtime output prediction\n",
    "ort_inputs = {ort_session.get_inputs()[0].name: to_numpy(dummy_input)}\n",
    "ort_outs = ort_session.run(None, ort_inputs)\n",
    "print(ort_outs[0].shape)\n",
    "\n",
    "# compare ONNX Runtime and PyTorch results\n",
    "model_effnet.eval()\n",
    "torch_out = model_effnet(dummy_input) #torch.randn(1, 3, 224, 224)\n",
    "print(torch_out.shape)\n",
    "np.testing.assert_allclose(to_numpy(torch_out), ort_outs[0], rtol=1e-03, atol=1e-05)"
   ]
  },
  {
   "attachments": {},
   "cell_type": "markdown",
   "metadata": {},
   "source": [
    "### ConvNeXt-T"
   ]
  },
  {
   "cell_type": "markdown",
   "metadata": {},
   "source": [
    "#### Loading the saved best model DenseNet"
   ]
  },
  {
   "cell_type": "code",
   "execution_count": 47,
   "metadata": {},
   "outputs": [
    {
     "name": "stdout",
     "output_type": "stream",
     "text": [
      "Model Loaded successfully\n"
     ]
    }
   ],
   "source": [
    "MODEL_NAME = \"ConvNeXt_epoch_50_optim_adam_lr_0.0001_betas_(0.9, 0.999)_eps_1e-08_weight_decay_0.001.pth\"\n",
    "model_convnext = get_convnext_model().to(device=device)\n",
    "model_convnext.load_state_dict(torch.load(MODEL_NAME))\n",
    "model_convnext.eval()\n",
    "print(\"Model Loaded successfully\")"
   ]
  },
  {
   "cell_type": "markdown",
   "metadata": {},
   "source": [
    "#### Exporting model to onnx"
   ]
  },
  {
   "cell_type": "code",
   "execution_count": 48,
   "metadata": {},
   "outputs": [],
   "source": [
    "dummy_input = torch.randn(128, 3, 32, 32).to(device=device)\n",
    "input_names = [ \"actual_input\" ]\n",
    "output_names = [ \"output\" ]\n",
    "\n",
    "torch.onnx.export(model_convnext,\n",
    "                 dummy_input,\n",
    "                 \"convnext_t.onnx\",\n",
    "                 verbose=False,\n",
    "                 input_names=input_names,\n",
    "                 output_names=output_names,\n",
    "                 export_params=True,\n",
    "                 )"
   ]
  },
  {
   "cell_type": "markdown",
   "metadata": {},
   "source": [
    "#### loading and inferring on the model"
   ]
  },
  {
   "cell_type": "code",
   "execution_count": 49,
   "metadata": {},
   "outputs": [
    {
     "name": "stdout",
     "output_type": "stream",
     "text": [
      "(128, 100)\n",
      "torch.Size([128, 100])\n"
     ]
    },
    {
     "ename": "AssertionError",
     "evalue": "\nNot equal to tolerance rtol=0.001, atol=1e-05\n\nMismatched elements: 2430 / 12800 (19%)\nMax absolute difference: 0.00167978\nMax relative difference: 2.522309\n x: array([[-2.032904, -0.869442, -1.180609, ...,  0.090573, -0.745062,\n        -0.766215],\n       [ 0.518878,  1.416498,  0.317095, ..., -2.288239,  1.221057,...\n y: array([[-2.033229, -0.869741, -1.180246, ...,  0.090834, -0.745333,\n        -0.766302],\n       [ 0.51862 ,  1.416081,  0.316874, ..., -2.287298,  1.221458,...",
     "output_type": "error",
     "traceback": [
      "\u001b[0;31m---------------------------------------------------------------------------\u001b[0m",
      "\u001b[0;31mAssertionError\u001b[0m                            Traceback (most recent call last)",
      "Cell \u001b[0;32mIn[49], line 17\u001b[0m\n\u001b[1;32m     15\u001b[0m torch_out \u001b[39m=\u001b[39m model_convnext(dummy_input) \u001b[39m#torch.randn(1, 3, 224, 224)\u001b[39;00m\n\u001b[1;32m     16\u001b[0m \u001b[39mprint\u001b[39m(torch_out\u001b[39m.\u001b[39mshape)\n\u001b[0;32m---> 17\u001b[0m np\u001b[39m.\u001b[39;49mtesting\u001b[39m.\u001b[39;49massert_allclose(to_numpy(torch_out), ort_outs[\u001b[39m0\u001b[39;49m], rtol\u001b[39m=\u001b[39;49m\u001b[39m1e-03\u001b[39;49m, atol\u001b[39m=\u001b[39;49m\u001b[39m1e-05\u001b[39;49m)\n",
      "    \u001b[0;31m[... skipping hidden 1 frame]\u001b[0m\n",
      "File \u001b[0;32m~/anaconda3/envs/bikash/lib/python3.10/contextlib.py:79\u001b[0m, in \u001b[0;36mContextDecorator.__call__.<locals>.inner\u001b[0;34m(*args, **kwds)\u001b[0m\n\u001b[1;32m     76\u001b[0m \u001b[39m@wraps\u001b[39m(func)\n\u001b[1;32m     77\u001b[0m \u001b[39mdef\u001b[39;00m \u001b[39minner\u001b[39m(\u001b[39m*\u001b[39margs, \u001b[39m*\u001b[39m\u001b[39m*\u001b[39mkwds):\n\u001b[1;32m     78\u001b[0m     \u001b[39mwith\u001b[39;00m \u001b[39mself\u001b[39m\u001b[39m.\u001b[39m_recreate_cm():\n\u001b[0;32m---> 79\u001b[0m         \u001b[39mreturn\u001b[39;00m func(\u001b[39m*\u001b[39;49margs, \u001b[39m*\u001b[39;49m\u001b[39m*\u001b[39;49mkwds)\n",
      "File \u001b[0;32m~/anaconda3/envs/bikash/lib/python3.10/site-packages/numpy/testing/_private/utils.py:862\u001b[0m, in \u001b[0;36massert_array_compare\u001b[0;34m(comparison, x, y, err_msg, verbose, header, precision, equal_nan, equal_inf, strict)\u001b[0m\n\u001b[1;32m    858\u001b[0m         err_msg \u001b[39m+\u001b[39m\u001b[39m=\u001b[39m \u001b[39m'\u001b[39m\u001b[39m\\n\u001b[39;00m\u001b[39m'\u001b[39m \u001b[39m+\u001b[39m \u001b[39m'\u001b[39m\u001b[39m\\n\u001b[39;00m\u001b[39m'\u001b[39m\u001b[39m.\u001b[39mjoin(remarks)\n\u001b[1;32m    859\u001b[0m         msg \u001b[39m=\u001b[39m build_err_msg([ox, oy], err_msg,\n\u001b[1;32m    860\u001b[0m                             verbose\u001b[39m=\u001b[39mverbose, header\u001b[39m=\u001b[39mheader,\n\u001b[1;32m    861\u001b[0m                             names\u001b[39m=\u001b[39m(\u001b[39m'\u001b[39m\u001b[39mx\u001b[39m\u001b[39m'\u001b[39m, \u001b[39m'\u001b[39m\u001b[39my\u001b[39m\u001b[39m'\u001b[39m), precision\u001b[39m=\u001b[39mprecision)\n\u001b[0;32m--> 862\u001b[0m         \u001b[39mraise\u001b[39;00m \u001b[39mAssertionError\u001b[39;00m(msg)\n\u001b[1;32m    863\u001b[0m \u001b[39mexcept\u001b[39;00m \u001b[39mValueError\u001b[39;00m:\n\u001b[1;32m    864\u001b[0m     \u001b[39mimport\u001b[39;00m \u001b[39mtraceback\u001b[39;00m\n",
      "\u001b[0;31mAssertionError\u001b[0m: \nNot equal to tolerance rtol=0.001, atol=1e-05\n\nMismatched elements: 2430 / 12800 (19%)\nMax absolute difference: 0.00167978\nMax relative difference: 2.522309\n x: array([[-2.032904, -0.869442, -1.180609, ...,  0.090573, -0.745062,\n        -0.766215],\n       [ 0.518878,  1.416498,  0.317095, ..., -2.288239,  1.221057,...\n y: array([[-2.033229, -0.869741, -1.180246, ...,  0.090834, -0.745333,\n        -0.766302],\n       [ 0.51862 ,  1.416081,  0.316874, ..., -2.287298,  1.221458,..."
     ]
    }
   ],
   "source": [
    "import onnxruntime\n",
    "\n",
    "ort_session = onnxruntime.InferenceSession(\"convnext_t.onnx\")\n",
    "\n",
    "def to_numpy(tensor):\n",
    "    return tensor.detach().cpu().numpy() if tensor.requires_grad else tensor.cpu().numpy()\n",
    "\n",
    "# compute ONNX Runtime output prediction\n",
    "ort_inputs = {ort_session.get_inputs()[0].name: to_numpy(dummy_input)}\n",
    "ort_outs = ort_session.run(None, ort_inputs)\n",
    "print(ort_outs[0].shape)\n",
    "\n",
    "# compare ONNX Runtime and PyTorch results\n",
    "model_convnext.eval()\n",
    "torch_out = model_convnext(dummy_input) #torch.randn(1, 3, 224, 224)\n",
    "print(torch_out.shape)\n",
    "np.testing.assert_allclose(to_numpy(torch_out), ort_outs[0], rtol=1e-03, atol=1e-05)"
   ]
  },
  {
   "attachments": {},
   "cell_type": "markdown",
   "metadata": {},
   "source": [
    "## Infrencing with Onnx - Quantized"
   ]
  },
  {
   "attachments": {},
   "cell_type": "markdown",
   "metadata": {},
   "source": [
    "### installing req."
   ]
  },
  {
   "cell_type": "code",
   "execution_count": 2,
   "metadata": {},
   "outputs": [],
   "source": [
    "!pip -q install onnxoptimizer"
   ]
  },
  {
   "cell_type": "markdown",
   "metadata": {},
   "source": [
    "### Exporting model to Static Graph Optimization"
   ]
  },
  {
   "cell_type": "code",
   "execution_count": 3,
   "metadata": {},
   "outputs": [],
   "source": [
    "!python -m onnxoptimizer resnet34.onnx resnet34_opt.onnx"
   ]
  },
  {
   "cell_type": "code",
   "execution_count": 4,
   "metadata": {},
   "outputs": [],
   "source": [
    "!python -m onnxoptimizer densenet121.onnx densenet121_opt.onnx"
   ]
  },
  {
   "cell_type": "code",
   "execution_count": 5,
   "metadata": {},
   "outputs": [],
   "source": [
    "!python -m onnxoptimizer effnet_b0.onnx effnet_b0_opt.onnx"
   ]
  },
  {
   "cell_type": "code",
   "execution_count": 6,
   "metadata": {},
   "outputs": [],
   "source": [
    "!python -m onnxoptimizer convnext_t.onnx convnext_t_opt.onnx"
   ]
  },
  {
   "attachments": {},
   "cell_type": "markdown",
   "metadata": {},
   "source": [
    "### Resnet-34"
   ]
  },
  {
   "cell_type": "code",
   "execution_count": 25,
   "metadata": {},
   "outputs": [
    {
     "name": "stdout",
     "output_type": "stream",
     "text": [
      "Average runtime of ONNX Model in GPU: 21.121726505225524\n",
      "Average runtime of ONNX Optimized Model in GPU: 20.86290340521373\n"
     ]
    }
   ],
   "source": [
    "from time import perf_counter\n",
    "import onnxruntime\n",
    "\n",
    "dummy_input = torch.randn(1, 3, 224, 224)\n",
    "\n",
    "def to_numpy(tensor):\n",
    "    return tensor.detach().cpu().numpy() if tensor.requires_grad else tensor.cpu().numpy()\n",
    "\n",
    "def time_ort_model_evaluation(model_path):\n",
    "    sess_options = onnxruntime.SessionOptions()\n",
    "    sess_options.graph_optimization_level = onnxruntime.GraphOptimizationLevel.ORT_ENABLE_ALL\n",
    "    session = onnxruntime.InferenceSession(model_path, sess_options)\n",
    "\n",
    "    time_per_inference = []\n",
    "    for _ in range(10):\n",
    "        dummy_input = torch.randn(128, 3, 32, 32)\n",
    "        # compute ONNX Runtime output prediction\n",
    "        ort_inputs = {session.get_inputs()[0].name: to_numpy(dummy_input)}\n",
    "        start = perf_counter()\n",
    "        session.run(None, ort_inputs)\n",
    "        time_per_inference.append((1000 * (perf_counter() - start)))\n",
    "\n",
    "    return np.mean(time_per_inference)\n",
    "\n",
    "print('Average runtime of ONNX Model in GPU: ' + str(time_ort_model_evaluation('resnet34.onnx')))\n",
    "print('Average runtime of ONNX Optimized Model in GPU: ' + str(time_ort_model_evaluation('resnet34_opt.onnx')))\n"
   ]
  },
  {
   "attachments": {},
   "cell_type": "markdown",
   "metadata": {},
   "source": [
    "### Densenet-121"
   ]
  },
  {
   "cell_type": "code",
   "execution_count": 34,
   "metadata": {},
   "outputs": [
    {
     "name": "stdout",
     "output_type": "stream",
     "text": [
      "Average runtime of ONNX Model in GPU: 47.0255221897969\n",
      "Average runtime of ONNX Optimized Model in GPU: 44.29885991674382\n"
     ]
    }
   ],
   "source": [
    "from time import perf_counter\n",
    "import onnxruntime\n",
    "\n",
    "dummy_input = torch.randn(1, 3, 224, 224)\n",
    "\n",
    "def to_numpy(tensor):\n",
    "    return tensor.detach().cpu().numpy() if tensor.requires_grad else tensor.cpu().numpy()\n",
    "\n",
    "def time_ort_model_evaluation(model_path):\n",
    "    sess_options = onnxruntime.SessionOptions()\n",
    "    sess_options.graph_optimization_level = onnxruntime.GraphOptimizationLevel.ORT_ENABLE_ALL\n",
    "    session = onnxruntime.InferenceSession(model_path, sess_options)\n",
    "\n",
    "    time_per_inference = []\n",
    "    for _ in range(100):\n",
    "        dummy_input = torch.randn(128, 3, 32, 32)\n",
    "        # compute ONNX Runtime output prediction\n",
    "        ort_inputs = {session.get_inputs()[0].name: to_numpy(dummy_input)}\n",
    "        start = perf_counter()\n",
    "        session.run(None, ort_inputs)\n",
    "        time_per_inference.append((1000 * (perf_counter() - start)))\n",
    "\n",
    "    return np.mean(time_per_inference)\n",
    "\n",
    "print('Average runtime of ONNX Model in GPU: ' + str(time_ort_model_evaluation('densenet121.onnx')))\n",
    "print('Average runtime of ONNX Optimized Model in GPU: ' + str(time_ort_model_evaluation('densenet121_opt.onnx')))\n"
   ]
  },
  {
   "attachments": {},
   "cell_type": "markdown",
   "metadata": {},
   "source": [
    "### Effnet-B0"
   ]
  },
  {
   "cell_type": "code",
   "execution_count": 33,
   "metadata": {},
   "outputs": [
    {
     "name": "stdout",
     "output_type": "stream",
     "text": [
      "Average runtime of ONNX Model in GPU: 82.28866720979568\n",
      "Average runtime of ONNX Optimized Model in GPU: 82.96054206846748\n"
     ]
    }
   ],
   "source": [
    "from time import perf_counter\n",
    "import onnxruntime\n",
    "\n",
    "dummy_input = torch.randn(1, 3, 224, 224)\n",
    "\n",
    "def to_numpy(tensor):\n",
    "    return tensor.detach().cpu().numpy() if tensor.requires_grad else tensor.cpu().numpy()\n",
    "\n",
    "def time_ort_model_evaluation(model_path):\n",
    "    sess_options = onnxruntime.SessionOptions()\n",
    "    sess_options.graph_optimization_level = onnxruntime.GraphOptimizationLevel.ORT_ENABLE_ALL\n",
    "    session = onnxruntime.InferenceSession(model_path, sess_options)\n",
    "\n",
    "    time_per_inference = []\n",
    "    for _ in range(100):\n",
    "        dummy_input = torch.randn(128, 3, 32, 32)\n",
    "        # compute ONNX Runtime output prediction\n",
    "        ort_inputs = {session.get_inputs()[0].name: to_numpy(dummy_input)}\n",
    "        start = perf_counter()\n",
    "        session.run(None, ort_inputs)\n",
    "        time_per_inference.append((1000 * (perf_counter() - start)))\n",
    "\n",
    "    return np.mean(time_per_inference)\n",
    "\n",
    "print('Average runtime of ONNX Model in GPU: ' + str(time_ort_model_evaluation('effnet_b0.onnx')))\n",
    "print('Average runtime of ONNX Optimized Model in GPU: ' + str(time_ort_model_evaluation('effnet_b0_opt.onnx')))\n"
   ]
  },
  {
   "attachments": {},
   "cell_type": "markdown",
   "metadata": {},
   "source": [
    "### Convnext-T"
   ]
  },
  {
   "cell_type": "code",
   "execution_count": 32,
   "metadata": {},
   "outputs": [
    {
     "name": "stdout",
     "output_type": "stream",
     "text": [
      "Average runtime of ONNX Model in GPU: 87.44522482040338\n",
      "Average runtime of ONNX Optimized Model in GPU: 86.56301585258916\n"
     ]
    }
   ],
   "source": [
    "from time import perf_counter\n",
    "import onnxruntime\n",
    "\n",
    "dummy_input = torch.randn(1, 3, 224, 224)\n",
    "\n",
    "def to_numpy(tensor):\n",
    "    return tensor.detach().cpu().numpy() if tensor.requires_grad else tensor.cpu().numpy()\n",
    "\n",
    "def time_ort_model_evaluation(model_path):\n",
    "    sess_options = onnxruntime.SessionOptions()\n",
    "    sess_options.graph_optimization_level = onnxruntime.GraphOptimizationLevel.ORT_ENABLE_ALL\n",
    "    session = onnxruntime.InferenceSession(model_path, sess_options)\n",
    "\n",
    "    time_per_inference = []\n",
    "    for _ in range(100):\n",
    "        dummy_input = torch.randn(128, 3, 32, 32)\n",
    "        # compute ONNX Runtime output prediction\n",
    "        ort_inputs = {session.get_inputs()[0].name: to_numpy(dummy_input)}\n",
    "        start = perf_counter()\n",
    "        session.run(None, ort_inputs)\n",
    "        time_per_inference.append((1000 * (perf_counter() - start)))\n",
    "\n",
    "    return np.mean(time_per_inference)\n",
    "\n",
    "print('Average runtime of ONNX Model in GPU: ' + str(time_ort_model_evaluation('convnext_t.onnx')))\n",
    "print('Average runtime of ONNX Optimized Model in GPU: ' + str(time_ort_model_evaluation('convnext_t_opt.onnx')))\n"
   ]
  },
  {
   "attachments": {},
   "cell_type": "markdown",
   "metadata": {},
   "source": [
    "## Infrencing With TorchScript"
   ]
  },
  {
   "cell_type": "code",
   "execution_count": 16,
   "metadata": {},
   "outputs": [],
   "source": [
    "# util functions to measure the execution time\n",
    "from time import perf_counter\n",
    "def timer(f,*args):   \n",
    "    start = perf_counter()\n",
    "    f(*args)\n",
    "    return (1000 * (perf_counter() - start))"
   ]
  },
  {
   "cell_type": "markdown",
   "metadata": {},
   "source": [
    "### ResNet-34"
   ]
  },
  {
   "cell_type": "markdown",
   "metadata": {},
   "source": [
    "#### Loading the saved best model ResNet"
   ]
  },
  {
   "cell_type": "code",
   "execution_count": 17,
   "metadata": {},
   "outputs": [
    {
     "name": "stdout",
     "output_type": "stream",
     "text": [
      "Model Loaded successfully\n"
     ]
    }
   ],
   "source": [
    "MODEL_NAME = \"ResNet_epoch_50_optim_adam_lr_0.0001_betas_(0.9, 0.999)_eps_1e-08_weight_decay_0.001.pth\"\n",
    "model_resnet = get_resnet_model().to(device=device)\n",
    "model_resnet.load_state_dict(torch.load(MODEL_NAME))\n",
    "model_resnet.eval()\n",
    "print(\"Model Loaded successfully\")"
   ]
  },
  {
   "attachments": {},
   "cell_type": "markdown",
   "metadata": {},
   "source": [
    "#### Exporting model to torchscript"
   ]
  },
  {
   "cell_type": "code",
   "execution_count": 18,
   "metadata": {},
   "outputs": [
    {
     "name": "stdout",
     "output_type": "stream",
     "text": [
      "tensor([[-0.9485, -0.2323, -1.8176,  ..., -1.2790, -2.2195,  0.8974],\n",
      "        [-2.1515, -0.9295, -2.1435,  ..., -1.2413, -2.5740,  1.9220],\n",
      "        [-1.4897, -0.5094, -1.9372,  ..., -1.0663, -2.4463,  1.8692],\n",
      "        ...,\n",
      "        [-1.7910,  0.0331, -2.0149,  ..., -0.6805, -1.8745,  2.4657],\n",
      "        [-0.4150,  0.3973, -1.6915,  ..., -0.4103, -1.2566, -0.0619],\n",
      "        [-1.6356, -0.8844, -1.9820,  ..., -2.1904, -2.2972,  1.7448]],\n",
      "       device='cuda:0', grad_fn=<AddmmBackward0>)\n",
      "tensor([[-0.9485, -0.2323, -1.8176,  ..., -1.2790, -2.2195,  0.8974],\n",
      "        [-2.1515, -0.9295, -2.1435,  ..., -1.2413, -2.5740,  1.9220],\n",
      "        [-1.4897, -0.5094, -1.9372,  ..., -1.0663, -2.4463,  1.8692],\n",
      "        ...,\n",
      "        [-1.7910,  0.0331, -2.0149,  ..., -0.6805, -1.8745,  2.4657],\n",
      "        [-0.4150,  0.3973, -1.6915,  ..., -0.4103, -1.2566, -0.0619],\n",
      "        [-1.6356, -0.8844, -1.9820,  ..., -2.1904, -2.2972,  1.7448]],\n",
      "       device='cuda:0', grad_fn=<AddmmBackward0>)\n"
     ]
    }
   ],
   "source": [
    "dummy_input = torch.randn(128, 3, 32, 32).to(device=device)\n",
    "model_resnet_scripted = torch.jit.script(model_resnet)\n",
    "print(model_resnet(dummy_input))\n",
    "print(model_resnet_scripted(dummy_input))"
   ]
  },
  {
   "cell_type": "markdown",
   "metadata": {},
   "source": [
    "#### loading and inferring on the model"
   ]
  },
  {
   "cell_type": "code",
   "execution_count": 19,
   "metadata": {},
   "outputs": [
    {
     "name": "stdout",
     "output_type": "stream",
     "text": [
      "Average runtime of Pytorch Model on Device: cuda: 5.322201989765745\n",
      "Average runtime of TorchScript Model on Device: cuda: 3.9818819795618765\n"
     ]
    }
   ],
   "source": [
    "print(f\"Average runtime of Pytorch Model on Device: {device}: \" + str(np.mean([timer(model_resnet,dummy_input) for _ in range(100)])))\n",
    "print(f\"Average runtime of TorchScript Model on Device: {device}: \" + str(np.mean([timer(model_resnet_scripted,dummy_input) for _ in range(100)])))"
   ]
  },
  {
   "attachments": {},
   "cell_type": "markdown",
   "metadata": {},
   "source": [
    "### DenseNet-121"
   ]
  },
  {
   "attachments": {},
   "cell_type": "markdown",
   "metadata": {},
   "source": [
    "#### Loading the saved best model DenseNet"
   ]
  },
  {
   "cell_type": "code",
   "execution_count": 21,
   "metadata": {},
   "outputs": [
    {
     "name": "stdout",
     "output_type": "stream",
     "text": [
      "Model Loaded successfully\n"
     ]
    }
   ],
   "source": [
    "MODEL_NAME = \"./DenseNet_epoch_50_optim_adam_densenet_lr_0.0001_betas_(0.9, 0.999)_eps_1e-08_weight_decay_0.001.pth\"\n",
    "model_densenet = get_densenet_model().to(device=device)\n",
    "model_densenet.load_state_dict(torch.load(MODEL_NAME))\n",
    "model_densenet.eval()\n",
    "print(\"Model Loaded successfully\")"
   ]
  },
  {
   "cell_type": "markdown",
   "metadata": {},
   "source": [
    "#### Exporting model to torchscript"
   ]
  },
  {
   "cell_type": "code",
   "execution_count": 22,
   "metadata": {},
   "outputs": [
    {
     "name": "stdout",
     "output_type": "stream",
     "text": [
      "tensor([[-1.9311, -2.6168, -2.5879,  ..., -2.4728, -1.0319,  2.2238],\n",
      "        [-0.2390, -1.7111, -1.7997,  ..., -1.6005, -0.6442,  1.0207],\n",
      "        [-1.6695, -2.4689, -2.8862,  ..., -2.1540, -1.3870,  1.1823],\n",
      "        ...,\n",
      "        [-1.0969, -2.6198, -3.1459,  ..., -2.1489, -1.7674,  1.0646],\n",
      "        [-0.9965, -2.4515, -2.5753,  ..., -1.2252, -1.2290,  2.3016],\n",
      "        [-1.1743, -2.5648, -2.5751,  ..., -2.1498, -1.2191,  1.3147]],\n",
      "       device='cuda:0', grad_fn=<AddmmBackward0>)\n",
      "tensor([[-1.9311, -2.6168, -2.5879,  ..., -2.4728, -1.0319,  2.2238],\n",
      "        [-0.2390, -1.7111, -1.7997,  ..., -1.6005, -0.6442,  1.0207],\n",
      "        [-1.6695, -2.4689, -2.8862,  ..., -2.1540, -1.3870,  1.1823],\n",
      "        ...,\n",
      "        [-1.0969, -2.6198, -3.1459,  ..., -2.1489, -1.7674,  1.0646],\n",
      "        [-0.9965, -2.4515, -2.5753,  ..., -1.2252, -1.2290,  2.3016],\n",
      "        [-1.1743, -2.5648, -2.5751,  ..., -2.1498, -1.2191,  1.3147]],\n",
      "       device='cuda:0', grad_fn=<AddmmBackward0>)\n"
     ]
    }
   ],
   "source": [
    "dummy_input = torch.randn(128, 3, 32, 32).to(device=device)\n",
    "model_densenet_scripted = torch.jit.script(model_densenet)\n",
    "print(model_densenet(dummy_input))\n",
    "print(model_densenet_scripted(dummy_input))"
   ]
  },
  {
   "cell_type": "markdown",
   "metadata": {},
   "source": [
    "#### loading and inferring on the model"
   ]
  },
  {
   "cell_type": "code",
   "execution_count": 23,
   "metadata": {},
   "outputs": [
    {
     "name": "stdout",
     "output_type": "stream",
     "text": [
      "Average runtime of Pytorch Model on Device: cuda: 5.401335280039348\n",
      "Average runtime of TorchScript Model on Device: cuda: 3.910312571679242\n"
     ]
    }
   ],
   "source": [
    "print(f\"Average runtime of Pytorch Model on Device: {device}: \" + str(np.mean([timer(model_resnet,dummy_input) for _ in range(100)])))\n",
    "print(f\"Average runtime of TorchScript Model on Device: {device}: \" + str(np.mean([timer(model_resnet_scripted,dummy_input) for _ in range(100)])))"
   ]
  },
  {
   "attachments": {},
   "cell_type": "markdown",
   "metadata": {},
   "source": [
    "### EfficientNet-B0"
   ]
  },
  {
   "attachments": {},
   "cell_type": "markdown",
   "metadata": {},
   "source": [
    "#### Loading the saved best model Effnet"
   ]
  },
  {
   "cell_type": "code",
   "execution_count": 26,
   "metadata": {},
   "outputs": [
    {
     "name": "stdout",
     "output_type": "stream",
     "text": [
      "Model Loaded successfully\n"
     ]
    }
   ],
   "source": [
    "MODEL_NAME = \"./EfficientNet_epoch_50_optim_adam_lr_0.0001_betas_(0.9, 0.999)_eps_1e-08_weight_decay_0.001.pth\"\n",
    "model_effnet = get_effnet_model().to(device=device)\n",
    "model_effnet.load_state_dict(torch.load(MODEL_NAME))\n",
    "model_effnet.eval()\n",
    "print(\"Model Loaded successfully\")"
   ]
  },
  {
   "cell_type": "markdown",
   "metadata": {},
   "source": [
    "#### Exporting model to torchscript"
   ]
  },
  {
   "cell_type": "code",
   "execution_count": 29,
   "metadata": {},
   "outputs": [
    {
     "name": "stdout",
     "output_type": "stream",
     "text": [
      "tensor([[ 0.2533,  0.2101, -0.7960,  ..., -0.4929, -0.7527,  0.7382],\n",
      "        [-0.9185, -0.3297, -0.4060,  ...,  0.3517, -0.5454,  0.7316],\n",
      "        [ 0.1248,  0.2743, -0.6888,  ...,  0.0422, -1.5328,  0.3006],\n",
      "        ...,\n",
      "        [ 0.0050, -0.4140, -1.5111,  ..., -0.2804, -1.9844,  1.5874],\n",
      "        [-0.1531, -0.1204, -0.7915,  ..., -0.2842, -1.1549,  0.4243],\n",
      "        [-0.0444, -0.6863, -0.8218,  ..., -0.1936, -1.0138,  0.8806]],\n",
      "       device='cuda:0', grad_fn=<AddmmBackward0>)\n",
      "tensor([[ 0.2533,  0.2101, -0.7960,  ..., -0.4929, -0.7527,  0.7382],\n",
      "        [-0.9185, -0.3297, -0.4060,  ...,  0.3517, -0.5454,  0.7316],\n",
      "        [ 0.1248,  0.2743, -0.6888,  ...,  0.0422, -1.5328,  0.3006],\n",
      "        ...,\n",
      "        [ 0.0050, -0.4140, -1.5111,  ..., -0.2804, -1.9844,  1.5874],\n",
      "        [-0.1531, -0.1204, -0.7915,  ..., -0.2842, -1.1549,  0.4243],\n",
      "        [-0.0444, -0.6863, -0.8218,  ..., -0.1936, -1.0138,  0.8806]],\n",
      "       device='cuda:0', grad_fn=<AddmmBackward0>)\n"
     ]
    }
   ],
   "source": [
    "dummy_input = torch.randn(128, 3, 32, 32).to(device=device)\n",
    "model_effnet_scripted = torch.jit.script(model_effnet)\n",
    "print(model_effnet(dummy_input))\n",
    "print(model_effnet_scripted(dummy_input))"
   ]
  },
  {
   "cell_type": "markdown",
   "metadata": {},
   "source": [
    "#### loading and inferring on the model"
   ]
  },
  {
   "cell_type": "code",
   "execution_count": 30,
   "metadata": {},
   "outputs": [
    {
     "name": "stdout",
     "output_type": "stream",
     "text": [
      "Average runtime of Pytorch Model on Device: cuda: 5.281439067039173\n",
      "Average runtime of TorchScript Model on Device: cuda: 3.8354573902324773\n"
     ]
    }
   ],
   "source": [
    "print(f\"Average runtime of Pytorch Model on Device: {device}: \" + str(np.mean([timer(model_resnet,dummy_input) for _ in range(100)])))\n",
    "print(f\"Average runtime of TorchScript Model on Device: {device}: \" + str(np.mean([timer(model_resnet_scripted,dummy_input) for _ in range(100)])))"
   ]
  },
  {
   "attachments": {},
   "cell_type": "markdown",
   "metadata": {},
   "source": [
    "### ConvNext-T"
   ]
  },
  {
   "attachments": {},
   "cell_type": "markdown",
   "metadata": {},
   "source": [
    "#### Loading the saved best model convnext"
   ]
  },
  {
   "cell_type": "code",
   "execution_count": 32,
   "metadata": {},
   "outputs": [
    {
     "name": "stdout",
     "output_type": "stream",
     "text": [
      "Model Loaded successfully\n"
     ]
    }
   ],
   "source": [
    "MODEL_NAME = \"./ConvNeXt_epoch_50_optim_adam_lr_0.0001_betas_(0.9, 0.999)_eps_1e-08_weight_decay_0.001.pth\"\n",
    "model_convnext = get_convnext_model().to(device=device)\n",
    "model_convnext.load_state_dict(torch.load(MODEL_NAME))\n",
    "model_convnext.eval()\n",
    "print(\"Model Loaded successfully\")"
   ]
  },
  {
   "cell_type": "markdown",
   "metadata": {},
   "source": [
    "#### Exporting model to torchscript"
   ]
  },
  {
   "cell_type": "code",
   "execution_count": 33,
   "metadata": {},
   "outputs": [
    {
     "name": "stdout",
     "output_type": "stream",
     "text": [
      "tensor([[-1.4304, -0.4490,  0.4542,  ..., -0.1554,  0.4002, -0.2090],\n",
      "        [-1.1872,  2.2010, -0.4837,  ..., -2.1678,  1.4963,  0.8558],\n",
      "        [-1.4944,  0.4413, -0.9438,  ..., -2.5317, -0.2114,  0.3555],\n",
      "        ...,\n",
      "        [-1.6544, -0.6342, -0.4902,  ...,  0.6588, -0.0620,  0.4840],\n",
      "        [ 0.1696,  0.6508, -0.7577,  ..., -2.0573,  1.6224,  0.9046],\n",
      "        [-0.7419,  0.8702,  0.4180,  ..., -2.2167,  2.6272, -0.5041]],\n",
      "       device='cuda:0', grad_fn=<AddmmBackward0>)\n",
      "tensor([[-1.4304, -0.4490,  0.4542,  ..., -0.1554,  0.4002, -0.2090],\n",
      "        [-1.1872,  2.2010, -0.4837,  ..., -2.1678,  1.4963,  0.8558],\n",
      "        [-1.4944,  0.4413, -0.9438,  ..., -2.5317, -0.2114,  0.3555],\n",
      "        ...,\n",
      "        [-1.6544, -0.6342, -0.4902,  ...,  0.6588, -0.0620,  0.4840],\n",
      "        [ 0.1696,  0.6508, -0.7577,  ..., -2.0573,  1.6224,  0.9046],\n",
      "        [-0.7419,  0.8702,  0.4180,  ..., -2.2167,  2.6272, -0.5041]],\n",
      "       device='cuda:0', grad_fn=<AddmmBackward0>)\n"
     ]
    }
   ],
   "source": [
    "dummy_input = torch.randn(128, 3, 32, 32).to(device=device)\n",
    "model_convnext_scripted = torch.jit.script(model_convnext)\n",
    "print(model_convnext(dummy_input))\n",
    "print(model_convnext_scripted(dummy_input))"
   ]
  },
  {
   "cell_type": "markdown",
   "metadata": {},
   "source": [
    "#### loading and inferring on the model"
   ]
  },
  {
   "cell_type": "code",
   "execution_count": 34,
   "metadata": {},
   "outputs": [
    {
     "name": "stdout",
     "output_type": "stream",
     "text": [
      "Average runtime of Pytorch Model on Device: cuda: 5.256765678932425\n",
      "Average runtime of TorchScript Model on Device: cuda: 3.82415242085699\n"
     ]
    }
   ],
   "source": [
    "print(f\"Average runtime of Pytorch Model on Device: {device}: \" + str(np.mean([timer(model_resnet,dummy_input) for _ in range(100)])))\n",
    "print(f\"Average runtime of TorchScript Model on Device: {device}: \" + str(np.mean([timer(model_resnet_scripted,dummy_input) for _ in range(100)])))"
   ]
  }
 ],
 "metadata": {
  "kernelspec": {
   "display_name": "bikash",
   "language": "python",
   "name": "python3"
  },
  "language_info": {
   "codemirror_mode": {
    "name": "ipython",
    "version": 3
   },
   "file_extension": ".py",
   "mimetype": "text/x-python",
   "name": "python",
   "nbconvert_exporter": "python",
   "pygments_lexer": "ipython3",
   "version": "3.10.9"
  },
  "orig_nbformat": 4
 },
 "nbformat": 4,
 "nbformat_minor": 2
}
