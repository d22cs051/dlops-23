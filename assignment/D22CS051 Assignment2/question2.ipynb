{
 "cells": [
  {
   "cell_type": "markdown",
   "metadata": {},
   "source": [
    "# LSTM to predict the global active power"
   ]
  },
  {
   "attachments": {},
   "cell_type": "markdown",
   "metadata": {},
   "source": [
    "## Downloading Dataset and Extraction"
   ]
  },
  {
   "cell_type": "code",
   "execution_count": 1,
   "metadata": {},
   "outputs": [
    {
     "name": "stdout",
     "output_type": "stream",
     "text": [
      "[Info] Data already downloaded, skipping download\n",
      "[Info] Data already extracted, skipping extraction\n"
     ]
    }
   ],
   "source": [
    "from pathlib import Path\n",
    "\n",
    "data_path = Path('data')\n",
    "data_path.mkdir(exist_ok=True,parents=True) # create data directory if it doesn't exist\n",
    "\n",
    "# download the data if it doesn't exist\n",
    "if (data_path/\"household_power_consumption.zip\").exists():\n",
    "    print(\"[Info] Data already downloaded, skipping download\")\n",
    "else:\n",
    "    print(\"[Info] Downloading data...\")\n",
    "    !wget -O \"data/household_power_consumption.zip\" \"https://archive.ics.uci.edu/ml/machine-learning-databases/00235/household_power_consumption.zip\"\n",
    "\n",
    "# extract the data if it doesn't exist\n",
    "if (data_path/\"household_power_consumption.txt\").exists():\n",
    "    print(\"[Info] Data already extracted, skipping extraction\")\n",
    "else:\n",
    "    print(\"[Info] Extracting data...\")\n",
    "    !unzip -o \"data/household_power_consumption.zip\" -d \"data\""
   ]
  },
  {
   "cell_type": "code",
   "execution_count": 2,
   "metadata": {},
   "outputs": [],
   "source": [
    "!cp \"data/household_power_consumption.txt\" \"data/household_power_consumption.csv\""
   ]
  },
  {
   "cell_type": "markdown",
   "metadata": {},
   "source": [
    "## Load the data using pandas"
   ]
  },
  {
   "cell_type": "code",
   "execution_count": 3,
   "metadata": {},
   "outputs": [],
   "source": [
    "import pandas as pd\n",
    "import numpy as np"
   ]
  },
  {
   "cell_type": "code",
   "execution_count": 4,
   "metadata": {},
   "outputs": [],
   "source": [
    "dataset = pd.read_csv(\"data/household_power_consumption.csv\", sep=\";\", low_memory=False, na_values=['?'], infer_datetime_format=True, parse_dates={'datetime':[0,1]}, index_col=['datetime'])"
   ]
  },
  {
   "cell_type": "code",
   "execution_count": 5,
   "metadata": {},
   "outputs": [
    {
     "data": {
      "text/html": [
       "<div>\n",
       "<style scoped>\n",
       "    .dataframe tbody tr th:only-of-type {\n",
       "        vertical-align: middle;\n",
       "    }\n",
       "\n",
       "    .dataframe tbody tr th {\n",
       "        vertical-align: top;\n",
       "    }\n",
       "\n",
       "    .dataframe thead th {\n",
       "        text-align: right;\n",
       "    }\n",
       "</style>\n",
       "<table border=\"1\" class=\"dataframe\">\n",
       "  <thead>\n",
       "    <tr style=\"text-align: right;\">\n",
       "      <th></th>\n",
       "      <th>Global_active_power</th>\n",
       "      <th>Global_reactive_power</th>\n",
       "      <th>Voltage</th>\n",
       "      <th>Global_intensity</th>\n",
       "      <th>Sub_metering_1</th>\n",
       "      <th>Sub_metering_2</th>\n",
       "      <th>Sub_metering_3</th>\n",
       "    </tr>\n",
       "  </thead>\n",
       "  <tbody>\n",
       "    <tr>\n",
       "      <th>count</th>\n",
       "      <td>2.049280e+06</td>\n",
       "      <td>2.049280e+06</td>\n",
       "      <td>2.049280e+06</td>\n",
       "      <td>2.049280e+06</td>\n",
       "      <td>2.049280e+06</td>\n",
       "      <td>2.049280e+06</td>\n",
       "      <td>2.049280e+06</td>\n",
       "    </tr>\n",
       "    <tr>\n",
       "      <th>mean</th>\n",
       "      <td>1.091615e+00</td>\n",
       "      <td>1.237145e-01</td>\n",
       "      <td>2.408399e+02</td>\n",
       "      <td>4.627759e+00</td>\n",
       "      <td>1.121923e+00</td>\n",
       "      <td>1.298520e+00</td>\n",
       "      <td>6.458447e+00</td>\n",
       "    </tr>\n",
       "    <tr>\n",
       "      <th>std</th>\n",
       "      <td>1.057294e+00</td>\n",
       "      <td>1.127220e-01</td>\n",
       "      <td>3.239987e+00</td>\n",
       "      <td>4.444396e+00</td>\n",
       "      <td>6.153031e+00</td>\n",
       "      <td>5.822026e+00</td>\n",
       "      <td>8.437154e+00</td>\n",
       "    </tr>\n",
       "    <tr>\n",
       "      <th>min</th>\n",
       "      <td>7.600000e-02</td>\n",
       "      <td>0.000000e+00</td>\n",
       "      <td>2.232000e+02</td>\n",
       "      <td>2.000000e-01</td>\n",
       "      <td>0.000000e+00</td>\n",
       "      <td>0.000000e+00</td>\n",
       "      <td>0.000000e+00</td>\n",
       "    </tr>\n",
       "    <tr>\n",
       "      <th>25%</th>\n",
       "      <td>3.080000e-01</td>\n",
       "      <td>4.800000e-02</td>\n",
       "      <td>2.389900e+02</td>\n",
       "      <td>1.400000e+00</td>\n",
       "      <td>0.000000e+00</td>\n",
       "      <td>0.000000e+00</td>\n",
       "      <td>0.000000e+00</td>\n",
       "    </tr>\n",
       "    <tr>\n",
       "      <th>50%</th>\n",
       "      <td>6.020000e-01</td>\n",
       "      <td>1.000000e-01</td>\n",
       "      <td>2.410100e+02</td>\n",
       "      <td>2.600000e+00</td>\n",
       "      <td>0.000000e+00</td>\n",
       "      <td>0.000000e+00</td>\n",
       "      <td>1.000000e+00</td>\n",
       "    </tr>\n",
       "    <tr>\n",
       "      <th>75%</th>\n",
       "      <td>1.528000e+00</td>\n",
       "      <td>1.940000e-01</td>\n",
       "      <td>2.428900e+02</td>\n",
       "      <td>6.400000e+00</td>\n",
       "      <td>0.000000e+00</td>\n",
       "      <td>1.000000e+00</td>\n",
       "      <td>1.700000e+01</td>\n",
       "    </tr>\n",
       "    <tr>\n",
       "      <th>max</th>\n",
       "      <td>1.112200e+01</td>\n",
       "      <td>1.390000e+00</td>\n",
       "      <td>2.541500e+02</td>\n",
       "      <td>4.840000e+01</td>\n",
       "      <td>8.800000e+01</td>\n",
       "      <td>8.000000e+01</td>\n",
       "      <td>3.100000e+01</td>\n",
       "    </tr>\n",
       "  </tbody>\n",
       "</table>\n",
       "</div>"
      ],
      "text/plain": [
       "       Global_active_power  Global_reactive_power       Voltage  \\\n",
       "count         2.049280e+06           2.049280e+06  2.049280e+06   \n",
       "mean          1.091615e+00           1.237145e-01  2.408399e+02   \n",
       "std           1.057294e+00           1.127220e-01  3.239987e+00   \n",
       "min           7.600000e-02           0.000000e+00  2.232000e+02   \n",
       "25%           3.080000e-01           4.800000e-02  2.389900e+02   \n",
       "50%           6.020000e-01           1.000000e-01  2.410100e+02   \n",
       "75%           1.528000e+00           1.940000e-01  2.428900e+02   \n",
       "max           1.112200e+01           1.390000e+00  2.541500e+02   \n",
       "\n",
       "       Global_intensity  Sub_metering_1  Sub_metering_2  Sub_metering_3  \n",
       "count      2.049280e+06    2.049280e+06    2.049280e+06    2.049280e+06  \n",
       "mean       4.627759e+00    1.121923e+00    1.298520e+00    6.458447e+00  \n",
       "std        4.444396e+00    6.153031e+00    5.822026e+00    8.437154e+00  \n",
       "min        2.000000e-01    0.000000e+00    0.000000e+00    0.000000e+00  \n",
       "25%        1.400000e+00    0.000000e+00    0.000000e+00    0.000000e+00  \n",
       "50%        2.600000e+00    0.000000e+00    0.000000e+00    1.000000e+00  \n",
       "75%        6.400000e+00    0.000000e+00    1.000000e+00    1.700000e+01  \n",
       "max        4.840000e+01    8.800000e+01    8.000000e+01    3.100000e+01  "
      ]
     },
     "execution_count": 5,
     "metadata": {},
     "output_type": "execute_result"
    }
   ],
   "source": [
    "dataset.describe()"
   ]
  },
  {
   "cell_type": "code",
   "execution_count": 6,
   "metadata": {},
   "outputs": [
    {
     "data": {
      "text/html": [
       "<div>\n",
       "<style scoped>\n",
       "    .dataframe tbody tr th:only-of-type {\n",
       "        vertical-align: middle;\n",
       "    }\n",
       "\n",
       "    .dataframe tbody tr th {\n",
       "        vertical-align: top;\n",
       "    }\n",
       "\n",
       "    .dataframe thead th {\n",
       "        text-align: right;\n",
       "    }\n",
       "</style>\n",
       "<table border=\"1\" class=\"dataframe\">\n",
       "  <thead>\n",
       "    <tr style=\"text-align: right;\">\n",
       "      <th></th>\n",
       "      <th>Global_active_power</th>\n",
       "      <th>Global_reactive_power</th>\n",
       "      <th>Voltage</th>\n",
       "      <th>Global_intensity</th>\n",
       "      <th>Sub_metering_1</th>\n",
       "      <th>Sub_metering_2</th>\n",
       "      <th>Sub_metering_3</th>\n",
       "    </tr>\n",
       "    <tr>\n",
       "      <th>datetime</th>\n",
       "      <th></th>\n",
       "      <th></th>\n",
       "      <th></th>\n",
       "      <th></th>\n",
       "      <th></th>\n",
       "      <th></th>\n",
       "      <th></th>\n",
       "    </tr>\n",
       "  </thead>\n",
       "  <tbody>\n",
       "    <tr>\n",
       "      <th>2006-12-16 17:24:00</th>\n",
       "      <td>4.216</td>\n",
       "      <td>0.418</td>\n",
       "      <td>234.84</td>\n",
       "      <td>18.4</td>\n",
       "      <td>0.0</td>\n",
       "      <td>1.0</td>\n",
       "      <td>17.0</td>\n",
       "    </tr>\n",
       "    <tr>\n",
       "      <th>2006-12-16 17:25:00</th>\n",
       "      <td>5.360</td>\n",
       "      <td>0.436</td>\n",
       "      <td>233.63</td>\n",
       "      <td>23.0</td>\n",
       "      <td>0.0</td>\n",
       "      <td>1.0</td>\n",
       "      <td>16.0</td>\n",
       "    </tr>\n",
       "    <tr>\n",
       "      <th>2006-12-16 17:26:00</th>\n",
       "      <td>5.374</td>\n",
       "      <td>0.498</td>\n",
       "      <td>233.29</td>\n",
       "      <td>23.0</td>\n",
       "      <td>0.0</td>\n",
       "      <td>2.0</td>\n",
       "      <td>17.0</td>\n",
       "    </tr>\n",
       "    <tr>\n",
       "      <th>2006-12-16 17:27:00</th>\n",
       "      <td>5.388</td>\n",
       "      <td>0.502</td>\n",
       "      <td>233.74</td>\n",
       "      <td>23.0</td>\n",
       "      <td>0.0</td>\n",
       "      <td>1.0</td>\n",
       "      <td>17.0</td>\n",
       "    </tr>\n",
       "    <tr>\n",
       "      <th>2006-12-16 17:28:00</th>\n",
       "      <td>3.666</td>\n",
       "      <td>0.528</td>\n",
       "      <td>235.68</td>\n",
       "      <td>15.8</td>\n",
       "      <td>0.0</td>\n",
       "      <td>1.0</td>\n",
       "      <td>17.0</td>\n",
       "    </tr>\n",
       "  </tbody>\n",
       "</table>\n",
       "</div>"
      ],
      "text/plain": [
       "                     Global_active_power  Global_reactive_power  Voltage  \\\n",
       "datetime                                                                   \n",
       "2006-12-16 17:24:00                4.216                  0.418   234.84   \n",
       "2006-12-16 17:25:00                5.360                  0.436   233.63   \n",
       "2006-12-16 17:26:00                5.374                  0.498   233.29   \n",
       "2006-12-16 17:27:00                5.388                  0.502   233.74   \n",
       "2006-12-16 17:28:00                3.666                  0.528   235.68   \n",
       "\n",
       "                     Global_intensity  Sub_metering_1  Sub_metering_2  \\\n",
       "datetime                                                                \n",
       "2006-12-16 17:24:00              18.4             0.0             1.0   \n",
       "2006-12-16 17:25:00              23.0             0.0             1.0   \n",
       "2006-12-16 17:26:00              23.0             0.0             2.0   \n",
       "2006-12-16 17:27:00              23.0             0.0             1.0   \n",
       "2006-12-16 17:28:00              15.8             0.0             1.0   \n",
       "\n",
       "                     Sub_metering_3  \n",
       "datetime                             \n",
       "2006-12-16 17:24:00            17.0  \n",
       "2006-12-16 17:25:00            16.0  \n",
       "2006-12-16 17:26:00            17.0  \n",
       "2006-12-16 17:27:00            17.0  \n",
       "2006-12-16 17:28:00            17.0  "
      ]
     },
     "execution_count": 6,
     "metadata": {},
     "output_type": "execute_result"
    }
   ],
   "source": [
    "dataset.head()"
   ]
  },
  {
   "cell_type": "code",
   "execution_count": 7,
   "metadata": {},
   "outputs": [
    {
     "data": {
      "text/plain": [
       "Index(['Global_active_power', 'Global_reactive_power', 'Voltage',\n",
       "       'Global_intensity', 'Sub_metering_1', 'Sub_metering_2',\n",
       "       'Sub_metering_3'],\n",
       "      dtype='object')"
      ]
     },
     "execution_count": 7,
     "metadata": {},
     "output_type": "execute_result"
    }
   ],
   "source": [
    "column_names = dataset.columns\n",
    "column_names"
   ]
  },
  {
   "cell_type": "code",
   "execution_count": 8,
   "metadata": {},
   "outputs": [],
   "source": [
    "# replace nan values with median\n",
    "for col in dataset.columns:\n",
    "    dataset[col].fillna(dataset[col].median(), inplace=True)"
   ]
  },
  {
   "cell_type": "code",
   "execution_count": 9,
   "metadata": {},
   "outputs": [],
   "source": [
    "X,y = dataset.iloc[:,:],dataset.iloc[:,1]\n",
    "X.drop('Global_active_power',axis=1,inplace=True)"
   ]
  },
  {
   "cell_type": "code",
   "execution_count": 10,
   "metadata": {},
   "outputs": [
    {
     "data": {
      "text/html": [
       "<div>\n",
       "<style scoped>\n",
       "    .dataframe tbody tr th:only-of-type {\n",
       "        vertical-align: middle;\n",
       "    }\n",
       "\n",
       "    .dataframe tbody tr th {\n",
       "        vertical-align: top;\n",
       "    }\n",
       "\n",
       "    .dataframe thead th {\n",
       "        text-align: right;\n",
       "    }\n",
       "</style>\n",
       "<table border=\"1\" class=\"dataframe\">\n",
       "  <thead>\n",
       "    <tr style=\"text-align: right;\">\n",
       "      <th></th>\n",
       "      <th>Global_reactive_power</th>\n",
       "      <th>Voltage</th>\n",
       "      <th>Global_intensity</th>\n",
       "      <th>Sub_metering_1</th>\n",
       "      <th>Sub_metering_2</th>\n",
       "      <th>Sub_metering_3</th>\n",
       "    </tr>\n",
       "    <tr>\n",
       "      <th>datetime</th>\n",
       "      <th></th>\n",
       "      <th></th>\n",
       "      <th></th>\n",
       "      <th></th>\n",
       "      <th></th>\n",
       "      <th></th>\n",
       "    </tr>\n",
       "  </thead>\n",
       "  <tbody>\n",
       "    <tr>\n",
       "      <th>2006-12-16 17:24:00</th>\n",
       "      <td>0.418</td>\n",
       "      <td>234.84</td>\n",
       "      <td>18.4</td>\n",
       "      <td>0.0</td>\n",
       "      <td>1.0</td>\n",
       "      <td>17.0</td>\n",
       "    </tr>\n",
       "    <tr>\n",
       "      <th>2006-12-16 17:25:00</th>\n",
       "      <td>0.436</td>\n",
       "      <td>233.63</td>\n",
       "      <td>23.0</td>\n",
       "      <td>0.0</td>\n",
       "      <td>1.0</td>\n",
       "      <td>16.0</td>\n",
       "    </tr>\n",
       "    <tr>\n",
       "      <th>2006-12-16 17:26:00</th>\n",
       "      <td>0.498</td>\n",
       "      <td>233.29</td>\n",
       "      <td>23.0</td>\n",
       "      <td>0.0</td>\n",
       "      <td>2.0</td>\n",
       "      <td>17.0</td>\n",
       "    </tr>\n",
       "    <tr>\n",
       "      <th>2006-12-16 17:27:00</th>\n",
       "      <td>0.502</td>\n",
       "      <td>233.74</td>\n",
       "      <td>23.0</td>\n",
       "      <td>0.0</td>\n",
       "      <td>1.0</td>\n",
       "      <td>17.0</td>\n",
       "    </tr>\n",
       "    <tr>\n",
       "      <th>2006-12-16 17:28:00</th>\n",
       "      <td>0.528</td>\n",
       "      <td>235.68</td>\n",
       "      <td>15.8</td>\n",
       "      <td>0.0</td>\n",
       "      <td>1.0</td>\n",
       "      <td>17.0</td>\n",
       "    </tr>\n",
       "  </tbody>\n",
       "</table>\n",
       "</div>"
      ],
      "text/plain": [
       "                     Global_reactive_power  Voltage  Global_intensity  \\\n",
       "datetime                                                                \n",
       "2006-12-16 17:24:00                  0.418   234.84              18.4   \n",
       "2006-12-16 17:25:00                  0.436   233.63              23.0   \n",
       "2006-12-16 17:26:00                  0.498   233.29              23.0   \n",
       "2006-12-16 17:27:00                  0.502   233.74              23.0   \n",
       "2006-12-16 17:28:00                  0.528   235.68              15.8   \n",
       "\n",
       "                     Sub_metering_1  Sub_metering_2  Sub_metering_3  \n",
       "datetime                                                             \n",
       "2006-12-16 17:24:00             0.0             1.0            17.0  \n",
       "2006-12-16 17:25:00             0.0             1.0            16.0  \n",
       "2006-12-16 17:26:00             0.0             2.0            17.0  \n",
       "2006-12-16 17:27:00             0.0             1.0            17.0  \n",
       "2006-12-16 17:28:00             0.0             1.0            17.0  "
      ]
     },
     "execution_count": 10,
     "metadata": {},
     "output_type": "execute_result"
    }
   ],
   "source": [
    "X[:5]"
   ]
  },
  {
   "cell_type": "code",
   "execution_count": 11,
   "metadata": {},
   "outputs": [
    {
     "data": {
      "text/plain": [
       "datetime\n",
       "2006-12-16 17:24:00    0.418\n",
       "2006-12-16 17:25:00    0.436\n",
       "2006-12-16 17:26:00    0.498\n",
       "2006-12-16 17:27:00    0.502\n",
       "2006-12-16 17:28:00    0.528\n",
       "Name: Global_reactive_power, dtype: float64"
      ]
     },
     "execution_count": 11,
     "metadata": {},
     "output_type": "execute_result"
    }
   ],
   "source": [
    "y[:5]"
   ]
  },
  {
   "cell_type": "markdown",
   "metadata": {},
   "source": [
    "## Splitting the dataset into the Training set and Test set"
   ]
  },
  {
   "cell_type": "code",
   "execution_count": 12,
   "metadata": {},
   "outputs": [
    {
     "name": "stdout",
     "output_type": "stream",
     "text": [
      "shape of X_train:  (1660207, 6)\n",
      "shape of y_train:  (1660207,)\n",
      "shape of X_test:  (415052, 6)\n",
      "shape of y_test:  (415052,)\n"
     ]
    }
   ],
   "source": [
    "# split into train and test sets\n",
    "from sklearn.model_selection import train_test_split\n",
    "\n",
    "X_train, X_test, y_train, y_test = train_test_split(X, y, test_size=0.2, random_state=42) # making 80:20 split\n",
    "print(\"shape of X_train: \", X_train.shape)\n",
    "print(\"shape of y_train: \", y_train.shape)\n",
    "print(\"shape of X_test: \", X_test.shape)\n",
    "print(\"shape of y_test: \", y_test.shape)"
   ]
  },
  {
   "cell_type": "code",
   "execution_count": 13,
   "metadata": {},
   "outputs": [],
   "source": [
    "X_train = X_train.values\n",
    "y_train = y_train.values.reshape(-1,1)\n",
    "X_test = X_test.values\n",
    "y_test = y_test.values.reshape(-1,1)"
   ]
  },
  {
   "cell_type": "markdown",
   "metadata": {},
   "source": [
    "## preprocessing with robust scaler"
   ]
  },
  {
   "cell_type": "code",
   "execution_count": 14,
   "metadata": {},
   "outputs": [],
   "source": [
    "# preprocessing the data with robust scaler\n",
    "from sklearn.preprocessing import RobustScaler\n",
    "scaler_x = RobustScaler()\n",
    "scaler_y = RobustScaler()\n",
    "X_train = scaler_x.fit_transform(X_train)\n",
    "y_train = scaler_y.fit_transform(y_train)"
   ]
  },
  {
   "cell_type": "code",
   "execution_count": 15,
   "metadata": {},
   "outputs": [],
   "source": [
    "X_test = scaler_x.transform(X_test)\n",
    "y_test = scaler_y.transform(y_test)"
   ]
  },
  {
   "cell_type": "code",
   "execution_count": 16,
   "metadata": {},
   "outputs": [
    {
     "data": {
      "text/plain": [
       "array([[-0.69444444,  0.97135417, -0.36      ,  0.        ,  0.        ,\n",
       "        -0.05882353],\n",
       "       [-0.69444444, -0.10677083, -0.4       ,  0.        ,  0.        ,\n",
       "        -0.05882353],\n",
       "       [-0.01388889,  0.36197917, -0.32      ,  0.        ,  0.        ,\n",
       "        -0.05882353],\n",
       "       [-0.09722222,  0.7578125 , -0.24      ,  0.        ,  0.        ,\n",
       "        -0.05882353],\n",
       "       [-0.01388889,  0.84375   , -0.16      ,  0.        ,  1.        ,\n",
       "         0.        ]])"
      ]
     },
     "execution_count": 16,
     "metadata": {},
     "output_type": "execute_result"
    }
   ],
   "source": [
    "X_train[:5]"
   ]
  },
  {
   "attachments": {},
   "cell_type": "markdown",
   "metadata": {},
   "source": [
    "## Importing requirements"
   ]
  },
  {
   "cell_type": "code",
   "execution_count": 17,
   "metadata": {},
   "outputs": [
    {
     "name": "stderr",
     "output_type": "stream",
     "text": [
      "/home/planck/anaconda3/envs/bikash/lib/python3.10/site-packages/torchvision/io/image.py:13: UserWarning: Failed to load image Python extension: libtorch_cuda_cu.so: cannot open shared object file: No such file or directory\n",
      "  warn(f\"Failed to load image Python extension: {e}\")\n"
     ]
    }
   ],
   "source": [
    "# pytorch libs\n",
    "import torch\n",
    "from torch import nn\n",
    "import torchvision\n",
    "\n",
    "# matplot libs\n",
    "import matplotlib.pyplot as plt\n",
    "\n",
    "# numpy\n",
    "import numpy as np\n",
    "\n",
    "# torch metrics\n",
    "try:\n",
    "  import torchmetrics\n",
    "except:\n",
    "  !pip3 -q install torchmetrics\n",
    "import torchmetrics\n",
    "from torchmetrics.classification import Accuracy\n",
    "\n",
    "try:\n",
    "  import torchinfo\n",
    "except:\n",
    "  !pip3 -q install torchinfo\n",
    "finally:\n",
    "  from torchinfo import summary"
   ]
  },
  {
   "attachments": {},
   "cell_type": "markdown",
   "metadata": {},
   "source": [
    "## device agnostic code"
   ]
  },
  {
   "cell_type": "code",
   "execution_count": 18,
   "metadata": {},
   "outputs": [
    {
     "data": {
      "text/plain": [
       "'cuda'"
      ]
     },
     "execution_count": 18,
     "metadata": {},
     "output_type": "execute_result"
    }
   ],
   "source": [
    "device = \"cuda\" if torch.cuda.is_available() else \"cpu\"\n",
    "device"
   ]
  },
  {
   "attachments": {},
   "cell_type": "markdown",
   "metadata": {},
   "source": [
    "## Creating Dataset class for the torch dataset"
   ]
  },
  {
   "attachments": {},
   "cell_type": "markdown",
   "metadata": {},
   "source": [
    "### conveting scaled X and y to dataframes"
   ]
  },
  {
   "cell_type": "code",
   "execution_count": 19,
   "metadata": {},
   "outputs": [
    {
     "data": {
      "text/plain": [
       "['Global_active_power',\n",
       " 'Global_reactive_power',\n",
       " 'Voltage',\n",
       " 'Global_intensity',\n",
       " 'Sub_metering_1',\n",
       " 'Sub_metering_2',\n",
       " 'Sub_metering_3']"
      ]
     },
     "execution_count": 19,
     "metadata": {},
     "output_type": "execute_result"
    }
   ],
   "source": [
    "column_names = list(column_names)\n",
    "column_names"
   ]
  },
  {
   "cell_type": "code",
   "execution_count": 20,
   "metadata": {},
   "outputs": [
    {
     "data": {
      "text/html": [
       "<div>\n",
       "<style scoped>\n",
       "    .dataframe tbody tr th:only-of-type {\n",
       "        vertical-align: middle;\n",
       "    }\n",
       "\n",
       "    .dataframe tbody tr th {\n",
       "        vertical-align: top;\n",
       "    }\n",
       "\n",
       "    .dataframe thead th {\n",
       "        text-align: right;\n",
       "    }\n",
       "</style>\n",
       "<table border=\"1\" class=\"dataframe\">\n",
       "  <thead>\n",
       "    <tr style=\"text-align: right;\">\n",
       "      <th></th>\n",
       "      <th>Global_reactive_power</th>\n",
       "      <th>Voltage</th>\n",
       "      <th>Global_intensity</th>\n",
       "      <th>Sub_metering_1</th>\n",
       "      <th>Sub_metering_2</th>\n",
       "      <th>Sub_metering_3</th>\n",
       "      <th>Global_active_power</th>\n",
       "    </tr>\n",
       "  </thead>\n",
       "  <tbody>\n",
       "    <tr>\n",
       "      <th>0</th>\n",
       "      <td>-0.694444</td>\n",
       "      <td>0.971354</td>\n",
       "      <td>-0.36</td>\n",
       "      <td>0.0</td>\n",
       "      <td>0.0</td>\n",
       "      <td>-0.058824</td>\n",
       "      <td>-0.694444</td>\n",
       "    </tr>\n",
       "    <tr>\n",
       "      <th>1</th>\n",
       "      <td>-0.694444</td>\n",
       "      <td>-0.106771</td>\n",
       "      <td>-0.40</td>\n",
       "      <td>0.0</td>\n",
       "      <td>0.0</td>\n",
       "      <td>-0.058824</td>\n",
       "      <td>-0.694444</td>\n",
       "    </tr>\n",
       "    <tr>\n",
       "      <th>2</th>\n",
       "      <td>-0.013889</td>\n",
       "      <td>0.361979</td>\n",
       "      <td>-0.32</td>\n",
       "      <td>0.0</td>\n",
       "      <td>0.0</td>\n",
       "      <td>-0.058824</td>\n",
       "      <td>-0.013889</td>\n",
       "    </tr>\n",
       "    <tr>\n",
       "      <th>3</th>\n",
       "      <td>-0.097222</td>\n",
       "      <td>0.757812</td>\n",
       "      <td>-0.24</td>\n",
       "      <td>0.0</td>\n",
       "      <td>0.0</td>\n",
       "      <td>-0.058824</td>\n",
       "      <td>-0.097222</td>\n",
       "    </tr>\n",
       "    <tr>\n",
       "      <th>4</th>\n",
       "      <td>-0.013889</td>\n",
       "      <td>0.843750</td>\n",
       "      <td>-0.16</td>\n",
       "      <td>0.0</td>\n",
       "      <td>1.0</td>\n",
       "      <td>0.000000</td>\n",
       "      <td>-0.013889</td>\n",
       "    </tr>\n",
       "  </tbody>\n",
       "</table>\n",
       "</div>"
      ],
      "text/plain": [
       "   Global_reactive_power   Voltage  Global_intensity  Sub_metering_1  \\\n",
       "0              -0.694444  0.971354             -0.36             0.0   \n",
       "1              -0.694444 -0.106771             -0.40             0.0   \n",
       "2              -0.013889  0.361979             -0.32             0.0   \n",
       "3              -0.097222  0.757812             -0.24             0.0   \n",
       "4              -0.013889  0.843750             -0.16             0.0   \n",
       "\n",
       "   Sub_metering_2  Sub_metering_3  Global_active_power  \n",
       "0             0.0       -0.058824            -0.694444  \n",
       "1             0.0       -0.058824            -0.694444  \n",
       "2             0.0       -0.058824            -0.013889  \n",
       "3             0.0       -0.058824            -0.097222  \n",
       "4             1.0        0.000000            -0.013889  "
      ]
     },
     "execution_count": 20,
     "metadata": {},
     "output_type": "execute_result"
    }
   ],
   "source": [
    "# convert the scaled data into dataframe\n",
    "train_df = pd.DataFrame(X_train, columns=column_names[1:])\n",
    "train_df['Global_active_power'] = y_train\n",
    "train_df.head()"
   ]
  },
  {
   "cell_type": "code",
   "execution_count": 21,
   "metadata": {},
   "outputs": [
    {
     "data": {
      "text/html": [
       "<div>\n",
       "<style scoped>\n",
       "    .dataframe tbody tr th:only-of-type {\n",
       "        vertical-align: middle;\n",
       "    }\n",
       "\n",
       "    .dataframe tbody tr th {\n",
       "        vertical-align: top;\n",
       "    }\n",
       "\n",
       "    .dataframe thead th {\n",
       "        text-align: right;\n",
       "    }\n",
       "</style>\n",
       "<table border=\"1\" class=\"dataframe\">\n",
       "  <thead>\n",
       "    <tr style=\"text-align: right;\">\n",
       "      <th></th>\n",
       "      <th>Global_reactive_power</th>\n",
       "      <th>Voltage</th>\n",
       "      <th>Global_intensity</th>\n",
       "      <th>Sub_metering_1</th>\n",
       "      <th>Sub_metering_2</th>\n",
       "      <th>Sub_metering_3</th>\n",
       "      <th>Global_active_power</th>\n",
       "    </tr>\n",
       "  </thead>\n",
       "  <tbody>\n",
       "    <tr>\n",
       "      <th>0</th>\n",
       "      <td>0.041667</td>\n",
       "      <td>0.257813</td>\n",
       "      <td>-0.28</td>\n",
       "      <td>0.0</td>\n",
       "      <td>0.0</td>\n",
       "      <td>0.000000</td>\n",
       "      <td>0.041667</td>\n",
       "    </tr>\n",
       "    <tr>\n",
       "      <th>1</th>\n",
       "      <td>1.750000</td>\n",
       "      <td>-0.986979</td>\n",
       "      <td>-0.04</td>\n",
       "      <td>0.0</td>\n",
       "      <td>2.0</td>\n",
       "      <td>-0.058824</td>\n",
       "      <td>1.750000</td>\n",
       "    </tr>\n",
       "    <tr>\n",
       "      <th>2</th>\n",
       "      <td>0.652778</td>\n",
       "      <td>-0.611979</td>\n",
       "      <td>0.12</td>\n",
       "      <td>0.0</td>\n",
       "      <td>1.0</td>\n",
       "      <td>-0.058824</td>\n",
       "      <td>0.652778</td>\n",
       "    </tr>\n",
       "    <tr>\n",
       "      <th>3</th>\n",
       "      <td>-0.375000</td>\n",
       "      <td>-0.096354</td>\n",
       "      <td>0.56</td>\n",
       "      <td>1.0</td>\n",
       "      <td>0.0</td>\n",
       "      <td>1.000000</td>\n",
       "      <td>-0.375000</td>\n",
       "    </tr>\n",
       "    <tr>\n",
       "      <th>4</th>\n",
       "      <td>0.708333</td>\n",
       "      <td>0.317708</td>\n",
       "      <td>-0.16</td>\n",
       "      <td>0.0</td>\n",
       "      <td>2.0</td>\n",
       "      <td>0.000000</td>\n",
       "      <td>0.708333</td>\n",
       "    </tr>\n",
       "  </tbody>\n",
       "</table>\n",
       "</div>"
      ],
      "text/plain": [
       "   Global_reactive_power   Voltage  Global_intensity  Sub_metering_1  \\\n",
       "0               0.041667  0.257813             -0.28             0.0   \n",
       "1               1.750000 -0.986979             -0.04             0.0   \n",
       "2               0.652778 -0.611979              0.12             0.0   \n",
       "3              -0.375000 -0.096354              0.56             1.0   \n",
       "4               0.708333  0.317708             -0.16             0.0   \n",
       "\n",
       "   Sub_metering_2  Sub_metering_3  Global_active_power  \n",
       "0             0.0        0.000000             0.041667  \n",
       "1             2.0       -0.058824             1.750000  \n",
       "2             1.0       -0.058824             0.652778  \n",
       "3             0.0        1.000000            -0.375000  \n",
       "4             2.0        0.000000             0.708333  "
      ]
     },
     "execution_count": 21,
     "metadata": {},
     "output_type": "execute_result"
    }
   ],
   "source": [
    "test_df = pd.DataFrame(X_test, columns=column_names[1:])\n",
    "test_df['Global_active_power'] = y_test\n",
    "test_df.head()"
   ]
  },
  {
   "attachments": {},
   "cell_type": "markdown",
   "metadata": {},
   "source": [
    "### Defining dataset Custom Class"
   ]
  },
  {
   "cell_type": "code",
   "execution_count": 22,
   "metadata": {},
   "outputs": [],
   "source": [
    "import torch\n",
    "from torch.utils.data import Dataset\n",
    "\n",
    "class LSTMSequenceDataset(Dataset):\n",
    "    def __init__(self, dataframe, target, features, sequence_length=5):\n",
    "        \"\"\"\n",
    "        Desc: \n",
    "            LSTMSequenceDataset class for creating sequences of data for LSTM\n",
    "\n",
    "        Args:\n",
    "            dataframe (pd.dataframe): pandas dataframe\n",
    "            target (list): list of target\n",
    "            features (list): list of features\n",
    "            sequence_length (int, optional): number of sequence data to be concidered. Defaults to 5.\n",
    "        Returns:\n",
    "            Dataset: LSTMSequenceDataset object\n",
    "        \"\"\"\n",
    "        self.features = features\n",
    "        self.target = target\n",
    "        self.sequence_length = sequence_length\n",
    "        self.X = torch.tensor(dataframe[features].values).type(torch.float32)\n",
    "        self.y = torch.tensor(dataframe[target].values).type(torch.float32)\n",
    "\n",
    "    def __len__(self):\n",
    "        \"\"\"Returns the length of the dataset\n",
    "\n",
    "        Returns:\n",
    "            length (int): length of the dataset\n",
    "        \"\"\"\n",
    "        return self.X.shape[0]\n",
    "\n",
    "    def __getitem__(self, i): \n",
    "        \"\"\"Creates a sequence of data for LSTM\n",
    "\n",
    "        Args:\n",
    "            i (index): index of the data\n",
    "\n",
    "        Returns:\n",
    "            X (torch.Tensor), y (torch.Tensor): sequence of data and target\n",
    "        \"\"\"\n",
    "        if i >= self.sequence_length - 1:\n",
    "            i_start = i - self.sequence_length + 1\n",
    "            x = self.X[i_start:(i + 1), :]\n",
    "        else:\n",
    "            padding = self.X[0].repeat(self.sequence_length - i - 1, 1)\n",
    "            x = self.X[0:(i + 1), :]\n",
    "            x = torch.cat((padding, x), 0)\n",
    "\n",
    "        return x, self.y[i].item()"
   ]
  },
  {
   "cell_type": "code",
   "execution_count": 23,
   "metadata": {},
   "outputs": [
    {
     "name": "stdout",
     "output_type": "stream",
     "text": [
      "fetures: ['Global_reactive_power', 'Voltage', 'Global_intensity', 'Sub_metering_1', 'Sub_metering_2', 'Sub_metering_3']\n",
      "target: Global_active_power\n",
      "X_sample: tensor([[ 1.4028e+00, -1.1380e+00,  3.1200e+00,  0.0000e+00,  2.1000e+01,\n",
      "          9.4118e-01],\n",
      "        [ 7.2222e-01,  7.9427e-01,  7.2000e-01,  0.0000e+00,  0.0000e+00,\n",
      "          1.0588e+00],\n",
      "        [ 1.8056e-01, -1.0365e+00, -3.2000e-01,  0.0000e+00,  0.0000e+00,\n",
      "         -5.8824e-02],\n",
      "        [ 6.9444e-02,  6.9271e-01, -2.4000e-01,  0.0000e+00,  0.0000e+00,\n",
      "          0.0000e+00],\n",
      "        [ 4.1667e-01,  1.7135e+00, -2.4000e-01,  0.0000e+00,  0.0000e+00,\n",
      "         -5.8824e-02],\n",
      "        [ 7.6389e-01,  1.5703e+00, -1.6000e-01,  0.0000e+00,  0.0000e+00,\n",
      "         -5.8824e-02],\n",
      "        [ 8.1944e-01, -1.6771e+00,  2.7200e+00,  0.0000e+00,  0.0000e+00,\n",
      "          1.0000e+00],\n",
      "        [ 8.0556e-01, -5.4688e-02,  1.1200e+00,  0.0000e+00,  1.7000e+01,\n",
      "         -5.8824e-02],\n",
      "        [ 1.5833e+00,  8.9844e-01, -4.0000e-02,  0.0000e+00,  2.0000e+00,\n",
      "         -5.8824e-02],\n",
      "        [ 2.0833e-01,  1.1198e-01, -3.2000e-01,  0.0000e+00,  1.0000e+00,\n",
      "         -5.8824e-02],\n",
      "        [ 9.3056e-01, -1.9115e+00,  7.2000e-01,  0.0000e+00,  1.0000e+00,\n",
      "          9.4118e-01],\n",
      "        [ 1.3889e-01, -5.9375e-01,  2.2000e+00,  0.0000e+00,  3.0000e+01,\n",
      "          0.0000e+00],\n",
      "        [-6.9444e-01,  1.1198e-01,  5.6000e-01,  0.0000e+00,  0.0000e+00,\n",
      "          1.0000e+00],\n",
      "        [-1.8056e-01, -1.2474e+00,  2.4800e+00,  1.0000e+00,  0.0000e+00,\n",
      "          9.4118e-01],\n",
      "        [ 2.2222e-01, -2.6042e-01,  8.4000e-01,  1.0000e+00,  0.0000e+00,\n",
      "          1.0000e+00],\n",
      "        [-2.9167e-01,  5.9375e-01,  4.4000e-01,  0.0000e+00,  0.0000e+00,\n",
      "          0.0000e+00],\n",
      "        [-5.5556e-02,  2.3958e-01,  6.4000e-01,  0.0000e+00,  0.0000e+00,\n",
      "          1.0000e+00],\n",
      "        [ 2.7778e-02,  8.7760e-01, -1.2000e-01,  0.0000e+00,  0.0000e+00,\n",
      "         -5.8824e-02],\n",
      "        [ 8.6111e-01,  2.2135e-01, -2.0000e-01,  0.0000e+00,  2.0000e+00,\n",
      "          0.0000e+00],\n",
      "        [-6.9444e-01, -4.3750e-01,  6.0000e-01,  1.0000e+00,  0.0000e+00,\n",
      "          1.0000e+00],\n",
      "        [-6.9444e-01,  6.3802e-01,  6.0000e-01,  0.0000e+00,  0.0000e+00,\n",
      "          1.0588e+00],\n",
      "        [-6.9444e-01,  6.6667e-01, -2.8000e-01,  0.0000e+00,  0.0000e+00,\n",
      "         -5.8824e-02],\n",
      "        [ 1.9444e+00,  5.6771e-01,  2.8000e-01,  0.0000e+00,  1.0000e+00,\n",
      "         -5.8824e-02],\n",
      "        [-6.9444e-01, -4.3229e-01,  5.2000e-01,  0.0000e+00,  0.0000e+00,\n",
      "          9.4118e-01],\n",
      "        [ 1.5000e+00, -1.1536e+00,  1.2000e+00,  0.0000e+00,  1.0000e+00,\n",
      "          1.6471e+00]])\n",
      "x_sample shape: torch.Size([25, 6])\n",
      "y_sample: 1.5\n"
     ]
    }
   ],
   "source": [
    "i = 42\n",
    "sequence_length = 25\n",
    "features = column_names[1:]\n",
    "target = column_names[0]\n",
    "\n",
    "print(f\"fetures: {features}\")\n",
    "print(f\"target: {target}\")\n",
    "\n",
    "# create train dataset\n",
    "train_dataset = LSTMSequenceDataset(\n",
    "    dataframe=train_df,\n",
    "    target=target,\n",
    "    features=features,\n",
    "    sequence_length=sequence_length\n",
    ")\n",
    "\n",
    "# create test dataset\n",
    "test_dataset = LSTMSequenceDataset(\n",
    "    dataframe=test_df,\n",
    "    target=target,\n",
    "    features=features,\n",
    "    sequence_length=sequence_length\n",
    ")\n",
    "\n",
    "# inspect the dataset by getting a sample\n",
    "X_sample, y_sample = train_dataset[i]\n",
    "print(f\"X_sample: {X_sample}\")\n",
    "print(f\"x_sample shape: {X_sample.shape}\")\n",
    "print(f\"y_sample: {y_sample}\")\n"
   ]
  },
  {
   "cell_type": "code",
   "execution_count": 24,
   "metadata": {},
   "outputs": [
    {
     "name": "stdout",
     "output_type": "stream",
     "text": [
      "length of train dataset: 1660207\n",
      "length of test dataset: 415052\n"
     ]
    }
   ],
   "source": [
    "print(f\"length of train dataset: {len(train_dataset)}\")\n",
    "print(f\"length of test dataset: {len(test_dataset)}\")"
   ]
  },
  {
   "attachments": {},
   "cell_type": "markdown",
   "metadata": {},
   "source": [
    "### Converting Dataset to dataloder"
   ]
  },
  {
   "cell_type": "code",
   "execution_count": 25,
   "metadata": {},
   "outputs": [
    {
     "name": "stdout",
     "output_type": "stream",
     "text": [
      "Train x_sample shape: torch.Size([256, 25, 6])\n",
      "length of train dataloader: 6486\n",
      "length of test dataloader: 1622\n"
     ]
    }
   ],
   "source": [
    "from torch.utils.data import DataLoader\n",
    "\n",
    "BATCH_SIZE = 256\n",
    "\n",
    "train_dataloader = DataLoader(train_dataset, batch_size=BATCH_SIZE, shuffle=True)\n",
    "test_dataloader = DataLoader(test_dataset, batch_size=BATCH_SIZE)\n",
    "\n",
    "X_sample, y_sample = next(iter(train_dataloader))\n",
    "# print(f\"Train X_sample: {X_sample}\")\n",
    "print(f\"Train x_sample shape: {X_sample.shape}\")\n",
    "print(f\"length of train dataloader: {len(train_dataloader)}\")\n",
    "print(f\"length of test dataloader: {len(test_dataloader)}\")"
   ]
  },
  {
   "attachments": {},
   "cell_type": "markdown",
   "metadata": {},
   "source": [
    "## Defining Utils functions"
   ]
  },
  {
   "cell_type": "markdown",
   "metadata": {},
   "source": [
    "### Plot loss curves of a model"
   ]
  },
  {
   "cell_type": "code",
   "execution_count": 26,
   "metadata": {},
   "outputs": [],
   "source": [
    "# Plot loss curves of a model\n",
    "def plot_loss_curves(results):\n",
    "    \"\"\"Plots training curves of a results dictionary.\n",
    "\n",
    "    Args:\n",
    "        results (dict): dictionary containing list of values, e.g.\n",
    "            {\n",
    "                \"train_loss\": [...],\n",
    "                \"test_loss\": [...],\n",
    "            }\n",
    "    \"\"\"\n",
    "    loss = results[\"train_loss\"]\n",
    "    test_loss = results[\"test_loss\"]\n",
    "    \n",
    "    epochs = range(len(results[\"train_loss\"]))\n",
    "\n",
    "    plt.figure(figsize=(15, 7))\n",
    "\n",
    "    # Plot loss\n",
    "    plt.subplot(1, 2, 1)\n",
    "    plt.plot(epochs, loss, label=\"train_loss\")\n",
    "    plt.plot(epochs, test_loss, label=\"test_loss\")\n",
    "    plt.title(\"Loss\")\n",
    "    plt.xlabel(\"Epochs\")\n",
    "    plt.legend()"
   ]
  },
  {
   "cell_type": "markdown",
   "metadata": {},
   "source": [
    "### train step"
   ]
  },
  {
   "cell_type": "code",
   "execution_count": 27,
   "metadata": {},
   "outputs": [],
   "source": [
    "def training_step(\n",
    "    model: nn.Module,\n",
    "    dataloader: torch.utils.data.DataLoader,\n",
    "    loss_fn: nn.Module,\n",
    "    optimizer: torch.optim.Optimizer,\n",
    "    device: str,\n",
    "):\n",
    "    \"\"\"\n",
    "    Desc:\n",
    "      funtion to perform traning step for one EPOCH\n",
    "\n",
    "    Args:\n",
    "      model (nn.Module): Pytorch model class object\n",
    "      dataloader (torch.utils.data.DataLoader): training dataloder from training dataset\n",
    "      loss_fn (nn.Module): Loss Function (object) of your choice\n",
    "      optimizer (torch.optim.Optimizer): Optimizer Function (object) of your choice\n",
    "      device (str): Torch Device \"CPU/GPU\"\n",
    "    Returns:\n",
    "      train_loss (float) : training loss for one EPOCH\n",
    "    \"\"\"\n",
    "    model.train()  # putting model in traing model\n",
    "\n",
    "    train_loss = 0  # initlizing loss and acc. for the epoch\n",
    "\n",
    "    # print(type(model.parameters()))\n",
    "    for (X, y) in dataloader:  # loop in batches\n",
    "        y = y.type(torch.float32)\n",
    "        X, y = X.to(device), y.to(device)  # sending the data to target device\n",
    "        # print(f\"shape of X: {X.shape}, shape of y: {y.shape}\")\n",
    "        \n",
    "        # 1. forward pass\n",
    "        y_pred_logits = model(X)\n",
    "        # print(f\"type of y_pred_logits: {y_pred_logits.dtype}, type of y: {y.dtype}\")\n",
    "        # 2. calculate the loss\n",
    "        loss = loss_fn(y_pred_logits, y)\n",
    "        train_loss += loss.item()\n",
    "\n",
    "        # 3. optimizer zero grad\n",
    "        optimizer.zero_grad()\n",
    "\n",
    "        # 4. loss backword\n",
    "        loss.backward()\n",
    "\n",
    "        # 5. optimizer step\n",
    "        optimizer.step()\n",
    "\n",
    "    # 6. returning actual loss and acc.x\n",
    "    return train_loss / len(dataloader)"
   ]
  },
  {
   "cell_type": "markdown",
   "metadata": {},
   "source": [
    "### test step"
   ]
  },
  {
   "cell_type": "code",
   "execution_count": 28,
   "metadata": {},
   "outputs": [],
   "source": [
    "def testing_step(\n",
    "    model: nn.Module,\n",
    "    dataloader: torch.utils.data.DataLoader,\n",
    "    loss_fn: nn.Module,\n",
    "    device: str,\n",
    "):\n",
    "    \"\"\"\n",
    "    Desc:\n",
    "      funtion to perform testing step for one EPOCH\n",
    "\n",
    "    Args:\n",
    "      model (nn.Module): Pytorch model class object\n",
    "      dataloader (torch.utils.data.DataLoader): testing dataloder from training dataset\n",
    "      loss_fn (nn.Module): Loss Function (object) of your choice\n",
    "      device (str): Torch Device \"CPU/GPU\"\n",
    "    Returns:\n",
    "      test_loss (float): testing loss for one EPOCH\n",
    "    \"\"\"\n",
    "    model.eval()  # putting model in eval model\n",
    "\n",
    "    test_loss = 0  # initlizing loss \n",
    "\n",
    "    # with torch.inference_mode(): # disabling inference mode for aqcuiring gradients of perturbed data\n",
    "    for (X, y) in dataloader:  # loop in batches\n",
    "        X, y = X.to(device), y.to(device)  # sending the data to target device\n",
    "        # print(f\"shape of X: {X.shape}, shape of y: {y.shape}\")\n",
    "\n",
    "        # 1. forward pass\n",
    "        y_pred_logits = model(X)\n",
    "\n",
    "        # 2. calculate the loss\n",
    "        loss = loss_fn(y_pred_logits, y)\n",
    "        test_loss += loss.item()\n",
    "\n",
    "    # 6. returning actual loss and acc.\n",
    "    return test_loss / len(dataloader)"
   ]
  },
  {
   "cell_type": "markdown",
   "metadata": {},
   "source": [
    "### training function"
   ]
  },
  {
   "cell_type": "code",
   "execution_count": 29,
   "metadata": {},
   "outputs": [],
   "source": [
    "from tqdm.auto import tqdm\n",
    "\n",
    "\n",
    "def train(\n",
    "    model: nn.Module,\n",
    "    train_dataloader: torch.utils.data.DataLoader,\n",
    "    test_dataloader: torch.utils.data.DataLoader,\n",
    "    loss_fn: nn.Module,\n",
    "    optimizer: torch.optim.Optimizer,\n",
    "    epochs: int\n",
    "):\n",
    "    \"\"\"\n",
    "    Desc:\n",
    "      funtion to perform training for one {epochs} param\n",
    "\n",
    "    Args:\n",
    "      model (nn.Module): Pytorch model class object\n",
    "      train_dataloader (torch.utils.data.DataLoader): training dataloder from training dataset\n",
    "      test_dataloader (torch.utils.data.DataLoader): testing dataloder from testing dataset\n",
    "      loss_fn (nn.Module): Loss Function (object) of your choice\n",
    "      device (str): Torch Device \"CPU/GPU\"\n",
    "      epochs (int): number of epochs to train the model\n",
    "    Returns:\n",
    "      result_dict ({str: List[float]}): testing loss and testing accuracy for one EPOCH\n",
    "    \"\"\"\n",
    "    # 1. init. result dict\n",
    "    result_dict = {\"train_loss\": [], \"train_acc\": [], \"test_loss\": [], \"test_acc\": []}\n",
    "\n",
    "    # 2. loop in range epochs performs train and test steps on the model\n",
    "    for epoch in tqdm(range(epochs)):\n",
    "        train_loss = training_step(\n",
    "            model=model,\n",
    "            dataloader=train_dataloader,\n",
    "            loss_fn=loss_fn,\n",
    "            optimizer=optimizer,\n",
    "            device=device,\n",
    "        )\n",
    "\n",
    "        test_loss = testing_step(\n",
    "            model=model,\n",
    "            dataloader=test_dataloader,\n",
    "            loss_fn=loss_fn,\n",
    "            device=device,\n",
    "        )\n",
    "\n",
    "        # 3. print out results\n",
    "        print(\n",
    "            f\"Epoch: {epoch+1} | \"\n",
    "            f\"train_loss: {train_loss:.4f} | \"\n",
    "            f\"test_loss: {test_loss:.4f}\"\n",
    "        )\n",
    "\n",
    "        # 4. adding results to result_dict\n",
    "        result_dict[\"train_loss\"].append(train_loss)\n",
    "        result_dict[\"test_loss\"].append(test_loss)\n",
    "\n",
    "    # 5. return result dict\n",
    "    return result_dict"
   ]
  },
  {
   "cell_type": "markdown",
   "metadata": {},
   "source": [
    "## Defining the model"
   ]
  },
  {
   "attachments": {},
   "cell_type": "markdown",
   "metadata": {},
   "source": [
    "### model def."
   ]
  },
  {
   "cell_type": "code",
   "execution_count": 30,
   "metadata": {},
   "outputs": [],
   "source": [
    "from torch import nn\n",
    "\n",
    "class LSTMModel0(nn.Module):\n",
    "    def __init__(self, num_features, hidden_units):\n",
    "        super().__init__()\n",
    "        self.num_features = num_features\n",
    "        self.hidden_units = hidden_units\n",
    "        self.num_layers = 1\n",
    "\n",
    "        self.lstm = nn.LSTM(\n",
    "            input_size=num_features,\n",
    "            hidden_size=hidden_units,\n",
    "            batch_first=True,\n",
    "            num_layers=self.num_layers\n",
    "        )\n",
    "\n",
    "        self.linear = nn.Linear(in_features=self.hidden_units, out_features=1)\n",
    "\n",
    "    def forward(self, x):\n",
    "        batch_size = x.shape[0]\n",
    "        h0 = torch.zeros(self.num_layers, batch_size, self.hidden_units).requires_grad_().to(device=device)\n",
    "        c0 = torch.zeros(self.num_layers, batch_size, self.hidden_units).requires_grad_().to(device=device)\n",
    "\n",
    "        _, (hn, _) = self.lstm(x, (h0, c0))\n",
    "        out = self.linear(hn[0]).flatten()  # First dim of Hn is num_layers, which is set to 1 above.\n",
    "\n",
    "        return out"
   ]
  },
  {
   "attachments": {},
   "cell_type": "markdown",
   "metadata": {},
   "source": [
    "### training the model"
   ]
  },
  {
   "cell_type": "code",
   "execution_count": 31,
   "metadata": {},
   "outputs": [],
   "source": [
    "# init. model\n",
    "model0 = LSTMModel0(num_features=6, hidden_units=256).to(device)\n",
    "# init. epochs\n",
    "NUM_EPOCHS = 10\n",
    "\n",
    "# init. loss function, accuracy function and optimizer\n",
    "loss_fn = nn.L1Loss()\n",
    "optimizer = torch.optim.Adam(model0.parameters(), lr=0.001)"
   ]
  },
  {
   "cell_type": "code",
   "execution_count": 32,
   "metadata": {},
   "outputs": [
    {
     "data": {
      "application/vnd.jupyter.widget-view+json": {
       "model_id": "3c9d402d8cf2470fb0f52749a44417c6",
       "version_major": 2,
       "version_minor": 0
      },
      "text/plain": [
       "  0%|          | 0/10 [00:00<?, ?it/s]"
      ]
     },
     "metadata": {},
     "output_type": "display_data"
    },
    {
     "name": "stdout",
     "output_type": "stream",
     "text": [
      "Epoch: 1 | train_loss: 0.0111 | test_loss: 0.0035\n",
      "Epoch: 2 | train_loss: 0.0036 | test_loss: 0.0056\n",
      "Epoch: 3 | train_loss: 0.0030 | test_loss: 0.0037\n",
      "Epoch: 4 | train_loss: 0.0026 | test_loss: 0.0025\n",
      "Epoch: 5 | train_loss: 0.0023 | test_loss: 0.0020\n",
      "Epoch: 6 | train_loss: 0.0021 | test_loss: 0.0025\n",
      "Epoch: 7 | train_loss: 0.0020 | test_loss: 0.0028\n",
      "Epoch: 8 | train_loss: 0.0019 | test_loss: 0.0018\n",
      "Epoch: 9 | train_loss: 0.0017 | test_loss: 0.0025\n",
      "Epoch: 10 | train_loss: 0.0016 | test_loss: 0.0016\n",
      "total training time: 435.063 sec.\n",
      "\n"
     ]
    },
    {
     "data": {
      "image/png": "[encoded data removed]",
      "text/plain": [
       "<Figure size 1500x700 with 1 Axes>"
      ]
     },
     "metadata": {},
     "output_type": "display_data"
    }
   ],
   "source": [
    "from timeit import default_timer as timer\n",
    "\n",
    "start_time = timer()\n",
    "# train model\n",
    "model0_results = train(\n",
    "    model=model0,\n",
    "    train_dataloader=train_dataloader,\n",
    "    test_dataloader=test_dataloader,\n",
    "    optimizer=optimizer,\n",
    "    loss_fn=loss_fn,\n",
    "    epochs=NUM_EPOCHS,\n",
    ")\n",
    "\n",
    "# end timer\n",
    "end_time = timer()\n",
    "# printing time taken\n",
    "print(f\"total training time: {end_time-start_time:.3f} sec.\")\n",
    "plot_loss_curves(model0_results)\n",
    "print()"
   ]
  },
  {
   "cell_type": "markdown",
   "metadata": {},
   "source": [
    "# Make split to 70:30 ratio"
   ]
  },
  {
   "cell_type": "markdown",
   "metadata": {},
   "source": [
    "## Splitting the dataset into the Training set and Test set"
   ]
  },
  {
   "cell_type": "code",
   "execution_count": 33,
   "metadata": {},
   "outputs": [
    {
     "name": "stdout",
     "output_type": "stream",
     "text": [
      "shape of X_train:  (1452681, 6)\n",
      "shape of y_train:  (1452681,)\n",
      "shape of X_test:  (622578, 6)\n",
      "shape of y_test:  (622578,)\n"
     ]
    }
   ],
   "source": [
    "# split into train and test sets\n",
    "from sklearn.model_selection import train_test_split\n",
    "\n",
    "X_train, X_test, y_train, y_test = train_test_split(X, y, test_size=0.3, random_state=42) # making 70:30 split\n",
    "print(\"shape of X_train: \", X_train.shape)\n",
    "print(\"shape of y_train: \", y_train.shape)\n",
    "print(\"shape of X_test: \", X_test.shape)\n",
    "print(\"shape of y_test: \", y_test.shape)"
   ]
  },
  {
   "cell_type": "code",
   "execution_count": 34,
   "metadata": {},
   "outputs": [],
   "source": [
    "X_train = X_train.values\n",
    "y_train = y_train.values.reshape(-1,1)\n",
    "X_test = X_test.values\n",
    "y_test = y_test.values.reshape(-1,1)"
   ]
  },
  {
   "cell_type": "markdown",
   "metadata": {},
   "source": [
    "## preprocessing with robust scaler"
   ]
  },
  {
   "cell_type": "code",
   "execution_count": 35,
   "metadata": {},
   "outputs": [],
   "source": [
    "# preprocessing the data with robust scaler\n",
    "from sklearn.preprocessing import RobustScaler\n",
    "scaler_x = RobustScaler()\n",
    "scaler_y = RobustScaler()\n",
    "X_train = scaler_x.fit_transform(X_train)\n",
    "y_train = scaler_y.fit_transform(y_train)"
   ]
  },
  {
   "cell_type": "code",
   "execution_count": 36,
   "metadata": {},
   "outputs": [],
   "source": [
    "X_test = scaler_x.transform(X_test)\n",
    "y_test = scaler_y.transform(y_test)"
   ]
  },
  {
   "cell_type": "code",
   "execution_count": 37,
   "metadata": {},
   "outputs": [
    {
     "data": {
      "text/plain": [
       "array([[-2.53521127e-01, -1.59375000e+00,  2.40000000e-01,\n",
       "         0.00000000e+00,  0.00000000e+00, -5.88235294e-02],\n",
       "       [ 2.52112676e+00, -1.17968750e+00,  2.84000000e+00,\n",
       "         3.90000000e+01,  3.00000000e+00, -5.88235294e-02],\n",
       "       [-1.69014085e-01,  1.17968750e+00, -2.00000000e-01,\n",
       "         0.00000000e+00,  1.00000000e+00,  0.00000000e+00],\n",
       "       [-7.04225352e-01,  5.52083333e-01,  1.60000000e-01,\n",
       "         0.00000000e+00,  0.00000000e+00, -5.88235294e-02],\n",
       "       [-2.11267606e-01,  2.60416667e-02, -1.20000000e-01,\n",
       "         0.00000000e+00,  0.00000000e+00, -5.88235294e-02]])"
      ]
     },
     "execution_count": 37,
     "metadata": {},
     "output_type": "execute_result"
    }
   ],
   "source": [
    "X_train[:5]"
   ]
  },
  {
   "cell_type": "markdown",
   "metadata": {},
   "source": [
    "## Creating Dataset class for the torch dataset"
   ]
  },
  {
   "cell_type": "markdown",
   "metadata": {},
   "source": [
    "### conveting scaled X and y to dataframes"
   ]
  },
  {
   "cell_type": "code",
   "execution_count": 38,
   "metadata": {},
   "outputs": [
    {
     "data": {
      "text/plain": [
       "['Global_active_power',\n",
       " 'Global_reactive_power',\n",
       " 'Voltage',\n",
       " 'Global_intensity',\n",
       " 'Sub_metering_1',\n",
       " 'Sub_metering_2',\n",
       " 'Sub_metering_3']"
      ]
     },
     "execution_count": 38,
     "metadata": {},
     "output_type": "execute_result"
    }
   ],
   "source": [
    "column_names = list(column_names)\n",
    "column_names"
   ]
  },
  {
   "cell_type": "code",
   "execution_count": 39,
   "metadata": {},
   "outputs": [
    {
     "data": {
      "text/html": [
       "<div>\n",
       "<style scoped>\n",
       "    .dataframe tbody tr th:only-of-type {\n",
       "        vertical-align: middle;\n",
       "    }\n",
       "\n",
       "    .dataframe tbody tr th {\n",
       "        vertical-align: top;\n",
       "    }\n",
       "\n",
       "    .dataframe thead th {\n",
       "        text-align: right;\n",
       "    }\n",
       "</style>\n",
       "<table border=\"1\" class=\"dataframe\">\n",
       "  <thead>\n",
       "    <tr style=\"text-align: right;\">\n",
       "      <th></th>\n",
       "      <th>Global_reactive_power</th>\n",
       "      <th>Voltage</th>\n",
       "      <th>Global_intensity</th>\n",
       "      <th>Sub_metering_1</th>\n",
       "      <th>Sub_metering_2</th>\n",
       "      <th>Sub_metering_3</th>\n",
       "      <th>Global_active_power</th>\n",
       "    </tr>\n",
       "  </thead>\n",
       "  <tbody>\n",
       "    <tr>\n",
       "      <th>0</th>\n",
       "      <td>-0.253521</td>\n",
       "      <td>-1.593750</td>\n",
       "      <td>0.24</td>\n",
       "      <td>0.0</td>\n",
       "      <td>0.0</td>\n",
       "      <td>-0.058824</td>\n",
       "      <td>-0.253521</td>\n",
       "    </tr>\n",
       "    <tr>\n",
       "      <th>1</th>\n",
       "      <td>2.521127</td>\n",
       "      <td>-1.179687</td>\n",
       "      <td>2.84</td>\n",
       "      <td>39.0</td>\n",
       "      <td>3.0</td>\n",
       "      <td>-0.058824</td>\n",
       "      <td>2.521127</td>\n",
       "    </tr>\n",
       "    <tr>\n",
       "      <th>2</th>\n",
       "      <td>-0.169014</td>\n",
       "      <td>1.179687</td>\n",
       "      <td>-0.20</td>\n",
       "      <td>0.0</td>\n",
       "      <td>1.0</td>\n",
       "      <td>0.000000</td>\n",
       "      <td>-0.169014</td>\n",
       "    </tr>\n",
       "    <tr>\n",
       "      <th>3</th>\n",
       "      <td>-0.704225</td>\n",
       "      <td>0.552083</td>\n",
       "      <td>0.16</td>\n",
       "      <td>0.0</td>\n",
       "      <td>0.0</td>\n",
       "      <td>-0.058824</td>\n",
       "      <td>-0.704225</td>\n",
       "    </tr>\n",
       "    <tr>\n",
       "      <th>4</th>\n",
       "      <td>-0.211268</td>\n",
       "      <td>0.026042</td>\n",
       "      <td>-0.12</td>\n",
       "      <td>0.0</td>\n",
       "      <td>0.0</td>\n",
       "      <td>-0.058824</td>\n",
       "      <td>-0.211268</td>\n",
       "    </tr>\n",
       "  </tbody>\n",
       "</table>\n",
       "</div>"
      ],
      "text/plain": [
       "   Global_reactive_power   Voltage  Global_intensity  Sub_metering_1  \\\n",
       "0              -0.253521 -1.593750              0.24             0.0   \n",
       "1               2.521127 -1.179687              2.84            39.0   \n",
       "2              -0.169014  1.179687             -0.20             0.0   \n",
       "3              -0.704225  0.552083              0.16             0.0   \n",
       "4              -0.211268  0.026042             -0.12             0.0   \n",
       "\n",
       "   Sub_metering_2  Sub_metering_3  Global_active_power  \n",
       "0             0.0       -0.058824            -0.253521  \n",
       "1             3.0       -0.058824             2.521127  \n",
       "2             1.0        0.000000            -0.169014  \n",
       "3             0.0       -0.058824            -0.704225  \n",
       "4             0.0       -0.058824            -0.211268  "
      ]
     },
     "execution_count": 39,
     "metadata": {},
     "output_type": "execute_result"
    }
   ],
   "source": [
    "# convert the scaled data into dataframe\n",
    "train_df = pd.DataFrame(X_train, columns=column_names[1:])\n",
    "train_df['Global_active_power'] = y_train\n",
    "train_df.head()"
   ]
  },
  {
   "cell_type": "code",
   "execution_count": 40,
   "metadata": {},
   "outputs": [
    {
     "data": {
      "text/html": [
       "<div>\n",
       "<style scoped>\n",
       "    .dataframe tbody tr th:only-of-type {\n",
       "        vertical-align: middle;\n",
       "    }\n",
       "\n",
       "    .dataframe tbody tr th {\n",
       "        vertical-align: top;\n",
       "    }\n",
       "\n",
       "    .dataframe thead th {\n",
       "        text-align: right;\n",
       "    }\n",
       "</style>\n",
       "<table border=\"1\" class=\"dataframe\">\n",
       "  <thead>\n",
       "    <tr style=\"text-align: right;\">\n",
       "      <th></th>\n",
       "      <th>Global_reactive_power</th>\n",
       "      <th>Voltage</th>\n",
       "      <th>Global_intensity</th>\n",
       "      <th>Sub_metering_1</th>\n",
       "      <th>Sub_metering_2</th>\n",
       "      <th>Sub_metering_3</th>\n",
       "      <th>Global_active_power</th>\n",
       "    </tr>\n",
       "  </thead>\n",
       "  <tbody>\n",
       "    <tr>\n",
       "      <th>0</th>\n",
       "      <td>0.042254</td>\n",
       "      <td>0.257813</td>\n",
       "      <td>-0.28</td>\n",
       "      <td>0.0</td>\n",
       "      <td>0.0</td>\n",
       "      <td>0.000000</td>\n",
       "      <td>0.042254</td>\n",
       "    </tr>\n",
       "    <tr>\n",
       "      <th>1</th>\n",
       "      <td>1.774648</td>\n",
       "      <td>-0.986979</td>\n",
       "      <td>-0.04</td>\n",
       "      <td>0.0</td>\n",
       "      <td>2.0</td>\n",
       "      <td>-0.058824</td>\n",
       "      <td>1.774648</td>\n",
       "    </tr>\n",
       "    <tr>\n",
       "      <th>2</th>\n",
       "      <td>0.661972</td>\n",
       "      <td>-0.611979</td>\n",
       "      <td>0.12</td>\n",
       "      <td>0.0</td>\n",
       "      <td>1.0</td>\n",
       "      <td>-0.058824</td>\n",
       "      <td>0.661972</td>\n",
       "    </tr>\n",
       "    <tr>\n",
       "      <th>3</th>\n",
       "      <td>-0.380282</td>\n",
       "      <td>-0.096354</td>\n",
       "      <td>0.56</td>\n",
       "      <td>1.0</td>\n",
       "      <td>0.0</td>\n",
       "      <td>1.000000</td>\n",
       "      <td>-0.380282</td>\n",
       "    </tr>\n",
       "    <tr>\n",
       "      <th>4</th>\n",
       "      <td>0.718310</td>\n",
       "      <td>0.317708</td>\n",
       "      <td>-0.16</td>\n",
       "      <td>0.0</td>\n",
       "      <td>2.0</td>\n",
       "      <td>0.000000</td>\n",
       "      <td>0.718310</td>\n",
       "    </tr>\n",
       "  </tbody>\n",
       "</table>\n",
       "</div>"
      ],
      "text/plain": [
       "   Global_reactive_power   Voltage  Global_intensity  Sub_metering_1  \\\n",
       "0               0.042254  0.257813             -0.28             0.0   \n",
       "1               1.774648 -0.986979             -0.04             0.0   \n",
       "2               0.661972 -0.611979              0.12             0.0   \n",
       "3              -0.380282 -0.096354              0.56             1.0   \n",
       "4               0.718310  0.317708             -0.16             0.0   \n",
       "\n",
       "   Sub_metering_2  Sub_metering_3  Global_active_power  \n",
       "0             0.0        0.000000             0.042254  \n",
       "1             2.0       -0.058824             1.774648  \n",
       "2             1.0       -0.058824             0.661972  \n",
       "3             0.0        1.000000            -0.380282  \n",
       "4             2.0        0.000000             0.718310  "
      ]
     },
     "execution_count": 40,
     "metadata": {},
     "output_type": "execute_result"
    }
   ],
   "source": [
    "test_df = pd.DataFrame(X_test, columns=column_names[1:])\n",
    "test_df['Global_active_power'] = y_test\n",
    "test_df.head()"
   ]
  },
  {
   "cell_type": "code",
   "execution_count": 41,
   "metadata": {},
   "outputs": [
    {
     "name": "stdout",
     "output_type": "stream",
     "text": [
      "fetures: ['Global_reactive_power', 'Voltage', 'Global_intensity', 'Sub_metering_1', 'Sub_metering_2', 'Sub_metering_3']\n",
      "target: Global_active_power\n",
      "X_sample: tensor([[ 1.7042e+00,  6.6406e-01, -4.0000e-02,  0.0000e+00,  2.0000e+00,\n",
      "         -5.8824e-02],\n",
      "        [ 1.7746e+00,  8.4115e-01, -4.0000e-02,  0.0000e+00,  2.0000e+00,\n",
      "         -5.8824e-02],\n",
      "        [ 2.1127e-01,  4.4271e-01, -3.2000e-01,  0.0000e+00,  0.0000e+00,\n",
      "          0.0000e+00],\n",
      "        [ 8.0282e-01,  1.1615e+00, -2.0000e-01,  0.0000e+00,  0.0000e+00,\n",
      "         -5.8824e-02],\n",
      "        [-7.0423e-01,  5.1823e-01,  1.6000e-01,  0.0000e+00,  0.0000e+00,\n",
      "          0.0000e+00],\n",
      "        [ 9.4366e-01,  1.6927e-01,  1.1600e+00,  0.0000e+00,  0.0000e+00,\n",
      "          1.0588e+00],\n",
      "        [ 8.4507e-02,  9.2188e-01,  5.6000e-01,  0.0000e+00,  0.0000e+00,\n",
      "         -5.8824e-02],\n",
      "        [ 5.6338e-01,  3.8542e-01, -1.2000e-01,  0.0000e+00,  0.0000e+00,\n",
      "          0.0000e+00],\n",
      "        [ 1.1268e+00, -1.0703e+00,  8.8000e-01,  0.0000e+00,  0.0000e+00,\n",
      "          1.0000e+00],\n",
      "        [ 8.8732e-01,  3.9062e-01, -1.6000e-01,  0.0000e+00,  2.0000e+00,\n",
      "         -5.8824e-02],\n",
      "        [ 8.5915e-01,  4.0885e-01, -2.4000e-01,  0.0000e+00,  2.0000e+00,\n",
      "         -5.8824e-02],\n",
      "        [ 6.6197e-01, -8.7500e-01, -2.4000e-01,  0.0000e+00,  0.0000e+00,\n",
      "         -5.8824e-02],\n",
      "        [ 9.0141e-01,  6.0417e-01, -2.4000e-01,  0.0000e+00,  1.0000e+00,\n",
      "          0.0000e+00],\n",
      "        [ 4.7887e-01, -7.4479e-01,  8.0000e-01,  0.0000e+00,  0.0000e+00,\n",
      "          0.0000e+00],\n",
      "        [-1.4085e-02,  6.3021e-01,  6.4000e-01,  0.0000e+00,  0.0000e+00,\n",
      "          1.0000e+00],\n",
      "        [-8.4507e-02, -2.8385e-01,  6.8000e-01,  0.0000e+00,  1.0000e+00,\n",
      "          1.0588e+00],\n",
      "        [-7.0423e-01,  4.9479e-02, -4.0000e-01,  0.0000e+00,  0.0000e+00,\n",
      "          0.0000e+00],\n",
      "        [ 1.6620e+00,  2.1094e-01,  1.2000e-01,  0.0000e+00,  2.0000e+00,\n",
      "          0.0000e+00],\n",
      "        [ 1.0282e+00,  1.0938e-01, -8.0000e-02,  0.0000e+00,  0.0000e+00,\n",
      "          0.0000e+00],\n",
      "        [ 1.3944e+00,  3.5677e-01, -1.2000e-01,  0.0000e+00,  1.0000e+00,\n",
      "          0.0000e+00],\n",
      "        [ 2.3239e+00, -2.3073e+00,  6.1600e+00,  3.6000e+01,  3.4000e+01,\n",
      "          9.4118e-01],\n",
      "        [-1.8310e-01,  1.6641e+00, -2.4000e-01,  0.0000e+00,  0.0000e+00,\n",
      "         -5.8824e-02],\n",
      "        [-7.0423e-02,  8.9844e-01, -2.0000e-01,  0.0000e+00,  1.0000e+00,\n",
      "          0.0000e+00],\n",
      "        [ 9.8592e-01,  4.8438e-01, -1.2000e-01,  0.0000e+00,  0.0000e+00,\n",
      "         -5.8824e-02],\n",
      "        [ 1.1127e+00, -1.7448e+00,  5.6000e-01,  0.0000e+00,  0.0000e+00,\n",
      "         -5.8824e-02]])\n",
      "x_sample shape: torch.Size([25, 6])\n",
      "y_sample: 1.1126760244369507\n"
     ]
    }
   ],
   "source": [
    "i = 42\n",
    "sequence_length = 25\n",
    "features = column_names[1:]\n",
    "target = column_names[0]\n",
    "\n",
    "print(f\"fetures: {features}\")\n",
    "print(f\"target: {target}\")\n",
    "\n",
    "# create train dataset\n",
    "train_dataset = LSTMSequenceDataset(\n",
    "    dataframe=train_df,\n",
    "    target=target,\n",
    "    features=features,\n",
    "    sequence_length=sequence_length\n",
    ")\n",
    "\n",
    "# create test dataset\n",
    "test_dataset = LSTMSequenceDataset(\n",
    "    dataframe=test_df,\n",
    "    target=target,\n",
    "    features=features,\n",
    "    sequence_length=sequence_length\n",
    ")\n",
    "\n",
    "# inspect the dataset by getting a sample\n",
    "X_sample, y_sample = train_dataset[i]\n",
    "print(f\"X_sample: {X_sample}\")\n",
    "print(f\"x_sample shape: {X_sample.shape}\")\n",
    "print(f\"y_sample: {y_sample}\")\n"
   ]
  },
  {
   "cell_type": "code",
   "execution_count": 42,
   "metadata": {},
   "outputs": [
    {
     "name": "stdout",
     "output_type": "stream",
     "text": [
      "length of train dataset: 1452681\n",
      "length of test dataset: 622578\n"
     ]
    }
   ],
   "source": [
    "print(f\"length of train dataset: {len(train_dataset)}\")\n",
    "print(f\"length of test dataset: {len(test_dataset)}\")"
   ]
  },
  {
   "cell_type": "markdown",
   "metadata": {},
   "source": [
    "### Converting Dataset to dataloder"
   ]
  },
  {
   "cell_type": "code",
   "execution_count": 43,
   "metadata": {},
   "outputs": [
    {
     "name": "stdout",
     "output_type": "stream",
     "text": [
      "Train x_sample shape: torch.Size([256, 25, 6])\n",
      "length of train dataloader: 5675\n",
      "length of test dataloader: 2432\n"
     ]
    }
   ],
   "source": [
    "from torch.utils.data import DataLoader\n",
    "\n",
    "BATCH_SIZE = 256\n",
    "\n",
    "train_dataloader = DataLoader(train_dataset, batch_size=BATCH_SIZE, shuffle=True)\n",
    "test_dataloader = DataLoader(test_dataset, batch_size=BATCH_SIZE)\n",
    "\n",
    "X_sample, y_sample = next(iter(train_dataloader))\n",
    "# print(f\"Train X_sample: {X_sample}\")\n",
    "print(f\"Train x_sample shape: {X_sample.shape}\")\n",
    "print(f\"length of train dataloader: {len(train_dataloader)}\")\n",
    "print(f\"length of test dataloader: {len(test_dataloader)}\")"
   ]
  },
  {
   "cell_type": "markdown",
   "metadata": {},
   "source": [
    "## Defining the model"
   ]
  },
  {
   "cell_type": "markdown",
   "metadata": {},
   "source": [
    "### training the model"
   ]
  },
  {
   "cell_type": "code",
   "execution_count": 44,
   "metadata": {},
   "outputs": [],
   "source": [
    "# init. model\n",
    "model1 = LSTMModel0(num_features=6, hidden_units=256).to(device)\n",
    "# init. epochs\n",
    "NUM_EPOCHS = 10\n",
    "\n",
    "# init. loss function, accuracy function and optimizer\n",
    "loss_fn = nn.L1Loss()\n",
    "optimizer = torch.optim.Adam(model1.parameters(), lr=0.001)"
   ]
  },
  {
   "cell_type": "code",
   "execution_count": 45,
   "metadata": {},
   "outputs": [
    {
     "data": {
      "application/vnd.jupyter.widget-view+json": {
       "model_id": "fe74e3643363411492624f28d6ea5212",
       "version_major": 2,
       "version_minor": 0
      },
      "text/plain": [
       "  0%|          | 0/10 [00:00<?, ?it/s]"
      ]
     },
     "metadata": {},
     "output_type": "display_data"
    },
    {
     "name": "stdout",
     "output_type": "stream",
     "text": [
      "Epoch: 1 | train_loss: 0.0126 | test_loss: 0.0027\n",
      "Epoch: 2 | train_loss: 0.0037 | test_loss: 0.0022\n",
      "Epoch: 3 | train_loss: 0.0032 | test_loss: 0.0031\n",
      "Epoch: 4 | train_loss: 0.0028 | test_loss: 0.0023\n",
      "Epoch: 5 | train_loss: 0.0026 | test_loss: 0.0016\n",
      "Epoch: 6 | train_loss: 0.0023 | test_loss: 0.0020\n",
      "Epoch: 7 | train_loss: 0.0021 | test_loss: 0.0016\n",
      "Epoch: 8 | train_loss: 0.0020 | test_loss: 0.0023\n",
      "Epoch: 9 | train_loss: 0.0019 | test_loss: 0.0019\n",
      "Epoch: 10 | train_loss: 0.0018 | test_loss: 0.0025\n",
      "total training time: 409.543 sec.\n",
      "\n"
     ]
    },
    {
     "data": {
      "image/png": "[encoded data removed]",
      "text/plain": [
       "<Figure size 1500x700 with 1 Axes>"
      ]
     },
     "metadata": {},
     "output_type": "display_data"
    }
   ],
   "source": [
    "from timeit import default_timer as timer\n",
    "\n",
    "start_time = timer()\n",
    "# train model\n",
    "model1_results = train(\n",
    "    model=model1,\n",
    "    train_dataloader=train_dataloader,\n",
    "    test_dataloader=test_dataloader,\n",
    "    optimizer=optimizer,\n",
    "    loss_fn=loss_fn,\n",
    "    epochs=NUM_EPOCHS,\n",
    ")\n",
    "\n",
    "# end timer\n",
    "end_time = timer()\n",
    "# printing time taken\n",
    "print(f\"total training time: {end_time-start_time:.3f} sec.\")\n",
    "plot_loss_curves(model1_results)\n",
    "print()"
   ]
  }
 ],
 "metadata": {
  "kernelspec": {
   "display_name": "bikash",
   "language": "python",
   "name": "python3"
  },
  "language_info": {
   "codemirror_mode": {
    "name": "ipython",
    "version": 3
   },
   "file_extension": ".py",
   "mimetype": "text/x-python",
   "name": "python",
   "nbconvert_exporter": "python",
   "pygments_lexer": "ipython3",
   "version": "3.10.9"
  },
  "orig_nbformat": 4
 },
 "nbformat": 4,
 "nbformat_minor": 2
}
