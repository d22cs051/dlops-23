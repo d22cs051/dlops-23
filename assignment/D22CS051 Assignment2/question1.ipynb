{
 "cells": [
  {
   "cell_type": "markdown",
   "metadata": {},
   "source": [
    "# DL-Ops Assignment 2: Build a Seq2SeqLSTM Model"
   ]
  },
  {
   "cell_type": "markdown",
   "metadata": {},
   "source": [
    "## Checking Avilable GPU"
   ]
  },
  {
   "cell_type": "code",
   "execution_count": 1,
   "metadata": {},
   "outputs": [
    {
     "name": "stdout",
     "output_type": "stream",
     "text": [
      "Thu Apr  6 23:36:04 2023       \n",
      "+-----------------------------------------------------------------------------+\n",
      "| NVIDIA-SMI 525.89.02    Driver Version: 525.89.02    CUDA Version: 12.0     |\n",
      "|-------------------------------+----------------------+----------------------+\n",
      "| GPU  Name        Persistence-M| Bus-Id        Disp.A | Volatile Uncorr. ECC |\n",
      "| Fan  Temp  Perf  Pwr:Usage/Cap|         Memory-Usage | GPU-Util  Compute M. |\n",
      "|                               |                      |               MIG M. |\n",
      "|===============================+======================+======================|\n",
      "|   0  NVIDIA GeForce ...  Off  | 00000000:01:00.0  On |                  N/A |\n",
      "|  0%   52C    P8    43W / 350W |    484MiB / 24576MiB |      8%      Default |\n",
      "|                               |                      |                  N/A |\n",
      "+-------------------------------+----------------------+----------------------+\n",
      "                                                                               \n",
      "+-----------------------------------------------------------------------------+\n",
      "| Processes:                                                                  |\n",
      "|  GPU   GI   CI        PID   Type   Process name                  GPU Memory |\n",
      "|        ID   ID                                                   Usage      |\n",
      "|=============================================================================|\n",
      "|    0   N/A  N/A      1656      G   /usr/lib/xorg/Xorg                194MiB |\n",
      "|    0   N/A  N/A      2112      G   /usr/bin/gnome-shell               31MiB |\n",
      "|    0   N/A  N/A      2315      G   /opt/freedownloadmanager/fdm       15MiB |\n",
      "|    0   N/A  N/A      2882      G   ...RendererForSitePerProcess       16MiB |\n",
      "|    0   N/A  N/A     16919      G   ...2gtk-4.0/WebKitWebProcess       16MiB |\n",
      "|    0   N/A  N/A   2275053      G   ...7/usr/lib/firefox/firefox      201MiB |\n",
      "|    0   N/A  N/A   3852624      G   gnome-control-center                4MiB |\n",
      "+-----------------------------------------------------------------------------+\n"
     ]
    }
   ],
   "source": [
    "!nvidia-smi"
   ]
  },
  {
   "cell_type": "markdown",
   "metadata": {},
   "source": [
    "## Importing requirements"
   ]
  },
  {
   "cell_type": "code",
   "execution_count": 2,
   "metadata": {},
   "outputs": [
    {
     "name": "stderr",
     "output_type": "stream",
     "text": [
      "/home/planck/anaconda3/envs/bikash/lib/python3.10/site-packages/torchvision/io/image.py:13: UserWarning: Failed to load image Python extension: libtorch_cuda_cu.so: cannot open shared object file: No such file or directory\n",
      "  warn(f\"Failed to load image Python extension: {e}\")\n"
     ]
    },
    {
     "name": "stdout",
     "output_type": "stream",
     "text": [
      "INFO: Pandarallel will run on 24 workers.\n",
      "INFO: Pandarallel will use Memory file system to transfer data between the main process and workers.\n"
     ]
    }
   ],
   "source": [
    "# pytorch libs\n",
    "import torch\n",
    "from torch import nn\n",
    "import torchvision\n",
    "\n",
    "# matplot libs\n",
    "import matplotlib.pyplot as plt\n",
    "\n",
    "# numpy\n",
    "import numpy as np\n",
    "\n",
    "# torch metrics\n",
    "try:\n",
    "  import torchmetrics\n",
    "except:\n",
    "  !pip3 -q install torchmetrics\n",
    "import torchmetrics\n",
    "from torchmetrics.classification import Accuracy\n",
    "\n",
    "try:\n",
    "  import torchinfo \n",
    "except:\n",
    "  !pip3 -q install torchinfo\n",
    "finally:\n",
    "  from torchinfo import summary\n",
    "\n",
    "try:\n",
    "  import torchtext as tt\n",
    "except:\n",
    "  !pip -q install torchtext\n",
    "finally:\n",
    "  import torchtext as tt\n",
    "  \n",
    "from pandarallel import pandarallel\n",
    "# Initialization\n",
    "pandarallel.initialize()\n",
    "\n",
    "\n",
    "#string manupulation libs\n",
    "import re\n",
    "import string\n",
    "from string import digits\n",
    "import spacy\n",
    "\n",
    "#torch libs\n",
    "import torch\n",
    "from torch.nn.utils.rnn import pad_sequence\n",
    "from torch.utils.data import DataLoader, Dataset\n",
    "import torch.nn as nn\n",
    "import torch.optim as optim"
   ]
  },
  {
   "cell_type": "markdown",
   "metadata": {},
   "source": [
    "## device agnostic code"
   ]
  },
  {
   "cell_type": "code",
   "execution_count": 3,
   "metadata": {},
   "outputs": [
    {
     "data": {
      "text/plain": [
       "'cuda'"
      ]
     },
     "execution_count": 3,
     "metadata": {},
     "output_type": "execute_result"
    }
   ],
   "source": [
    "device = \"cuda\" if torch.cuda.is_available() else \"cpu\"\n",
    "device"
   ]
  },
  {
   "cell_type": "markdown",
   "metadata": {},
   "source": [
    "## Process the data"
   ]
  },
  {
   "cell_type": "code",
   "execution_count": 4,
   "metadata": {},
   "outputs": [],
   "source": [
    "### read data\n",
    "import pandas as pd\n",
    "dataset_train = pd.read_csv(\"data/Dakshina Dataset/hi/lexicons/hi.translit.sampled.train.tsv\", sep='\\t', names=[\"hindi\", \"english\",\"nums\"])"
   ]
  },
  {
   "cell_type": "code",
   "execution_count": 5,
   "metadata": {},
   "outputs": [],
   "source": [
    "### read data\n",
    "import pandas as pd\n",
    "dataset_test = pd.read_csv(\"data/Dakshina Dataset/hi/lexicons/hi.translit.sampled.test.tsv\", sep='\\t', names=[\"hindi\", \"english\",\"nums\"],index_col=False)"
   ]
  },
  {
   "cell_type": "code",
   "execution_count": 6,
   "metadata": {},
   "outputs": [
    {
     "data": {
      "text/html": [
       "<div>\n",
       "<style scoped>\n",
       "    .dataframe tbody tr th:only-of-type {\n",
       "        vertical-align: middle;\n",
       "    }\n",
       "\n",
       "    .dataframe tbody tr th {\n",
       "        vertical-align: top;\n",
       "    }\n",
       "\n",
       "    .dataframe thead th {\n",
       "        text-align: right;\n",
       "    }\n",
       "</style>\n",
       "<table border=\"1\" class=\"dataframe\">\n",
       "  <thead>\n",
       "    <tr style=\"text-align: right;\">\n",
       "      <th></th>\n",
       "      <th>hindi</th>\n",
       "      <th>english</th>\n",
       "      <th>nums</th>\n",
       "    </tr>\n",
       "  </thead>\n",
       "  <tbody>\n",
       "    <tr>\n",
       "      <th>0</th>\n",
       "      <td>अं</td>\n",
       "      <td>an</td>\n",
       "      <td>3</td>\n",
       "    </tr>\n",
       "    <tr>\n",
       "      <th>1</th>\n",
       "      <td>अंकगणित</td>\n",
       "      <td>ankganit</td>\n",
       "      <td>3</td>\n",
       "    </tr>\n",
       "    <tr>\n",
       "      <th>2</th>\n",
       "      <td>अंकल</td>\n",
       "      <td>uncle</td>\n",
       "      <td>4</td>\n",
       "    </tr>\n",
       "    <tr>\n",
       "      <th>3</th>\n",
       "      <td>अंकुर</td>\n",
       "      <td>ankur</td>\n",
       "      <td>4</td>\n",
       "    </tr>\n",
       "    <tr>\n",
       "      <th>4</th>\n",
       "      <td>अंकुरण</td>\n",
       "      <td>ankuran</td>\n",
       "      <td>3</td>\n",
       "    </tr>\n",
       "  </tbody>\n",
       "</table>\n",
       "</div>"
      ],
      "text/plain": [
       "     hindi   english  nums\n",
       "0       अं        an     3\n",
       "1  अंकगणित  ankganit     3\n",
       "2     अंकल     uncle     4\n",
       "3    अंकुर     ankur     4\n",
       "4   अंकुरण   ankuran     3"
      ]
     },
     "execution_count": 6,
     "metadata": {},
     "output_type": "execute_result"
    }
   ],
   "source": [
    "dataset_train.head()"
   ]
  },
  {
   "cell_type": "code",
   "execution_count": 7,
   "metadata": {},
   "outputs": [],
   "source": [
    "dataset_train.dropna(inplace=True)\n",
    "dataset_test.dropna(inplace=True)"
   ]
  },
  {
   "cell_type": "code",
   "execution_count": 8,
   "metadata": {},
   "outputs": [
    {
     "data": {
      "text/html": [
       "<div>\n",
       "<style scoped>\n",
       "    .dataframe tbody tr th:only-of-type {\n",
       "        vertical-align: middle;\n",
       "    }\n",
       "\n",
       "    .dataframe tbody tr th {\n",
       "        vertical-align: top;\n",
       "    }\n",
       "\n",
       "    .dataframe thead th {\n",
       "        text-align: right;\n",
       "    }\n",
       "</style>\n",
       "<table border=\"1\" class=\"dataframe\">\n",
       "  <thead>\n",
       "    <tr style=\"text-align: right;\">\n",
       "      <th></th>\n",
       "      <th>hindi</th>\n",
       "      <th>english</th>\n",
       "      <th>nums</th>\n",
       "    </tr>\n",
       "  </thead>\n",
       "  <tbody>\n",
       "    <tr>\n",
       "      <th>0</th>\n",
       "      <td>अंक</td>\n",
       "      <td>ank</td>\n",
       "      <td>5</td>\n",
       "    </tr>\n",
       "    <tr>\n",
       "      <th>1</th>\n",
       "      <td>अंक</td>\n",
       "      <td>anka</td>\n",
       "      <td>1</td>\n",
       "    </tr>\n",
       "    <tr>\n",
       "      <th>2</th>\n",
       "      <td>अंकित</td>\n",
       "      <td>ankit</td>\n",
       "      <td>3</td>\n",
       "    </tr>\n",
       "    <tr>\n",
       "      <th>3</th>\n",
       "      <td>अंकों</td>\n",
       "      <td>anakon</td>\n",
       "      <td>1</td>\n",
       "    </tr>\n",
       "    <tr>\n",
       "      <th>4</th>\n",
       "      <td>अंकों</td>\n",
       "      <td>ankhon</td>\n",
       "      <td>1</td>\n",
       "    </tr>\n",
       "  </tbody>\n",
       "</table>\n",
       "</div>"
      ],
      "text/plain": [
       "   hindi english  nums\n",
       "0    अंक     ank     5\n",
       "1    अंक    anka     1\n",
       "2  अंकित   ankit     3\n",
       "3  अंकों  anakon     1\n",
       "4  अंकों  ankhon     1"
      ]
     },
     "execution_count": 8,
     "metadata": {},
     "output_type": "execute_result"
    }
   ],
   "source": [
    "dataset_test.head()"
   ]
  },
  {
   "attachments": {},
   "cell_type": "markdown",
   "metadata": {},
   "source": [
    "## Defining Custom Dataset Class"
   ]
  },
  {
   "cell_type": "code",
   "execution_count": 9,
   "metadata": {},
   "outputs": [],
   "source": [
    "import os\n",
    "import torch\n",
    "from torch.nn.utils.rnn import pad_sequence\n",
    "from torch.utils.data import DataLoader, Dataset\n",
    "\n",
    "\n",
    "class Vocabulary:\n",
    "    def __init__(self, freq_threshold, max_size):\n",
    "        #defining pad, start of sentence, end of sentence and unknown token index\n",
    "        self.itos = {0:\"<PAD>\", 1: \"<SOS>\", 2: \"<EOS>\", 3: \"<UNK>\"} #index to string dict\n",
    "        self.stoi = {k:j for j,k in self.itos.items()} #string to index dict\n",
    "        self.freq_threshold = freq_threshold #minimum word frequency needed to be included in vocab\n",
    "        self.max_size = max_size #max vocab size\n",
    "        \n",
    "    def __len__(self):\n",
    "        return len(self.itos)\n",
    "    \n",
    "    \n",
    "    \n",
    "    '''\n",
    "    a simple tokenizer that splits on space and converts the sentence to list of words \n",
    "    '''\n",
    "    @staticmethod #static method is independent of a class instance\n",
    "    def tokenizer(text):\n",
    "        try:\n",
    "            return [tok.lower().strip() for tok in text.split(' ')]\n",
    "        except:\n",
    "            print(text)\n",
    "            exit(1)\n",
    "    \n",
    "    '''\n",
    "    build the vocab\n",
    "    '''\n",
    "    def build_vocabulary(self,sentence_list):\n",
    "        frequencies = {}\n",
    "        idx = 4\n",
    "        \n",
    "        #calculate freq of words\n",
    "        for sentence in sentence_list:\n",
    "            for word in self.tokenizer(sentence):\n",
    "                if word not in frequencies.keys():\n",
    "                    frequencies[word]=1\n",
    "                else:\n",
    "                    frequencies[word]+=1\n",
    "        \n",
    "        #limit vocab by removing low freq words\n",
    "        frequencies = {k:v for k,v in frequencies.items() if v>self.freq_threshold}\n",
    "        #limit vocab to the max size specified\n",
    "        if len(frequencies)>self.max_size-4:\n",
    "            frequencies = dict(sorted(frequencies.items(), key = lambda x: -x[1])[:self.max_size-4]) #-4 for start,end, pad, unk token\n",
    "        #create vocab\n",
    "        for word in frequencies.keys():\n",
    "            self.stoi[word] = idx\n",
    "            self.itos[idx] = word\n",
    "            idx+=1\n",
    "                \n",
    "    '''\n",
    "    convert the list of words to a list of corresponding indexes\n",
    "    '''\n",
    "    def numericalize(self, text):\n",
    "        tokenized_text = self.tokenizer(text)\n",
    "        numericalized_text = []\n",
    "        for token in tokenized_text:\n",
    "            if token in self.stoi.keys():\n",
    "                numericalized_text.append(self.stoi[token])\n",
    "            else:\n",
    "                numericalized_text.append(self.stoi['<UNK>'])\n",
    "        \n",
    "        return numericalized_text\n",
    "                    \n",
    "\n",
    "class Train_Dataset(Dataset): \n",
    "    \n",
    "    '''\n",
    "    Initiating Variables\n",
    "    source_column : the name of source text column in the dataframe\n",
    "    target_columns : the name of target text column in the dataframe\n",
    "    transform : If we want to add any augmentation\n",
    "    freq_threshold : the minimum times a word must occur in corpus to be treated in vocab\n",
    "    source_vocab_max_size : max source vocab size\n",
    "    target_vocab_max_size : max target vocab size\n",
    "    '''\n",
    "    def __init__(self, df,source_column, target_column, transform = None, freq_threshold = 0, \n",
    "                 source_vocab_max_size= 10000, target_vocab_max_size = 10000):\n",
    "        self.df = df\n",
    "        self.transform = transform\n",
    "        \n",
    "        #get source and target texts\n",
    "        self.source_texts = self.df[source_column].values\n",
    "        self.target_texts = self.df[target_column].values\n",
    "        # print(self.source_texts)\n",
    "        # print(self.target_texts)\n",
    "        \n",
    "        ##VOCABULARY class will be created below\n",
    "        #create source vocab\n",
    "        self.source_vocab = Vocabulary(freq_threshold,source_vocab_max_size)\n",
    "        self.source_vocab.build_vocabulary(self.source_texts.tolist())\n",
    "        #create target vocab\n",
    "        self.target_vocab = Vocabulary(freq_threshold,target_vocab_max_size)\n",
    "        self.target_vocab.build_vocabulary(self.target_texts.tolist())\n",
    "        \n",
    "        \n",
    "        \n",
    "    def __len__(self):\n",
    "        return len(self.df)\n",
    "    \n",
    "    #getitem gets 1 example at a time. This is done before a batch is created\n",
    "    def __getitem__(self, index):\n",
    "        # print(index)\n",
    "        # print(self.source_texts[index])\n",
    "        source_text = self.source_texts[index]\n",
    "        # print(source_text)\n",
    "        target_text = self.target_texts[index]\n",
    "        # print(target_text)\n",
    "        if self.transform is not None:\n",
    "            source_text = self.transform(source_text)\n",
    "            \n",
    "        #numericalize texts ['<SOS>','cat', 'in', 'a', 'bag','<EOS>'] -> [1,12,2,9,24,2]\n",
    "        numerialized_source = [self.source_vocab.stoi[\"<SOS>\"]]\n",
    "        numerialized_source += self.source_vocab.numericalize(source_text)\n",
    "        numerialized_source.append(self.source_vocab.stoi[\"<EOS>\"])\n",
    "    \n",
    "        numerialized_target = [self.target_vocab.stoi[\"<SOS>\"]]\n",
    "        numerialized_target += self.target_vocab.numericalize(target_text)\n",
    "        numerialized_target.append(self.target_vocab.stoi[\"<EOS>\"])\n",
    "        #print(numerialized_source)\n",
    "        return torch.tensor(numerialized_source), torch.tensor(numerialized_target) \n",
    "    \n",
    "\n",
    "\"\"\"\n",
    "Create a separate dataset for Test as we\n",
    "are going to reuse train's vocabulary.\n",
    "Better practice to define a separate class for Test\n",
    "\"\"\" \n",
    "\n",
    "class Test_Dataset:\n",
    "    def __init__(self, train_dataset, df, source_column, target_column, transform = None):\n",
    "        self.df = df\n",
    "        self.transform = transform\n",
    "        \n",
    "        #train dataset will be used as lookup for vocab\n",
    "        self.train_dataset = train_dataset\n",
    "        \n",
    "        #get source and target texts\n",
    "        self.source_texts = self.df[source_column].values\n",
    "        self.target_texts = self.df[target_column].values\n",
    "    \n",
    "    def __len__(self):\n",
    "        return len(self.df)\n",
    "    \n",
    "    def __getitem__(self,index):\n",
    "        source_text = self.source_texts[index]\n",
    "        #print(source_text)\n",
    "        target_text = self.target_texts[index]\n",
    "        #print(target_text)\n",
    "        if self.transform is not None:\n",
    "            source_text = self.transform(source_text)\n",
    "            \n",
    "        #numericalize texts ['<SOS>','cat', 'in', 'a', 'bag','<EOS>'] -> [1,12,2,9,24,2]\n",
    "        numerialized_source = [self.train_dataset.source_vocab.stoi[\"<SOS>\"]]\n",
    "        numerialized_source += self.train_dataset.source_vocab.numericalize(source_text)\n",
    "        numerialized_source.append(self.train_dataset.source_vocab.stoi[\"<EOS>\"])\n",
    "    \n",
    "        numerialized_target = [self.train_dataset.target_vocab.stoi[\"<SOS>\"]]\n",
    "        numerialized_target += self.train_dataset.target_vocab.numericalize(target_text)\n",
    "        numerialized_target.append(self.train_dataset.target_vocab.stoi[\"<EOS>\"])\n",
    "        #print(numerialized_source)\n",
    "        return torch.tensor(numerialized_source), torch.tensor(numerialized_target) \n",
    "\n",
    "\n",
    "\n",
    "\"\"\"\n",
    "a class to create padding to the batches\n",
    " collat_fn in dataloader is used for postprocessing on a single batch. Like __getitem__ in dataset class was used\n",
    " for a single example\n",
    "\"\"\"\n",
    "\n",
    "class MyCollate:\n",
    "    def __init__(self, pad_idx):\n",
    "        self.pad_idx = pad_idx\n",
    "        \n",
    "    # __call__ :\n",
    "    ##    First the obj is created using MyCollate(pad_idx).\n",
    "    ##    Then if obj(batch) is called -> __call__ runs by default\n",
    "    def __call__(self, batch):\n",
    "        source = [item[0] for item in batch]\n",
    "        source = pad_sequence(source, batch_first=False, padding_value = self.pad_idx)\n",
    "        target = [item[1] for item in batch]\n",
    "        target = pad_sequence(target, batch_first=False, padding_value = self.pad_idx)\n",
    "        \n",
    "        return source,target\n",
    "\n",
    "\n",
    "# If we run a next(iter(data_loader)) we get an output of batch_size * (num_workers+1)\n",
    "def get_train_loader(dataset, batch_size, num_workers=1, shuffle=True, pin_memory=False):\n",
    "    pad_idx = dataset.source_vocab.stoi['<PAD>']\n",
    "    loader = DataLoader(dataset, batch_size = batch_size, num_workers = num_workers,\n",
    "                        shuffle=shuffle,\n",
    "                       pin_memory=pin_memory, collate_fn = MyCollate(pad_idx=pad_idx))\n",
    "    return loader\n",
    "\n",
    "def get_valid_loader(dataset, train_dataset, batch_size, num_workers=1, shuffle=True, pin_memory=False):\n",
    "    pad_idx = train_dataset.source_vocab.stoi['<PAD>']\n",
    "    loader = DataLoader(dataset, batch_size = batch_size, num_workers = num_workers,\n",
    "                        shuffle=shuffle,\n",
    "                       pin_memory=pin_memory, collate_fn = MyCollate(pad_idx=pad_idx))\n",
    "    return loader"
   ]
  },
  {
   "cell_type": "code",
   "execution_count": 10,
   "metadata": {},
   "outputs": [
    {
     "name": "stdout",
     "output_type": "stream",
     "text": [
      "index to string:  {0: '<PAD>', 1: '<SOS>', 2: '<EOS>', 3: '<UNK>', 4: 'anakon', 5: 'ankit'}\n",
      "string to index: {'<PAD>': 0, '<SOS>': 1, '<EOS>': 2, '<UNK>': 3, 'anakon': 4, 'ankit': 5}\n",
      "numericalize -> cat and a dog:  [3, 3, 3, 3]\n"
     ]
    }
   ],
   "source": [
    "#create a vocab class with freq_threshold=0 and max_size=100\n",
    "voc = Vocabulary(0, 100)\n",
    "sentence_list = ['anakon', 'ankit']\n",
    "#build vocab\n",
    "voc.build_vocabulary(sentence_list)\n",
    "\n",
    "print('index to string: ',voc.itos)\n",
    "print('string to index:',voc.stoi)\n",
    "\n",
    "print('numericalize -> cat and a dog: ', voc.numericalize('cat and a dog'))"
   ]
  },
  {
   "cell_type": "code",
   "execution_count": 11,
   "metadata": {},
   "outputs": [
    {
     "data": {
      "text/html": [
       "<div>\n",
       "<style scoped>\n",
       "    .dataframe tbody tr th:only-of-type {\n",
       "        vertical-align: middle;\n",
       "    }\n",
       "\n",
       "    .dataframe tbody tr th {\n",
       "        vertical-align: top;\n",
       "    }\n",
       "\n",
       "    .dataframe thead th {\n",
       "        text-align: right;\n",
       "    }\n",
       "</style>\n",
       "<table border=\"1\" class=\"dataframe\">\n",
       "  <thead>\n",
       "    <tr style=\"text-align: right;\">\n",
       "      <th></th>\n",
       "      <th>hindi</th>\n",
       "      <th>english</th>\n",
       "    </tr>\n",
       "  </thead>\n",
       "  <tbody>\n",
       "    <tr>\n",
       "      <th>0</th>\n",
       "      <td>अं</td>\n",
       "      <td>an</td>\n",
       "    </tr>\n",
       "    <tr>\n",
       "      <th>1</th>\n",
       "      <td>अंकगणित</td>\n",
       "      <td>ankganit</td>\n",
       "    </tr>\n",
       "    <tr>\n",
       "      <th>2</th>\n",
       "      <td>अंकल</td>\n",
       "      <td>uncle</td>\n",
       "    </tr>\n",
       "    <tr>\n",
       "      <th>3</th>\n",
       "      <td>अंकुर</td>\n",
       "      <td>ankur</td>\n",
       "    </tr>\n",
       "    <tr>\n",
       "      <th>4</th>\n",
       "      <td>अंकुरण</td>\n",
       "      <td>ankuran</td>\n",
       "    </tr>\n",
       "  </tbody>\n",
       "</table>\n",
       "</div>"
      ],
      "text/plain": [
       "     hindi   english\n",
       "0       अं        an\n",
       "1  अंकगणित  ankganit\n",
       "2     अंकल     uncle\n",
       "3    अंकुर     ankur\n",
       "4   अंकुरण   ankuran"
      ]
     },
     "execution_count": 11,
     "metadata": {},
     "output_type": "execute_result"
    }
   ],
   "source": [
    "train_df = dataset_train[[\"hindi\",\"english\"]]\n",
    "train_df.head()"
   ]
  },
  {
   "cell_type": "code",
   "execution_count": 12,
   "metadata": {},
   "outputs": [
    {
     "name": "stdout",
     "output_type": "stream",
     "text": [
      "length of train dataset: 44202\n"
     ]
    }
   ],
   "source": [
    "train_dataset = Train_Dataset(dataset_train, source_column = \"english\", target_column = \"hindi\", transform = None)\n",
    "print(f\"length of train dataset: {len(train_dataset)}\")"
   ]
  },
  {
   "cell_type": "code",
   "execution_count": 13,
   "metadata": {},
   "outputs": [
    {
     "data": {
      "text/html": [
       "<div>\n",
       "<style scoped>\n",
       "    .dataframe tbody tr th:only-of-type {\n",
       "        vertical-align: middle;\n",
       "    }\n",
       "\n",
       "    .dataframe tbody tr th {\n",
       "        vertical-align: top;\n",
       "    }\n",
       "\n",
       "    .dataframe thead th {\n",
       "        text-align: right;\n",
       "    }\n",
       "</style>\n",
       "<table border=\"1\" class=\"dataframe\">\n",
       "  <thead>\n",
       "    <tr style=\"text-align: right;\">\n",
       "      <th></th>\n",
       "      <th>hindi</th>\n",
       "      <th>english</th>\n",
       "    </tr>\n",
       "  </thead>\n",
       "  <tbody>\n",
       "    <tr>\n",
       "      <th>0</th>\n",
       "      <td>अंक</td>\n",
       "      <td>ank</td>\n",
       "    </tr>\n",
       "    <tr>\n",
       "      <th>1</th>\n",
       "      <td>अंक</td>\n",
       "      <td>anka</td>\n",
       "    </tr>\n",
       "    <tr>\n",
       "      <th>2</th>\n",
       "      <td>अंकित</td>\n",
       "      <td>ankit</td>\n",
       "    </tr>\n",
       "    <tr>\n",
       "      <th>3</th>\n",
       "      <td>अंकों</td>\n",
       "      <td>anakon</td>\n",
       "    </tr>\n",
       "    <tr>\n",
       "      <th>4</th>\n",
       "      <td>अंकों</td>\n",
       "      <td>ankhon</td>\n",
       "    </tr>\n",
       "  </tbody>\n",
       "</table>\n",
       "</div>"
      ],
      "text/plain": [
       "   hindi english\n",
       "0    अंक     ank\n",
       "1    अंक    anka\n",
       "2  अंकित   ankit\n",
       "3  अंकों  anakon\n",
       "4  अंकों  ankhon"
      ]
     },
     "execution_count": 13,
     "metadata": {},
     "output_type": "execute_result"
    }
   ],
   "source": [
    "test_df = dataset_test[[\"hindi\",\"english\"]]\n",
    "test_df.head()"
   ]
  },
  {
   "cell_type": "code",
   "execution_count": 14,
   "metadata": {},
   "outputs": [
    {
     "name": "stdout",
     "output_type": "stream",
     "text": [
      "length of test dataset: 4502\n"
     ]
    }
   ],
   "source": [
    "test_dataset = Test_Dataset(train_dataset, dataset_test, source_column = \"english\", target_column = \"hindi\", transform = None)\n",
    "print(f\"length of test dataset: {len(test_dataset)}\")"
   ]
  },
  {
   "cell_type": "markdown",
   "metadata": {},
   "source": [
    "## Defining Model"
   ]
  },
  {
   "attachments": {},
   "cell_type": "markdown",
   "metadata": {},
   "source": [
    "### Model SEQ2SEQ RNN"
   ]
  },
  {
   "cell_type": "code",
   "execution_count": 15,
   "metadata": {},
   "outputs": [],
   "source": [
    "import random\n",
    "class EncoderRNN(nn.Module):\n",
    "    \"\"\"\n",
    "    ### Define EncoderRNN\n",
    "    The input to encoder is the whole sentence. Therefore, the size of x in forward is (seq_length, batch_size)\n",
    "    \"\"\"\n",
    "    '''\n",
    "    input_size -> source vocab size\n",
    "    '''\n",
    "    def __init__(self, input_size, embedding_size, hidden_size, num_layers, dropout_p):\n",
    "        super(EncoderRNN, self).__init__()\n",
    "        self.dropout = nn.Dropout(dropout_p)\n",
    "        self.hidden_size = hidden_size\n",
    "        self.num_layers = num_layers\n",
    "        self.embedding = nn.Embedding(input_size, embedding_size)\n",
    "        \n",
    "        self.rnn = nn.RNN(embedding_size, hidden_size, num_layers, dropout=dropout_p)\n",
    "        \n",
    "    def forward(self, x):\n",
    "        # print(\"Inside encoder forward\")\n",
    "        # shape of x-> (seq_length, batch_size)\n",
    "        embedding = self.dropout(self.embedding(x)) #shape-> (seq_length, batch_size, embedding_size)\n",
    "        # print(f\"embedding shape: {embedding.shape}\")\n",
    "        outputs, (hidden,cell) = self.rnn(embedding)\n",
    "        # print('output: ', outputs.shape, '\\nhidden: ', hidden.shape)\n",
    "        return hidden, cell #shape-> (num_layers, batch_size, hidden_size)\n",
    "\n",
    "\n",
    "\n",
    "\n",
    "\n",
    "class DecoderRNN(nn.Module):\n",
    "    \"\"\"\n",
    "    ### Define DecoderRNN\n",
    "    * Input is one word at a time. shape of x is-> (1, batch_size)\n",
    "    * embedding size-> (1, batch_size, embedding_size)\n",
    "    * outputs-> (1, batch_size, hidden_size)\n",
    "    * predictions -> (batch_size, output_size)\n",
    "    \"\"\"\n",
    "    def __init__(self, input_size, embedding_size, hidden_size, output_size, num_layers, dropout_p):\n",
    "        super(DecoderRNN, self).__init__()\n",
    "        self.dropout = nn.Dropout(dropout_p)\n",
    "        self.hidden_size = hidden_size\n",
    "        self.num_layers = num_layers\n",
    "        \n",
    "        self.embedding = nn.Embedding(input_size, embedding_size)\n",
    "        self.rnn = nn.RNN(embedding_size, hidden_size, num_layers, dropout = dropout_p)\n",
    "        self.fc = nn.Linear(hidden_size, output_size)\n",
    "        \n",
    "    def forward(self, x, hidden, cell):\n",
    "        # print(\"Inside decoder forward\")\n",
    "        # for next(iter(train_loader))[1][0] will give us the first word for batch_size (,batch_size)\n",
    "        # to input to model, we need to add a dimension at 0\n",
    "        # x-> (, batch_size) -> convert to (1, batch_size)\n",
    "        x = x.unsqueeze(0)\n",
    "        #print('input unsqueezed: ', x.shape)\n",
    "        embedding = self.dropout(self.embedding(x)) #(1, batch_size, embedding_size)\n",
    "        #print('embedding: ', embedding.shape)\n",
    "        # print(f\"embedding shape: {embedding.shape}\")\n",
    "        # print(f\"hidden shape: {hidden.shape}\")\n",
    "        # print(f\"c shape: {cell.shape}\")\n",
    "        output, (hidden, cell) = self.rnn(embedding,torch.stack([hidden, cell])) #UG-> Need to understand how RNN takes both inputs\n",
    "        # print('output: ', output.shape, '\\nhidden: ', hidden.shape)\n",
    "        #outputshape -> (1, batch_size, hidden_size)\n",
    "        predictions = self.fc(output) #(1, batch_size, output_size)\n",
    "        #print('predictions: ', predictions.shape)\n",
    "        #to send predictions to loss func we need to remove 0th dim\n",
    "        predictions = predictions.squeeze(0)\n",
    "        #print('predictions squeezed: ', predictions.shape)\n",
    "        return predictions, hidden, cell\n",
    "        \n",
    "\n",
    "class Seq2SeqRNN(nn.Module):\n",
    "    def __init__(self, encoder, decoder, output_size, device):\n",
    "        super(Seq2SeqRNN, self).__init__()\n",
    "        self.encoder = encoder\n",
    "        self.decoder = decoder\n",
    "        self.output_size = output_size\n",
    "        self.device = device\n",
    "        \n",
    "    def forward(self, source , target, teacher_force_ratio = 0.5):\n",
    "        #source-> (max_seq_length, batch_size)\n",
    "        #target-> (max_seq_length, batch_size)\n",
    "        batch_size = source.shape[1]\n",
    "        target_len = target.shape[0]\n",
    "        target_vocab_size = self.output_size #the size of target vocab\n",
    "        \n",
    "        #this tensor will be used for predicting output one by one\n",
    "        outputs = torch.zeros(target_len, batch_size, target_vocab_size).to(self.device)\n",
    "        \n",
    "        hidden, cell = self.encoder(source)\n",
    "        \n",
    "        #get first token from input to the decoder -> <SOS>\n",
    "        x = target[0] #shape -> (,batch_size)\n",
    "        \n",
    "        for t in range(1, target_len):\n",
    "            #get output, hidden, cell from decoder. Input is x, previous hidden and cell\n",
    "            prediction, hidden, cell = self.decoder(x, hidden, cell)\n",
    "            #prediction shape-> (batch_size, target_vocab_size)\n",
    "            \n",
    "            #store next output prediction\n",
    "            outputs[t] = prediction\n",
    "            \n",
    "            #get best word the decoder predicted (index of target_vocab)\n",
    "            best_guess = prediction.argmax(1)\n",
    "            #print('best guess: ', best_guess.shape)\n",
    "            #print('target[t]: ', target[t].shape)\n",
    "            # teacher forcing ratio is used to sometime input the previous prediction and sometime give the actual word from training data\n",
    "            x = target[t] if random.random()<teacher_force_ratio else best_guess\n",
    "            \n",
    "            \n",
    "        return outputs #shape-> (seq_length, batch_size, target_vocab)"
   ]
  },
  {
   "attachments": {},
   "cell_type": "markdown",
   "metadata": {},
   "source": [
    "### Model SEQ2SEQ LSTM"
   ]
  },
  {
   "cell_type": "code",
   "execution_count": 16,
   "metadata": {},
   "outputs": [],
   "source": [
    "import random\n",
    "\n",
    "class EncoderLSTM(nn.Module):\n",
    "    \"\"\"\n",
    "    ### Define EncoderLSTM\n",
    "    The input to encoder is the whole sentence. Therefore, the size of x in forward is (seq_length, batch_size)\n",
    "    \"\"\"\n",
    "    '''\n",
    "    input_size -> source vocab size\n",
    "    '''\n",
    "    def __init__(self, input_size, embedding_size, hidden_size, num_layers, dropout_p):\n",
    "        super(EncoderLSTM, self).__init__()\n",
    "        self.dropout = nn.Dropout(dropout_p)\n",
    "        self.hidden_size = hidden_size\n",
    "        self.num_layers = num_layers\n",
    "        self.embedding = nn.Embedding(input_size, embedding_size)\n",
    "        \n",
    "        self.rnn = nn.LSTM(embedding_size, hidden_size, num_layers, dropout=dropout_p)\n",
    "        \n",
    "    def forward(self, x):\n",
    "        # shape of x-> (seq_length, batch_size)\n",
    "        embedding = self.dropout(self.embedding(x)) #shape-> (seq_length, batch_size, embedding_size)\n",
    "        \n",
    "        outputs, (hidden,cell) = self.rnn(embedding)\n",
    "        \n",
    "        return hidden, cell #shape-> (num_layers, batch_size, hidden_size)\n",
    "\n",
    "\n",
    "\n",
    "\n",
    "\n",
    "class DecoderLSTM(nn.Module):\n",
    "    \"\"\"\n",
    "    ### Define DecoderLSTM\n",
    "    * Input is one word at a time. shape of x is-> (1, batch_size)\n",
    "    * embedding size-> (1, batch_size, embedding_size)\n",
    "    * outputs-> (1, batch_size, hidden_size)\n",
    "    * predictions -> (batch_size, output_size)\n",
    "    \"\"\"\n",
    "    def __init__(self, input_size, embedding_size, hidden_size, output_size, num_layers, dropout_p):\n",
    "        super(DecoderLSTM, self).__init__()\n",
    "        self.dropout = nn.Dropout(dropout_p)\n",
    "        self.hidden_size = hidden_size\n",
    "        self.num_layers = num_layers\n",
    "        \n",
    "        self.embedding = nn.Embedding(input_size, embedding_size)\n",
    "        self.rnn = nn.LSTM(embedding_size, hidden_size, num_layers, dropout = dropout_p)\n",
    "        self.fc = nn.Linear(hidden_size, output_size)\n",
    "        \n",
    "    def forward(self, x, hidden, cell):\n",
    "        # for next(iter(train_loader))[1][0] will give us the first word for batch_size (,batch_size)\n",
    "        # to input to model, we need to add a dimension at 0\n",
    "        # x-> (, batch_size) -> convert to (1, batch_size)\n",
    "        x = x.unsqueeze(0)\n",
    "        #print('input unsqueezed: ', x.shape)\n",
    "        embedding = self.dropout(self.embedding(x)) #(1, batch_size, embedding_size)\n",
    "        #print('embedding: ', embedding.shape)\n",
    "        output, (hidden, cell) = self.rnn(embedding, (hidden, cell)) #UG-> Need to understand how LSTM takes both inputs\n",
    "        #print('output: ', output.shape, '\\nhidden: ', hidden.shape)\n",
    "        #outputshape -> (1, batch_size, hidden_size)\n",
    "        predictions = self.fc(output) #(1, batch_size, output_size)\n",
    "        #print('predictions: ', predictions.shape)\n",
    "        #to send predictions to loss func we need to remove 0th dim\n",
    "        predictions = predictions.squeeze(0)\n",
    "        #print('predictions squeezed: ', predictions.shape)\n",
    "        return predictions, hidden, cell\n",
    "        \n",
    "\n",
    "class Seq2SeqLSTM(nn.Module):\n",
    "    def __init__(self, encoder, decoder, output_size, device):\n",
    "        super(Seq2SeqLSTM, self).__init__()\n",
    "        self.encoder = encoder\n",
    "        self.decoder = decoder\n",
    "        self.output_size = output_size\n",
    "        self.device = device\n",
    "        \n",
    "    def forward(self, source , target, teacher_force_ratio = 0.5):\n",
    "        #source-> (max_seq_length, batch_size)\n",
    "        #target-> (max_seq_length, batch_size)\n",
    "        batch_size = source.shape[1]\n",
    "        target_len = target.shape[0]\n",
    "        target_vocab_size = self.output_size #the size of target vocab\n",
    "        \n",
    "        #this tensor will be used for predicting output one by one\n",
    "        outputs = torch.zeros(target_len, batch_size, target_vocab_size).to(self.device)\n",
    "        \n",
    "        hidden, cell = self.encoder(source)\n",
    "        \n",
    "        #get first token from input to the decoder -> <SOS>\n",
    "        x = target[0] #shape -> (,batch_size)\n",
    "        \n",
    "        for t in range(1, target_len):\n",
    "            #get output, hidden, cell from decoder. Input is x, previous hidden and cell\n",
    "            prediction, hidden, cell = self.decoder(x, hidden, cell)\n",
    "            #prediction shape-> (batch_size, target_vocab_size)\n",
    "            \n",
    "            #store next output prediction\n",
    "            outputs[t] = prediction\n",
    "            \n",
    "            #get best word the decoder predicted (index of target_vocab)\n",
    "            best_guess = prediction.argmax(1)\n",
    "            #print('best guess: ', best_guess.shape)\n",
    "            #print('target[t]: ', target[t].shape)\n",
    "            # teacher forcing ratio is used to sometime input the previous prediction and sometime give the actual word from training data\n",
    "            x = target[t] if random.random()<teacher_force_ratio else best_guess\n",
    "            \n",
    "            \n",
    "        return outputs #shape-> (seq_length, batch_size, target_vocab)"
   ]
  },
  {
   "cell_type": "markdown",
   "metadata": {},
   "source": [
    "## Initialize network"
   ]
  },
  {
   "cell_type": "code",
   "execution_count": 17,
   "metadata": {},
   "outputs": [],
   "source": [
    "# Training hyperparameters\n",
    "num_epochs = 15\n",
    "learning_rate = 0.001\n",
    "batch_size = 128\n",
    "\n",
    "# Model hyperparameters\n",
    "input_size_encoder = 10000\n",
    "input_size_decoder = 10000\n",
    "output_size = input_size_decoder #compulsory to define\n",
    "encoder_embedding_size = 150\n",
    "decoder_embedding_size = 150\n",
    "hidden_size = 1024  # Needs to be the same for both RNN's\n",
    "num_layers = 2\n",
    "enc_dropout = 0.5\n",
    "dec_dropout = 0.5\n",
    "\n",
    "# Tensorboard to get nice loss plot\n",
    "#writer = SummaryWriter(f\"runs/loss_plot\")\n",
    "\n",
    "transforms = False\n",
    "\n",
    "train_loader = get_train_loader(train_dataset, batch_size, num_workers=4, shuffle=True, pin_memory=True)\n",
    "test_loader = get_valid_loader(test_dataset, train_dataset, batch_size, num_workers=4, shuffle=True, pin_memory=True)"
   ]
  },
  {
   "cell_type": "code",
   "execution_count": 18,
   "metadata": {},
   "outputs": [
    {
     "data": {
      "text/plain": [
       "Seq2SeqLSTM(\n",
       "  (encoder): EncoderLSTM(\n",
       "    (dropout): Dropout(p=0.5, inplace=False)\n",
       "    (embedding): Embedding(10000, 150)\n",
       "    (rnn): LSTM(150, 1024, num_layers=2, dropout=0.5)\n",
       "  )\n",
       "  (decoder): DecoderLSTM(\n",
       "    (dropout): Dropout(p=0.5, inplace=False)\n",
       "    (embedding): Embedding(10000, 150)\n",
       "    (rnn): LSTM(150, 1024, num_layers=2, dropout=0.5)\n",
       "    (fc): Linear(in_features=1024, out_features=10000, bias=True)\n",
       "  )\n",
       ")"
      ]
     },
     "execution_count": 18,
     "metadata": {},
     "output_type": "execute_result"
    }
   ],
   "source": [
    "# define models, 1 for RNN and 2 for LSTM seq2seq\n",
    "encoder_net_rnn = EncoderRNN(input_size_encoder, encoder_embedding_size, hidden_size, num_layers, enc_dropout).to(device)\n",
    "decoder_net_rnn = DecoderRNN(input_size_decoder, decoder_embedding_size, hidden_size, output_size, num_layers, dec_dropout).to(device)\n",
    "\n",
    "model_rnn = Seq2SeqRNN(encoder_net_rnn, decoder_net_rnn, output_size, device)\n",
    "model_rnn.to(device)\n",
    "\n",
    "encoder_net_lstm = EncoderLSTM(input_size_encoder, encoder_embedding_size, hidden_size, num_layers, enc_dropout).to(device)\n",
    "decoder_net_lstm = DecoderLSTM(input_size_decoder, decoder_embedding_size, hidden_size, output_size, num_layers, dec_dropout).to(device)\n",
    "\n",
    "model_lstm = Seq2SeqLSTM(encoder_net_lstm, decoder_net_lstm, output_size, device)\n",
    "model_lstm.to(device)"
   ]
  },
  {
   "attachments": {},
   "cell_type": "markdown",
   "metadata": {},
   "source": [
    "## Utill functios"
   ]
  },
  {
   "attachments": {},
   "cell_type": "markdown",
   "metadata": {},
   "source": [
    "### plotting training testing & train loop functions"
   ]
  },
  {
   "cell_type": "code",
   "execution_count": 19,
   "metadata": {},
   "outputs": [],
   "source": [
    "# Plot loss curves of a model\n",
    "def plot_loss_curves(results):\n",
    "    \"\"\"\n",
    "    Plots training curves of a results dictionary.\n",
    "\n",
    "    Args:\n",
    "        results (dict): dictionary containing list of values, e.g.\n",
    "            {\n",
    "              \"train_loss\": [...],\n",
    "              \"test_loss\": [...],\n",
    "             }\n",
    "    \"\"\"\n",
    "    loss = results[\"train_loss\"]\n",
    "    test_loss = results[\"test_loss\"]\n",
    "\n",
    "    epochs = range(len(results[\"train_loss\"]))\n",
    "\n",
    "    plt.figure(figsize=(7, 7))\n",
    "\n",
    "    # Plot loss\n",
    "    plt.subplot(1, 1, 1)\n",
    "    plt.plot(epochs, loss, label=\"train_loss\")\n",
    "    plt.plot(epochs, test_loss, label=\"test_loss\")\n",
    "    plt.title(\"Loss\")\n",
    "    plt.xlabel(\"Epochs\")\n",
    "    plt.legend()\n",
    "    \n",
    "\n",
    "def training_step(\n",
    "    model: nn.Module,\n",
    "    dataloader: torch.utils.data.DataLoader,\n",
    "    loss_fn: nn.Module,\n",
    "    acc_fn: torchmetrics.classification.accuracy.MulticlassAccuracy,\n",
    "    optimizer: torch.optim.Optimizer,\n",
    "    device: str,\n",
    "):\n",
    "    \"\"\"\n",
    "    Desc:\n",
    "      funtion to perform traning step for one EPOCH\n",
    "\n",
    "    Args:\n",
    "      model (nn.Module): Pytorch model class object\n",
    "      dataloader (torch.utils.data.DataLoader): training dataloder from training dataset\n",
    "      loss_fn (nn.Module): Loss Function (object) of your choice\n",
    "      acc_fn (torchmetrics.classification.accuracy.MulticlassAccuracy): accuracy function from trochmetrics\n",
    "      optimizer (torch.optim.Optimizer): Optimizer Function (object) of your choice\n",
    "      device (str): Torch Device \"CPU/GPU\"\n",
    "    Returns:\n",
    "      train_loss (float), train_acc (float): training loss and training accuracy for one EPOCH\n",
    "    \"\"\"\n",
    "    model.train()  # putting model in traing model\n",
    "\n",
    "    train_loss = 0  # initlizing loss and acc. for the epoch\n",
    "\n",
    "    # print(type(model.parameters()))\n",
    "    for (X, y) in dataloader:  # loop in batches\n",
    "        # model_parms_before_forward_pass = np.array([x.detach().numpy() for x in model.parameters()].copy())\n",
    "        X, y = X.to(device), y.to(device)  # sending the data to target device\n",
    "        # print(f\"shape of X: {X.shape}, shape of y: {y.shape}\")\n",
    "        \n",
    "        # 1. forward pass\n",
    "        y_pred_logits = model(X,y)\n",
    "        \n",
    "        y_pred_logits = y_pred_logits[1:].reshape(-1, y_pred_logits.shape[2])\n",
    "        y = y[1:].reshape(-1)\n",
    "        \n",
    "        # 2. calculate the loss\n",
    "        loss = loss_fn(y_pred_logits, y)\n",
    "        train_loss += loss.item()\n",
    "\n",
    "        # 3. optimizer zero grad\n",
    "        optimizer.zero_grad()\n",
    "\n",
    "        # 4. loss backword\n",
    "        loss.backward()\n",
    "\n",
    "        # 5. optimizer step\n",
    "        optimizer.step()\n",
    "\n",
    "        # model_parms_after_forward_pass = np.array([x.detach().numpy() for x in model.parameters()])\n",
    "        # print(\"Model parms diff:\")\n",
    "        # print([(i,j) for (i,j) in zip(iter(model_parms_after_forward_pass),iter(model_parms_before_forward_pass))])\n",
    "        # print(model_parms_after_forward_pass - model_parms_before_forward_pass,sep=\"\\n\")\n",
    "        # train_acc += acc_fn(y_pred_logits, y).item()\n",
    "\n",
    "    # 6. returning actual loss and acc.x\n",
    "    return train_loss / len(dataloader)#, train_acc / len(dataloader)\n",
    "\n",
    "\n",
    "\n",
    "def testing_step(\n",
    "    model: nn.Module,\n",
    "    dataloader: torch.utils.data.DataLoader,\n",
    "    loss_fn: nn.Module,\n",
    "    acc_fn: torchmetrics.classification.accuracy.MulticlassAccuracy,\n",
    "    device: str,\n",
    "):\n",
    "    \"\"\"\n",
    "    Desc:\n",
    "      funtion to perform testing step for one EPOCH\n",
    "\n",
    "    Args:\n",
    "      model (nn.Module): Pytorch model class object\n",
    "      dataloader (torch.utils.data.DataLoader): testing dataloder from training dataset\n",
    "      loss_fn (nn.Module): Loss Function (object) of your choice\n",
    "      acc_fn (torchmetrics.classification.accuracy.MulticlassAccuracy): accuracy function from trochmetrics\n",
    "      device (str): Torch Device \"CPU/GPU\"\n",
    "    Returns:\n",
    "      test_loss (float), test_acc (float): testing loss and testing accuracy for one EPOCH\n",
    "    \"\"\"\n",
    "    model.eval()  # putting model in eval model\n",
    "\n",
    "    test_loss = 0  # initlizing loss and acc. for the epoch\n",
    "\n",
    "    # with torch.inference_mode(): # disabling inference mode for aqcuiring gradients of perturbed data\n",
    "    for (X, y) in dataloader:  # loop in batches\n",
    "        X, y = X.to(device), y.to(device)  # sending the data to target device\n",
    "        # print(f\"shape of X: {X.shape}, shape of y: {y.shape}\")\n",
    "\n",
    "        # 1. forward pass\n",
    "        y_pred_logits = model(X,y)\n",
    "\n",
    "        y_pred_logits = y_pred_logits[1:].reshape(-1, y_pred_logits.shape[2])\n",
    "        y = y[1:].reshape(-1)\n",
    "        \n",
    "        # 2. calculate the loss\n",
    "        loss = loss_fn(y_pred_logits, y)\n",
    "        test_loss += loss.item()\n",
    "\n",
    "        # printing the prediction and actual label\n",
    "        # print(y_pred_logits.argmax(dim=1), y,sep='\\n')\n",
    "        \n",
    "        # 3. calculating accuracy\n",
    "        # test_acc += acc_fn(y_pred_logits, y).item()\n",
    "\n",
    "    # 6. returning actual loss and acc.\n",
    "    return test_loss / len(dataloader)#, test_acc / len(dataloader)\n",
    "\n",
    "from tqdm.auto import tqdm\n",
    "\n",
    "\n",
    "def train(\n",
    "    model: nn.Module,\n",
    "    train_dataloader: torch.utils.data.DataLoader,\n",
    "    test_dataloader: torch.utils.data.DataLoader,\n",
    "    loss_fn: nn.Module,\n",
    "    acc_fn: torchmetrics.classification.accuracy.MulticlassAccuracy,\n",
    "    optimizer: torch.optim.Optimizer,\n",
    "    epochs: int,\n",
    "    device: str,\n",
    "):\n",
    "    \"\"\"\n",
    "    Desc:\n",
    "      funtion to perform training for one {epochs} param\n",
    "\n",
    "    Args:\n",
    "      model (nn.Module): Pytorch model class object\n",
    "      train_dataloader (torch.utils.data.DataLoader): training dataloder from training dataset\n",
    "      test_dataloader (torch.utils.data.DataLoader): testing dataloder from testing dataset\n",
    "      loss_fn (nn.Module): Loss Function (object) of your choice\n",
    "      acc_fn (torchmetrics.classification.accuracy.MulticlassAccuracy): accuracy function from trochmetrics\n",
    "      device (str): Torch Device \"CPU/GPU\"\n",
    "      epochs (int): number of epochs to train the model\n",
    "      device (str): Torch Device \"CPU/GPU\"\n",
    "    Returns:\n",
    "      result_dict ({str: List[float]}): testing loss and testing accuracy for one EPOCH\n",
    "    \"\"\"\n",
    "    # 1. init. result dict\n",
    "    result_dict = {\"train_loss\": [], \"test_loss\": []}\n",
    "\n",
    "    # 2. loop in range epochs performs train and test steps on the model\n",
    "    for epoch in tqdm(range(epochs)):\n",
    "        train_loss = training_step(\n",
    "            model=model,\n",
    "            dataloader=train_dataloader,\n",
    "            loss_fn=loss_fn,\n",
    "            acc_fn=acc_fn,\n",
    "            optimizer=optimizer,\n",
    "            device=device,\n",
    "        )\n",
    "\n",
    "        test_loss = testing_step(\n",
    "            model=model,\n",
    "            dataloader=test_dataloader,\n",
    "            loss_fn=loss_fn,\n",
    "            acc_fn=acc_fn,\n",
    "            device=device,\n",
    "        )\n",
    "\n",
    "        # 3. print out results\n",
    "        print(\n",
    "            f\"Epoch: {epoch+1} | \"\n",
    "            f\"train_loss: {train_loss:.4f} | \"\n",
    "            f\"test_loss: {test_loss:.4f}  \"\n",
    "        )\n",
    "\n",
    "        # 4. adding results to result_dict\n",
    "        result_dict[\"train_loss\"].append(train_loss)\n",
    "        result_dict[\"test_loss\"].append(test_loss)\n",
    "\n",
    "    # 5. return result dict\n",
    "    return result_dict"
   ]
  },
  {
   "cell_type": "markdown",
   "metadata": {},
   "source": [
    "## Model Training RNN"
   ]
  },
  {
   "cell_type": "code",
   "execution_count": 20,
   "metadata": {},
   "outputs": [
    {
     "data": {
      "application/vnd.jupyter.widget-view+json": {
       "model_id": "d234105f493d44cc8ad571314c76e7be",
       "version_major": 2,
       "version_minor": 0
      },
      "text/plain": [
       "  0%|          | 0/15 [00:00<?, ?it/s]"
      ]
     },
     "metadata": {},
     "output_type": "display_data"
    },
    {
     "name": "stdout",
     "output_type": "stream",
     "text": [
      "Epoch: 1 | train_loss: 3.8334 | test_loss: 0.3796  \n",
      "Epoch: 2 | train_loss: 3.8023 | test_loss: 0.4447  \n",
      "Epoch: 3 | train_loss: 3.8247 | test_loss: 0.4754  \n",
      "Epoch: 4 | train_loss: 3.8281 | test_loss: 0.4933  \n",
      "Epoch: 5 | train_loss: 3.8345 | test_loss: 0.4048  \n",
      "Epoch: 6 | train_loss: 3.8366 | test_loss: 0.3335  \n",
      "Epoch: 7 | train_loss: 3.8382 | test_loss: 0.2924  \n",
      "Epoch: 8 | train_loss: 3.8397 | test_loss: 0.4989  \n",
      "Epoch: 9 | train_loss: 3.8364 | test_loss: 0.4799  \n",
      "Epoch: 10 | train_loss: 3.8398 | test_loss: 0.3127  \n",
      "Epoch: 11 | train_loss: 3.8383 | test_loss: 0.4402  \n",
      "Epoch: 12 | train_loss: 3.8434 | test_loss: 0.3836  \n",
      "Epoch: 13 | train_loss: 3.8419 | test_loss: 0.4699  \n",
      "Epoch: 14 | train_loss: 3.8377 | test_loss: 0.3421  \n",
      "Epoch: 15 | train_loss: 3.8385 | test_loss: 0.3786  \n",
      "total training time: 62.911 sec.\n"
     ]
    },
    {
     "data": {
      "image/png": "[encoded data removed]",
      "text/plain": [
       "<Figure size 700x700 with 1 Axes>"
      ]
     },
     "metadata": {},
     "output_type": "display_data"
    }
   ],
   "source": [
    "from timeit import default_timer as timer\n",
    "\n",
    "\n",
    "optimizer = optim.Adam(model_rnn.parameters(), lr = learning_rate)\n",
    "\n",
    "pad_idx = train_dataset.source_vocab.stoi['<PAD>']\n",
    "\n",
    "criterion = nn.CrossEntropyLoss(ignore_index=pad_idx)\n",
    "\n",
    "accuracy = Accuracy(\"multiclass\", num_classes=10000).to(device)\n",
    "\n",
    "start_time = timer()\n",
    "\n",
    "# train model_rnn\n",
    "model_rnn_results = train(\n",
    "    model=model_rnn,\n",
    "    train_dataloader=train_loader,\n",
    "    test_dataloader=test_loader,\n",
    "    optimizer=optimizer,\n",
    "    loss_fn=criterion,\n",
    "    acc_fn=accuracy,\n",
    "    epochs=num_epochs,\n",
    "    device=device\n",
    ")\n",
    "\n",
    "# end timer\n",
    "end_time = timer()\n",
    "# printing time taken\n",
    "print(f\"total training time: {end_time-start_time:.3f} sec.\")\n",
    "plot_loss_curves(model_rnn_results)\n"
   ]
  },
  {
   "attachments": {},
   "cell_type": "markdown",
   "metadata": {},
   "source": [
    "## Model Training LSTM"
   ]
  },
  {
   "cell_type": "code",
   "execution_count": 21,
   "metadata": {},
   "outputs": [
    {
     "data": {
      "application/vnd.jupyter.widget-view+json": {
       "model_id": "6301006f3a6647e3b301695b5e3b09c5",
       "version_major": 2,
       "version_minor": 0
      },
      "text/plain": [
       "  0%|          | 0/15 [00:00<?, ?it/s]"
      ]
     },
     "metadata": {},
     "output_type": "display_data"
    },
    {
     "name": "stdout",
     "output_type": "stream",
     "text": [
      "Epoch: 1 | train_loss: 3.2618 | test_loss: 0.3787  \n",
      "Epoch: 2 | train_loss: 2.9926 | test_loss: 0.4068  \n",
      "Epoch: 3 | train_loss: 2.9192 | test_loss: 0.4034  \n",
      "Epoch: 4 | train_loss: 2.8754 | test_loss: 0.4066  \n",
      "Epoch: 5 | train_loss: 2.8526 | test_loss: 0.3787  \n",
      "Epoch: 6 | train_loss: 2.8360 | test_loss: 0.3908  \n",
      "Epoch: 7 | train_loss: 2.8214 | test_loss: 0.4244  \n",
      "Epoch: 8 | train_loss: 2.8134 | test_loss: 0.3853  \n",
      "Epoch: 9 | train_loss: 2.7985 | test_loss: 0.4149  \n",
      "Epoch: 10 | train_loss: 2.7871 | test_loss: 0.4129  \n",
      "Epoch: 11 | train_loss: 2.7768 | test_loss: 0.4205  \n",
      "Epoch: 12 | train_loss: 2.7674 | test_loss: 0.4285  \n",
      "Epoch: 13 | train_loss: 2.7592 | test_loss: 0.4168  \n",
      "Epoch: 14 | train_loss: 2.7502 | test_loss: 0.4374  \n",
      "Epoch: 15 | train_loss: 2.7403 | test_loss: 0.4118  \n",
      "total training time: 73.772 sec.\n"
     ]
    },
    {
     "data": {
      "image/png": "[encoded data removed]",
      "text/plain": [
       "<Figure size 700x700 with 1 Axes>"
      ]
     },
     "metadata": {},
     "output_type": "display_data"
    }
   ],
   "source": [
    "from timeit import default_timer as timer\n",
    "\n",
    "\n",
    "optimizer = optim.Adam(model_lstm.parameters(), lr = learning_rate)\n",
    "\n",
    "pad_idx = train_dataset.source_vocab.stoi['<PAD>']\n",
    "\n",
    "criterion = nn.CrossEntropyLoss(ignore_index=pad_idx)\n",
    "\n",
    "accuracy = Accuracy(\"multiclass\", num_classes=10000).to(device)\n",
    "\n",
    "start_time = timer()\n",
    "\n",
    "# train model_lstm\n",
    "model_lstm_results = train(\n",
    "    model=model_lstm,\n",
    "    train_dataloader=train_loader,\n",
    "    test_dataloader=test_loader,\n",
    "    optimizer=optimizer,\n",
    "    loss_fn=criterion,\n",
    "    acc_fn=accuracy,\n",
    "    epochs=num_epochs,\n",
    "    device=device\n",
    ")\n",
    "\n",
    "# end timer\n",
    "end_time = timer()\n",
    "# printing time taken\n",
    "print(f\"total training time: {end_time-start_time:.3f} sec.\")\n",
    "plot_loss_curves(model_lstm_results)\n"
   ]
  },
  {
   "attachments": {},
   "cell_type": "markdown",
   "metadata": {},
   "source": [
    "## loss VS. hyperparameter"
   ]
  },
  {
   "attachments": {},
   "cell_type": "markdown",
   "metadata": {},
   "source": [
    "### set 1"
   ]
  },
  {
   "cell_type": "code",
   "execution_count": 23,
   "metadata": {},
   "outputs": [],
   "source": [
    "# Training hyperparameters SET 1\n",
    "num_epochs = 15\n",
    "learning_rate = 0.001\n",
    "batch_size = 128\n",
    "\n",
    "# Model hyperparameters\n",
    "input_size_encoder = 10000\n",
    "input_size_decoder = 10000\n",
    "output_size = input_size_decoder\n",
    "encoder_embedding_size = 16\n",
    "decoder_embedding_size = 16\n",
    "hidden_size = 16 \n",
    "num_layers = 2\n",
    "enc_dropout = 0.5\n",
    "dec_dropout = 0.5\n",
    "\n",
    "transforms = False\n",
    "\n",
    "train_loader = get_train_loader(train_dataset, batch_size, num_workers=4, shuffle=True, pin_memory=True)\n",
    "test_loader = get_valid_loader(test_dataset, train_dataset, batch_size, num_workers=4, shuffle=True, pin_memory=True)"
   ]
  },
  {
   "cell_type": "code",
   "execution_count": 24,
   "metadata": {},
   "outputs": [
    {
     "data": {
      "text/plain": [
       "Seq2SeqLSTM(\n",
       "  (encoder): EncoderLSTM(\n",
       "    (dropout): Dropout(p=0.5, inplace=False)\n",
       "    (embedding): Embedding(10000, 16)\n",
       "    (rnn): LSTM(16, 16, num_layers=2, dropout=0.5)\n",
       "  )\n",
       "  (decoder): DecoderLSTM(\n",
       "    (dropout): Dropout(p=0.5, inplace=False)\n",
       "    (embedding): Embedding(10000, 16)\n",
       "    (rnn): LSTM(16, 16, num_layers=2, dropout=0.5)\n",
       "    (fc): Linear(in_features=16, out_features=10000, bias=True)\n",
       "  )\n",
       ")"
      ]
     },
     "execution_count": 24,
     "metadata": {},
     "output_type": "execute_result"
    }
   ],
   "source": [
    "# define models, 1 for RNN and 2 for LSTM seq2seq\n",
    "encoder_net_rnn = EncoderRNN(input_size_encoder, encoder_embedding_size, hidden_size, num_layers, enc_dropout).to(device)\n",
    "decoder_net_rnn = DecoderRNN(input_size_decoder, decoder_embedding_size, hidden_size, output_size, num_layers, dec_dropout).to(device)\n",
    "\n",
    "model_rnn = Seq2SeqRNN(encoder_net_rnn, decoder_net_rnn, output_size, device)\n",
    "model_rnn.to(device)\n",
    "\n",
    "encoder_net_lstm = EncoderLSTM(input_size_encoder, encoder_embedding_size, hidden_size, num_layers, enc_dropout).to(device)\n",
    "decoder_net_lstm = DecoderLSTM(input_size_decoder, decoder_embedding_size, hidden_size, output_size, num_layers, dec_dropout).to(device)\n",
    "\n",
    "model_lstm = Seq2SeqLSTM(encoder_net_lstm, decoder_net_lstm, output_size, device)\n",
    "model_lstm.to(device)"
   ]
  },
  {
   "cell_type": "code",
   "execution_count": 25,
   "metadata": {},
   "outputs": [
    {
     "data": {
      "application/vnd.jupyter.widget-view+json": {
       "model_id": "ca47413db8be4d5694c6fd4692997a7d",
       "version_major": 2,
       "version_minor": 0
      },
      "text/plain": [
       "  0%|          | 0/15 [00:00<?, ?it/s]"
      ]
     },
     "metadata": {},
     "output_type": "display_data"
    },
    {
     "name": "stdout",
     "output_type": "stream",
     "text": [
      "Epoch: 1 | train_loss: 5.7436 | test_loss: 0.9477  \n",
      "Epoch: 2 | train_loss: 3.1012 | test_loss: 0.4429  \n",
      "Epoch: 3 | train_loss: 2.9991 | test_loss: 0.4214  \n",
      "Epoch: 4 | train_loss: 2.9815 | test_loss: 0.4130  \n",
      "Epoch: 5 | train_loss: 2.9731 | test_loss: 0.4135  \n",
      "Epoch: 6 | train_loss: 2.9703 | test_loss: 0.3948  \n",
      "Epoch: 7 | train_loss: 2.9653 | test_loss: 0.4060  \n",
      "Epoch: 8 | train_loss: 2.9632 | test_loss: 0.3740  \n",
      "Epoch: 9 | train_loss: 2.9618 | test_loss: 0.3904  \n",
      "Epoch: 10 | train_loss: 2.9598 | test_loss: 0.3625  \n",
      "Epoch: 11 | train_loss: 2.9559 | test_loss: 0.3549  \n",
      "Epoch: 12 | train_loss: 2.9510 | test_loss: 0.3674  \n",
      "Epoch: 13 | train_loss: 2.9476 | test_loss: 0.3538  \n",
      "Epoch: 14 | train_loss: 2.9415 | test_loss: 0.3800  \n",
      "Epoch: 15 | train_loss: 2.9352 | test_loss: 0.3622  \n",
      "total training time: 51.527 sec.\n"
     ]
    },
    {
     "data": {
      "image/png": "[encoded data removed]",
      "text/plain": [
       "<Figure size 700x700 with 1 Axes>"
      ]
     },
     "metadata": {},
     "output_type": "display_data"
    }
   ],
   "source": [
    "from timeit import default_timer as timer\n",
    "\n",
    "\n",
    "optimizer = optim.Adam(model_rnn.parameters(), lr = learning_rate)\n",
    "\n",
    "pad_idx = train_dataset.source_vocab.stoi['<PAD>']\n",
    "\n",
    "criterion = nn.CrossEntropyLoss(ignore_index=pad_idx)\n",
    "\n",
    "accuracy = Accuracy(\"multiclass\", num_classes=10000).to(device)\n",
    "\n",
    "start_time = timer()\n",
    "\n",
    "# train model_rnn\n",
    "model_rnn_results = train(\n",
    "    model=model_rnn,\n",
    "    train_dataloader=train_loader,\n",
    "    test_dataloader=test_loader,\n",
    "    optimizer=optimizer,\n",
    "    loss_fn=criterion,\n",
    "    acc_fn=accuracy,\n",
    "    epochs=num_epochs,\n",
    "    device=device\n",
    ")\n",
    "\n",
    "# end timer\n",
    "end_time = timer()\n",
    "# printing time taken\n",
    "print(f\"total training time: {end_time-start_time:.3f} sec.\")\n",
    "plot_loss_curves(model_rnn_results)\n"
   ]
  },
  {
   "cell_type": "code",
   "execution_count": 26,
   "metadata": {},
   "outputs": [
    {
     "data": {
      "application/vnd.jupyter.widget-view+json": {
       "model_id": "2fda11e0790646709ed02885adb7df3e",
       "version_major": 2,
       "version_minor": 0
      },
      "text/plain": [
       "  0%|          | 0/15 [00:00<?, ?it/s]"
      ]
     },
     "metadata": {},
     "output_type": "display_data"
    },
    {
     "name": "stdout",
     "output_type": "stream",
     "text": [
      "Epoch: 1 | train_loss: 5.4574 | test_loss: 0.9642  \n",
      "Epoch: 2 | train_loss: 3.2436 | test_loss: 0.6257  \n",
      "Epoch: 3 | train_loss: 3.0697 | test_loss: 0.5017  \n",
      "Epoch: 4 | train_loss: 3.0089 | test_loss: 0.4398  \n",
      "Epoch: 5 | train_loss: 2.9851 | test_loss: 0.4136  \n",
      "Epoch: 6 | train_loss: 2.9731 | test_loss: 0.4102  \n",
      "Epoch: 7 | train_loss: 2.9669 | test_loss: 0.3736  \n",
      "Epoch: 8 | train_loss: 2.9624 | test_loss: 0.3763  \n",
      "Epoch: 9 | train_loss: 2.9584 | test_loss: 0.3604  \n",
      "Epoch: 10 | train_loss: 2.9561 | test_loss: 0.3894  \n",
      "Epoch: 11 | train_loss: 2.9517 | test_loss: 0.3612  \n",
      "Epoch: 12 | train_loss: 2.9463 | test_loss: 0.3725  \n",
      "Epoch: 13 | train_loss: 2.9410 | test_loss: 0.3810  \n",
      "Epoch: 14 | train_loss: 2.9317 | test_loss: 0.3815  \n",
      "Epoch: 15 | train_loss: 2.9155 | test_loss: 0.3862  \n",
      "total training time: 51.167 sec.\n"
     ]
    },
    {
     "data": {
      "image/png": "[encoded data removed]",
      "text/plain": [
       "<Figure size 700x700 with 1 Axes>"
      ]
     },
     "metadata": {},
     "output_type": "display_data"
    }
   ],
   "source": [
    "from timeit import default_timer as timer\n",
    "\n",
    "\n",
    "optimizer = optim.Adam(model_lstm.parameters(), lr = learning_rate)\n",
    "\n",
    "pad_idx = train_dataset.source_vocab.stoi['<PAD>']\n",
    "\n",
    "criterion = nn.CrossEntropyLoss(ignore_index=pad_idx)\n",
    "\n",
    "accuracy = Accuracy(\"multiclass\", num_classes=10000).to(device)\n",
    "\n",
    "start_time = timer()\n",
    "\n",
    "# train model_lstm\n",
    "model_lstm_results = train(\n",
    "    model=model_lstm,\n",
    "    train_dataloader=train_loader,\n",
    "    test_dataloader=test_loader,\n",
    "    optimizer=optimizer,\n",
    "    loss_fn=criterion,\n",
    "    acc_fn=accuracy,\n",
    "    epochs=num_epochs,\n",
    "    device=device\n",
    ")\n",
    "\n",
    "# end timer\n",
    "end_time = timer()\n",
    "# printing time taken\n",
    "print(f\"total training time: {end_time-start_time:.3f} sec.\")\n",
    "plot_loss_curves(model_lstm_results)\n"
   ]
  },
  {
   "attachments": {},
   "cell_type": "markdown",
   "metadata": {},
   "source": [
    "### set 2"
   ]
  },
  {
   "cell_type": "code",
   "execution_count": 27,
   "metadata": {},
   "outputs": [],
   "source": [
    "# Training hyperparameters SET 2\n",
    "num_epochs = 15\n",
    "learning_rate = 0.001\n",
    "batch_size = 128\n",
    "\n",
    "# Model hyperparameters\n",
    "input_size_encoder = 10000\n",
    "input_size_decoder = 10000\n",
    "output_size = input_size_decoder\n",
    "encoder_embedding_size = 64\n",
    "decoder_embedding_size = 64\n",
    "hidden_size = 64\n",
    "num_layers = 2\n",
    "enc_dropout = 0.5\n",
    "dec_dropout = 0.5\n",
    "\n",
    "transforms = False\n",
    "\n",
    "train_loader = get_train_loader(train_dataset, batch_size, num_workers=4, shuffle=True, pin_memory=True)\n",
    "test_loader = get_valid_loader(test_dataset, train_dataset, batch_size, num_workers=4, shuffle=True, pin_memory=True)"
   ]
  },
  {
   "cell_type": "code",
   "execution_count": 28,
   "metadata": {},
   "outputs": [
    {
     "data": {
      "text/plain": [
       "Seq2SeqLSTM(\n",
       "  (encoder): EncoderLSTM(\n",
       "    (dropout): Dropout(p=0.5, inplace=False)\n",
       "    (embedding): Embedding(10000, 64)\n",
       "    (rnn): LSTM(64, 64, num_layers=2, dropout=0.5)\n",
       "  )\n",
       "  (decoder): DecoderLSTM(\n",
       "    (dropout): Dropout(p=0.5, inplace=False)\n",
       "    (embedding): Embedding(10000, 64)\n",
       "    (rnn): LSTM(64, 64, num_layers=2, dropout=0.5)\n",
       "    (fc): Linear(in_features=64, out_features=10000, bias=True)\n",
       "  )\n",
       ")"
      ]
     },
     "execution_count": 28,
     "metadata": {},
     "output_type": "execute_result"
    }
   ],
   "source": [
    "# define models, 1 for RNN and 2 for LSTM seq2seq\n",
    "encoder_net_rnn = EncoderRNN(input_size_encoder, encoder_embedding_size, hidden_size, num_layers, enc_dropout).to(device)\n",
    "decoder_net_rnn = DecoderRNN(input_size_decoder, decoder_embedding_size, hidden_size, output_size, num_layers, dec_dropout).to(device)\n",
    "\n",
    "model_rnn = Seq2SeqRNN(encoder_net_rnn, decoder_net_rnn, output_size, device)\n",
    "model_rnn.to(device)\n",
    "\n",
    "encoder_net_lstm = EncoderLSTM(input_size_encoder, encoder_embedding_size, hidden_size, num_layers, enc_dropout).to(device)\n",
    "decoder_net_lstm = DecoderLSTM(input_size_decoder, decoder_embedding_size, hidden_size, output_size, num_layers, dec_dropout).to(device)\n",
    "\n",
    "model_lstm = Seq2SeqLSTM(encoder_net_lstm, decoder_net_lstm, output_size, device)\n",
    "model_lstm.to(device)"
   ]
  },
  {
   "cell_type": "code",
   "execution_count": 29,
   "metadata": {},
   "outputs": [
    {
     "data": {
      "application/vnd.jupyter.widget-view+json": {
       "model_id": "4734d1cb605a474fa705f04b0e7e68d5",
       "version_major": 2,
       "version_minor": 0
      },
      "text/plain": [
       "  0%|          | 0/15 [00:00<?, ?it/s]"
      ]
     },
     "metadata": {},
     "output_type": "display_data"
    },
    {
     "name": "stdout",
     "output_type": "stream",
     "text": [
      "Epoch: 1 | train_loss: 3.5731 | test_loss: 0.3836  \n",
      "Epoch: 2 | train_loss: 3.0083 | test_loss: 0.4019  \n",
      "Epoch: 3 | train_loss: 2.9640 | test_loss: 0.3699  \n",
      "Epoch: 4 | train_loss: 2.9188 | test_loss: 0.3380  \n",
      "Epoch: 5 | train_loss: 2.8946 | test_loss: 0.3370  \n",
      "Epoch: 6 | train_loss: 2.8820 | test_loss: 0.3907  \n",
      "Epoch: 7 | train_loss: 2.8716 | test_loss: 0.4259  \n",
      "Epoch: 8 | train_loss: 2.8626 | test_loss: 0.3960  \n",
      "Epoch: 9 | train_loss: 2.8556 | test_loss: 0.4262  \n",
      "Epoch: 10 | train_loss: 2.8476 | test_loss: 0.4004  \n",
      "Epoch: 11 | train_loss: 2.8405 | test_loss: 0.3264  \n",
      "Epoch: 12 | train_loss: 2.8341 | test_loss: 0.4419  \n",
      "Epoch: 13 | train_loss: 2.8276 | test_loss: 0.3592  \n",
      "Epoch: 14 | train_loss: 2.8211 | test_loss: 0.3893  \n",
      "Epoch: 15 | train_loss: 2.8145 | test_loss: 0.3891  \n",
      "total training time: 53.853 sec.\n"
     ]
    },
    {
     "data": {
      "image/png": "[encoded data removed]",
      "text/plain": [
       "<Figure size 700x700 with 1 Axes>"
      ]
     },
     "metadata": {},
     "output_type": "display_data"
    }
   ],
   "source": [
    "from timeit import default_timer as timer\n",
    "\n",
    "\n",
    "optimizer = optim.Adam(model_rnn.parameters(), lr = learning_rate)\n",
    "\n",
    "pad_idx = train_dataset.source_vocab.stoi['<PAD>']\n",
    "\n",
    "criterion = nn.CrossEntropyLoss(ignore_index=pad_idx)\n",
    "\n",
    "accuracy = Accuracy(\"multiclass\", num_classes=10000).to(device)\n",
    "\n",
    "start_time = timer()\n",
    "\n",
    "# train model_rnn\n",
    "model_rnn_results = train(\n",
    "    model=model_rnn,\n",
    "    train_dataloader=train_loader,\n",
    "    test_dataloader=test_loader,\n",
    "    optimizer=optimizer,\n",
    "    loss_fn=criterion,\n",
    "    acc_fn=accuracy,\n",
    "    epochs=num_epochs,\n",
    "    device=device\n",
    ")\n",
    "\n",
    "# end timer\n",
    "end_time = timer()\n",
    "# printing time taken\n",
    "print(f\"total training time: {end_time-start_time:.3f} sec.\")\n",
    "plot_loss_curves(model_rnn_results)\n"
   ]
  },
  {
   "cell_type": "code",
   "execution_count": 30,
   "metadata": {},
   "outputs": [
    {
     "data": {
      "application/vnd.jupyter.widget-view+json": {
       "model_id": "69914a659d9146c58380c6d78b431522",
       "version_major": 2,
       "version_minor": 0
      },
      "text/plain": [
       "  0%|          | 0/15 [00:00<?, ?it/s]"
      ]
     },
     "metadata": {},
     "output_type": "display_data"
    },
    {
     "name": "stdout",
     "output_type": "stream",
     "text": [
      "Epoch: 1 | train_loss: 3.7537 | test_loss: 0.4228  \n",
      "Epoch: 2 | train_loss: 2.9919 | test_loss: 0.3294  \n",
      "Epoch: 3 | train_loss: 2.9727 | test_loss: 0.3506  \n",
      "Epoch: 4 | train_loss: 2.9533 | test_loss: 0.3348  \n",
      "Epoch: 5 | train_loss: 2.9212 | test_loss: 0.4346  \n",
      "Epoch: 6 | train_loss: 2.8911 | test_loss: 0.3937  \n",
      "Epoch: 7 | train_loss: 2.8661 | test_loss: 0.3876  \n",
      "Epoch: 8 | train_loss: 2.8469 | test_loss: 0.3717  \n",
      "Epoch: 9 | train_loss: 2.8345 | test_loss: 0.4030  \n",
      "Epoch: 10 | train_loss: 2.8236 | test_loss: 0.4443  \n",
      "Epoch: 11 | train_loss: 2.8146 | test_loss: 0.3974  \n",
      "Epoch: 12 | train_loss: 2.8073 | test_loss: 0.4029  \n",
      "Epoch: 13 | train_loss: 2.7984 | test_loss: 0.3969  \n",
      "Epoch: 14 | train_loss: 2.7928 | test_loss: 0.4140  \n",
      "Epoch: 15 | train_loss: 2.7848 | test_loss: 0.3949  \n",
      "total training time: 51.084 sec.\n"
     ]
    },
    {
     "data": {
      "image/png": "[encoded data removed]",
      "text/plain": [
       "<Figure size 700x700 with 1 Axes>"
      ]
     },
     "metadata": {},
     "output_type": "display_data"
    }
   ],
   "source": [
    "from timeit import default_timer as timer\n",
    "\n",
    "\n",
    "optimizer = optim.Adam(model_lstm.parameters(), lr = learning_rate)\n",
    "\n",
    "pad_idx = train_dataset.source_vocab.stoi['<PAD>']\n",
    "\n",
    "criterion = nn.CrossEntropyLoss(ignore_index=pad_idx)\n",
    "\n",
    "accuracy = Accuracy(\"multiclass\", num_classes=10000).to(device)\n",
    "\n",
    "start_time = timer()\n",
    "\n",
    "# train model_lstm\n",
    "model_lstm_results = train(\n",
    "    model=model_lstm,\n",
    "    train_dataloader=train_loader,\n",
    "    test_dataloader=test_loader,\n",
    "    optimizer=optimizer,\n",
    "    loss_fn=criterion,\n",
    "    acc_fn=accuracy,\n",
    "    epochs=num_epochs,\n",
    "    device=device\n",
    ")\n",
    "\n",
    "# end timer\n",
    "end_time = timer()\n",
    "# printing time taken\n",
    "print(f\"total training time: {end_time-start_time:.3f} sec.\")\n",
    "plot_loss_curves(model_lstm_results)\n"
   ]
  },
  {
   "attachments": {},
   "cell_type": "markdown",
   "metadata": {},
   "source": [
    "### set 3"
   ]
  },
  {
   "cell_type": "code",
   "execution_count": 31,
   "metadata": {},
   "outputs": [],
   "source": [
    "# Training hyperparameters SET 3\n",
    "num_epochs = 15\n",
    "learning_rate = 0.001\n",
    "batch_size = 128\n",
    "\n",
    "# Model hyperparameters\n",
    "input_size_encoder = 10000\n",
    "input_size_decoder = 10000\n",
    "output_size = input_size_decoder\n",
    "encoder_embedding_size = 16\n",
    "decoder_embedding_size = 16\n",
    "hidden_size = 16 \n",
    "num_layers = 2\n",
    "enc_dropout = 0.5\n",
    "dec_dropout = 0.5\n",
    "\n",
    "transforms = False\n",
    "\n",
    "train_loader = get_train_loader(train_dataset, batch_size, num_workers=4, shuffle=True, pin_memory=True)\n",
    "test_loader = get_valid_loader(test_dataset, train_dataset, batch_size, num_workers=4, shuffle=True, pin_memory=True)"
   ]
  },
  {
   "cell_type": "code",
   "execution_count": 32,
   "metadata": {},
   "outputs": [
    {
     "data": {
      "text/plain": [
       "Seq2SeqLSTM(\n",
       "  (encoder): EncoderLSTM(\n",
       "    (dropout): Dropout(p=0.5, inplace=False)\n",
       "    (embedding): Embedding(10000, 16)\n",
       "    (rnn): LSTM(16, 16, num_layers=2, dropout=0.5)\n",
       "  )\n",
       "  (decoder): DecoderLSTM(\n",
       "    (dropout): Dropout(p=0.5, inplace=False)\n",
       "    (embedding): Embedding(10000, 16)\n",
       "    (rnn): LSTM(16, 16, num_layers=2, dropout=0.5)\n",
       "    (fc): Linear(in_features=16, out_features=10000, bias=True)\n",
       "  )\n",
       ")"
      ]
     },
     "execution_count": 32,
     "metadata": {},
     "output_type": "execute_result"
    }
   ],
   "source": [
    "# define models, 1 for RNN and 2 for LSTM seq2seq\n",
    "encoder_net_rnn = EncoderRNN(input_size_encoder, encoder_embedding_size, hidden_size, num_layers, enc_dropout).to(device)\n",
    "decoder_net_rnn = DecoderRNN(input_size_decoder, decoder_embedding_size, hidden_size, output_size, num_layers, dec_dropout).to(device)\n",
    "\n",
    "model_rnn = Seq2SeqRNN(encoder_net_rnn, decoder_net_rnn, output_size, device)\n",
    "model_rnn.to(device)\n",
    "\n",
    "encoder_net_lstm = EncoderLSTM(input_size_encoder, encoder_embedding_size, hidden_size, num_layers, enc_dropout).to(device)\n",
    "decoder_net_lstm = DecoderLSTM(input_size_decoder, decoder_embedding_size, hidden_size, output_size, num_layers, dec_dropout).to(device)\n",
    "\n",
    "model_lstm = Seq2SeqLSTM(encoder_net_lstm, decoder_net_lstm, output_size, device)\n",
    "model_lstm.to(device)"
   ]
  },
  {
   "cell_type": "code",
   "execution_count": 33,
   "metadata": {},
   "outputs": [
    {
     "data": {
      "application/vnd.jupyter.widget-view+json": {
       "model_id": "32ba073cfae8492c90888627ffe5da81",
       "version_major": 2,
       "version_minor": 0
      },
      "text/plain": [
       "  0%|          | 0/15 [00:00<?, ?it/s]"
      ]
     },
     "metadata": {},
     "output_type": "display_data"
    },
    {
     "name": "stdout",
     "output_type": "stream",
     "text": [
      "Epoch: 1 | train_loss: 5.4844 | test_loss: 0.8479  \n",
      "Epoch: 2 | train_loss: 3.0879 | test_loss: 0.4479  \n",
      "Epoch: 3 | train_loss: 2.9970 | test_loss: 0.4199  \n",
      "Epoch: 4 | train_loss: 2.9801 | test_loss: 0.4140  \n",
      "Epoch: 5 | train_loss: 2.9726 | test_loss: 0.4114  \n",
      "Epoch: 6 | train_loss: 2.9698 | test_loss: 0.4090  \n",
      "Epoch: 7 | train_loss: 2.9663 | test_loss: 0.3880  \n",
      "Epoch: 8 | train_loss: 2.9639 | test_loss: 0.3787  \n",
      "Epoch: 9 | train_loss: 2.9605 | test_loss: 0.3757  \n",
      "Epoch: 10 | train_loss: 2.9579 | test_loss: 0.3542  \n",
      "Epoch: 11 | train_loss: 2.9524 | test_loss: 0.3643  \n",
      "Epoch: 12 | train_loss: 2.9450 | test_loss: 0.3788  \n",
      "Epoch: 13 | train_loss: 2.9335 | test_loss: 0.3714  \n",
      "Epoch: 14 | train_loss: 2.9236 | test_loss: 0.3514  \n",
      "Epoch: 15 | train_loss: 2.9132 | test_loss: 0.3752  \n",
      "total training time: 51.219 sec.\n"
     ]
    },
    {
     "data": {
      "image/png": "[encoded data removed]",
      "text/plain": [
       "<Figure size 700x700 with 1 Axes>"
      ]
     },
     "metadata": {},
     "output_type": "display_data"
    }
   ],
   "source": [
    "from timeit import default_timer as timer\n",
    "\n",
    "\n",
    "optimizer = optim.Adam(model_rnn.parameters(), lr = learning_rate)\n",
    "\n",
    "pad_idx = train_dataset.source_vocab.stoi['<PAD>']\n",
    "\n",
    "criterion = nn.CrossEntropyLoss(ignore_index=pad_idx)\n",
    "\n",
    "accuracy = Accuracy(\"multiclass\", num_classes=10000).to(device)\n",
    "\n",
    "start_time = timer()\n",
    "\n",
    "# train model_rnn\n",
    "model_rnn_results = train(\n",
    "    model=model_rnn,\n",
    "    train_dataloader=train_loader,\n",
    "    test_dataloader=test_loader,\n",
    "    optimizer=optimizer,\n",
    "    loss_fn=criterion,\n",
    "    acc_fn=accuracy,\n",
    "    epochs=num_epochs,\n",
    "    device=device\n",
    ")\n",
    "\n",
    "# end timer\n",
    "end_time = timer()\n",
    "# printing time taken\n",
    "print(f\"total training time: {end_time-start_time:.3f} sec.\")\n",
    "plot_loss_curves(model_rnn_results)\n"
   ]
  },
  {
   "cell_type": "code",
   "execution_count": 34,
   "metadata": {},
   "outputs": [
    {
     "data": {
      "application/vnd.jupyter.widget-view+json": {
       "model_id": "a921845774034c939823b254168cf718",
       "version_major": 2,
       "version_minor": 0
      },
      "text/plain": [
       "  0%|          | 0/15 [00:00<?, ?it/s]"
      ]
     },
     "metadata": {},
     "output_type": "display_data"
    },
    {
     "name": "stdout",
     "output_type": "stream",
     "text": [
      "Epoch: 1 | train_loss: 5.4872 | test_loss: 1.1808  \n",
      "Epoch: 2 | train_loss: 3.4217 | test_loss: 0.7925  \n",
      "Epoch: 3 | train_loss: 3.1243 | test_loss: 0.4905  \n",
      "Epoch: 4 | train_loss: 3.0204 | test_loss: 0.4270  \n",
      "Epoch: 5 | train_loss: 2.9893 | test_loss: 0.4076  \n",
      "Epoch: 6 | train_loss: 2.9761 | test_loss: 0.3475  \n",
      "Epoch: 7 | train_loss: 2.9686 | test_loss: 0.3455  \n",
      "Epoch: 8 | train_loss: 2.9632 | test_loss: 0.3868  \n",
      "Epoch: 9 | train_loss: 2.9560 | test_loss: 0.3844  \n",
      "Epoch: 10 | train_loss: 2.9498 | test_loss: 0.4097  \n",
      "Epoch: 11 | train_loss: 2.9365 | test_loss: 0.3939  \n",
      "Epoch: 12 | train_loss: 2.9205 | test_loss: 0.3870  \n",
      "Epoch: 13 | train_loss: 2.9004 | test_loss: 0.4054  \n",
      "Epoch: 14 | train_loss: 2.8840 | test_loss: 0.3836  \n",
      "Epoch: 15 | train_loss: 2.8704 | test_loss: 0.4002  \n",
      "total training time: 52.006 sec.\n"
     ]
    },
    {
     "data": {
      "image/png": "[encoded data removed]",
      "text/plain": [
       "<Figure size 700x700 with 1 Axes>"
      ]
     },
     "metadata": {},
     "output_type": "display_data"
    }
   ],
   "source": [
    "from timeit import default_timer as timer\n",
    "\n",
    "\n",
    "optimizer = optim.Adam(model_lstm.parameters(), lr = learning_rate)\n",
    "\n",
    "pad_idx = train_dataset.source_vocab.stoi['<PAD>']\n",
    "\n",
    "criterion = nn.CrossEntropyLoss(ignore_index=pad_idx)\n",
    "\n",
    "accuracy = Accuracy(\"multiclass\", num_classes=10000).to(device)\n",
    "\n",
    "start_time = timer()\n",
    "\n",
    "# train model_lstm\n",
    "model_lstm_results = train(\n",
    "    model=model_lstm,\n",
    "    train_dataloader=train_loader,\n",
    "    test_dataloader=test_loader,\n",
    "    optimizer=optimizer,\n",
    "    loss_fn=criterion,\n",
    "    acc_fn=accuracy,\n",
    "    epochs=num_epochs,\n",
    "    device=device\n",
    ")\n",
    "\n",
    "# end timer\n",
    "end_time = timer()\n",
    "# printing time taken\n",
    "print(f\"total training time: {end_time-start_time:.3f} sec.\")\n",
    "plot_loss_curves(model_lstm_results)\n"
   ]
  },
  {
   "attachments": {},
   "cell_type": "markdown",
   "metadata": {},
   "source": [
    "### set 4"
   ]
  },
  {
   "cell_type": "code",
   "execution_count": 35,
   "metadata": {},
   "outputs": [],
   "source": [
    "# Training hyperparameters SET 4\n",
    "num_epochs = 15\n",
    "learning_rate = 0.001\n",
    "batch_size = 128\n",
    "\n",
    "# Model hyperparameters\n",
    "input_size_encoder = 10000\n",
    "input_size_decoder = 10000\n",
    "output_size = input_size_decoder\n",
    "encoder_embedding_size = 64\n",
    "decoder_embedding_size = 64\n",
    "hidden_size = 64\n",
    "num_layers = 2\n",
    "enc_dropout = 0.5\n",
    "dec_dropout = 0.5\n",
    "\n",
    "transforms = False\n",
    "\n",
    "train_loader = get_train_loader(train_dataset, batch_size, num_workers=4, shuffle=True, pin_memory=True)\n",
    "test_loader = get_valid_loader(test_dataset, train_dataset, batch_size, num_workers=4, shuffle=True, pin_memory=True)"
   ]
  },
  {
   "cell_type": "code",
   "execution_count": 36,
   "metadata": {},
   "outputs": [
    {
     "data": {
      "text/plain": [
       "Seq2SeqLSTM(\n",
       "  (encoder): EncoderLSTM(\n",
       "    (dropout): Dropout(p=0.5, inplace=False)\n",
       "    (embedding): Embedding(10000, 64)\n",
       "    (rnn): LSTM(64, 64, num_layers=2, dropout=0.5)\n",
       "  )\n",
       "  (decoder): DecoderLSTM(\n",
       "    (dropout): Dropout(p=0.5, inplace=False)\n",
       "    (embedding): Embedding(10000, 64)\n",
       "    (rnn): LSTM(64, 64, num_layers=2, dropout=0.5)\n",
       "    (fc): Linear(in_features=64, out_features=10000, bias=True)\n",
       "  )\n",
       ")"
      ]
     },
     "execution_count": 36,
     "metadata": {},
     "output_type": "execute_result"
    }
   ],
   "source": [
    "# define models, 1 for RNN and 2 for LSTM seq2seq\n",
    "encoder_net_rnn = EncoderRNN(input_size_encoder, encoder_embedding_size, hidden_size, num_layers, enc_dropout).to(device)\n",
    "decoder_net_rnn = DecoderRNN(input_size_decoder, decoder_embedding_size, hidden_size, output_size, num_layers, dec_dropout).to(device)\n",
    "\n",
    "model_rnn = Seq2SeqRNN(encoder_net_rnn, decoder_net_rnn, output_size, device)\n",
    "model_rnn.to(device)\n",
    "\n",
    "encoder_net_lstm = EncoderLSTM(input_size_encoder, encoder_embedding_size, hidden_size, num_layers, enc_dropout).to(device)\n",
    "decoder_net_lstm = DecoderLSTM(input_size_decoder, decoder_embedding_size, hidden_size, output_size, num_layers, dec_dropout).to(device)\n",
    "\n",
    "model_lstm = Seq2SeqLSTM(encoder_net_lstm, decoder_net_lstm, output_size, device)\n",
    "model_lstm.to(device)"
   ]
  },
  {
   "cell_type": "code",
   "execution_count": 37,
   "metadata": {},
   "outputs": [
    {
     "data": {
      "application/vnd.jupyter.widget-view+json": {
       "model_id": "8ecf21463fc64c9b808285eecb932c7f",
       "version_major": 2,
       "version_minor": 0
      },
      "text/plain": [
       "  0%|          | 0/15 [00:00<?, ?it/s]"
      ]
     },
     "metadata": {},
     "output_type": "display_data"
    },
    {
     "name": "stdout",
     "output_type": "stream",
     "text": [
      "Epoch: 1 | train_loss: 3.6072 | test_loss: 0.4224  \n",
      "Epoch: 2 | train_loss: 3.0086 | test_loss: 0.3275  \n",
      "Epoch: 3 | train_loss: 2.9737 | test_loss: 0.3975  \n",
      "Epoch: 4 | train_loss: 2.9253 | test_loss: 0.3352  \n",
      "Epoch: 5 | train_loss: 2.8985 | test_loss: 0.3402  \n",
      "Epoch: 6 | train_loss: 2.8848 | test_loss: 0.3325  \n",
      "Epoch: 7 | train_loss: 2.8743 | test_loss: 0.3618  \n",
      "Epoch: 8 | train_loss: 2.8643 | test_loss: 0.3344  \n",
      "Epoch: 9 | train_loss: 2.8574 | test_loss: 0.3950  \n",
      "Epoch: 10 | train_loss: 2.8498 | test_loss: 0.3455  \n",
      "Epoch: 11 | train_loss: 2.8421 | test_loss: 0.3906  \n",
      "Epoch: 12 | train_loss: 2.8353 | test_loss: 0.3863  \n",
      "Epoch: 13 | train_loss: 2.8287 | test_loss: 0.3610  \n",
      "Epoch: 14 | train_loss: 2.8245 | test_loss: 0.3763  \n",
      "Epoch: 15 | train_loss: 2.8161 | test_loss: 0.4744  \n",
      "total training time: 51.485 sec.\n"
     ]
    },
    {
     "data": {
      "image/png": "[encoded data removed]",
      "text/plain": [
       "<Figure size 700x700 with 1 Axes>"
      ]
     },
     "metadata": {},
     "output_type": "display_data"
    }
   ],
   "source": [
    "from timeit import default_timer as timer\n",
    "\n",
    "\n",
    "optimizer = optim.Adam(model_rnn.parameters(), lr = learning_rate)\n",
    "\n",
    "pad_idx = train_dataset.source_vocab.stoi['<PAD>']\n",
    "\n",
    "criterion = nn.CrossEntropyLoss(ignore_index=pad_idx)\n",
    "\n",
    "accuracy = Accuracy(\"multiclass\", num_classes=10000).to(device)\n",
    "\n",
    "start_time = timer()\n",
    "\n",
    "# train model_rnn\n",
    "model_rnn_results = train(\n",
    "    model=model_rnn,\n",
    "    train_dataloader=train_loader,\n",
    "    test_dataloader=test_loader,\n",
    "    optimizer=optimizer,\n",
    "    loss_fn=criterion,\n",
    "    acc_fn=accuracy,\n",
    "    epochs=num_epochs,\n",
    "    device=device\n",
    ")\n",
    "\n",
    "# end timer\n",
    "end_time = timer()\n",
    "# printing time taken\n",
    "print(f\"total training time: {end_time-start_time:.3f} sec.\")\n",
    "plot_loss_curves(model_rnn_results)\n"
   ]
  },
  {
   "cell_type": "code",
   "execution_count": 38,
   "metadata": {},
   "outputs": [
    {
     "data": {
      "application/vnd.jupyter.widget-view+json": {
       "model_id": "e18b5d6c456242fcb0ac9710a72c8537",
       "version_major": 2,
       "version_minor": 0
      },
      "text/plain": [
       "  0%|          | 0/15 [00:00<?, ?it/s]"
      ]
     },
     "metadata": {},
     "output_type": "display_data"
    },
    {
     "name": "stdout",
     "output_type": "stream",
     "text": [
      "Epoch: 1 | train_loss: 3.7686 | test_loss: 0.4565  \n",
      "Epoch: 2 | train_loss: 2.9945 | test_loss: 0.3852  \n",
      "Epoch: 3 | train_loss: 2.9759 | test_loss: 0.3902  \n",
      "Epoch: 4 | train_loss: 2.9694 | test_loss: 0.3963  \n",
      "Epoch: 5 | train_loss: 2.9601 | test_loss: 0.3480  \n",
      "Epoch: 6 | train_loss: 2.9417 | test_loss: 0.4318  \n",
      "Epoch: 7 | train_loss: 2.9102 | test_loss: 0.3817  \n",
      "Epoch: 8 | train_loss: 2.8796 | test_loss: 0.4057  \n",
      "Epoch: 9 | train_loss: 2.8580 | test_loss: 0.4016  \n",
      "Epoch: 10 | train_loss: 2.8418 | test_loss: 0.3962  \n",
      "Epoch: 11 | train_loss: 2.8295 | test_loss: 0.3644  \n",
      "Epoch: 12 | train_loss: 2.8190 | test_loss: 0.3580  \n",
      "Epoch: 13 | train_loss: 2.8116 | test_loss: 0.4201  \n",
      "Epoch: 14 | train_loss: 2.8028 | test_loss: 0.4071  \n",
      "Epoch: 15 | train_loss: 2.7974 | test_loss: 0.3839  \n",
      "total training time: 52.529 sec.\n"
     ]
    },
    {
     "data": {
      "image/png": "[encoded data removed]",
      "text/plain": [
       "<Figure size 700x700 with 1 Axes>"
      ]
     },
     "metadata": {},
     "output_type": "display_data"
    }
   ],
   "source": [
    "from timeit import default_timer as timer\n",
    "\n",
    "\n",
    "optimizer = optim.Adam(model_lstm.parameters(), lr = learning_rate)\n",
    "\n",
    "pad_idx = train_dataset.source_vocab.stoi['<PAD>']\n",
    "\n",
    "criterion = nn.CrossEntropyLoss(ignore_index=pad_idx)\n",
    "\n",
    "accuracy = Accuracy(\"multiclass\", num_classes=10000).to(device)\n",
    "\n",
    "start_time = timer()\n",
    "\n",
    "# train model_lstm\n",
    "model_lstm_results = train(\n",
    "    model=model_lstm,\n",
    "    train_dataloader=train_loader,\n",
    "    test_dataloader=test_loader,\n",
    "    optimizer=optimizer,\n",
    "    loss_fn=criterion,\n",
    "    acc_fn=accuracy,\n",
    "    epochs=num_epochs,\n",
    "    device=device\n",
    ")\n",
    "\n",
    "# end timer\n",
    "end_time = timer()\n",
    "# printing time taken\n",
    "print(f\"total training time: {end_time-start_time:.3f} sec.\")\n",
    "plot_loss_curves(model_lstm_results)\n"
   ]
  },
  {
   "attachments": {},
   "cell_type": "markdown",
   "metadata": {},
   "source": [
    "## Adding Attention"
   ]
  },
  {
   "attachments": {},
   "cell_type": "markdown",
   "metadata": {},
   "source": [
    "### RNN with atttention"
   ]
  },
  {
   "cell_type": "code",
   "execution_count": 40,
   "metadata": {},
   "outputs": [],
   "source": [
    "import random\n",
    "class EncoderRNNAttention(nn.Module):\n",
    "    \"\"\"\n",
    "    ### Define EncoderRNN\n",
    "    The input to encoder is the whole sentence. Therefore, the size of x in forward is (seq_length, batch_size)\n",
    "    \"\"\"\n",
    "    '''\n",
    "    input_size -> source vocab size\n",
    "    '''\n",
    "    def __init__(self, input_size, embedding_size, hidden_size, num_layers, dropout_p):\n",
    "        super(EncoderRNNAttention, self).__init__()\n",
    "        self.dropout = nn.Dropout(dropout_p)\n",
    "        self.hidden_size = hidden_size\n",
    "        self.num_layers = num_layers\n",
    "        self.embedding = nn.Embedding(input_size, embedding_size)\n",
    "        \n",
    "        self.rnn = nn.RNN(embedding_size, hidden_size, num_layers, dropout=dropout_p)\n",
    "        \n",
    "    def forward(self, x):\n",
    "        # print(\"Inside encoder forward\")\n",
    "        # shape of x-> (seq_length, batch_size)\n",
    "        embedding = self.dropout(self.embedding(x)) #shape-> (seq_length, batch_size, embedding_size)\n",
    "        # print(f\"embedding shape: {embedding.shape}\")\n",
    "        outputs, (hidden,cell) = self.rnn(embedding)\n",
    "        # print('output: ', outputs.shape, '\\nhidden: ', hidden.shape)\n",
    "        return hidden, cell #shape-> (num_layers, batch_size, hidden_size)\n",
    "\n",
    "\n",
    "class DecoderRNNAttention(nn.Module):\n",
    "    \"\"\"\n",
    "    ### Define DecoderRNN\n",
    "    * Input is one word at a time. shape of x is-> (1, batch_size)\n",
    "    * embedding size-> (1, batch_size, embedding_size)\n",
    "    * outputs-> (1, batch_size, hidden_size)\n",
    "    * predictions -> (batch_size, output_size)\n",
    "    \"\"\"\n",
    "    def __init__(self, input_size, embedding_size, hidden_size, output_size, num_layers, dropout_p):\n",
    "        super(DecoderRNNAttention, self).__init__()\n",
    "        self.dropout = nn.Dropout(dropout_p)\n",
    "        self.hidden_size = hidden_size\n",
    "        self.num_layers = num_layers\n",
    "        \n",
    "        self.embedding = nn.Embedding(input_size, embedding_size)\n",
    "        self.rnn = nn.RNN(embedding_size, hidden_size, num_layers, dropout = dropout_p)\n",
    "        \n",
    "        self.attention = nn.Linear(hidden_size + embedding_size, hidden_size)\n",
    "        self.output = nn.Linear(hidden_size, output_size)\n",
    "        \n",
    "    def forward(self, x, hidden, cell, encoder_outputs):\n",
    "        # x -> (batch_size,)\n",
    "        # hidden, cell -> (num_layers, batch_size, hidden_size)\n",
    "        # encoder_outputs -> (src_seq_len, batch_size, hidden_size)\n",
    "        x = x.unsqueeze(0)  # x -> (1, batch_size)\n",
    "        embedding = self.dropout(self.embedding(x))  # embedding -> (1, batch_size, embedding_size)\n",
    "        \n",
    "        attn_input = torch.cat((embedding, hidden[-1].unsqueeze(0)), dim=2) # attn_input -> (1, batch_size, embedding_size + hidden_size)\n",
    "        attn_weights = F.softmax(self.attention(attn_input), dim=2) # attn_weights -> (1, batch_size, seq_length)\n",
    "        \n",
    "        # Apply attention to encoder_outputs\n",
    "        context = torch.bmm(attn_weights.transpose(0,1), encoder_outputs.transpose(0,1)) # context -> (batch_size, 1, hidden_size)\n",
    "        context = context.transpose(0,1) # context -> (1, batch_size, hidden_size)\n",
    "        \n",
    "        # rnn_input -> (1, batch_size, embedding_size + hidden_size)\n",
    "        rnn_input = torch.cat((embedding, context), dim=2)\n",
    "        \n",
    "        output, (hidden, cell) = self.rnn(rnn_input, (hidden, cell))  # output -> (1, batch_size, hidden_size)\n",
    "        prediction = self.output(output.squeeze(0))  # prediction -> (batch_size, output_size)\n",
    "        return prediction, hidden, cell, attn_weights.squeeze(0)\n",
    "    \n",
    "\n",
    "class Seq2SeqRNNAttention(nn.Module):\n",
    "    def __init__(self, encoder, decoder, output_size, device):\n",
    "        super(Seq2SeqRNNAttention, self).__init__()\n",
    "        self.encoder = encoder\n",
    "        self.decoder = decoder\n",
    "        self.output_size = output_size\n",
    "        self.device = device\n",
    "        \n",
    "    def forward(self, source , target, teacher_force_ratio = 0.5):\n",
    "        #source-> (max_seq_length, batch_size)\n",
    "        #target-> (max_seq_length, batch_size)\n",
    "        batch_size = source.shape[1]\n",
    "        target_len = target.shape[0]\n",
    "        target_vocab_size = self.output_size #the size of target vocab\n",
    "        \n",
    "        #this tensor will be used for predicting output one by one\n",
    "        outputs = torch.zeros(target_len, batch_size, target_vocab_size).to(self.device)\n",
    "        \n",
    "        hidden, cell = self.encoder(source)\n",
    "        \n",
    "        #get first token from input to the decoder -> <SOS>\n",
    "        x = target[0] #shape -> (,batch_size)\n",
    "        \n",
    "        for t in range(1, target_len):\n",
    "            #get output, hidden, cell from decoder. Input is x, previous hidden and cell\n",
    "            prediction, hidden, cell = self.decoder(x, hidden, cell)\n",
    "            #prediction shape-> (batch_size, target_vocab_size)\n",
    "            \n",
    "            #store next output prediction\n",
    "            outputs[t] = prediction\n",
    "            \n",
    "            #get best word the decoder predicted (index of target_vocab)\n",
    "            best_guess = prediction.argmax(1)\n",
    "            #print('best guess: ', best_guess.shape)\n",
    "            #print('target[t]: ', target[t].shape)\n",
    "            # teacher forcing ratio is used to sometime input the previous prediction and sometime give the actual word from training data\n",
    "            x = target[t] if random.random()<teacher_force_ratio else best_guess\n",
    "            \n",
    "            \n",
    "        return outputs #shape-> (seq_length, batch_size, target_vocab)\n"
   ]
  },
  {
   "attachments": {},
   "cell_type": "markdown",
   "metadata": {},
   "source": [
    "### LSTM with attention"
   ]
  },
  {
   "cell_type": "code",
   "execution_count": 45,
   "metadata": {},
   "outputs": [],
   "source": [
    "import random\n",
    "\n",
    "class EncoderLSTMAttention(nn.Module):\n",
    "    \"\"\"\n",
    "    ### Define EncoderLSTMAttention\n",
    "    The input to encoder is the whole sentence. Therefore, the size of x in forward is (seq_length, batch_size)\n",
    "    \"\"\"\n",
    "    '''\n",
    "    input_size -> source vocab size\n",
    "    '''\n",
    "    def __init__(self, input_size, embedding_size, hidden_size, num_layers, dropout_p):\n",
    "        super(EncoderLSTMAttention, self).__init__()\n",
    "        self.dropout = nn.Dropout(dropout_p)\n",
    "        self.hidden_size = hidden_size\n",
    "        self.num_layers = num_layers\n",
    "        self.embedding = nn.Embedding(input_size, embedding_size)\n",
    "        \n",
    "        self.rnn = nn.LSTM(embedding_size, hidden_size, num_layers, dropout=dropout_p)\n",
    "        \n",
    "    def forward(self, x):\n",
    "        # shape of x-> (seq_length, batch_size)\n",
    "        embedding = self.dropout(self.embedding(x)) #shape-> (seq_length, batch_size, embedding_size)\n",
    "        \n",
    "        outputs, (hidden,cell) = self.rnn(embedding)\n",
    "        \n",
    "        return hidden, cell #shape-> (num_layers, batch_size, hidden_size)\n",
    "\n",
    "\n",
    "\n",
    "class DecoderLSTMAttention(nn.Module):\n",
    "    \"\"\"\n",
    "    ### Define DecoderLSTMAttention\n",
    "    * Input is one word at a time. shape of x is-> (1, batch_size)\n",
    "    * embedding size-> (1, batch_size, embedding_size)\n",
    "    * outputs-> (1, batch_size, hidden_size)\n",
    "    * predictions -> (batch_size, output_size)\n",
    "    \"\"\"\n",
    "    def __init__(self, input_size, embedding_size, hidden_size, output_size, num_layers, dropout_p):\n",
    "        super(DecoderLSTMAttention, self).__init__()\n",
    "        self.dropout = nn.Dropout(dropout_p)\n",
    "        self.hidden_size = hidden_size\n",
    "        self.num_layers = num_layers\n",
    "        self.embedding = nn.Embedding(input_size, embedding_size)\n",
    "        self.rnn = nn.LSTM(embedding_size, hidden_size, num_layers, dropout=dropout_p)\n",
    "        self.fc = nn.Linear(hidden_size, output_size)\n",
    "        self.attn = nn.Linear(hidden_size + hidden_size, hidden_size) # Attention mechanism\n",
    "\n",
    "    def forward(self, x, hidden, cell, encoder_outputs):\n",
    "        # for next(iter(train_loader))[1][0] will give us the first word for batch_size (,batch_size)\n",
    "        # to input to model, we need to add a dimension at 0\n",
    "        # x-> (, batch_size) -> convert to (1, batch_size)\n",
    "        x = x.unsqueeze(0)\n",
    "        embedding = self.dropout(self.embedding(x)) #(1, batch_size, embedding_size)\n",
    "        output, (hidden, cell) = self.rnn(embedding, (hidden, cell))\n",
    "        # outputshape -> (1, batch_size, hidden_size)\n",
    "        # encoder_outputs -> (seq_len, batch_size, hidden_size)\n",
    "        attn_weights = torch.bmm(output.permute(1, 0, 2), encoder_outputs.permute(1, 2, 0)) # attention weights\n",
    "        # attn_weights -> (batch_size, 1, seq_len)\n",
    "        attn_weights = torch.softmax(attn_weights, dim=2) # softmax to get attention distribution\n",
    "        context = torch.bmm(attn_weights, encoder_outputs.permute(1, 0, 2)) # context vector\n",
    "        # context -> (batch_size, 1, hidden_size)\n",
    "        output = torch.tanh(self.attn(torch.cat((context, output), dim=2))) # concatenate context and output, and pass through linear layer\n",
    "        predictions = self.fc(output) #(1, batch_size, output_size)\n",
    "        predictions = predictions.squeeze(0) #(batch_size, output_size)\n",
    "        return predictions, hidden, cell\n",
    "    \n",
    "\n",
    "\n",
    "class Seq2SeqLSTMAttention(nn.Module):\n",
    "    def __init__(self, encoder, decoder, output_size, device):\n",
    "        super(Seq2SeqLSTMAttention, self).__init__()\n",
    "        self.encoder = encoder\n",
    "        self.decoder = decoder\n",
    "        self.output_size = output_size\n",
    "        self.device = device\n",
    "        \n",
    "    def forward(self, source , target, teacher_force_ratio = 0.5):\n",
    "        #source-> (max_seq_length, batch_size)\n",
    "        #target-> (max_seq_length, batch_size)\n",
    "        batch_size = source.shape[1]\n",
    "        target_len = target.shape[0]\n",
    "        target_vocab_size = self.output_size #the size of target vocab\n",
    "        \n",
    "        #this tensor will be used for predicting output one by one\n",
    "        outputs = torch.zeros(target_len, batch_size, target_vocab_size).to(self.device)\n",
    "        \n",
    "        hidden, cell = self.encoder(source)\n",
    "        \n",
    "        #get first token from input to the decoder -> <SOS>\n",
    "        x = target[0] #shape -> (,batch_size)\n",
    "        \n",
    "        for t in range(1, target_len):\n",
    "            #get output, hidden, cell from decoder. Input is x, previous hidden and cell\n",
    "            prediction, hidden, cell = self.decoder(x, hidden, cell)\n",
    "            #prediction shape-> (batch_size, target_vocab_size)\n",
    "            \n",
    "            #store next output prediction\n",
    "            outputs[t] = prediction\n",
    "            \n",
    "            #get best word the decoder predicted (index of target_vocab)\n",
    "            best_guess = prediction.argmax(1)\n",
    "            #print('best guess: ', best_guess.shape)\n",
    "            #print('target[t]: ', target[t].shape)\n",
    "            # teacher forcing ratio is used to sometime input the previous prediction and sometime give the actual word from training data\n",
    "            x = target[t] if random.random()<teacher_force_ratio else best_guess\n",
    "            \n",
    "            \n",
    "        return outputs #shape-> (seq_length, batch_size, target_vocab)\n"
   ]
  },
  {
   "attachments": {},
   "cell_type": "markdown",
   "metadata": {},
   "source": [
    "### Training the models"
   ]
  },
  {
   "cell_type": "code",
   "execution_count": 46,
   "metadata": {},
   "outputs": [],
   "source": [
    "# Training hyperparameters SET 3\n",
    "num_epochs = 15\n",
    "learning_rate = 0.001\n",
    "batch_size = 128\n",
    "\n",
    "# Model hyperparameters\n",
    "input_size_encoder = 10000\n",
    "input_size_decoder = 10000\n",
    "output_size = input_size_decoder\n",
    "encoder_embedding_size = 16\n",
    "decoder_embedding_size = 16\n",
    "hidden_size = 16 \n",
    "num_layers = 2\n",
    "enc_dropout = 0.5\n",
    "dec_dropout = 0.5\n",
    "\n",
    "transforms = False\n",
    "\n",
    "train_loader = get_train_loader(train_dataset, batch_size, num_workers=4, shuffle=True, pin_memory=True)\n",
    "test_loader = get_valid_loader(test_dataset, train_dataset, batch_size, num_workers=4, shuffle=True, pin_memory=True)"
   ]
  },
  {
   "cell_type": "code",
   "execution_count": 47,
   "metadata": {},
   "outputs": [
    {
     "data": {
      "text/plain": [
       "Seq2SeqLSTMAttention(\n",
       "  (encoder): EncoderLSTM(\n",
       "    (dropout): Dropout(p=0.5, inplace=False)\n",
       "    (embedding): Embedding(10000, 16)\n",
       "    (rnn): LSTM(16, 16, num_layers=2, dropout=0.5)\n",
       "  )\n",
       "  (decoder): DecoderLSTM(\n",
       "    (dropout): Dropout(p=0.5, inplace=False)\n",
       "    (embedding): Embedding(10000, 16)\n",
       "    (rnn): LSTM(16, 16, num_layers=2, dropout=0.5)\n",
       "    (fc): Linear(in_features=16, out_features=10000, bias=True)\n",
       "  )\n",
       ")"
      ]
     },
     "execution_count": 47,
     "metadata": {},
     "output_type": "execute_result"
    }
   ],
   "source": [
    "# define models, 1 for RNN and 2 for LSTM seq2seq\n",
    "encoder_net_rnn_attention = EncoderRNNAttention(input_size_encoder, encoder_embedding_size, hidden_size, num_layers, enc_dropout).to(device)\n",
    "decoder_net_rnn_attention = DecoderRNNAttention(input_size_decoder, decoder_embedding_size, hidden_size, output_size, num_layers, dec_dropout).to(device)\n",
    "\n",
    "model_rnn_attention = Seq2SeqRNNAttention(encoder_net_rnn, decoder_net_rnn, output_size, device)\n",
    "model_rnn_attention.to(device)\n",
    "\n",
    "encoder_net_lstm_attention = EncoderLSTMAttention(input_size_encoder, encoder_embedding_size, hidden_size, num_layers, enc_dropout).to(device)\n",
    "decoder_net_lstm_attention = DecoderLSTMAttention(input_size_decoder, decoder_embedding_size, hidden_size, output_size, num_layers, dec_dropout).to(device)\n",
    "\n",
    "model_lstm_attention = Seq2SeqLSTMAttention(encoder_net_lstm, decoder_net_lstm, output_size, device)\n",
    "model_lstm_attention.to(device)"
   ]
  },
  {
   "cell_type": "code",
   "execution_count": 43,
   "metadata": {},
   "outputs": [
    {
     "data": {
      "application/vnd.jupyter.widget-view+json": {
       "model_id": "25561dc1aae94634b970b52eaff29dd9",
       "version_major": 2,
       "version_minor": 0
      },
      "text/plain": [
       "  0%|          | 0/15 [00:00<?, ?it/s]"
      ]
     },
     "metadata": {},
     "output_type": "display_data"
    },
    {
     "name": "stdout",
     "output_type": "stream",
     "text": [
      "Epoch: 1 | train_loss: 2.9662 | test_loss: 0.3928  \n",
      "Epoch: 2 | train_loss: 2.8656 | test_loss: 0.4266  \n",
      "Epoch: 3 | train_loss: 2.8344 | test_loss: 0.4217  \n",
      "Epoch: 4 | train_loss: 2.8210 | test_loss: 0.3460  \n",
      "Epoch: 5 | train_loss: 2.8082 | test_loss: 0.3446  \n",
      "Epoch: 6 | train_loss: 2.8008 | test_loss: 0.3746  \n",
      "Epoch: 7 | train_loss: 2.7924 | test_loss: 0.3948  \n",
      "Epoch: 8 | train_loss: 2.7862 | test_loss: 0.4605  \n",
      "Epoch: 9 | train_loss: 2.7811 | test_loss: 0.4337  \n",
      "Epoch: 10 | train_loss: 2.7753 | test_loss: 0.4036  \n",
      "Epoch: 11 | train_loss: 2.7698 | test_loss: 0.3907  \n",
      "Epoch: 12 | train_loss: 2.7634 | test_loss: 0.4242  \n",
      "Epoch: 13 | train_loss: 2.7591 | test_loss: 0.4343  \n",
      "Epoch: 14 | train_loss: 2.7528 | test_loss: 0.4265  \n",
      "Epoch: 15 | train_loss: 2.7493 | test_loss: 0.3853  \n",
      "total training time: 52.341 sec.\n"
     ]
    },
    {
     "data": {
      "image/png": "[encoded data removed]",
      "text/plain": [
       "<Figure size 700x700 with 1 Axes>"
      ]
     },
     "metadata": {},
     "output_type": "display_data"
    }
   ],
   "source": [
    "from timeit import default_timer as timer\n",
    "\n",
    "\n",
    "optimizer = optim.Adam(model_rnn_attention.parameters(), lr = learning_rate)\n",
    "\n",
    "pad_idx = train_dataset.source_vocab.stoi['<PAD>']\n",
    "\n",
    "criterion = nn.CrossEntropyLoss(ignore_index=pad_idx)\n",
    "\n",
    "accuracy = Accuracy(\"multiclass\", num_classes=10000).to(device)\n",
    "\n",
    "start_time = timer()\n",
    "\n",
    "# train model_rnn_attention\n",
    "model_rnn_attention_results = train(\n",
    "    model=model_rnn_attention,\n",
    "    train_dataloader=train_loader,\n",
    "    test_dataloader=test_loader,\n",
    "    optimizer=optimizer,\n",
    "    loss_fn=criterion,\n",
    "    acc_fn=accuracy,\n",
    "    epochs=num_epochs,\n",
    "    device=device\n",
    ")\n",
    "\n",
    "# end timer\n",
    "end_time = timer()\n",
    "# printing time taken\n",
    "print(f\"total training time: {end_time-start_time:.3f} sec.\")\n",
    "plot_loss_curves(model_rnn_attention_results)\n"
   ]
  },
  {
   "cell_type": "code",
   "execution_count": 48,
   "metadata": {},
   "outputs": [
    {
     "data": {
      "application/vnd.jupyter.widget-view+json": {
       "model_id": "c50da82ff30d4da288f158d879096d59",
       "version_major": 2,
       "version_minor": 0
      },
      "text/plain": [
       "  0%|          | 0/15 [00:00<?, ?it/s]"
      ]
     },
     "metadata": {},
     "output_type": "display_data"
    },
    {
     "name": "stdout",
     "output_type": "stream",
     "text": [
      "Epoch: 1 | train_loss: 5.4217 | test_loss: 0.8201  \n",
      "Epoch: 2 | train_loss: 3.1732 | test_loss: 0.4917  \n",
      "Epoch: 3 | train_loss: 3.0293 | test_loss: 0.4179  \n",
      "Epoch: 4 | train_loss: 2.9920 | test_loss: 0.4130  \n",
      "Epoch: 5 | train_loss: 2.9764 | test_loss: 0.3694  \n",
      "Epoch: 6 | train_loss: 2.9659 | test_loss: 0.3848  \n",
      "Epoch: 7 | train_loss: 2.9620 | test_loss: 0.3848  \n",
      "Epoch: 8 | train_loss: 2.9571 | test_loss: 0.3803  \n",
      "Epoch: 9 | train_loss: 2.9532 | test_loss: 0.3886  \n",
      "Epoch: 10 | train_loss: 2.9493 | test_loss: 0.3529  \n",
      "Epoch: 11 | train_loss: 2.9495 | test_loss: 0.3472  \n",
      "Epoch: 12 | train_loss: 2.9457 | test_loss: 0.3649  \n",
      "Epoch: 13 | train_loss: 2.9402 | test_loss: 0.3601  \n",
      "Epoch: 14 | train_loss: 2.9278 | test_loss: 0.3655  \n",
      "Epoch: 15 | train_loss: 2.9105 | test_loss: 0.3848  \n",
      "total training time: 51.066 sec.\n"
     ]
    },
    {
     "data": {
      "image/png": "[encoded data removed]",
      "text/plain": [
       "<Figure size 700x700 with 1 Axes>"
      ]
     },
     "metadata": {},
     "output_type": "display_data"
    }
   ],
   "source": [
    "from timeit import default_timer as timer\n",
    "\n",
    "\n",
    "optimizer = optim.Adam(model_lstm_attention.parameters(), lr = learning_rate)\n",
    "\n",
    "pad_idx = train_dataset.source_vocab.stoi['<PAD>']\n",
    "\n",
    "criterion = nn.CrossEntropyLoss(ignore_index=pad_idx)\n",
    "\n",
    "accuracy = Accuracy(\"multiclass\", num_classes=10000).to(device)\n",
    "\n",
    "start_time = timer()\n",
    "\n",
    "# train model_lstm_attention\n",
    "model_lstm_attention_results = train(\n",
    "    model=model_lstm_attention,\n",
    "    train_dataloader=train_loader,\n",
    "    test_dataloader=test_loader,\n",
    "    optimizer=optimizer,\n",
    "    loss_fn=criterion,\n",
    "    acc_fn=accuracy,\n",
    "    epochs=num_epochs,\n",
    "    device=device\n",
    ")\n",
    "\n",
    "# end timer\n",
    "end_time = timer()\n",
    "# printing time taken\n",
    "print(f\"total training time: {end_time-start_time:.3f} sec.\")\n",
    "plot_loss_curves(model_lstm_attention_results)\n"
   ]
  }
 ],
 "metadata": {
  "kernelspec": {
   "display_name": "bikash",
   "language": "python",
   "name": "python3"
  },
  "language_info": {
   "codemirror_mode": {
    "name": "ipython",
    "version": 3
   },
   "file_extension": ".py",
   "mimetype": "text/x-python",
   "name": "python",
   "nbconvert_exporter": "python",
   "pygments_lexer": "ipython3",
   "version": "3.10.9"
  },
  "orig_nbformat": 4
 },
 "nbformat": 4,
 "nbformat_minor": 2
}
