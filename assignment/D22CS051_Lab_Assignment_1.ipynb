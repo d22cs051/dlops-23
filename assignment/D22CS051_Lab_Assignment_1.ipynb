{
  "nbformat": 4,
  "nbformat_minor": 0,
  "metadata": {
    "colab": {
      "provenance": [],
      "authorship_tag": "ABX9TyNEqYXgc6tGIfrs0TR8HV3f",
      "include_colab_link": true
    },
    "kernelspec": {
      "name": "python3",
      "display_name": "Python 3"
    },
    "language_info": {
      "name": "python"
    },
    "widgets": {
      "application/vnd.jupyter.widget-state+json": {
        "29034b5605d84515a5590a07ec7a2eff": {
          "model_module": "@jupyter-widgets/controls",
          "model_name": "HBoxModel",
          "model_module_version": "1.5.0",
          "state": {
            "_dom_classes": [],
            "_model_module": "@jupyter-widgets/controls",
            "_model_module_version": "1.5.0",
            "_model_name": "HBoxModel",
            "_view_count": null,
            "_view_module": "@jupyter-widgets/controls",
            "_view_module_version": "1.5.0",
            "_view_name": "HBoxView",
            "box_style": "",
            "children": [
              "IPY_MODEL_59b2f369ac1e424fbd12827d1167d61d",
              "IPY_MODEL_5913980a516f480287d8bcc8341798b9",
              "IPY_MODEL_3a5fa02842e442b084a2e98b8b7ddf8a"
            ],
            "layout": "IPY_MODEL_995092ae19044bd0900302323f69cab6"
          }
        },
        "59b2f369ac1e424fbd12827d1167d61d": {
          "model_module": "@jupyter-widgets/controls",
          "model_name": "HTMLModel",
          "model_module_version": "1.5.0",
          "state": {
            "_dom_classes": [],
            "_model_module": "@jupyter-widgets/controls",
            "_model_module_version": "1.5.0",
            "_model_name": "HTMLModel",
            "_view_count": null,
            "_view_module": "@jupyter-widgets/controls",
            "_view_module_version": "1.5.0",
            "_view_name": "HTMLView",
            "description": "",
            "description_tooltip": null,
            "layout": "IPY_MODEL_9d8258ea02d44f1bba5e9e36b57aee8f",
            "placeholder": "​",
            "style": "IPY_MODEL_3161787bda2f446080924e54b24177ef",
            "value": "100%"
          }
        },
        "5913980a516f480287d8bcc8341798b9": {
          "model_module": "@jupyter-widgets/controls",
          "model_name": "FloatProgressModel",
          "model_module_version": "1.5.0",
          "state": {
            "_dom_classes": [],
            "_model_module": "@jupyter-widgets/controls",
            "_model_module_version": "1.5.0",
            "_model_name": "FloatProgressModel",
            "_view_count": null,
            "_view_module": "@jupyter-widgets/controls",
            "_view_module_version": "1.5.0",
            "_view_name": "ProgressView",
            "bar_style": "success",
            "description": "",
            "description_tooltip": null,
            "layout": "IPY_MODEL_159952e585d34077b44c088609b91cc2",
            "max": 15,
            "min": 0,
            "orientation": "horizontal",
            "style": "IPY_MODEL_60dca309ce434ff4a9d2446565b5d39e",
            "value": 15
          }
        },
        "3a5fa02842e442b084a2e98b8b7ddf8a": {
          "model_module": "@jupyter-widgets/controls",
          "model_name": "HTMLModel",
          "model_module_version": "1.5.0",
          "state": {
            "_dom_classes": [],
            "_model_module": "@jupyter-widgets/controls",
            "_model_module_version": "1.5.0",
            "_model_name": "HTMLModel",
            "_view_count": null,
            "_view_module": "@jupyter-widgets/controls",
            "_view_module_version": "1.5.0",
            "_view_name": "HTMLView",
            "description": "",
            "description_tooltip": null,
            "layout": "IPY_MODEL_c629b3377192401e97008c111bf760bb",
            "placeholder": "​",
            "style": "IPY_MODEL_d69ed6f3cb3842b9a285182525c604ef",
            "value": " 15/15 [00:00&lt;00:00, 118.60it/s]"
          }
        },
        "995092ae19044bd0900302323f69cab6": {
          "model_module": "@jupyter-widgets/base",
          "model_name": "LayoutModel",
          "model_module_version": "1.2.0",
          "state": {
            "_model_module": "@jupyter-widgets/base",
            "_model_module_version": "1.2.0",
            "_model_name": "LayoutModel",
            "_view_count": null,
            "_view_module": "@jupyter-widgets/base",
            "_view_module_version": "1.2.0",
            "_view_name": "LayoutView",
            "align_content": null,
            "align_items": null,
            "align_self": null,
            "border": null,
            "bottom": null,
            "display": null,
            "flex": null,
            "flex_flow": null,
            "grid_area": null,
            "grid_auto_columns": null,
            "grid_auto_flow": null,
            "grid_auto_rows": null,
            "grid_column": null,
            "grid_gap": null,
            "grid_row": null,
            "grid_template_areas": null,
            "grid_template_columns": null,
            "grid_template_rows": null,
            "height": null,
            "justify_content": null,
            "justify_items": null,
            "left": null,
            "margin": null,
            "max_height": null,
            "max_width": null,
            "min_height": null,
            "min_width": null,
            "object_fit": null,
            "object_position": null,
            "order": null,
            "overflow": null,
            "overflow_x": null,
            "overflow_y": null,
            "padding": null,
            "right": null,
            "top": null,
            "visibility": null,
            "width": null
          }
        },
        "9d8258ea02d44f1bba5e9e36b57aee8f": {
          "model_module": "@jupyter-widgets/base",
          "model_name": "LayoutModel",
          "model_module_version": "1.2.0",
          "state": {
            "_model_module": "@jupyter-widgets/base",
            "_model_module_version": "1.2.0",
            "_model_name": "LayoutModel",
            "_view_count": null,
            "_view_module": "@jupyter-widgets/base",
            "_view_module_version": "1.2.0",
            "_view_name": "LayoutView",
            "align_content": null,
            "align_items": null,
            "align_self": null,
            "border": null,
            "bottom": null,
            "display": null,
            "flex": null,
            "flex_flow": null,
            "grid_area": null,
            "grid_auto_columns": null,
            "grid_auto_flow": null,
            "grid_auto_rows": null,
            "grid_column": null,
            "grid_gap": null,
            "grid_row": null,
            "grid_template_areas": null,
            "grid_template_columns": null,
            "grid_template_rows": null,
            "height": null,
            "justify_content": null,
            "justify_items": null,
            "left": null,
            "margin": null,
            "max_height": null,
            "max_width": null,
            "min_height": null,
            "min_width": null,
            "object_fit": null,
            "object_position": null,
            "order": null,
            "overflow": null,
            "overflow_x": null,
            "overflow_y": null,
            "padding": null,
            "right": null,
            "top": null,
            "visibility": null,
            "width": null
          }
        },
        "3161787bda2f446080924e54b24177ef": {
          "model_module": "@jupyter-widgets/controls",
          "model_name": "DescriptionStyleModel",
          "model_module_version": "1.5.0",
          "state": {
            "_model_module": "@jupyter-widgets/controls",
            "_model_module_version": "1.5.0",
            "_model_name": "DescriptionStyleModel",
            "_view_count": null,
            "_view_module": "@jupyter-widgets/base",
            "_view_module_version": "1.2.0",
            "_view_name": "StyleView",
            "description_width": ""
          }
        },
        "159952e585d34077b44c088609b91cc2": {
          "model_module": "@jupyter-widgets/base",
          "model_name": "LayoutModel",
          "model_module_version": "1.2.0",
          "state": {
            "_model_module": "@jupyter-widgets/base",
            "_model_module_version": "1.2.0",
            "_model_name": "LayoutModel",
            "_view_count": null,
            "_view_module": "@jupyter-widgets/base",
            "_view_module_version": "1.2.0",
            "_view_name": "LayoutView",
            "align_content": null,
            "align_items": null,
            "align_self": null,
            "border": null,
            "bottom": null,
            "display": null,
            "flex": null,
            "flex_flow": null,
            "grid_area": null,
            "grid_auto_columns": null,
            "grid_auto_flow": null,
            "grid_auto_rows": null,
            "grid_column": null,
            "grid_gap": null,
            "grid_row": null,
            "grid_template_areas": null,
            "grid_template_columns": null,
            "grid_template_rows": null,
            "height": null,
            "justify_content": null,
            "justify_items": null,
            "left": null,
            "margin": null,
            "max_height": null,
            "max_width": null,
            "min_height": null,
            "min_width": null,
            "object_fit": null,
            "object_position": null,
            "order": null,
            "overflow": null,
            "overflow_x": null,
            "overflow_y": null,
            "padding": null,
            "right": null,
            "top": null,
            "visibility": null,
            "width": null
          }
        },
        "60dca309ce434ff4a9d2446565b5d39e": {
          "model_module": "@jupyter-widgets/controls",
          "model_name": "ProgressStyleModel",
          "model_module_version": "1.5.0",
          "state": {
            "_model_module": "@jupyter-widgets/controls",
            "_model_module_version": "1.5.0",
            "_model_name": "ProgressStyleModel",
            "_view_count": null,
            "_view_module": "@jupyter-widgets/base",
            "_view_module_version": "1.2.0",
            "_view_name": "StyleView",
            "bar_color": null,
            "description_width": ""
          }
        },
        "c629b3377192401e97008c111bf760bb": {
          "model_module": "@jupyter-widgets/base",
          "model_name": "LayoutModel",
          "model_module_version": "1.2.0",
          "state": {
            "_model_module": "@jupyter-widgets/base",
            "_model_module_version": "1.2.0",
            "_model_name": "LayoutModel",
            "_view_count": null,
            "_view_module": "@jupyter-widgets/base",
            "_view_module_version": "1.2.0",
            "_view_name": "LayoutView",
            "align_content": null,
            "align_items": null,
            "align_self": null,
            "border": null,
            "bottom": null,
            "display": null,
            "flex": null,
            "flex_flow": null,
            "grid_area": null,
            "grid_auto_columns": null,
            "grid_auto_flow": null,
            "grid_auto_rows": null,
            "grid_column": null,
            "grid_gap": null,
            "grid_row": null,
            "grid_template_areas": null,
            "grid_template_columns": null,
            "grid_template_rows": null,
            "height": null,
            "justify_content": null,
            "justify_items": null,
            "left": null,
            "margin": null,
            "max_height": null,
            "max_width": null,
            "min_height": null,
            "min_width": null,
            "object_fit": null,
            "object_position": null,
            "order": null,
            "overflow": null,
            "overflow_x": null,
            "overflow_y": null,
            "padding": null,
            "right": null,
            "top": null,
            "visibility": null,
            "width": null
          }
        },
        "d69ed6f3cb3842b9a285182525c604ef": {
          "model_module": "@jupyter-widgets/controls",
          "model_name": "DescriptionStyleModel",
          "model_module_version": "1.5.0",
          "state": {
            "_model_module": "@jupyter-widgets/controls",
            "_model_module_version": "1.5.0",
            "_model_name": "DescriptionStyleModel",
            "_view_count": null,
            "_view_module": "@jupyter-widgets/base",
            "_view_module_version": "1.2.0",
            "_view_name": "StyleView",
            "description_width": ""
          }
        }
      }
    }
  },
  "cells": [
    {
      "cell_type": "markdown",
      "metadata": {
        "id": "view-in-github",
        "colab_type": "text"
      },
      "source": [
        "<a href=\"https://colab.research.google.com/github/d22cs051/dlops-23/blob/main/assignment/D22CS051_Lab_Assignment_1.ipynb\" target=\"_parent\"><img src=\"https://colab.research.google.com/assets/colab-badge.svg\" alt=\"Open In Colab\"/></a>"
      ]
    },
    {
      "cell_type": "markdown",
      "source": [
        "# Assignment 1"
      ],
      "metadata": {
        "id": "nPzQJf11rof7"
      }
    },
    {
      "cell_type": "markdown",
      "source": [
        "## Question 1"
      ],
      "metadata": {
        "id": "CrNfne6s7B9x"
      }
    },
    {
      "cell_type": "markdown",
      "source": [
        "### getting iris dataset with sklearn"
      ],
      "metadata": {
        "id": "31qBPdbtstNh"
      }
    },
    {
      "cell_type": "code",
      "source": [
        "from sklearn.datasets import load_iris\n",
        "data = load_iris()\n",
        "X,y = data.data, data.target\n",
        "class_names = data.target_names\n",
        "X.shape,y.shape,class_names.shape"
      ],
      "metadata": {
        "colab": {
          "base_uri": "https://localhost:8080/"
        },
        "id": "bbMA0DVWsxfO",
        "outputId": "a6ddf5d3-5be0-4d69-fe2e-d3dcff46d26b"
      },
      "execution_count": 206,
      "outputs": [
        {
          "output_type": "execute_result",
          "data": {
            "text/plain": [
              "((150, 4), (150,), (3,))"
            ]
          },
          "metadata": {},
          "execution_count": 206
        }
      ]
    },
    {
      "cell_type": "markdown",
      "source": [
        "### importing *modules*"
      ],
      "metadata": {
        "id": "KV4KMBwNryr8"
      }
    },
    {
      "cell_type": "code",
      "execution_count": 207,
      "metadata": {
        "id": "st644MZhrPiR"
      },
      "outputs": [],
      "source": [
        "import numpy as np"
      ]
    },
    {
      "cell_type": "markdown",
      "source": [
        "### making single perceptron"
      ],
      "metadata": {
        "id": "07pmDhPyt4lR"
      }
    },
    {
      "cell_type": "code",
      "source": [
        "# init weights\n",
        "w = np.random.uniform(low=-0.3,high=0.3,size=(4,))\n",
        "b = 1\n",
        "w,b"
      ],
      "metadata": {
        "id": "L-Bqf1Cwt3vq",
        "colab": {
          "base_uri": "https://localhost:8080/"
        },
        "outputId": "8dabe070-c3a4-4e8c-df2c-1e1a8a535cc2"
      },
      "execution_count": 208,
      "outputs": [
        {
          "output_type": "execute_result",
          "data": {
            "text/plain": [
              "(array([ 0.08550636, -0.02367256, -0.22582373, -0.08744008]), 1)"
            ]
          },
          "metadata": {},
          "execution_count": 208
        }
      ]
    },
    {
      "cell_type": "markdown",
      "source": [
        "### training loop"
      ],
      "metadata": {
        "id": "PKc-H2XEvwXL"
      }
    },
    {
      "cell_type": "code",
      "source": [
        "EPOCHS = 3\n",
        "lr = 0.01\n",
        "for epoch in range(EPOCHS):\n",
        "  loss = 0\n",
        "  for x,target in zip(X,y):\n",
        "    # forward pass\n",
        "    # print(x.shape,w.shape)\n",
        "    forward =  np.matmul(w.T,x) + b\n",
        "    # print(f\"pred: {forward}, actual: {target}\")\n",
        "    \n",
        "    # calculate the loss (L2 Loss)\n",
        "    loss += (target - forward)**2\n",
        "\n",
        "  print(\"loss\", loss)\n",
        "  # backpropagation\n",
        "  b_o_i = np.array((2*(loss)*-1)/len(X))\n",
        "  # print(\"b_o_i shape\",b_o_i.shape)\n",
        "  print(f\"old w {w}, old b {b}\")\n",
        "  # updating the weights and baises\n",
        "  w += lr*b_o_i\n",
        "  b += lr*b_o_i\n",
        "  print(f\"new w {w}, new b {b}\")    \n",
        "  print()"
      ],
      "metadata": {
        "colab": {
          "base_uri": "https://localhost:8080/"
        },
        "id": "M7wT2w_gvtx-",
        "outputId": "50be3df0-feb2-4906-fcde-39d64a836c7c"
      },
      "execution_count": 209,
      "outputs": [
        {
          "output_type": "stream",
          "name": "stdout",
          "text": [
            "loss 258.5348526781396\n",
            "old w [ 0.08550636 -0.02367256 -0.22582373 -0.08744008], old b 1\n",
            "new w [ 0.05103505 -0.05814387 -0.26029504 -0.12191139], new b 0.9655286863095813\n",
            "\n",
            "loss 416.8476345172534\n",
            "old w [ 0.05103505 -0.05814387 -0.26029504 -0.12191139], old b 0.9655286863095813\n",
            "new w [-0.00454463 -0.11372355 -0.31587473 -0.17749108], new b 0.9099490017072809\n",
            "\n",
            "loss 845.1154144508333\n",
            "old w [-0.00454463 -0.11372355 -0.31587473 -0.17749108], old b 0.9099490017072809\n",
            "new w [-0.11722669 -0.22640561 -0.42855678 -0.29017313], new b 0.7972669464471698\n",
            "\n"
          ]
        }
      ]
    },
    {
      "cell_type": "markdown",
      "source": [
        "## Question 2"
      ],
      "metadata": {
        "id": "q-2TD_w87cTG"
      }
    },
    {
      "cell_type": "markdown",
      "source": [
        "### making multilayer perceptron"
      ],
      "metadata": {
        "id": "tQeXzb-q9niu"
      }
    },
    {
      "cell_type": "code",
      "source": [
        "# making y -> (0,1,2..) -> [[1,0,0],[0,1,0],[0,0,1]...]\n",
        "# print(y)\n",
        "y_new = []\n",
        "for i in y:\n",
        "  if i == 0:\n",
        "    y_new.append([1,0,0])\n",
        "  elif i == 1:\n",
        "    y_new.append([0,1,0])\n",
        "  elif i == 2:\n",
        "    y_new.append([0,0,1])\n",
        "# print(y_new)\n",
        "y = np.array(y_new)"
      ],
      "metadata": {
        "id": "SNNiIj6MaFfS"
      },
      "execution_count": 210,
      "outputs": []
    },
    {
      "cell_type": "code",
      "source": [
        "# ARCH. Of MLP layer\n",
        "# 4 input features -> 4 (hidden layer 1/activation = relu) -> 5 (hidden layer 2/activation = softmax) -> 3 (output layer)\n",
        "\n",
        "# inti weights\n",
        "# convention w_x_y - > weights b/w x & y layer\n",
        "w_i_h1 = np.random.uniform(low=-0.3,high=0.3,size=(4,4))\n",
        "w_h1_h2 = np.random.uniform(low=-0.3,high=0.3,size=(5,4))\n",
        "w_h2_o = np.random.uniform(low=-0.3,high=0.3,size=(3,5))\n",
        "\n",
        "# bias inti\n",
        "bl1 = np.zeros((4,1))\n",
        "bl2 = np.zeros((5,1))\n",
        "bl3 = np.zeros((3,1))"
      ],
      "metadata": {
        "id": "Z8IUYqWm9fAj"
      },
      "execution_count": 211,
      "outputs": []
    },
    {
      "cell_type": "code",
      "source": [
        "def ReLU(X:np.ndarray):\n",
        "  return np.maximum(0,X)\n",
        "\n",
        "def d_ReLU(X:np.ndarray):\n",
        "  return np.array([(0 if i<0 else 1) for i in X])\n",
        "\n",
        "def softmax(x):\n",
        "    \"\"\"Compute softmax values for each sets of scores in x.\"\"\"\n",
        "    e_x = np.exp(x - np.max(x))\n",
        "    return e_x / e_x.sum(axis=0)"
      ],
      "metadata": {
        "id": "wygLoAOzs_sE"
      },
      "execution_count": 212,
      "outputs": []
    },
    {
      "cell_type": "code",
      "source": [
        "def loss_fn(y_pred:np.ndarray,y:np.ndarray):\n",
        "  return np.sum(y-y_pred)**2"
      ],
      "metadata": {
        "id": "HyPlOtmY5PYg"
      },
      "execution_count": 213,
      "outputs": []
    },
    {
      "cell_type": "code",
      "source": [
        "from tqdm.auto import tqdm\n",
        "\n",
        "# training loop\n",
        "EPOCHS = 15\n",
        "lr = 0.01\n",
        "for epoch in tqdm(range(EPOCHS)):\n",
        "  loss = 0\n",
        "  for x,target in zip(X[:10],y[:10]):\n",
        "    x.shape += (1,)\n",
        "    target.shape += (1,)\n",
        "    # forward pass\n",
        "    l1 = np.matmul(w_i_h1,x) + bl1\n",
        "    # print(l1)\n",
        "    # print(l1.shape)\n",
        "    l1_o = ReLU(l1)\n",
        "    # print(l1_o,l1_o.shape)\n",
        "    l2 = np.matmul(w_h1_h2,l1_o) +bl2\n",
        "    # print(l2)\n",
        "    # print(l2.shape)\n",
        "    l2_o = ReLU(l2)\n",
        "    # print(l2_o,l2_o.shape)\n",
        "    l3_o = np.matmul(w_h2_o,l2_o) + bl3 # preds logits\n",
        "\n",
        "    # calculte the loss\n",
        "    loss += loss_fn(l3_o,target)\n",
        "  \n",
        "  # backprop.\n",
        "  print(f\"loss: {loss}\")\n",
        "  delta_o = l3_o - target\n",
        "  # print(delta_o.shape,l2_o.T.shape)\n",
        "  w_h2_o += -lr * delta_o @ l2_o.T\n",
        "  bl3 += -lr * delta_o\n",
        "\n",
        "  delta_h2 = w_h2_o.T @ delta_o * d_ReLU(l1_o)\n",
        "  # print(delta_h2.shape,l1_o.shape)\n",
        "  w_h1_h2 += -lr * delta_h2 \n",
        "  bl2 += -lr * delta_h2 @ l1_o\n",
        "\n",
        "  # print(w_i_h1.shape,delta_h2.shape)\n",
        "  delta_h1 = delta_h2 @ w_i_h1 * d_ReLU(x)\n",
        "  # print(delta_h1.shape,l1_o.shape)\n",
        "  w_h1_h2 += -lr * delta_h2 \n",
        "  bl2 += -lr * delta_h2 @ l1_o"
      ],
      "metadata": {
        "colab": {
          "base_uri": "https://localhost:8080/",
          "height": 317,
          "referenced_widgets": [
            "29034b5605d84515a5590a07ec7a2eff",
            "59b2f369ac1e424fbd12827d1167d61d",
            "5913980a516f480287d8bcc8341798b9",
            "3a5fa02842e442b084a2e98b8b7ddf8a",
            "995092ae19044bd0900302323f69cab6",
            "9d8258ea02d44f1bba5e9e36b57aee8f",
            "3161787bda2f446080924e54b24177ef",
            "159952e585d34077b44c088609b91cc2",
            "60dca309ce434ff4a9d2446565b5d39e",
            "c629b3377192401e97008c111bf760bb",
            "d69ed6f3cb3842b9a285182525c604ef"
          ]
        },
        "id": "cqZ9RPnKrzGN",
        "outputId": "085ec142-9d72-4f5f-9bc2-c52833faac06"
      },
      "execution_count": 215,
      "outputs": [
        {
          "output_type": "display_data",
          "data": {
            "text/plain": [
              "  0%|          | 0/15 [00:00<?, ?it/s]"
            ],
            "application/vnd.jupyter.widget-view+json": {
              "version_major": 2,
              "version_minor": 0,
              "model_id": "29034b5605d84515a5590a07ec7a2eff"
            }
          },
          "metadata": {}
        },
        {
          "output_type": "stream",
          "name": "stdout",
          "text": [
            "loss: 7.471102299162561\n",
            "loss: 7.3224273634092265\n",
            "loss: 7.1767110588773795\n",
            "loss: 7.033894508805723\n",
            "loss: 6.893920008080486\n",
            "loss: 6.756730999919689\n",
            "loss: 6.622272053021287\n",
            "loss: 6.49048883916616\n",
            "loss: 6.3613281112667535\n",
            "loss: 6.234737681852548\n",
            "loss: 6.110666401983681\n",
            "loss: 5.9890641405842056\n",
            "loss: 5.869881764186581\n",
            "loss: 5.7530711170792665\n",
            "loss: 5.638585001849388\n"
          ]
        }
      ]
    }
  ]
}