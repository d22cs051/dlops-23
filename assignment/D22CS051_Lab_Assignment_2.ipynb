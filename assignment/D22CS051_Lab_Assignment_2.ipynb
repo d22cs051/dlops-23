{
  "nbformat": 4,
  "nbformat_minor": 0,
  "metadata": {
    "colab": {
      "provenance": [],
      "collapsed_sections": [
        "h5jmZTh6bArF",
        "rgDZV_3LbM4b",
        "nCe4S9RDKCCi",
        "4DVJEos8et6e",
        "nzKRNK7xhF66",
        "dyPd2udBaUOT",
        "sYyXAxh9ok_b",
        "eNiE5yivrNEF",
        "2sfShJCwJqWR",
        "3gpa9IR8aJf-",
        "SMpUlg2RNMrm",
        "znl6t8qDoq-G",
        "W342rX4_d0Nr",
        "gaVn4hD1hz5L",
        "R5xTdvt4x3hR",
        "yyqXiZbaT2tz",
        "6g5buPTsUGld",
        "OLxInY53mvjV",
        "V7QaixSYm8kP",
        "qLTFTgasnH2R",
        "ZrFWR5xBzpKm",
        "OpWlY9ueji4q",
        "ET_ymFFrji4q",
        "jb-LHj01mfxP",
        "WXPuv3DLmlz1",
        "bZYE3KNWn4mR",
        "KX2-OOQb0Hzz"
      ],
      "authorship_tag": "ABX9TyOrTDQWIl38BFDKsI3DcHwj",
      "include_colab_link": true
    },
    "kernelspec": {
      "name": "python3",
      "display_name": "Python 3"
    },
    "language_info": {
      "name": "python"
    },
    "accelerator": "GPU",
    "gpuClass": "standard",
    "widgets": {
      "application/vnd.jupyter.widget-state+json": {
        "ef3860eecc274390b7a84aa27ef3dad1": {
          "model_module": "@jupyter-widgets/controls",
          "model_name": "HBoxModel",
          "model_module_version": "1.5.0",
          "state": {
            "_dom_classes": [],
            "_model_module": "@jupyter-widgets/controls",
            "_model_module_version": "1.5.0",
            "_model_name": "HBoxModel",
            "_view_count": null,
            "_view_module": "@jupyter-widgets/controls",
            "_view_module_version": "1.5.0",
            "_view_name": "HBoxView",
            "box_style": "",
            "children": [
              "IPY_MODEL_2b8e6cc7c5cd4ee1b2073778c3c55e33",
              "IPY_MODEL_4b744435946348089a73f5ea7d509073",
              "IPY_MODEL_a1d2c2ffda404b7b9ff12243c104374b"
            ],
            "layout": "IPY_MODEL_b64816d60f774c659bbf78942280287e"
          }
        },
        "2b8e6cc7c5cd4ee1b2073778c3c55e33": {
          "model_module": "@jupyter-widgets/controls",
          "model_name": "HTMLModel",
          "model_module_version": "1.5.0",
          "state": {
            "_dom_classes": [],
            "_model_module": "@jupyter-widgets/controls",
            "_model_module_version": "1.5.0",
            "_model_name": "HTMLModel",
            "_view_count": null,
            "_view_module": "@jupyter-widgets/controls",
            "_view_module_version": "1.5.0",
            "_view_name": "HTMLView",
            "description": "",
            "description_tooltip": null,
            "layout": "IPY_MODEL_6ad3c26982dd43bb9c66f81d9f7d2a80",
            "placeholder": "​",
            "style": "IPY_MODEL_865830df47d641f380b6ef0a2f8ba6de",
            "value": "100%"
          }
        },
        "4b744435946348089a73f5ea7d509073": {
          "model_module": "@jupyter-widgets/controls",
          "model_name": "FloatProgressModel",
          "model_module_version": "1.5.0",
          "state": {
            "_dom_classes": [],
            "_model_module": "@jupyter-widgets/controls",
            "_model_module_version": "1.5.0",
            "_model_name": "FloatProgressModel",
            "_view_count": null,
            "_view_module": "@jupyter-widgets/controls",
            "_view_module_version": "1.5.0",
            "_view_name": "ProgressView",
            "bar_style": "success",
            "description": "",
            "description_tooltip": null,
            "layout": "IPY_MODEL_da04eba900034ac39565fe088b0a67f3",
            "max": 26421880,
            "min": 0,
            "orientation": "horizontal",
            "style": "IPY_MODEL_7ec8658823ac43a8a48e652f116b1db3",
            "value": 26421880
          }
        },
        "a1d2c2ffda404b7b9ff12243c104374b": {
          "model_module": "@jupyter-widgets/controls",
          "model_name": "HTMLModel",
          "model_module_version": "1.5.0",
          "state": {
            "_dom_classes": [],
            "_model_module": "@jupyter-widgets/controls",
            "_model_module_version": "1.5.0",
            "_model_name": "HTMLModel",
            "_view_count": null,
            "_view_module": "@jupyter-widgets/controls",
            "_view_module_version": "1.5.0",
            "_view_name": "HTMLView",
            "description": "",
            "description_tooltip": null,
            "layout": "IPY_MODEL_456c06fe360e497c9ad2396bdfba0f5e",
            "placeholder": "​",
            "style": "IPY_MODEL_42af94ad7edc4bb580cc67cebe50e13f",
            "value": " 26421880/26421880 [00:03&lt;00:00, 11007904.38it/s]"
          }
        },
        "b64816d60f774c659bbf78942280287e": {
          "model_module": "@jupyter-widgets/base",
          "model_name": "LayoutModel",
          "model_module_version": "1.2.0",
          "state": {
            "_model_module": "@jupyter-widgets/base",
            "_model_module_version": "1.2.0",
            "_model_name": "LayoutModel",
            "_view_count": null,
            "_view_module": "@jupyter-widgets/base",
            "_view_module_version": "1.2.0",
            "_view_name": "LayoutView",
            "align_content": null,
            "align_items": null,
            "align_self": null,
            "border": null,
            "bottom": null,
            "display": null,
            "flex": null,
            "flex_flow": null,
            "grid_area": null,
            "grid_auto_columns": null,
            "grid_auto_flow": null,
            "grid_auto_rows": null,
            "grid_column": null,
            "grid_gap": null,
            "grid_row": null,
            "grid_template_areas": null,
            "grid_template_columns": null,
            "grid_template_rows": null,
            "height": null,
            "justify_content": null,
            "justify_items": null,
            "left": null,
            "margin": null,
            "max_height": null,
            "max_width": null,
            "min_height": null,
            "min_width": null,
            "object_fit": null,
            "object_position": null,
            "order": null,
            "overflow": null,
            "overflow_x": null,
            "overflow_y": null,
            "padding": null,
            "right": null,
            "top": null,
            "visibility": null,
            "width": null
          }
        },
        "6ad3c26982dd43bb9c66f81d9f7d2a80": {
          "model_module": "@jupyter-widgets/base",
          "model_name": "LayoutModel",
          "model_module_version": "1.2.0",
          "state": {
            "_model_module": "@jupyter-widgets/base",
            "_model_module_version": "1.2.0",
            "_model_name": "LayoutModel",
            "_view_count": null,
            "_view_module": "@jupyter-widgets/base",
            "_view_module_version": "1.2.0",
            "_view_name": "LayoutView",
            "align_content": null,
            "align_items": null,
            "align_self": null,
            "border": null,
            "bottom": null,
            "display": null,
            "flex": null,
            "flex_flow": null,
            "grid_area": null,
            "grid_auto_columns": null,
            "grid_auto_flow": null,
            "grid_auto_rows": null,
            "grid_column": null,
            "grid_gap": null,
            "grid_row": null,
            "grid_template_areas": null,
            "grid_template_columns": null,
            "grid_template_rows": null,
            "height": null,
            "justify_content": null,
            "justify_items": null,
            "left": null,
            "margin": null,
            "max_height": null,
            "max_width": null,
            "min_height": null,
            "min_width": null,
            "object_fit": null,
            "object_position": null,
            "order": null,
            "overflow": null,
            "overflow_x": null,
            "overflow_y": null,
            "padding": null,
            "right": null,
            "top": null,
            "visibility": null,
            "width": null
          }
        },
        "865830df47d641f380b6ef0a2f8ba6de": {
          "model_module": "@jupyter-widgets/controls",
          "model_name": "DescriptionStyleModel",
          "model_module_version": "1.5.0",
          "state": {
            "_model_module": "@jupyter-widgets/controls",
            "_model_module_version": "1.5.0",
            "_model_name": "DescriptionStyleModel",
            "_view_count": null,
            "_view_module": "@jupyter-widgets/base",
            "_view_module_version": "1.2.0",
            "_view_name": "StyleView",
            "description_width": ""
          }
        },
        "da04eba900034ac39565fe088b0a67f3": {
          "model_module": "@jupyter-widgets/base",
          "model_name": "LayoutModel",
          "model_module_version": "1.2.0",
          "state": {
            "_model_module": "@jupyter-widgets/base",
            "_model_module_version": "1.2.0",
            "_model_name": "LayoutModel",
            "_view_count": null,
            "_view_module": "@jupyter-widgets/base",
            "_view_module_version": "1.2.0",
            "_view_name": "LayoutView",
            "align_content": null,
            "align_items": null,
            "align_self": null,
            "border": null,
            "bottom": null,
            "display": null,
            "flex": null,
            "flex_flow": null,
            "grid_area": null,
            "grid_auto_columns": null,
            "grid_auto_flow": null,
            "grid_auto_rows": null,
            "grid_column": null,
            "grid_gap": null,
            "grid_row": null,
            "grid_template_areas": null,
            "grid_template_columns": null,
            "grid_template_rows": null,
            "height": null,
            "justify_content": null,
            "justify_items": null,
            "left": null,
            "margin": null,
            "max_height": null,
            "max_width": null,
            "min_height": null,
            "min_width": null,
            "object_fit": null,
            "object_position": null,
            "order": null,
            "overflow": null,
            "overflow_x": null,
            "overflow_y": null,
            "padding": null,
            "right": null,
            "top": null,
            "visibility": null,
            "width": null
          }
        },
        "7ec8658823ac43a8a48e652f116b1db3": {
          "model_module": "@jupyter-widgets/controls",
          "model_name": "ProgressStyleModel",
          "model_module_version": "1.5.0",
          "state": {
            "_model_module": "@jupyter-widgets/controls",
            "_model_module_version": "1.5.0",
            "_model_name": "ProgressStyleModel",
            "_view_count": null,
            "_view_module": "@jupyter-widgets/base",
            "_view_module_version": "1.2.0",
            "_view_name": "StyleView",
            "bar_color": null,
            "description_width": ""
          }
        },
        "456c06fe360e497c9ad2396bdfba0f5e": {
          "model_module": "@jupyter-widgets/base",
          "model_name": "LayoutModel",
          "model_module_version": "1.2.0",
          "state": {
            "_model_module": "@jupyter-widgets/base",
            "_model_module_version": "1.2.0",
            "_model_name": "LayoutModel",
            "_view_count": null,
            "_view_module": "@jupyter-widgets/base",
            "_view_module_version": "1.2.0",
            "_view_name": "LayoutView",
            "align_content": null,
            "align_items": null,
            "align_self": null,
            "border": null,
            "bottom": null,
            "display": null,
            "flex": null,
            "flex_flow": null,
            "grid_area": null,
            "grid_auto_columns": null,
            "grid_auto_flow": null,
            "grid_auto_rows": null,
            "grid_column": null,
            "grid_gap": null,
            "grid_row": null,
            "grid_template_areas": null,
            "grid_template_columns": null,
            "grid_template_rows": null,
            "height": null,
            "justify_content": null,
            "justify_items": null,
            "left": null,
            "margin": null,
            "max_height": null,
            "max_width": null,
            "min_height": null,
            "min_width": null,
            "object_fit": null,
            "object_position": null,
            "order": null,
            "overflow": null,
            "overflow_x": null,
            "overflow_y": null,
            "padding": null,
            "right": null,
            "top": null,
            "visibility": null,
            "width": null
          }
        },
        "42af94ad7edc4bb580cc67cebe50e13f": {
          "model_module": "@jupyter-widgets/controls",
          "model_name": "DescriptionStyleModel",
          "model_module_version": "1.5.0",
          "state": {
            "_model_module": "@jupyter-widgets/controls",
            "_model_module_version": "1.5.0",
            "_model_name": "DescriptionStyleModel",
            "_view_count": null,
            "_view_module": "@jupyter-widgets/base",
            "_view_module_version": "1.2.0",
            "_view_name": "StyleView",
            "description_width": ""
          }
        },
        "b77e46e59c434d2facfe220cb2c4559e": {
          "model_module": "@jupyter-widgets/controls",
          "model_name": "HBoxModel",
          "model_module_version": "1.5.0",
          "state": {
            "_dom_classes": [],
            "_model_module": "@jupyter-widgets/controls",
            "_model_module_version": "1.5.0",
            "_model_name": "HBoxModel",
            "_view_count": null,
            "_view_module": "@jupyter-widgets/controls",
            "_view_module_version": "1.5.0",
            "_view_name": "HBoxView",
            "box_style": "",
            "children": [
              "IPY_MODEL_a627811b9ae240f2a6bc97ceaee731c2",
              "IPY_MODEL_1f22a88d26fc439d9b6067057ec03c65",
              "IPY_MODEL_1dcdc116e35a4a0fa089ef03b636f21f"
            ],
            "layout": "IPY_MODEL_cf2e8fbced404445920f12c0d268e170"
          }
        },
        "a627811b9ae240f2a6bc97ceaee731c2": {
          "model_module": "@jupyter-widgets/controls",
          "model_name": "HTMLModel",
          "model_module_version": "1.5.0",
          "state": {
            "_dom_classes": [],
            "_model_module": "@jupyter-widgets/controls",
            "_model_module_version": "1.5.0",
            "_model_name": "HTMLModel",
            "_view_count": null,
            "_view_module": "@jupyter-widgets/controls",
            "_view_module_version": "1.5.0",
            "_view_name": "HTMLView",
            "description": "",
            "description_tooltip": null,
            "layout": "IPY_MODEL_b75b76bc6d3c4edbb22b55efa970343b",
            "placeholder": "​",
            "style": "IPY_MODEL_2474f13d4cd144c9beb0f86aeaa52c0c",
            "value": "100%"
          }
        },
        "1f22a88d26fc439d9b6067057ec03c65": {
          "model_module": "@jupyter-widgets/controls",
          "model_name": "FloatProgressModel",
          "model_module_version": "1.5.0",
          "state": {
            "_dom_classes": [],
            "_model_module": "@jupyter-widgets/controls",
            "_model_module_version": "1.5.0",
            "_model_name": "FloatProgressModel",
            "_view_count": null,
            "_view_module": "@jupyter-widgets/controls",
            "_view_module_version": "1.5.0",
            "_view_name": "ProgressView",
            "bar_style": "success",
            "description": "",
            "description_tooltip": null,
            "layout": "IPY_MODEL_11d13ed12b0f4255a8b5cd3ec2e0ea76",
            "max": 29515,
            "min": 0,
            "orientation": "horizontal",
            "style": "IPY_MODEL_65c4aa5135324e9fa1f091feefecea8d",
            "value": 29515
          }
        },
        "1dcdc116e35a4a0fa089ef03b636f21f": {
          "model_module": "@jupyter-widgets/controls",
          "model_name": "HTMLModel",
          "model_module_version": "1.5.0",
          "state": {
            "_dom_classes": [],
            "_model_module": "@jupyter-widgets/controls",
            "_model_module_version": "1.5.0",
            "_model_name": "HTMLModel",
            "_view_count": null,
            "_view_module": "@jupyter-widgets/controls",
            "_view_module_version": "1.5.0",
            "_view_name": "HTMLView",
            "description": "",
            "description_tooltip": null,
            "layout": "IPY_MODEL_81c459d06e7d4d3695eee3a22100c82e",
            "placeholder": "​",
            "style": "IPY_MODEL_5613091739244bff9b4843f8bf351461",
            "value": " 29515/29515 [00:00&lt;00:00, 117453.79it/s]"
          }
        },
        "cf2e8fbced404445920f12c0d268e170": {
          "model_module": "@jupyter-widgets/base",
          "model_name": "LayoutModel",
          "model_module_version": "1.2.0",
          "state": {
            "_model_module": "@jupyter-widgets/base",
            "_model_module_version": "1.2.0",
            "_model_name": "LayoutModel",
            "_view_count": null,
            "_view_module": "@jupyter-widgets/base",
            "_view_module_version": "1.2.0",
            "_view_name": "LayoutView",
            "align_content": null,
            "align_items": null,
            "align_self": null,
            "border": null,
            "bottom": null,
            "display": null,
            "flex": null,
            "flex_flow": null,
            "grid_area": null,
            "grid_auto_columns": null,
            "grid_auto_flow": null,
            "grid_auto_rows": null,
            "grid_column": null,
            "grid_gap": null,
            "grid_row": null,
            "grid_template_areas": null,
            "grid_template_columns": null,
            "grid_template_rows": null,
            "height": null,
            "justify_content": null,
            "justify_items": null,
            "left": null,
            "margin": null,
            "max_height": null,
            "max_width": null,
            "min_height": null,
            "min_width": null,
            "object_fit": null,
            "object_position": null,
            "order": null,
            "overflow": null,
            "overflow_x": null,
            "overflow_y": null,
            "padding": null,
            "right": null,
            "top": null,
            "visibility": null,
            "width": null
          }
        },
        "b75b76bc6d3c4edbb22b55efa970343b": {
          "model_module": "@jupyter-widgets/base",
          "model_name": "LayoutModel",
          "model_module_version": "1.2.0",
          "state": {
            "_model_module": "@jupyter-widgets/base",
            "_model_module_version": "1.2.0",
            "_model_name": "LayoutModel",
            "_view_count": null,
            "_view_module": "@jupyter-widgets/base",
            "_view_module_version": "1.2.0",
            "_view_name": "LayoutView",
            "align_content": null,
            "align_items": null,
            "align_self": null,
            "border": null,
            "bottom": null,
            "display": null,
            "flex": null,
            "flex_flow": null,
            "grid_area": null,
            "grid_auto_columns": null,
            "grid_auto_flow": null,
            "grid_auto_rows": null,
            "grid_column": null,
            "grid_gap": null,
            "grid_row": null,
            "grid_template_areas": null,
            "grid_template_columns": null,
            "grid_template_rows": null,
            "height": null,
            "justify_content": null,
            "justify_items": null,
            "left": null,
            "margin": null,
            "max_height": null,
            "max_width": null,
            "min_height": null,
            "min_width": null,
            "object_fit": null,
            "object_position": null,
            "order": null,
            "overflow": null,
            "overflow_x": null,
            "overflow_y": null,
            "padding": null,
            "right": null,
            "top": null,
            "visibility": null,
            "width": null
          }
        },
        "2474f13d4cd144c9beb0f86aeaa52c0c": {
          "model_module": "@jupyter-widgets/controls",
          "model_name": "DescriptionStyleModel",
          "model_module_version": "1.5.0",
          "state": {
            "_model_module": "@jupyter-widgets/controls",
            "_model_module_version": "1.5.0",
            "_model_name": "DescriptionStyleModel",
            "_view_count": null,
            "_view_module": "@jupyter-widgets/base",
            "_view_module_version": "1.2.0",
            "_view_name": "StyleView",
            "description_width": ""
          }
        },
        "11d13ed12b0f4255a8b5cd3ec2e0ea76": {
          "model_module": "@jupyter-widgets/base",
          "model_name": "LayoutModel",
          "model_module_version": "1.2.0",
          "state": {
            "_model_module": "@jupyter-widgets/base",
            "_model_module_version": "1.2.0",
            "_model_name": "LayoutModel",
            "_view_count": null,
            "_view_module": "@jupyter-widgets/base",
            "_view_module_version": "1.2.0",
            "_view_name": "LayoutView",
            "align_content": null,
            "align_items": null,
            "align_self": null,
            "border": null,
            "bottom": null,
            "display": null,
            "flex": null,
            "flex_flow": null,
            "grid_area": null,
            "grid_auto_columns": null,
            "grid_auto_flow": null,
            "grid_auto_rows": null,
            "grid_column": null,
            "grid_gap": null,
            "grid_row": null,
            "grid_template_areas": null,
            "grid_template_columns": null,
            "grid_template_rows": null,
            "height": null,
            "justify_content": null,
            "justify_items": null,
            "left": null,
            "margin": null,
            "max_height": null,
            "max_width": null,
            "min_height": null,
            "min_width": null,
            "object_fit": null,
            "object_position": null,
            "order": null,
            "overflow": null,
            "overflow_x": null,
            "overflow_y": null,
            "padding": null,
            "right": null,
            "top": null,
            "visibility": null,
            "width": null
          }
        },
        "65c4aa5135324e9fa1f091feefecea8d": {
          "model_module": "@jupyter-widgets/controls",
          "model_name": "ProgressStyleModel",
          "model_module_version": "1.5.0",
          "state": {
            "_model_module": "@jupyter-widgets/controls",
            "_model_module_version": "1.5.0",
            "_model_name": "ProgressStyleModel",
            "_view_count": null,
            "_view_module": "@jupyter-widgets/base",
            "_view_module_version": "1.2.0",
            "_view_name": "StyleView",
            "bar_color": null,
            "description_width": ""
          }
        },
        "81c459d06e7d4d3695eee3a22100c82e": {
          "model_module": "@jupyter-widgets/base",
          "model_name": "LayoutModel",
          "model_module_version": "1.2.0",
          "state": {
            "_model_module": "@jupyter-widgets/base",
            "_model_module_version": "1.2.0",
            "_model_name": "LayoutModel",
            "_view_count": null,
            "_view_module": "@jupyter-widgets/base",
            "_view_module_version": "1.2.0",
            "_view_name": "LayoutView",
            "align_content": null,
            "align_items": null,
            "align_self": null,
            "border": null,
            "bottom": null,
            "display": null,
            "flex": null,
            "flex_flow": null,
            "grid_area": null,
            "grid_auto_columns": null,
            "grid_auto_flow": null,
            "grid_auto_rows": null,
            "grid_column": null,
            "grid_gap": null,
            "grid_row": null,
            "grid_template_areas": null,
            "grid_template_columns": null,
            "grid_template_rows": null,
            "height": null,
            "justify_content": null,
            "justify_items": null,
            "left": null,
            "margin": null,
            "max_height": null,
            "max_width": null,
            "min_height": null,
            "min_width": null,
            "object_fit": null,
            "object_position": null,
            "order": null,
            "overflow": null,
            "overflow_x": null,
            "overflow_y": null,
            "padding": null,
            "right": null,
            "top": null,
            "visibility": null,
            "width": null
          }
        },
        "5613091739244bff9b4843f8bf351461": {
          "model_module": "@jupyter-widgets/controls",
          "model_name": "DescriptionStyleModel",
          "model_module_version": "1.5.0",
          "state": {
            "_model_module": "@jupyter-widgets/controls",
            "_model_module_version": "1.5.0",
            "_model_name": "DescriptionStyleModel",
            "_view_count": null,
            "_view_module": "@jupyter-widgets/base",
            "_view_module_version": "1.2.0",
            "_view_name": "StyleView",
            "description_width": ""
          }
        },
        "183a6de0726d4313beff2e7c8056b41a": {
          "model_module": "@jupyter-widgets/controls",
          "model_name": "HBoxModel",
          "model_module_version": "1.5.0",
          "state": {
            "_dom_classes": [],
            "_model_module": "@jupyter-widgets/controls",
            "_model_module_version": "1.5.0",
            "_model_name": "HBoxModel",
            "_view_count": null,
            "_view_module": "@jupyter-widgets/controls",
            "_view_module_version": "1.5.0",
            "_view_name": "HBoxView",
            "box_style": "",
            "children": [
              "IPY_MODEL_6775aae25bc44e7fa7f0dbd8e6e55f84",
              "IPY_MODEL_951e8c1713734741818f88ba3d0dd735",
              "IPY_MODEL_ab778a0ca82246b789bdcfcd2522a6bc"
            ],
            "layout": "IPY_MODEL_847f4e7e889a4a958c62ae91d647db13"
          }
        },
        "6775aae25bc44e7fa7f0dbd8e6e55f84": {
          "model_module": "@jupyter-widgets/controls",
          "model_name": "HTMLModel",
          "model_module_version": "1.5.0",
          "state": {
            "_dom_classes": [],
            "_model_module": "@jupyter-widgets/controls",
            "_model_module_version": "1.5.0",
            "_model_name": "HTMLModel",
            "_view_count": null,
            "_view_module": "@jupyter-widgets/controls",
            "_view_module_version": "1.5.0",
            "_view_name": "HTMLView",
            "description": "",
            "description_tooltip": null,
            "layout": "IPY_MODEL_2ab5484d5a1544a095aa776b62d8bde8",
            "placeholder": "​",
            "style": "IPY_MODEL_aa8dee32690743eeb3951a78385508b5",
            "value": "100%"
          }
        },
        "951e8c1713734741818f88ba3d0dd735": {
          "model_module": "@jupyter-widgets/controls",
          "model_name": "FloatProgressModel",
          "model_module_version": "1.5.0",
          "state": {
            "_dom_classes": [],
            "_model_module": "@jupyter-widgets/controls",
            "_model_module_version": "1.5.0",
            "_model_name": "FloatProgressModel",
            "_view_count": null,
            "_view_module": "@jupyter-widgets/controls",
            "_view_module_version": "1.5.0",
            "_view_name": "ProgressView",
            "bar_style": "success",
            "description": "",
            "description_tooltip": null,
            "layout": "IPY_MODEL_256d037ec956460999ee7cdef56d4a68",
            "max": 4422102,
            "min": 0,
            "orientation": "horizontal",
            "style": "IPY_MODEL_3b8458c10fe84b45ae86d3aa5036fb54",
            "value": 4422102
          }
        },
        "ab778a0ca82246b789bdcfcd2522a6bc": {
          "model_module": "@jupyter-widgets/controls",
          "model_name": "HTMLModel",
          "model_module_version": "1.5.0",
          "state": {
            "_dom_classes": [],
            "_model_module": "@jupyter-widgets/controls",
            "_model_module_version": "1.5.0",
            "_model_name": "HTMLModel",
            "_view_count": null,
            "_view_module": "@jupyter-widgets/controls",
            "_view_module_version": "1.5.0",
            "_view_name": "HTMLView",
            "description": "",
            "description_tooltip": null,
            "layout": "IPY_MODEL_7b0a6949eaff45eeb73cdc49f17f2d47",
            "placeholder": "​",
            "style": "IPY_MODEL_b66b244748a94beaacabf3ba26165994",
            "value": " 4422102/4422102 [00:01&lt;00:00, 3705229.12it/s]"
          }
        },
        "847f4e7e889a4a958c62ae91d647db13": {
          "model_module": "@jupyter-widgets/base",
          "model_name": "LayoutModel",
          "model_module_version": "1.2.0",
          "state": {
            "_model_module": "@jupyter-widgets/base",
            "_model_module_version": "1.2.0",
            "_model_name": "LayoutModel",
            "_view_count": null,
            "_view_module": "@jupyter-widgets/base",
            "_view_module_version": "1.2.0",
            "_view_name": "LayoutView",
            "align_content": null,
            "align_items": null,
            "align_self": null,
            "border": null,
            "bottom": null,
            "display": null,
            "flex": null,
            "flex_flow": null,
            "grid_area": null,
            "grid_auto_columns": null,
            "grid_auto_flow": null,
            "grid_auto_rows": null,
            "grid_column": null,
            "grid_gap": null,
            "grid_row": null,
            "grid_template_areas": null,
            "grid_template_columns": null,
            "grid_template_rows": null,
            "height": null,
            "justify_content": null,
            "justify_items": null,
            "left": null,
            "margin": null,
            "max_height": null,
            "max_width": null,
            "min_height": null,
            "min_width": null,
            "object_fit": null,
            "object_position": null,
            "order": null,
            "overflow": null,
            "overflow_x": null,
            "overflow_y": null,
            "padding": null,
            "right": null,
            "top": null,
            "visibility": null,
            "width": null
          }
        },
        "2ab5484d5a1544a095aa776b62d8bde8": {
          "model_module": "@jupyter-widgets/base",
          "model_name": "LayoutModel",
          "model_module_version": "1.2.0",
          "state": {
            "_model_module": "@jupyter-widgets/base",
            "_model_module_version": "1.2.0",
            "_model_name": "LayoutModel",
            "_view_count": null,
            "_view_module": "@jupyter-widgets/base",
            "_view_module_version": "1.2.0",
            "_view_name": "LayoutView",
            "align_content": null,
            "align_items": null,
            "align_self": null,
            "border": null,
            "bottom": null,
            "display": null,
            "flex": null,
            "flex_flow": null,
            "grid_area": null,
            "grid_auto_columns": null,
            "grid_auto_flow": null,
            "grid_auto_rows": null,
            "grid_column": null,
            "grid_gap": null,
            "grid_row": null,
            "grid_template_areas": null,
            "grid_template_columns": null,
            "grid_template_rows": null,
            "height": null,
            "justify_content": null,
            "justify_items": null,
            "left": null,
            "margin": null,
            "max_height": null,
            "max_width": null,
            "min_height": null,
            "min_width": null,
            "object_fit": null,
            "object_position": null,
            "order": null,
            "overflow": null,
            "overflow_x": null,
            "overflow_y": null,
            "padding": null,
            "right": null,
            "top": null,
            "visibility": null,
            "width": null
          }
        },
        "aa8dee32690743eeb3951a78385508b5": {
          "model_module": "@jupyter-widgets/controls",
          "model_name": "DescriptionStyleModel",
          "model_module_version": "1.5.0",
          "state": {
            "_model_module": "@jupyter-widgets/controls",
            "_model_module_version": "1.5.0",
            "_model_name": "DescriptionStyleModel",
            "_view_count": null,
            "_view_module": "@jupyter-widgets/base",
            "_view_module_version": "1.2.0",
            "_view_name": "StyleView",
            "description_width": ""
          }
        },
        "256d037ec956460999ee7cdef56d4a68": {
          "model_module": "@jupyter-widgets/base",
          "model_name": "LayoutModel",
          "model_module_version": "1.2.0",
          "state": {
            "_model_module": "@jupyter-widgets/base",
            "_model_module_version": "1.2.0",
            "_model_name": "LayoutModel",
            "_view_count": null,
            "_view_module": "@jupyter-widgets/base",
            "_view_module_version": "1.2.0",
            "_view_name": "LayoutView",
            "align_content": null,
            "align_items": null,
            "align_self": null,
            "border": null,
            "bottom": null,
            "display": null,
            "flex": null,
            "flex_flow": null,
            "grid_area": null,
            "grid_auto_columns": null,
            "grid_auto_flow": null,
            "grid_auto_rows": null,
            "grid_column": null,
            "grid_gap": null,
            "grid_row": null,
            "grid_template_areas": null,
            "grid_template_columns": null,
            "grid_template_rows": null,
            "height": null,
            "justify_content": null,
            "justify_items": null,
            "left": null,
            "margin": null,
            "max_height": null,
            "max_width": null,
            "min_height": null,
            "min_width": null,
            "object_fit": null,
            "object_position": null,
            "order": null,
            "overflow": null,
            "overflow_x": null,
            "overflow_y": null,
            "padding": null,
            "right": null,
            "top": null,
            "visibility": null,
            "width": null
          }
        },
        "3b8458c10fe84b45ae86d3aa5036fb54": {
          "model_module": "@jupyter-widgets/controls",
          "model_name": "ProgressStyleModel",
          "model_module_version": "1.5.0",
          "state": {
            "_model_module": "@jupyter-widgets/controls",
            "_model_module_version": "1.5.0",
            "_model_name": "ProgressStyleModel",
            "_view_count": null,
            "_view_module": "@jupyter-widgets/base",
            "_view_module_version": "1.2.0",
            "_view_name": "StyleView",
            "bar_color": null,
            "description_width": ""
          }
        },
        "7b0a6949eaff45eeb73cdc49f17f2d47": {
          "model_module": "@jupyter-widgets/base",
          "model_name": "LayoutModel",
          "model_module_version": "1.2.0",
          "state": {
            "_model_module": "@jupyter-widgets/base",
            "_model_module_version": "1.2.0",
            "_model_name": "LayoutModel",
            "_view_count": null,
            "_view_module": "@jupyter-widgets/base",
            "_view_module_version": "1.2.0",
            "_view_name": "LayoutView",
            "align_content": null,
            "align_items": null,
            "align_self": null,
            "border": null,
            "bottom": null,
            "display": null,
            "flex": null,
            "flex_flow": null,
            "grid_area": null,
            "grid_auto_columns": null,
            "grid_auto_flow": null,
            "grid_auto_rows": null,
            "grid_column": null,
            "grid_gap": null,
            "grid_row": null,
            "grid_template_areas": null,
            "grid_template_columns": null,
            "grid_template_rows": null,
            "height": null,
            "justify_content": null,
            "justify_items": null,
            "left": null,
            "margin": null,
            "max_height": null,
            "max_width": null,
            "min_height": null,
            "min_width": null,
            "object_fit": null,
            "object_position": null,
            "order": null,
            "overflow": null,
            "overflow_x": null,
            "overflow_y": null,
            "padding": null,
            "right": null,
            "top": null,
            "visibility": null,
            "width": null
          }
        },
        "b66b244748a94beaacabf3ba26165994": {
          "model_module": "@jupyter-widgets/controls",
          "model_name": "DescriptionStyleModel",
          "model_module_version": "1.5.0",
          "state": {
            "_model_module": "@jupyter-widgets/controls",
            "_model_module_version": "1.5.0",
            "_model_name": "DescriptionStyleModel",
            "_view_count": null,
            "_view_module": "@jupyter-widgets/base",
            "_view_module_version": "1.2.0",
            "_view_name": "StyleView",
            "description_width": ""
          }
        },
        "eb2abcd0550b4018a96a0a9dd79cdd9c": {
          "model_module": "@jupyter-widgets/controls",
          "model_name": "HBoxModel",
          "model_module_version": "1.5.0",
          "state": {
            "_dom_classes": [],
            "_model_module": "@jupyter-widgets/controls",
            "_model_module_version": "1.5.0",
            "_model_name": "HBoxModel",
            "_view_count": null,
            "_view_module": "@jupyter-widgets/controls",
            "_view_module_version": "1.5.0",
            "_view_name": "HBoxView",
            "box_style": "",
            "children": [
              "IPY_MODEL_fdc0cf4bab7940ffb908564ea467eb85",
              "IPY_MODEL_9d43c402d4e640ffb7b0dcffcd2b1fca",
              "IPY_MODEL_16eac99ba293456894972b830c7c12ea"
            ],
            "layout": "IPY_MODEL_27087c5884834a1ab7b8e465bdb8b974"
          }
        },
        "fdc0cf4bab7940ffb908564ea467eb85": {
          "model_module": "@jupyter-widgets/controls",
          "model_name": "HTMLModel",
          "model_module_version": "1.5.0",
          "state": {
            "_dom_classes": [],
            "_model_module": "@jupyter-widgets/controls",
            "_model_module_version": "1.5.0",
            "_model_name": "HTMLModel",
            "_view_count": null,
            "_view_module": "@jupyter-widgets/controls",
            "_view_module_version": "1.5.0",
            "_view_name": "HTMLView",
            "description": "",
            "description_tooltip": null,
            "layout": "IPY_MODEL_870b1a73eba14dd9859199af038cc25e",
            "placeholder": "​",
            "style": "IPY_MODEL_528bc87b71104a9f85c9c3e1b313f981",
            "value": "100%"
          }
        },
        "9d43c402d4e640ffb7b0dcffcd2b1fca": {
          "model_module": "@jupyter-widgets/controls",
          "model_name": "FloatProgressModel",
          "model_module_version": "1.5.0",
          "state": {
            "_dom_classes": [],
            "_model_module": "@jupyter-widgets/controls",
            "_model_module_version": "1.5.0",
            "_model_name": "FloatProgressModel",
            "_view_count": null,
            "_view_module": "@jupyter-widgets/controls",
            "_view_module_version": "1.5.0",
            "_view_name": "ProgressView",
            "bar_style": "success",
            "description": "",
            "description_tooltip": null,
            "layout": "IPY_MODEL_a17510f965094d22b2eb566034ab24a2",
            "max": 5148,
            "min": 0,
            "orientation": "horizontal",
            "style": "IPY_MODEL_5ef81b0b7f214998bafbed899f68c274",
            "value": 5148
          }
        },
        "16eac99ba293456894972b830c7c12ea": {
          "model_module": "@jupyter-widgets/controls",
          "model_name": "HTMLModel",
          "model_module_version": "1.5.0",
          "state": {
            "_dom_classes": [],
            "_model_module": "@jupyter-widgets/controls",
            "_model_module_version": "1.5.0",
            "_model_name": "HTMLModel",
            "_view_count": null,
            "_view_module": "@jupyter-widgets/controls",
            "_view_module_version": "1.5.0",
            "_view_name": "HTMLView",
            "description": "",
            "description_tooltip": null,
            "layout": "IPY_MODEL_6d3c0688c03943b4bc93043e953b6dc1",
            "placeholder": "​",
            "style": "IPY_MODEL_34d8a0fb1d884796bc2b25d93d73f121",
            "value": " 5148/5148 [00:00&lt;00:00, 49845.39it/s]"
          }
        },
        "27087c5884834a1ab7b8e465bdb8b974": {
          "model_module": "@jupyter-widgets/base",
          "model_name": "LayoutModel",
          "model_module_version": "1.2.0",
          "state": {
            "_model_module": "@jupyter-widgets/base",
            "_model_module_version": "1.2.0",
            "_model_name": "LayoutModel",
            "_view_count": null,
            "_view_module": "@jupyter-widgets/base",
            "_view_module_version": "1.2.0",
            "_view_name": "LayoutView",
            "align_content": null,
            "align_items": null,
            "align_self": null,
            "border": null,
            "bottom": null,
            "display": null,
            "flex": null,
            "flex_flow": null,
            "grid_area": null,
            "grid_auto_columns": null,
            "grid_auto_flow": null,
            "grid_auto_rows": null,
            "grid_column": null,
            "grid_gap": null,
            "grid_row": null,
            "grid_template_areas": null,
            "grid_template_columns": null,
            "grid_template_rows": null,
            "height": null,
            "justify_content": null,
            "justify_items": null,
            "left": null,
            "margin": null,
            "max_height": null,
            "max_width": null,
            "min_height": null,
            "min_width": null,
            "object_fit": null,
            "object_position": null,
            "order": null,
            "overflow": null,
            "overflow_x": null,
            "overflow_y": null,
            "padding": null,
            "right": null,
            "top": null,
            "visibility": null,
            "width": null
          }
        },
        "870b1a73eba14dd9859199af038cc25e": {
          "model_module": "@jupyter-widgets/base",
          "model_name": "LayoutModel",
          "model_module_version": "1.2.0",
          "state": {
            "_model_module": "@jupyter-widgets/base",
            "_model_module_version": "1.2.0",
            "_model_name": "LayoutModel",
            "_view_count": null,
            "_view_module": "@jupyter-widgets/base",
            "_view_module_version": "1.2.0",
            "_view_name": "LayoutView",
            "align_content": null,
            "align_items": null,
            "align_self": null,
            "border": null,
            "bottom": null,
            "display": null,
            "flex": null,
            "flex_flow": null,
            "grid_area": null,
            "grid_auto_columns": null,
            "grid_auto_flow": null,
            "grid_auto_rows": null,
            "grid_column": null,
            "grid_gap": null,
            "grid_row": null,
            "grid_template_areas": null,
            "grid_template_columns": null,
            "grid_template_rows": null,
            "height": null,
            "justify_content": null,
            "justify_items": null,
            "left": null,
            "margin": null,
            "max_height": null,
            "max_width": null,
            "min_height": null,
            "min_width": null,
            "object_fit": null,
            "object_position": null,
            "order": null,
            "overflow": null,
            "overflow_x": null,
            "overflow_y": null,
            "padding": null,
            "right": null,
            "top": null,
            "visibility": null,
            "width": null
          }
        },
        "528bc87b71104a9f85c9c3e1b313f981": {
          "model_module": "@jupyter-widgets/controls",
          "model_name": "DescriptionStyleModel",
          "model_module_version": "1.5.0",
          "state": {
            "_model_module": "@jupyter-widgets/controls",
            "_model_module_version": "1.5.0",
            "_model_name": "DescriptionStyleModel",
            "_view_count": null,
            "_view_module": "@jupyter-widgets/base",
            "_view_module_version": "1.2.0",
            "_view_name": "StyleView",
            "description_width": ""
          }
        },
        "a17510f965094d22b2eb566034ab24a2": {
          "model_module": "@jupyter-widgets/base",
          "model_name": "LayoutModel",
          "model_module_version": "1.2.0",
          "state": {
            "_model_module": "@jupyter-widgets/base",
            "_model_module_version": "1.2.0",
            "_model_name": "LayoutModel",
            "_view_count": null,
            "_view_module": "@jupyter-widgets/base",
            "_view_module_version": "1.2.0",
            "_view_name": "LayoutView",
            "align_content": null,
            "align_items": null,
            "align_self": null,
            "border": null,
            "bottom": null,
            "display": null,
            "flex": null,
            "flex_flow": null,
            "grid_area": null,
            "grid_auto_columns": null,
            "grid_auto_flow": null,
            "grid_auto_rows": null,
            "grid_column": null,
            "grid_gap": null,
            "grid_row": null,
            "grid_template_areas": null,
            "grid_template_columns": null,
            "grid_template_rows": null,
            "height": null,
            "justify_content": null,
            "justify_items": null,
            "left": null,
            "margin": null,
            "max_height": null,
            "max_width": null,
            "min_height": null,
            "min_width": null,
            "object_fit": null,
            "object_position": null,
            "order": null,
            "overflow": null,
            "overflow_x": null,
            "overflow_y": null,
            "padding": null,
            "right": null,
            "top": null,
            "visibility": null,
            "width": null
          }
        },
        "5ef81b0b7f214998bafbed899f68c274": {
          "model_module": "@jupyter-widgets/controls",
          "model_name": "ProgressStyleModel",
          "model_module_version": "1.5.0",
          "state": {
            "_model_module": "@jupyter-widgets/controls",
            "_model_module_version": "1.5.0",
            "_model_name": "ProgressStyleModel",
            "_view_count": null,
            "_view_module": "@jupyter-widgets/base",
            "_view_module_version": "1.2.0",
            "_view_name": "StyleView",
            "bar_color": null,
            "description_width": ""
          }
        },
        "6d3c0688c03943b4bc93043e953b6dc1": {
          "model_module": "@jupyter-widgets/base",
          "model_name": "LayoutModel",
          "model_module_version": "1.2.0",
          "state": {
            "_model_module": "@jupyter-widgets/base",
            "_model_module_version": "1.2.0",
            "_model_name": "LayoutModel",
            "_view_count": null,
            "_view_module": "@jupyter-widgets/base",
            "_view_module_version": "1.2.0",
            "_view_name": "LayoutView",
            "align_content": null,
            "align_items": null,
            "align_self": null,
            "border": null,
            "bottom": null,
            "display": null,
            "flex": null,
            "flex_flow": null,
            "grid_area": null,
            "grid_auto_columns": null,
            "grid_auto_flow": null,
            "grid_auto_rows": null,
            "grid_column": null,
            "grid_gap": null,
            "grid_row": null,
            "grid_template_areas": null,
            "grid_template_columns": null,
            "grid_template_rows": null,
            "height": null,
            "justify_content": null,
            "justify_items": null,
            "left": null,
            "margin": null,
            "max_height": null,
            "max_width": null,
            "min_height": null,
            "min_width": null,
            "object_fit": null,
            "object_position": null,
            "order": null,
            "overflow": null,
            "overflow_x": null,
            "overflow_y": null,
            "padding": null,
            "right": null,
            "top": null,
            "visibility": null,
            "width": null
          }
        },
        "34d8a0fb1d884796bc2b25d93d73f121": {
          "model_module": "@jupyter-widgets/controls",
          "model_name": "DescriptionStyleModel",
          "model_module_version": "1.5.0",
          "state": {
            "_model_module": "@jupyter-widgets/controls",
            "_model_module_version": "1.5.0",
            "_model_name": "DescriptionStyleModel",
            "_view_count": null,
            "_view_module": "@jupyter-widgets/base",
            "_view_module_version": "1.2.0",
            "_view_name": "StyleView",
            "description_width": ""
          }
        },
        "5b973bf0bf65462186ba6fbe5f935ef8": {
          "model_module": "@jupyter-widgets/controls",
          "model_name": "HBoxModel",
          "model_module_version": "1.5.0",
          "state": {
            "_dom_classes": [],
            "_model_module": "@jupyter-widgets/controls",
            "_model_module_version": "1.5.0",
            "_model_name": "HBoxModel",
            "_view_count": null,
            "_view_module": "@jupyter-widgets/controls",
            "_view_module_version": "1.5.0",
            "_view_name": "HBoxView",
            "box_style": "",
            "children": [
              "IPY_MODEL_77831239570746e28d01213a3aa8811e",
              "IPY_MODEL_2768811cfdb64b9bb0b061e58cbd4a47",
              "IPY_MODEL_2fec01ba307e4824a938c8cce24e5792"
            ],
            "layout": "IPY_MODEL_a3d68ce50e654e0cbe93c447a82123a2"
          }
        },
        "77831239570746e28d01213a3aa8811e": {
          "model_module": "@jupyter-widgets/controls",
          "model_name": "HTMLModel",
          "model_module_version": "1.5.0",
          "state": {
            "_dom_classes": [],
            "_model_module": "@jupyter-widgets/controls",
            "_model_module_version": "1.5.0",
            "_model_name": "HTMLModel",
            "_view_count": null,
            "_view_module": "@jupyter-widgets/controls",
            "_view_module_version": "1.5.0",
            "_view_name": "HTMLView",
            "description": "",
            "description_tooltip": null,
            "layout": "IPY_MODEL_1afb8e0590c84c6baa9738aa9498067f",
            "placeholder": "​",
            "style": "IPY_MODEL_9d703a798ed54577a1eba0518c7ab316",
            "value": "100%"
          }
        },
        "2768811cfdb64b9bb0b061e58cbd4a47": {
          "model_module": "@jupyter-widgets/controls",
          "model_name": "FloatProgressModel",
          "model_module_version": "1.5.0",
          "state": {
            "_dom_classes": [],
            "_model_module": "@jupyter-widgets/controls",
            "_model_module_version": "1.5.0",
            "_model_name": "FloatProgressModel",
            "_view_count": null,
            "_view_module": "@jupyter-widgets/controls",
            "_view_module_version": "1.5.0",
            "_view_name": "ProgressView",
            "bar_style": "success",
            "description": "",
            "description_tooltip": null,
            "layout": "IPY_MODEL_bc3ece09413b4e79aef02c90112879db",
            "max": 50,
            "min": 0,
            "orientation": "horizontal",
            "style": "IPY_MODEL_c639468f4da14eddbf0400b686294395",
            "value": 50
          }
        },
        "2fec01ba307e4824a938c8cce24e5792": {
          "model_module": "@jupyter-widgets/controls",
          "model_name": "HTMLModel",
          "model_module_version": "1.5.0",
          "state": {
            "_dom_classes": [],
            "_model_module": "@jupyter-widgets/controls",
            "_model_module_version": "1.5.0",
            "_model_name": "HTMLModel",
            "_view_count": null,
            "_view_module": "@jupyter-widgets/controls",
            "_view_module_version": "1.5.0",
            "_view_name": "HTMLView",
            "description": "",
            "description_tooltip": null,
            "layout": "IPY_MODEL_a5fb955744304b61baf4a81ffb497531",
            "placeholder": "​",
            "style": "IPY_MODEL_fe161eb787af482282edd645aec00a63",
            "value": " 50/50 [08:20&lt;00:00,  9.87s/it]"
          }
        },
        "a3d68ce50e654e0cbe93c447a82123a2": {
          "model_module": "@jupyter-widgets/base",
          "model_name": "LayoutModel",
          "model_module_version": "1.2.0",
          "state": {
            "_model_module": "@jupyter-widgets/base",
            "_model_module_version": "1.2.0",
            "_model_name": "LayoutModel",
            "_view_count": null,
            "_view_module": "@jupyter-widgets/base",
            "_view_module_version": "1.2.0",
            "_view_name": "LayoutView",
            "align_content": null,
            "align_items": null,
            "align_self": null,
            "border": null,
            "bottom": null,
            "display": null,
            "flex": null,
            "flex_flow": null,
            "grid_area": null,
            "grid_auto_columns": null,
            "grid_auto_flow": null,
            "grid_auto_rows": null,
            "grid_column": null,
            "grid_gap": null,
            "grid_row": null,
            "grid_template_areas": null,
            "grid_template_columns": null,
            "grid_template_rows": null,
            "height": null,
            "justify_content": null,
            "justify_items": null,
            "left": null,
            "margin": null,
            "max_height": null,
            "max_width": null,
            "min_height": null,
            "min_width": null,
            "object_fit": null,
            "object_position": null,
            "order": null,
            "overflow": null,
            "overflow_x": null,
            "overflow_y": null,
            "padding": null,
            "right": null,
            "top": null,
            "visibility": null,
            "width": null
          }
        },
        "1afb8e0590c84c6baa9738aa9498067f": {
          "model_module": "@jupyter-widgets/base",
          "model_name": "LayoutModel",
          "model_module_version": "1.2.0",
          "state": {
            "_model_module": "@jupyter-widgets/base",
            "_model_module_version": "1.2.0",
            "_model_name": "LayoutModel",
            "_view_count": null,
            "_view_module": "@jupyter-widgets/base",
            "_view_module_version": "1.2.0",
            "_view_name": "LayoutView",
            "align_content": null,
            "align_items": null,
            "align_self": null,
            "border": null,
            "bottom": null,
            "display": null,
            "flex": null,
            "flex_flow": null,
            "grid_area": null,
            "grid_auto_columns": null,
            "grid_auto_flow": null,
            "grid_auto_rows": null,
            "grid_column": null,
            "grid_gap": null,
            "grid_row": null,
            "grid_template_areas": null,
            "grid_template_columns": null,
            "grid_template_rows": null,
            "height": null,
            "justify_content": null,
            "justify_items": null,
            "left": null,
            "margin": null,
            "max_height": null,
            "max_width": null,
            "min_height": null,
            "min_width": null,
            "object_fit": null,
            "object_position": null,
            "order": null,
            "overflow": null,
            "overflow_x": null,
            "overflow_y": null,
            "padding": null,
            "right": null,
            "top": null,
            "visibility": null,
            "width": null
          }
        },
        "9d703a798ed54577a1eba0518c7ab316": {
          "model_module": "@jupyter-widgets/controls",
          "model_name": "DescriptionStyleModel",
          "model_module_version": "1.5.0",
          "state": {
            "_model_module": "@jupyter-widgets/controls",
            "_model_module_version": "1.5.0",
            "_model_name": "DescriptionStyleModel",
            "_view_count": null,
            "_view_module": "@jupyter-widgets/base",
            "_view_module_version": "1.2.0",
            "_view_name": "StyleView",
            "description_width": ""
          }
        },
        "bc3ece09413b4e79aef02c90112879db": {
          "model_module": "@jupyter-widgets/base",
          "model_name": "LayoutModel",
          "model_module_version": "1.2.0",
          "state": {
            "_model_module": "@jupyter-widgets/base",
            "_model_module_version": "1.2.0",
            "_model_name": "LayoutModel",
            "_view_count": null,
            "_view_module": "@jupyter-widgets/base",
            "_view_module_version": "1.2.0",
            "_view_name": "LayoutView",
            "align_content": null,
            "align_items": null,
            "align_self": null,
            "border": null,
            "bottom": null,
            "display": null,
            "flex": null,
            "flex_flow": null,
            "grid_area": null,
            "grid_auto_columns": null,
            "grid_auto_flow": null,
            "grid_auto_rows": null,
            "grid_column": null,
            "grid_gap": null,
            "grid_row": null,
            "grid_template_areas": null,
            "grid_template_columns": null,
            "grid_template_rows": null,
            "height": null,
            "justify_content": null,
            "justify_items": null,
            "left": null,
            "margin": null,
            "max_height": null,
            "max_width": null,
            "min_height": null,
            "min_width": null,
            "object_fit": null,
            "object_position": null,
            "order": null,
            "overflow": null,
            "overflow_x": null,
            "overflow_y": null,
            "padding": null,
            "right": null,
            "top": null,
            "visibility": null,
            "width": null
          }
        },
        "c639468f4da14eddbf0400b686294395": {
          "model_module": "@jupyter-widgets/controls",
          "model_name": "ProgressStyleModel",
          "model_module_version": "1.5.0",
          "state": {
            "_model_module": "@jupyter-widgets/controls",
            "_model_module_version": "1.5.0",
            "_model_name": "ProgressStyleModel",
            "_view_count": null,
            "_view_module": "@jupyter-widgets/base",
            "_view_module_version": "1.2.0",
            "_view_name": "StyleView",
            "bar_color": null,
            "description_width": ""
          }
        },
        "a5fb955744304b61baf4a81ffb497531": {
          "model_module": "@jupyter-widgets/base",
          "model_name": "LayoutModel",
          "model_module_version": "1.2.0",
          "state": {
            "_model_module": "@jupyter-widgets/base",
            "_model_module_version": "1.2.0",
            "_model_name": "LayoutModel",
            "_view_count": null,
            "_view_module": "@jupyter-widgets/base",
            "_view_module_version": "1.2.0",
            "_view_name": "LayoutView",
            "align_content": null,
            "align_items": null,
            "align_self": null,
            "border": null,
            "bottom": null,
            "display": null,
            "flex": null,
            "flex_flow": null,
            "grid_area": null,
            "grid_auto_columns": null,
            "grid_auto_flow": null,
            "grid_auto_rows": null,
            "grid_column": null,
            "grid_gap": null,
            "grid_row": null,
            "grid_template_areas": null,
            "grid_template_columns": null,
            "grid_template_rows": null,
            "height": null,
            "justify_content": null,
            "justify_items": null,
            "left": null,
            "margin": null,
            "max_height": null,
            "max_width": null,
            "min_height": null,
            "min_width": null,
            "object_fit": null,
            "object_position": null,
            "order": null,
            "overflow": null,
            "overflow_x": null,
            "overflow_y": null,
            "padding": null,
            "right": null,
            "top": null,
            "visibility": null,
            "width": null
          }
        },
        "fe161eb787af482282edd645aec00a63": {
          "model_module": "@jupyter-widgets/controls",
          "model_name": "DescriptionStyleModel",
          "model_module_version": "1.5.0",
          "state": {
            "_model_module": "@jupyter-widgets/controls",
            "_model_module_version": "1.5.0",
            "_model_name": "DescriptionStyleModel",
            "_view_count": null,
            "_view_module": "@jupyter-widgets/base",
            "_view_module_version": "1.2.0",
            "_view_name": "StyleView",
            "description_width": ""
          }
        },
        "f34a091ea4eb4c5688020dbb15d69c12": {
          "model_module": "@jupyter-widgets/controls",
          "model_name": "HBoxModel",
          "model_module_version": "1.5.0",
          "state": {
            "_dom_classes": [],
            "_model_module": "@jupyter-widgets/controls",
            "_model_module_version": "1.5.0",
            "_model_name": "HBoxModel",
            "_view_count": null,
            "_view_module": "@jupyter-widgets/controls",
            "_view_module_version": "1.5.0",
            "_view_name": "HBoxView",
            "box_style": "",
            "children": [
              "IPY_MODEL_7eb647fc37224a4199c0ce81d34ab998",
              "IPY_MODEL_ff96ee7db86a4c2e98cd7c495a9f98fd",
              "IPY_MODEL_8001e11e40f440e6adfb41efa6bf9a1e"
            ],
            "layout": "IPY_MODEL_89a8b1c5d6c846cba94fad74b009270a"
          }
        },
        "7eb647fc37224a4199c0ce81d34ab998": {
          "model_module": "@jupyter-widgets/controls",
          "model_name": "HTMLModel",
          "model_module_version": "1.5.0",
          "state": {
            "_dom_classes": [],
            "_model_module": "@jupyter-widgets/controls",
            "_model_module_version": "1.5.0",
            "_model_name": "HTMLModel",
            "_view_count": null,
            "_view_module": "@jupyter-widgets/controls",
            "_view_module_version": "1.5.0",
            "_view_name": "HTMLView",
            "description": "",
            "description_tooltip": null,
            "layout": "IPY_MODEL_237397e8e2774104983c794103572947",
            "placeholder": "​",
            "style": "IPY_MODEL_feca832557cc4e0cb07153a6900d3599",
            "value": "100%"
          }
        },
        "ff96ee7db86a4c2e98cd7c495a9f98fd": {
          "model_module": "@jupyter-widgets/controls",
          "model_name": "FloatProgressModel",
          "model_module_version": "1.5.0",
          "state": {
            "_dom_classes": [],
            "_model_module": "@jupyter-widgets/controls",
            "_model_module_version": "1.5.0",
            "_model_name": "FloatProgressModel",
            "_view_count": null,
            "_view_module": "@jupyter-widgets/controls",
            "_view_module_version": "1.5.0",
            "_view_name": "ProgressView",
            "bar_style": "success",
            "description": "",
            "description_tooltip": null,
            "layout": "IPY_MODEL_6f34f5a28f9342bcbf4315ba4910b78d",
            "max": 15,
            "min": 0,
            "orientation": "horizontal",
            "style": "IPY_MODEL_e67a6457348343e4b0c08858e4ecc223",
            "value": 15
          }
        },
        "8001e11e40f440e6adfb41efa6bf9a1e": {
          "model_module": "@jupyter-widgets/controls",
          "model_name": "HTMLModel",
          "model_module_version": "1.5.0",
          "state": {
            "_dom_classes": [],
            "_model_module": "@jupyter-widgets/controls",
            "_model_module_version": "1.5.0",
            "_model_name": "HTMLModel",
            "_view_count": null,
            "_view_module": "@jupyter-widgets/controls",
            "_view_module_version": "1.5.0",
            "_view_name": "HTMLView",
            "description": "",
            "description_tooltip": null,
            "layout": "IPY_MODEL_c7b68d56d1d74ce8bf7cc7ea3b4b7605",
            "placeholder": "​",
            "style": "IPY_MODEL_a6d66b087955407e9322aec0b41b58a2",
            "value": " 15/15 [03:38&lt;00:00, 14.49s/it]"
          }
        },
        "89a8b1c5d6c846cba94fad74b009270a": {
          "model_module": "@jupyter-widgets/base",
          "model_name": "LayoutModel",
          "model_module_version": "1.2.0",
          "state": {
            "_model_module": "@jupyter-widgets/base",
            "_model_module_version": "1.2.0",
            "_model_name": "LayoutModel",
            "_view_count": null,
            "_view_module": "@jupyter-widgets/base",
            "_view_module_version": "1.2.0",
            "_view_name": "LayoutView",
            "align_content": null,
            "align_items": null,
            "align_self": null,
            "border": null,
            "bottom": null,
            "display": null,
            "flex": null,
            "flex_flow": null,
            "grid_area": null,
            "grid_auto_columns": null,
            "grid_auto_flow": null,
            "grid_auto_rows": null,
            "grid_column": null,
            "grid_gap": null,
            "grid_row": null,
            "grid_template_areas": null,
            "grid_template_columns": null,
            "grid_template_rows": null,
            "height": null,
            "justify_content": null,
            "justify_items": null,
            "left": null,
            "margin": null,
            "max_height": null,
            "max_width": null,
            "min_height": null,
            "min_width": null,
            "object_fit": null,
            "object_position": null,
            "order": null,
            "overflow": null,
            "overflow_x": null,
            "overflow_y": null,
            "padding": null,
            "right": null,
            "top": null,
            "visibility": null,
            "width": null
          }
        },
        "237397e8e2774104983c794103572947": {
          "model_module": "@jupyter-widgets/base",
          "model_name": "LayoutModel",
          "model_module_version": "1.2.0",
          "state": {
            "_model_module": "@jupyter-widgets/base",
            "_model_module_version": "1.2.0",
            "_model_name": "LayoutModel",
            "_view_count": null,
            "_view_module": "@jupyter-widgets/base",
            "_view_module_version": "1.2.0",
            "_view_name": "LayoutView",
            "align_content": null,
            "align_items": null,
            "align_self": null,
            "border": null,
            "bottom": null,
            "display": null,
            "flex": null,
            "flex_flow": null,
            "grid_area": null,
            "grid_auto_columns": null,
            "grid_auto_flow": null,
            "grid_auto_rows": null,
            "grid_column": null,
            "grid_gap": null,
            "grid_row": null,
            "grid_template_areas": null,
            "grid_template_columns": null,
            "grid_template_rows": null,
            "height": null,
            "justify_content": null,
            "justify_items": null,
            "left": null,
            "margin": null,
            "max_height": null,
            "max_width": null,
            "min_height": null,
            "min_width": null,
            "object_fit": null,
            "object_position": null,
            "order": null,
            "overflow": null,
            "overflow_x": null,
            "overflow_y": null,
            "padding": null,
            "right": null,
            "top": null,
            "visibility": null,
            "width": null
          }
        },
        "feca832557cc4e0cb07153a6900d3599": {
          "model_module": "@jupyter-widgets/controls",
          "model_name": "DescriptionStyleModel",
          "model_module_version": "1.5.0",
          "state": {
            "_model_module": "@jupyter-widgets/controls",
            "_model_module_version": "1.5.0",
            "_model_name": "DescriptionStyleModel",
            "_view_count": null,
            "_view_module": "@jupyter-widgets/base",
            "_view_module_version": "1.2.0",
            "_view_name": "StyleView",
            "description_width": ""
          }
        },
        "6f34f5a28f9342bcbf4315ba4910b78d": {
          "model_module": "@jupyter-widgets/base",
          "model_name": "LayoutModel",
          "model_module_version": "1.2.0",
          "state": {
            "_model_module": "@jupyter-widgets/base",
            "_model_module_version": "1.2.0",
            "_model_name": "LayoutModel",
            "_view_count": null,
            "_view_module": "@jupyter-widgets/base",
            "_view_module_version": "1.2.0",
            "_view_name": "LayoutView",
            "align_content": null,
            "align_items": null,
            "align_self": null,
            "border": null,
            "bottom": null,
            "display": null,
            "flex": null,
            "flex_flow": null,
            "grid_area": null,
            "grid_auto_columns": null,
            "grid_auto_flow": null,
            "grid_auto_rows": null,
            "grid_column": null,
            "grid_gap": null,
            "grid_row": null,
            "grid_template_areas": null,
            "grid_template_columns": null,
            "grid_template_rows": null,
            "height": null,
            "justify_content": null,
            "justify_items": null,
            "left": null,
            "margin": null,
            "max_height": null,
            "max_width": null,
            "min_height": null,
            "min_width": null,
            "object_fit": null,
            "object_position": null,
            "order": null,
            "overflow": null,
            "overflow_x": null,
            "overflow_y": null,
            "padding": null,
            "right": null,
            "top": null,
            "visibility": null,
            "width": null
          }
        },
        "e67a6457348343e4b0c08858e4ecc223": {
          "model_module": "@jupyter-widgets/controls",
          "model_name": "ProgressStyleModel",
          "model_module_version": "1.5.0",
          "state": {
            "_model_module": "@jupyter-widgets/controls",
            "_model_module_version": "1.5.0",
            "_model_name": "ProgressStyleModel",
            "_view_count": null,
            "_view_module": "@jupyter-widgets/base",
            "_view_module_version": "1.2.0",
            "_view_name": "StyleView",
            "bar_color": null,
            "description_width": ""
          }
        },
        "c7b68d56d1d74ce8bf7cc7ea3b4b7605": {
          "model_module": "@jupyter-widgets/base",
          "model_name": "LayoutModel",
          "model_module_version": "1.2.0",
          "state": {
            "_model_module": "@jupyter-widgets/base",
            "_model_module_version": "1.2.0",
            "_model_name": "LayoutModel",
            "_view_count": null,
            "_view_module": "@jupyter-widgets/base",
            "_view_module_version": "1.2.0",
            "_view_name": "LayoutView",
            "align_content": null,
            "align_items": null,
            "align_self": null,
            "border": null,
            "bottom": null,
            "display": null,
            "flex": null,
            "flex_flow": null,
            "grid_area": null,
            "grid_auto_columns": null,
            "grid_auto_flow": null,
            "grid_auto_rows": null,
            "grid_column": null,
            "grid_gap": null,
            "grid_row": null,
            "grid_template_areas": null,
            "grid_template_columns": null,
            "grid_template_rows": null,
            "height": null,
            "justify_content": null,
            "justify_items": null,
            "left": null,
            "margin": null,
            "max_height": null,
            "max_width": null,
            "min_height": null,
            "min_width": null,
            "object_fit": null,
            "object_position": null,
            "order": null,
            "overflow": null,
            "overflow_x": null,
            "overflow_y": null,
            "padding": null,
            "right": null,
            "top": null,
            "visibility": null,
            "width": null
          }
        },
        "a6d66b087955407e9322aec0b41b58a2": {
          "model_module": "@jupyter-widgets/controls",
          "model_name": "DescriptionStyleModel",
          "model_module_version": "1.5.0",
          "state": {
            "_model_module": "@jupyter-widgets/controls",
            "_model_module_version": "1.5.0",
            "_model_name": "DescriptionStyleModel",
            "_view_count": null,
            "_view_module": "@jupyter-widgets/base",
            "_view_module_version": "1.2.0",
            "_view_name": "StyleView",
            "description_width": ""
          }
        },
        "482d42fcd80a44abb8d3ed6cb940df59": {
          "model_module": "@jupyter-widgets/controls",
          "model_name": "HBoxModel",
          "model_module_version": "1.5.0",
          "state": {
            "_dom_classes": [],
            "_model_module": "@jupyter-widgets/controls",
            "_model_module_version": "1.5.0",
            "_model_name": "HBoxModel",
            "_view_count": null,
            "_view_module": "@jupyter-widgets/controls",
            "_view_module_version": "1.5.0",
            "_view_name": "HBoxView",
            "box_style": "",
            "children": [
              "IPY_MODEL_e55ecc867b23422795ac400739e07f2b",
              "IPY_MODEL_326f1644abcf47349f58f0ed70a7e606",
              "IPY_MODEL_3a8aafc0ea6547f6a7bc04338aaec044"
            ],
            "layout": "IPY_MODEL_7dc1f89918cc4e99b7e8f4c409088b54"
          }
        },
        "e55ecc867b23422795ac400739e07f2b": {
          "model_module": "@jupyter-widgets/controls",
          "model_name": "HTMLModel",
          "model_module_version": "1.5.0",
          "state": {
            "_dom_classes": [],
            "_model_module": "@jupyter-widgets/controls",
            "_model_module_version": "1.5.0",
            "_model_name": "HTMLModel",
            "_view_count": null,
            "_view_module": "@jupyter-widgets/controls",
            "_view_module_version": "1.5.0",
            "_view_name": "HTMLView",
            "description": "",
            "description_tooltip": null,
            "layout": "IPY_MODEL_cbf2ffa7f16b44489b67d47985882411",
            "placeholder": "​",
            "style": "IPY_MODEL_2fd149fca8c84fda9176225015b884cd",
            "value": "100%"
          }
        },
        "326f1644abcf47349f58f0ed70a7e606": {
          "model_module": "@jupyter-widgets/controls",
          "model_name": "FloatProgressModel",
          "model_module_version": "1.5.0",
          "state": {
            "_dom_classes": [],
            "_model_module": "@jupyter-widgets/controls",
            "_model_module_version": "1.5.0",
            "_model_name": "FloatProgressModel",
            "_view_count": null,
            "_view_module": "@jupyter-widgets/controls",
            "_view_module_version": "1.5.0",
            "_view_name": "ProgressView",
            "bar_style": "success",
            "description": "",
            "description_tooltip": null,
            "layout": "IPY_MODEL_f71b92b953ad485e88779b5e0a35136d",
            "max": 15,
            "min": 0,
            "orientation": "horizontal",
            "style": "IPY_MODEL_9538a9a70fd94710868ac7a8eab78a89",
            "value": 15
          }
        },
        "3a8aafc0ea6547f6a7bc04338aaec044": {
          "model_module": "@jupyter-widgets/controls",
          "model_name": "HTMLModel",
          "model_module_version": "1.5.0",
          "state": {
            "_dom_classes": [],
            "_model_module": "@jupyter-widgets/controls",
            "_model_module_version": "1.5.0",
            "_model_name": "HTMLModel",
            "_view_count": null,
            "_view_module": "@jupyter-widgets/controls",
            "_view_module_version": "1.5.0",
            "_view_name": "HTMLView",
            "description": "",
            "description_tooltip": null,
            "layout": "IPY_MODEL_cc55d5087f134bcdbbba1c9ecd533953",
            "placeholder": "​",
            "style": "IPY_MODEL_8b5e978550eb492f9dad919188cf5d22",
            "value": " 15/15 [03:42&lt;00:00, 14.75s/it]"
          }
        },
        "7dc1f89918cc4e99b7e8f4c409088b54": {
          "model_module": "@jupyter-widgets/base",
          "model_name": "LayoutModel",
          "model_module_version": "1.2.0",
          "state": {
            "_model_module": "@jupyter-widgets/base",
            "_model_module_version": "1.2.0",
            "_model_name": "LayoutModel",
            "_view_count": null,
            "_view_module": "@jupyter-widgets/base",
            "_view_module_version": "1.2.0",
            "_view_name": "LayoutView",
            "align_content": null,
            "align_items": null,
            "align_self": null,
            "border": null,
            "bottom": null,
            "display": null,
            "flex": null,
            "flex_flow": null,
            "grid_area": null,
            "grid_auto_columns": null,
            "grid_auto_flow": null,
            "grid_auto_rows": null,
            "grid_column": null,
            "grid_gap": null,
            "grid_row": null,
            "grid_template_areas": null,
            "grid_template_columns": null,
            "grid_template_rows": null,
            "height": null,
            "justify_content": null,
            "justify_items": null,
            "left": null,
            "margin": null,
            "max_height": null,
            "max_width": null,
            "min_height": null,
            "min_width": null,
            "object_fit": null,
            "object_position": null,
            "order": null,
            "overflow": null,
            "overflow_x": null,
            "overflow_y": null,
            "padding": null,
            "right": null,
            "top": null,
            "visibility": null,
            "width": null
          }
        },
        "cbf2ffa7f16b44489b67d47985882411": {
          "model_module": "@jupyter-widgets/base",
          "model_name": "LayoutModel",
          "model_module_version": "1.2.0",
          "state": {
            "_model_module": "@jupyter-widgets/base",
            "_model_module_version": "1.2.0",
            "_model_name": "LayoutModel",
            "_view_count": null,
            "_view_module": "@jupyter-widgets/base",
            "_view_module_version": "1.2.0",
            "_view_name": "LayoutView",
            "align_content": null,
            "align_items": null,
            "align_self": null,
            "border": null,
            "bottom": null,
            "display": null,
            "flex": null,
            "flex_flow": null,
            "grid_area": null,
            "grid_auto_columns": null,
            "grid_auto_flow": null,
            "grid_auto_rows": null,
            "grid_column": null,
            "grid_gap": null,
            "grid_row": null,
            "grid_template_areas": null,
            "grid_template_columns": null,
            "grid_template_rows": null,
            "height": null,
            "justify_content": null,
            "justify_items": null,
            "left": null,
            "margin": null,
            "max_height": null,
            "max_width": null,
            "min_height": null,
            "min_width": null,
            "object_fit": null,
            "object_position": null,
            "order": null,
            "overflow": null,
            "overflow_x": null,
            "overflow_y": null,
            "padding": null,
            "right": null,
            "top": null,
            "visibility": null,
            "width": null
          }
        },
        "2fd149fca8c84fda9176225015b884cd": {
          "model_module": "@jupyter-widgets/controls",
          "model_name": "DescriptionStyleModel",
          "model_module_version": "1.5.0",
          "state": {
            "_model_module": "@jupyter-widgets/controls",
            "_model_module_version": "1.5.0",
            "_model_name": "DescriptionStyleModel",
            "_view_count": null,
            "_view_module": "@jupyter-widgets/base",
            "_view_module_version": "1.2.0",
            "_view_name": "StyleView",
            "description_width": ""
          }
        },
        "f71b92b953ad485e88779b5e0a35136d": {
          "model_module": "@jupyter-widgets/base",
          "model_name": "LayoutModel",
          "model_module_version": "1.2.0",
          "state": {
            "_model_module": "@jupyter-widgets/base",
            "_model_module_version": "1.2.0",
            "_model_name": "LayoutModel",
            "_view_count": null,
            "_view_module": "@jupyter-widgets/base",
            "_view_module_version": "1.2.0",
            "_view_name": "LayoutView",
            "align_content": null,
            "align_items": null,
            "align_self": null,
            "border": null,
            "bottom": null,
            "display": null,
            "flex": null,
            "flex_flow": null,
            "grid_area": null,
            "grid_auto_columns": null,
            "grid_auto_flow": null,
            "grid_auto_rows": null,
            "grid_column": null,
            "grid_gap": null,
            "grid_row": null,
            "grid_template_areas": null,
            "grid_template_columns": null,
            "grid_template_rows": null,
            "height": null,
            "justify_content": null,
            "justify_items": null,
            "left": null,
            "margin": null,
            "max_height": null,
            "max_width": null,
            "min_height": null,
            "min_width": null,
            "object_fit": null,
            "object_position": null,
            "order": null,
            "overflow": null,
            "overflow_x": null,
            "overflow_y": null,
            "padding": null,
            "right": null,
            "top": null,
            "visibility": null,
            "width": null
          }
        },
        "9538a9a70fd94710868ac7a8eab78a89": {
          "model_module": "@jupyter-widgets/controls",
          "model_name": "ProgressStyleModel",
          "model_module_version": "1.5.0",
          "state": {
            "_model_module": "@jupyter-widgets/controls",
            "_model_module_version": "1.5.0",
            "_model_name": "ProgressStyleModel",
            "_view_count": null,
            "_view_module": "@jupyter-widgets/base",
            "_view_module_version": "1.2.0",
            "_view_name": "StyleView",
            "bar_color": null,
            "description_width": ""
          }
        },
        "cc55d5087f134bcdbbba1c9ecd533953": {
          "model_module": "@jupyter-widgets/base",
          "model_name": "LayoutModel",
          "model_module_version": "1.2.0",
          "state": {
            "_model_module": "@jupyter-widgets/base",
            "_model_module_version": "1.2.0",
            "_model_name": "LayoutModel",
            "_view_count": null,
            "_view_module": "@jupyter-widgets/base",
            "_view_module_version": "1.2.0",
            "_view_name": "LayoutView",
            "align_content": null,
            "align_items": null,
            "align_self": null,
            "border": null,
            "bottom": null,
            "display": null,
            "flex": null,
            "flex_flow": null,
            "grid_area": null,
            "grid_auto_columns": null,
            "grid_auto_flow": null,
            "grid_auto_rows": null,
            "grid_column": null,
            "grid_gap": null,
            "grid_row": null,
            "grid_template_areas": null,
            "grid_template_columns": null,
            "grid_template_rows": null,
            "height": null,
            "justify_content": null,
            "justify_items": null,
            "left": null,
            "margin": null,
            "max_height": null,
            "max_width": null,
            "min_height": null,
            "min_width": null,
            "object_fit": null,
            "object_position": null,
            "order": null,
            "overflow": null,
            "overflow_x": null,
            "overflow_y": null,
            "padding": null,
            "right": null,
            "top": null,
            "visibility": null,
            "width": null
          }
        },
        "8b5e978550eb492f9dad919188cf5d22": {
          "model_module": "@jupyter-widgets/controls",
          "model_name": "DescriptionStyleModel",
          "model_module_version": "1.5.0",
          "state": {
            "_model_module": "@jupyter-widgets/controls",
            "_model_module_version": "1.5.0",
            "_model_name": "DescriptionStyleModel",
            "_view_count": null,
            "_view_module": "@jupyter-widgets/base",
            "_view_module_version": "1.2.0",
            "_view_name": "StyleView",
            "description_width": ""
          }
        }
      }
    }
  },
  "cells": [
    {
      "cell_type": "markdown",
      "metadata": {
        "id": "view-in-github",
        "colab_type": "text"
      },
      "source": [
        "<a href=\"https://colab.research.google.com/github/d22cs051/dlops-23/blob/main/assignment/D22CS051_Lab_Assignment_2.ipynb\" target=\"_parent\"><img src=\"https://colab.research.google.com/assets/colab-badge.svg\" alt=\"Open In Colab\"/></a>"
      ]
    },
    {
      "cell_type": "markdown",
      "metadata": {
        "id": "vM4Zt7DealDy"
      },
      "source": [
        "# DL-Ops Lab 2 fashion FashionMNIST Dataset\n",
        "\n",
        "NOTE :-\n",
        "* All the code written below is well formated and properly commented.\n",
        "* All the visulization of images are done properly with matplot libs and explaned.\n",
        "* All Loss and Accurcy curves can be seen in there respective sections.\n",
        "* Please use table of content on google colab to glide throught different section respectively.\n",
        "* Change runtime to gpu if possible."
      ]
    },
    {
      "cell_type": "markdown",
      "metadata": {
        "id": "h5jmZTh6bArF"
      },
      "source": [
        "## Checking Avilable GPU"
      ]
    },
    {
      "cell_type": "code",
      "execution_count": 1,
      "metadata": {
        "colab": {
          "base_uri": "https://localhost:8080/"
        },
        "id": "DwVYnqGaZowj",
        "outputId": "5c6695fc-146d-4b7c-e122-19b32d30e457"
      },
      "outputs": [
        {
          "output_type": "stream",
          "name": "stdout",
          "text": [
            "NVIDIA-SMI has failed because it couldn't communicate with the NVIDIA driver. Make sure that the latest NVIDIA driver is installed and running.\n",
            "\n"
          ]
        }
      ],
      "source": [
        "!nvidia-smi"
      ]
    },
    {
      "cell_type": "markdown",
      "metadata": {
        "id": "rgDZV_3LbM4b"
      },
      "source": [
        "## Importing requirements"
      ]
    },
    {
      "cell_type": "code",
      "execution_count": 2,
      "metadata": {
        "colab": {
          "base_uri": "https://localhost:8080/"
        },
        "id": "zEAQWhwpaH4v",
        "outputId": "b50d01e5-6b94-4484-e75a-d8a9d338f2f1"
      },
      "outputs": [
        {
          "output_type": "stream",
          "name": "stdout",
          "text": [
            "\u001b[?25l     \u001b[90m━━━━━━━━━━━━━━━━━━━━━━━━━━━━━━━━━━━━━━━━\u001b[0m \u001b[32m0.0/512.4 KB\u001b[0m \u001b[31m?\u001b[0m eta \u001b[36m-:--:--\u001b[0m\r\u001b[2K     \u001b[91m━━━━━━━━━━━━━━━━━\u001b[0m\u001b[91m╸\u001b[0m\u001b[90m━━━━━━━━━━━━━━━━━━━━━\u001b[0m \u001b[32m235.5/512.4 KB\u001b[0m \u001b[31m6.8 MB/s\u001b[0m eta \u001b[36m0:00:01\u001b[0m\r\u001b[2K     \u001b[91m━━━━━━━━━━━━━━━━━━━━━━━━━━━━━━━━━━━━━\u001b[0m\u001b[91m╸\u001b[0m \u001b[32m512.0/512.4 KB\u001b[0m \u001b[31m10.9 MB/s\u001b[0m eta \u001b[36m0:00:01\u001b[0m\r\u001b[2K     \u001b[90m━━━━━━━━━━━━━━━━━━━━━━━━━━━━━━━━━━━━━━━\u001b[0m \u001b[32m512.4/512.4 KB\u001b[0m \u001b[31m6.1 MB/s\u001b[0m eta \u001b[36m0:00:00\u001b[0m\n",
            "\u001b[?25h"
          ]
        }
      ],
      "source": [
        "# pytorch libs\n",
        "import torch\n",
        "from torch import nn\n",
        "import torchvision\n",
        "\n",
        "# matplot libs\n",
        "import matplotlib.pyplot as plt\n",
        "\n",
        "# numpy\n",
        "import numpy as np\n",
        "\n",
        "# torch metrics\n",
        "try:\n",
        "  import torchmetrics\n",
        "except:\n",
        "  !pip3 -q install torchmetrics\n",
        "import torchmetrics\n",
        "from torchmetrics.classification import MulticlassAccuracy\n",
        "\n",
        "# importing t-sne\n",
        "from sklearn.manifold import TSNE"
      ]
    },
    {
      "cell_type": "code",
      "source": [],
      "metadata": {
        "id": "-uNl_gQdxrpx"
      },
      "execution_count": 2,
      "outputs": []
    },
    {
      "cell_type": "markdown",
      "metadata": {
        "id": "nCe4S9RDKCCi"
      },
      "source": [
        "## device agnostic code"
      ]
    },
    {
      "cell_type": "code",
      "execution_count": 3,
      "metadata": {
        "colab": {
          "base_uri": "https://localhost:8080/",
          "height": 0
        },
        "id": "bN4saR5mKITV",
        "outputId": "673a3bef-776d-48ed-d2fb-77481b37dcef"
      },
      "outputs": [
        {
          "output_type": "execute_result",
          "data": {
            "text/plain": [
              "'cpu'"
            ],
            "application/vnd.google.colaboratory.intrinsic+json": {
              "type": "string"
            }
          },
          "metadata": {},
          "execution_count": 3
        }
      ],
      "source": [
        "device = \"cuda\" if torch.cuda.is_available() else \"cpu\"\n",
        "device"
      ]
    },
    {
      "cell_type": "markdown",
      "metadata": {
        "id": "4DVJEos8et6e"
      },
      "source": [
        "## Getting Dataset with pytorch"
      ]
    },
    {
      "cell_type": "markdown",
      "metadata": {
        "id": "nzKRNK7xhF66"
      },
      "source": [
        "### Downloading Dataset"
      ]
    },
    {
      "cell_type": "code",
      "execution_count": 4,
      "metadata": {
        "colab": {
          "base_uri": "https://localhost:8080/",
          "height": 0,
          "referenced_widgets": [
            "ef3860eecc274390b7a84aa27ef3dad1",
            "2b8e6cc7c5cd4ee1b2073778c3c55e33",
            "4b744435946348089a73f5ea7d509073",
            "a1d2c2ffda404b7b9ff12243c104374b",
            "b64816d60f774c659bbf78942280287e",
            "6ad3c26982dd43bb9c66f81d9f7d2a80",
            "865830df47d641f380b6ef0a2f8ba6de",
            "da04eba900034ac39565fe088b0a67f3",
            "7ec8658823ac43a8a48e652f116b1db3",
            "456c06fe360e497c9ad2396bdfba0f5e",
            "42af94ad7edc4bb580cc67cebe50e13f",
            "b77e46e59c434d2facfe220cb2c4559e",
            "a627811b9ae240f2a6bc97ceaee731c2",
            "1f22a88d26fc439d9b6067057ec03c65",
            "1dcdc116e35a4a0fa089ef03b636f21f",
            "cf2e8fbced404445920f12c0d268e170",
            "b75b76bc6d3c4edbb22b55efa970343b",
            "2474f13d4cd144c9beb0f86aeaa52c0c",
            "11d13ed12b0f4255a8b5cd3ec2e0ea76",
            "65c4aa5135324e9fa1f091feefecea8d",
            "81c459d06e7d4d3695eee3a22100c82e",
            "5613091739244bff9b4843f8bf351461",
            "183a6de0726d4313beff2e7c8056b41a",
            "6775aae25bc44e7fa7f0dbd8e6e55f84",
            "951e8c1713734741818f88ba3d0dd735",
            "ab778a0ca82246b789bdcfcd2522a6bc",
            "847f4e7e889a4a958c62ae91d647db13",
            "2ab5484d5a1544a095aa776b62d8bde8",
            "aa8dee32690743eeb3951a78385508b5",
            "256d037ec956460999ee7cdef56d4a68",
            "3b8458c10fe84b45ae86d3aa5036fb54",
            "7b0a6949eaff45eeb73cdc49f17f2d47",
            "b66b244748a94beaacabf3ba26165994",
            "eb2abcd0550b4018a96a0a9dd79cdd9c",
            "fdc0cf4bab7940ffb908564ea467eb85",
            "9d43c402d4e640ffb7b0dcffcd2b1fca",
            "16eac99ba293456894972b830c7c12ea",
            "27087c5884834a1ab7b8e465bdb8b974",
            "870b1a73eba14dd9859199af038cc25e",
            "528bc87b71104a9f85c9c3e1b313f981",
            "a17510f965094d22b2eb566034ab24a2",
            "5ef81b0b7f214998bafbed899f68c274",
            "6d3c0688c03943b4bc93043e953b6dc1",
            "34d8a0fb1d884796bc2b25d93d73f121"
          ]
        },
        "id": "M0y5h3xOfj76",
        "outputId": "0cafa3fc-8212-4f24-b87e-8bf180a88a6f"
      },
      "outputs": [
        {
          "output_type": "stream",
          "name": "stdout",
          "text": [
            "Downloading http://fashion-mnist.s3-website.eu-central-1.amazonaws.com/train-images-idx3-ubyte.gz\n",
            "Downloading http://fashion-mnist.s3-website.eu-central-1.amazonaws.com/train-images-idx3-ubyte.gz to data/FashionMNIST/raw/train-images-idx3-ubyte.gz\n"
          ]
        },
        {
          "output_type": "display_data",
          "data": {
            "text/plain": [
              "  0%|          | 0/26421880 [00:00<?, ?it/s]"
            ],
            "application/vnd.jupyter.widget-view+json": {
              "version_major": 2,
              "version_minor": 0,
              "model_id": "ef3860eecc274390b7a84aa27ef3dad1"
            }
          },
          "metadata": {}
        },
        {
          "output_type": "stream",
          "name": "stdout",
          "text": [
            "Extracting data/FashionMNIST/raw/train-images-idx3-ubyte.gz to data/FashionMNIST/raw\n",
            "\n",
            "Downloading http://fashion-mnist.s3-website.eu-central-1.amazonaws.com/train-labels-idx1-ubyte.gz\n",
            "Downloading http://fashion-mnist.s3-website.eu-central-1.amazonaws.com/train-labels-idx1-ubyte.gz to data/FashionMNIST/raw/train-labels-idx1-ubyte.gz\n"
          ]
        },
        {
          "output_type": "display_data",
          "data": {
            "text/plain": [
              "  0%|          | 0/29515 [00:00<?, ?it/s]"
            ],
            "application/vnd.jupyter.widget-view+json": {
              "version_major": 2,
              "version_minor": 0,
              "model_id": "b77e46e59c434d2facfe220cb2c4559e"
            }
          },
          "metadata": {}
        },
        {
          "output_type": "stream",
          "name": "stdout",
          "text": [
            "Extracting data/FashionMNIST/raw/train-labels-idx1-ubyte.gz to data/FashionMNIST/raw\n",
            "\n",
            "Downloading http://fashion-mnist.s3-website.eu-central-1.amazonaws.com/t10k-images-idx3-ubyte.gz\n",
            "Downloading http://fashion-mnist.s3-website.eu-central-1.amazonaws.com/t10k-images-idx3-ubyte.gz to data/FashionMNIST/raw/t10k-images-idx3-ubyte.gz\n"
          ]
        },
        {
          "output_type": "display_data",
          "data": {
            "text/plain": [
              "  0%|          | 0/4422102 [00:00<?, ?it/s]"
            ],
            "application/vnd.jupyter.widget-view+json": {
              "version_major": 2,
              "version_minor": 0,
              "model_id": "183a6de0726d4313beff2e7c8056b41a"
            }
          },
          "metadata": {}
        },
        {
          "output_type": "stream",
          "name": "stdout",
          "text": [
            "Extracting data/FashionMNIST/raw/t10k-images-idx3-ubyte.gz to data/FashionMNIST/raw\n",
            "\n",
            "Downloading http://fashion-mnist.s3-website.eu-central-1.amazonaws.com/t10k-labels-idx1-ubyte.gz\n",
            "Downloading http://fashion-mnist.s3-website.eu-central-1.amazonaws.com/t10k-labels-idx1-ubyte.gz to data/FashionMNIST/raw/t10k-labels-idx1-ubyte.gz\n"
          ]
        },
        {
          "output_type": "display_data",
          "data": {
            "text/plain": [
              "  0%|          | 0/5148 [00:00<?, ?it/s]"
            ],
            "application/vnd.jupyter.widget-view+json": {
              "version_major": 2,
              "version_minor": 0,
              "model_id": "eb2abcd0550b4018a96a0a9dd79cdd9c"
            }
          },
          "metadata": {}
        },
        {
          "output_type": "stream",
          "name": "stdout",
          "text": [
            "Extracting data/FashionMNIST/raw/t10k-labels-idx1-ubyte.gz to data/FashionMNIST/raw\n",
            "\n"
          ]
        },
        {
          "output_type": "execute_result",
          "data": {
            "text/plain": [
              "(Dataset FashionMNIST\n",
              "     Number of datapoints: 60000\n",
              "     Root location: data/\n",
              "     Split: Train\n",
              "     StandardTransform\n",
              " Transform: Compose(\n",
              "                ToTensor()\n",
              "            ), Dataset FashionMNIST\n",
              "     Number of datapoints: 10000\n",
              "     Root location: data/\n",
              "     Split: Test\n",
              "     StandardTransform\n",
              " Transform: Compose(\n",
              "                ToTensor()\n",
              "            ))"
            ]
          },
          "metadata": {},
          "execution_count": 4
        }
      ],
      "source": [
        "from torchvision import transforms\n",
        "\n",
        "image_trasform = transforms.Compose(\n",
        "    [\n",
        "        # Not need to convert the images to gray scale\n",
        "        # transforms.Grayscale(num_output_channels=1),\n",
        "        transforms.ToTensor()\n",
        "    ]\n",
        ")\n",
        "\n",
        "train_dataset = torchvision.datasets.FashionMNIST(\n",
        "    root = 'data/',\n",
        "    download = True,\n",
        "    train = True,\n",
        "    transform = image_trasform\n",
        ")\n",
        "\n",
        "test_dataset = torchvision.datasets.FashionMNIST(\n",
        "    root = 'data/',\n",
        "    download = True,\n",
        "    train = False,\n",
        "    transform = image_trasform\n",
        ")\n",
        "train_dataset,test_dataset"
      ]
    },
    {
      "cell_type": "markdown",
      "metadata": {
        "id": "dyPd2udBaUOT"
      },
      "source": [
        "### Vis. dataset (train dataset)"
      ]
    },
    {
      "cell_type": "code",
      "execution_count": 5,
      "metadata": {
        "colab": {
          "base_uri": "https://localhost:8080/",
          "height": 0
        },
        "id": "DoLciHIvhX3W",
        "outputId": "e53d25ff-1ce8-4c6a-d6a4-c089b2d3c0a8"
      },
      "outputs": [
        {
          "output_type": "display_data",
          "data": {
            "text/plain": [
              "<Figure size 864x864 with 9 Axes>"
            ],
            "image/png": "[encoded data removed]"
          },
          "metadata": {
            "needs_background": "light"
          }
        }
      ],
      "source": [
        "# randomly ploting image samples from the grayscale dataset\n",
        "labels_map = test_dataset.class_to_idx # getting class -> index map\n",
        "labels_map = dict(map(reversed, labels_map.items())) # inverting dict\n",
        "# print(labels_map)\n",
        "\n",
        "figure = plt.figure(figsize=(12, 12)) # fixing plotsize\n",
        "cols, rows = 3, 3\n",
        "for i in range(1, cols * rows + 1):\n",
        "    sample_idx = torch.randint(len(train_dataset), size=(1,)) # randomely selecting one image sample from the image index\n",
        "    # print(\"sample_idx: \",sample_idx)\n",
        "    img, label = train_dataset[sample_idx.item()] # getting image and label of selected index\n",
        "    # sub plot code\n",
        "    figure.add_subplot(rows, cols, i) \n",
        "    plt.title(labels_map[label])\n",
        "    plt.axis(\"off\")\n",
        "    plt.imshow(img.squeeze(),cmap=\"gray\") # NOTE:- Color map is gray because we're having 1 channel images\n",
        "    # sub plot code ends\n",
        "plt.show()"
      ]
    },
    {
      "cell_type": "markdown",
      "metadata": {
        "id": "sYyXAxh9ok_b"
      },
      "source": [
        "### Converting dataset to dataloader"
      ]
    },
    {
      "cell_type": "code",
      "execution_count": 6,
      "metadata": {
        "colab": {
          "base_uri": "https://localhost:8080/"
        },
        "id": "kFDnlX5to1ut",
        "outputId": "f0086395-8c19-49d8-b583-bcc1e8160401"
      },
      "outputs": [
        {
          "output_type": "stream",
          "name": "stdout",
          "text": [
            "Numbers of Batches in Train Dataloader: 469\n",
            "Numbers of Batches in Test Dataloader: 78\n"
          ]
        }
      ],
      "source": [
        "import os\n",
        "\n",
        "# hyper parms. for dataloader\n",
        "BATCH_SIZE = 128\n",
        "NUM_WORKERS = os.cpu_count() # no. of avilable cpu cores\n",
        "\n",
        "# train dataloader\n",
        "train_dataloader = torch.utils.data.DataLoader(\n",
        "    dataset = train_dataset,\n",
        "    batch_size = BATCH_SIZE,\n",
        "    shuffle = True,\n",
        "    num_workers =  NUM_WORKERS   \n",
        ")\n",
        "\n",
        "# test dataloader\n",
        "test_dataloader = torch.utils.data.DataLoader(\n",
        "    dataset = test_dataset,\n",
        "    batch_size = BATCH_SIZE,\n",
        "    shuffle = False,\n",
        "    drop_last = True,\n",
        "    num_workers =  NUM_WORKERS   \n",
        ")\n",
        "\n",
        "print(f\"Numbers of Batches in Train Dataloader: {len(train_dataloader)}\")\n",
        "print(f\"Numbers of Batches in Test Dataloader: {len(test_dataloader)}\")\n",
        "# train_dataloader,test_dataloader"
      ]
    },
    {
      "cell_type": "code",
      "source": [
        "next(iter(train_dataloader))[0].shape"
      ],
      "metadata": {
        "colab": {
          "base_uri": "https://localhost:8080/"
        },
        "id": "lETBLqJD_SDj",
        "outputId": "f6df082a-8b5f-4088-fd20-6d7796754ba5"
      },
      "execution_count": 7,
      "outputs": [
        {
          "output_type": "execute_result",
          "data": {
            "text/plain": [
              "torch.Size([128, 1, 28, 28])"
            ]
          },
          "metadata": {},
          "execution_count": 7
        }
      ]
    },
    {
      "cell_type": "markdown",
      "metadata": {
        "id": "2sfShJCwJqWR"
      },
      "source": [
        "## Training Noise AE model"
      ]
    },
    {
      "cell_type": "markdown",
      "metadata": {
        "id": "eNiE5yivrNEF"
      },
      "source": [
        "### Defining model"
      ]
    },
    {
      "cell_type": "code",
      "execution_count": 8,
      "metadata": {
        "id": "1OaXOkBtrOXl"
      },
      "outputs": [],
      "source": [
        "class NoiseAE(nn.Module):\n",
        "  f = nn.Flatten()\n",
        "  def __init__(\n",
        "      self,\n",
        "      in_channels:int,\n",
        "      hidden_units:int\n",
        "      ) -> None:\n",
        "    '''\n",
        "    args:\n",
        "      in_channels: input image shape\n",
        "      hidden_units: number of hidden in neural net.\n",
        "      out_channels: number of classes in the data\n",
        "      is_train_encoder: true if training encoder and not clf.\n",
        "    '''\n",
        "    super().__init__()\n",
        "    self.encoder = nn.Sequential(\n",
        "        nn.Linear(in_channels, hidden_units), # layer 1\n",
        "        nn.Sigmoid(),\n",
        "        nn.Linear(hidden_units, hidden_units), # layer 2\n",
        "        nn.Sigmoid(),\n",
        "        nn.Linear(hidden_units, hidden_units), # layer 3\n",
        "        nn.Sigmoid(),\n",
        "        nn.Linear(hidden_units, hidden_units), # layer 4\n",
        "        nn.Sigmoid()\n",
        "        )\n",
        "    self.decoder = nn.Sequential(\n",
        "        nn.Linear(hidden_units, hidden_units), # layer 1\n",
        "        nn.Sigmoid(),\n",
        "        nn.Linear(hidden_units, hidden_units), # layer 2\n",
        "        nn.Sigmoid(),\n",
        "        nn.Linear(hidden_units, hidden_units), # layer 3\n",
        "        nn.Sigmoid(),\n",
        "        nn.Linear(hidden_units, in_channels), # layer 4\n",
        "        nn.Sigmoid(),\n",
        "        )\n",
        "\n",
        "  def encode(self, x):\n",
        "      return self.encoder(x)\n",
        "\n",
        "  def decode(self, z):\n",
        "      return self.decoder(z)\n",
        "\n",
        "  def forward(self, x):\n",
        "    x = self.encode(x)\n",
        "    return self.decode(x)"
      ]
    },
    {
      "cell_type": "markdown",
      "metadata": {
        "id": "3gpa9IR8aJf-"
      },
      "source": [
        "### making model object"
      ]
    },
    {
      "cell_type": "code",
      "execution_count": 9,
      "metadata": {
        "colab": {
          "base_uri": "https://localhost:8080/"
        },
        "id": "bpMp0JRWK2VL",
        "outputId": "9426b941-03b1-4b28-b7b5-bc1450f692c8"
      },
      "outputs": [
        {
          "output_type": "execute_result",
          "data": {
            "text/plain": [
              "(28, 28)"
            ]
          },
          "metadata": {},
          "execution_count": 9
        }
      ],
      "source": [
        "height = next(iter(train_dataloader))[0].shape[2]\n",
        "width = next(iter(train_dataloader))[0].shape[2]\n",
        "height,width"
      ]
    },
    {
      "cell_type": "code",
      "execution_count": 10,
      "metadata": {
        "colab": {
          "base_uri": "https://localhost:8080/"
        },
        "id": "jSIcC3r4MHks",
        "outputId": "e18d1d2f-a5ca-4675-f3de-3d84d83d8cf6"
      },
      "outputs": [
        {
          "output_type": "execute_result",
          "data": {
            "text/plain": [
              "['T-shirt/top',\n",
              " 'Trouser',\n",
              " 'Pullover',\n",
              " 'Dress',\n",
              " 'Coat',\n",
              " 'Sandal',\n",
              " 'Shirt',\n",
              " 'Sneaker',\n",
              " 'Bag',\n",
              " 'Ankle boot']"
            ]
          },
          "metadata": {},
          "execution_count": 10
        }
      ],
      "source": [
        "class_names = train_dataloader.dataset.classes\n",
        "class_names"
      ]
    },
    {
      "cell_type": "code",
      "execution_count": 11,
      "metadata": {
        "id": "HmUJV6jaJ73H"
      },
      "outputs": [],
      "source": [
        "model_ae = NoiseAE(\n",
        "    in_channels = height*width,\n",
        "    hidden_units = 32\n",
        "    ).to(device)\n",
        "# print(\"\\nMODEL INFO: \\n\")\n",
        "# print(mdoel_0)"
      ]
    },
    {
      "cell_type": "markdown",
      "metadata": {
        "id": "-IpaeVBbbEjV"
      },
      "source": [
        "### train loop for denoising auto encoder"
      ]
    },
    {
      "cell_type": "markdown",
      "source": [
        "### Training the Noise Reduction Auto Encoder Model"
      ],
      "metadata": {
        "id": "ADBs-Z1nET7Y"
      }
    },
    {
      "cell_type": "code",
      "source": [
        "def train_step_ae(model: torch.nn.Module,\n",
        "               data_loader: torch.utils.data.DataLoader,\n",
        "               loss_fn: torch.nn.Module,\n",
        "               optimizer: torch.optim.Optimizer,\n",
        "               device: torch.device = device\n",
        "               ):\n",
        "  train_loss =  0\n",
        "  model.train()\n",
        "  for (X,y) in data_loader:\n",
        "    # Send data to GPU\n",
        "    X, y = X.to(device), y.to(device)\n",
        "\n",
        "    data = (X + 0.5 * torch.randn(X.shape).to(device))\n",
        "    \n",
        "    # 1. Forward pass\n",
        "    y_pred = model(data.view(-1,height*width))\n",
        "\n",
        "    # 2. Calculate loss\n",
        "    loss = loss_fn(y_pred.view(-1,height*width), X.view(-1,height*width))\n",
        "    train_loss += loss\n",
        "\n",
        "    # 3. Optimizer zero grad\n",
        "    optimizer.zero_grad()\n",
        "\n",
        "    # 4. Loss backward\n",
        "    loss.backward()\n",
        "\n",
        "    # 5. Optimizer step\n",
        "    optimizer.step()\n",
        "\n",
        "  # Calculate loss and accuracy per epoch and print out what's happening\n",
        "  train_loss /= len(data_loader)\n",
        "  print(f\"Train loss: {train_loss:.5f} | \",end=\"\")\n",
        "  return train_loss.item()\n",
        "\n",
        "def test_step_ae(model: torch.nn.Module,\n",
        "              data_loader: torch.utils.data.DataLoader,\n",
        "              loss_fn: torch.nn.Module,\n",
        "              device: torch.device = device):\n",
        "  test_loss = 0\n",
        "  model.eval() # put model in eval mode\n",
        "  # Turn on inference context manager\n",
        "  with torch.inference_mode(): \n",
        "      for (X, y) in data_loader:\n",
        "        # Send data to GPU\n",
        "        X, y = X.to(device), y.to(device)\n",
        "        \n",
        "        # 1. Forward pass\n",
        "        test_pred = model(X.view(-1,height*width))\n",
        "        \n",
        "        # 2. Calculate loss and accuracy\n",
        "        test_loss += loss_fn(test_pred, X.view(-1,height*width))\n",
        "      \n",
        "      # Adjust metrics and print out\n",
        "      test_loss /= len(data_loader)\n",
        "      print(f\"Test loss: {test_loss:.5f}\\n\")\n",
        "  return test_loss.item()\n"
      ],
      "metadata": {
        "id": "mxlYmPIvvujR"
      },
      "execution_count": 12,
      "outputs": []
    },
    {
      "cell_type": "code",
      "execution_count": 13,
      "metadata": {
        "colab": {
          "base_uri": "https://localhost:8080/",
          "height": 0,
          "referenced_widgets": [
            "5b973bf0bf65462186ba6fbe5f935ef8",
            "77831239570746e28d01213a3aa8811e",
            "2768811cfdb64b9bb0b061e58cbd4a47",
            "2fec01ba307e4824a938c8cce24e5792",
            "a3d68ce50e654e0cbe93c447a82123a2",
            "1afb8e0590c84c6baa9738aa9498067f",
            "9d703a798ed54577a1eba0518c7ab316",
            "bc3ece09413b4e79aef02c90112879db",
            "c639468f4da14eddbf0400b686294395",
            "a5fb955744304b61baf4a81ffb497531",
            "fe161eb787af482282edd645aec00a63"
          ]
        },
        "id": "1STwcuwvbL5k",
        "outputId": "0c6ba2c3-7b83-4354-8ea4-419ee59f4a41"
      },
      "outputs": [
        {
          "output_type": "display_data",
          "data": {
            "text/plain": [
              "  0%|          | 0/50 [00:00<?, ?it/s]"
            ],
            "application/vnd.jupyter.widget-view+json": {
              "version_major": 2,
              "version_minor": 0,
              "model_id": "5b973bf0bf65462186ba6fbe5f935ef8"
            }
          },
          "metadata": {}
        },
        {
          "output_type": "stream",
          "name": "stdout",
          "text": [
            "EPOCH: 0 | Train loss: 0.07655 | Test loss: 0.05872\n",
            "\n",
            "EPOCH: 1 | Train loss: 0.05452 | Test loss: 0.05131\n",
            "\n",
            "EPOCH: 2 | Train loss: 0.04986 | Test loss: 0.04679\n",
            "\n",
            "EPOCH: 3 | Train loss: 0.04333 | Test loss: 0.04050\n",
            "\n",
            "EPOCH: 4 | Train loss: 0.03889 | Test loss: 0.03672\n",
            "\n",
            "EPOCH: 5 | Train loss: 0.03649 | Test loss: 0.03435\n",
            "\n",
            "EPOCH: 6 | Train loss: 0.03506 | Test loss: 0.03294\n",
            "\n",
            "EPOCH: 7 | Train loss: 0.03379 | Test loss: 0.03262\n",
            "\n",
            "EPOCH: 8 | Train loss: 0.03281 | Test loss: 0.03156\n",
            "\n",
            "EPOCH: 9 | Train loss: 0.03206 | Test loss: 0.03035\n",
            "\n",
            "EPOCH: 10 | Train loss: 0.03161 | Test loss: 0.03045\n",
            "\n",
            "EPOCH: 11 | Train loss: 0.03129 | Test loss: 0.02980\n",
            "\n",
            "EPOCH: 12 | Train loss: 0.03106 | Test loss: 0.02969\n",
            "\n",
            "EPOCH: 13 | Train loss: 0.03074 | Test loss: 0.02930\n",
            "\n",
            "EPOCH: 14 | Train loss: 0.03070 | Test loss: 0.02959\n",
            "\n",
            "EPOCH: 15 | Train loss: 0.03054 | Test loss: 0.02902\n",
            "\n",
            "EPOCH: 16 | Train loss: 0.03040 | Test loss: 0.02892\n",
            "\n",
            "EPOCH: 17 | Train loss: 0.03020 | Test loss: 0.02861\n",
            "\n",
            "EPOCH: 18 | Train loss: 0.03016 | Test loss: 0.02843\n",
            "\n",
            "EPOCH: 19 | Train loss: 0.02975 | Test loss: 0.02871\n",
            "\n",
            "EPOCH: 20 | Train loss: 0.02988 | Test loss: 0.02854\n",
            "\n",
            "EPOCH: 21 | Train loss: 0.02953 | Test loss: 0.02838\n",
            "\n",
            "EPOCH: 22 | Train loss: 0.02959 | Test loss: 0.02927\n",
            "\n",
            "EPOCH: 23 | Train loss: 0.02938 | Test loss: 0.02780\n",
            "\n",
            "EPOCH: 24 | Train loss: 0.02918 | Test loss: 0.02786\n",
            "\n",
            "EPOCH: 25 | Train loss: 0.02909 | Test loss: 0.02768\n",
            "\n",
            "EPOCH: 26 | Train loss: 0.02910 | Test loss: 0.02859\n",
            "\n",
            "EPOCH: 27 | Train loss: 0.02903 | Test loss: 0.02747\n",
            "\n",
            "EPOCH: 28 | Train loss: 0.02927 | Test loss: 0.02801\n",
            "\n",
            "EPOCH: 29 | Train loss: 0.02898 | Test loss: 0.02747\n",
            "\n",
            "EPOCH: 30 | Train loss: 0.02858 | Test loss: 0.02681\n",
            "\n",
            "EPOCH: 31 | Train loss: 0.02827 | Test loss: 0.02699\n",
            "\n",
            "EPOCH: 32 | Train loss: 0.02802 | Test loss: 0.02677\n",
            "\n",
            "EPOCH: 33 | Train loss: 0.02779 | Test loss: 0.02668\n",
            "\n",
            "EPOCH: 34 | Train loss: 0.02794 | Test loss: 0.02617\n",
            "\n",
            "EPOCH: 35 | Train loss: 0.02747 | Test loss: 0.02589\n",
            "\n",
            "EPOCH: 36 | Train loss: 0.02739 | Test loss: 0.02567\n",
            "\n",
            "EPOCH: 37 | Train loss: 0.02707 | Test loss: 0.02586\n",
            "\n",
            "EPOCH: 38 | Train loss: 0.02683 | Test loss: 0.02518\n",
            "\n",
            "EPOCH: 39 | Train loss: 0.02667 | Test loss: 0.02520\n",
            "\n",
            "EPOCH: 40 | Train loss: 0.02651 | Test loss: 0.02513\n",
            "\n",
            "EPOCH: 41 | Train loss: 0.02632 | Test loss: 0.02482\n",
            "\n",
            "EPOCH: 42 | Train loss: 0.02624 | Test loss: 0.02467\n",
            "\n",
            "EPOCH: 43 | Train loss: 0.02611 | Test loss: 0.02455\n",
            "\n",
            "EPOCH: 44 | Train loss: 0.02602 | Test loss: 0.02431\n",
            "\n",
            "EPOCH: 45 | Train loss: 0.02588 | Test loss: 0.02432\n",
            "\n",
            "EPOCH: 46 | Train loss: 0.02574 | Test loss: 0.02453\n",
            "\n",
            "EPOCH: 47 | Train loss: 0.02567 | Test loss: 0.02390\n",
            "\n",
            "EPOCH: 48 | Train loss: 0.02554 | Test loss: 0.02403\n",
            "\n",
            "EPOCH: 49 | Train loss: 0.02561 | Test loss: 0.02382\n",
            "\n",
            "total training time: 500.192 sec.\n"
          ]
        }
      ],
      "source": [
        "from tqdm.auto import tqdm as tqdm\n",
        "\n",
        "def train_ae(model:nn.Module,epochs:int=5):\n",
        "  result_dict = {\"train_loss\":[],\"test_loss\":[]}\n",
        "  for epoch in tqdm(range(epochs)):\n",
        "    print(f\"EPOCH: {epoch} | \",end=\"\")\n",
        "    result_dict[\"train_loss\"].append( train_step_ae(model,train_dataloader,loss_fn,optimizer,device) )\n",
        "    result_dict[\"test_loss\"].append( test_step_ae(model,test_dataloader,loss_fn,device) )\n",
        "  return result_dict\n",
        "\n",
        "\n",
        "# init. epochs\n",
        "NUM_EPOCHS = 50\n",
        "\n",
        "# init. loss function, accuracy function and optimizer\n",
        "loss_fn = nn.MSELoss()\n",
        "# acc_fn = MulticlassAccuracy(num_classes=len(class_names)).to(device=device)\n",
        "optimizer = torch.optim.Adam(params=model_ae.parameters(), lr=1e-2)\n",
        "\n",
        "# importing and init. the timer for checking model training time\n",
        "from timeit import default_timer as timer\n",
        "start_time = timer()\n",
        "\n",
        "# train model\n",
        "model_ae_results = train_ae(model=model_ae,\n",
        "                        epochs=NUM_EPOCHS\n",
        "                        )\n",
        "\n",
        "# end timer\n",
        "end_time = timer()\n",
        "# printing time taken\n",
        "print(f\"total training time: {end_time-start_time:.3f} sec.\")\n",
        "# print(\"model stats:\")\n",
        "# print(model_0_results)"
      ]
    },
    {
      "cell_type": "markdown",
      "source": [
        "### passing image throught encoder-decoder and vis. the results"
      ],
      "metadata": {
        "id": "znl6t8qDoq-G"
      }
    },
    {
      "cell_type": "code",
      "source": [
        "one_batch_sample = next(iter(test_dataloader))\n",
        "X, y = one_batch_sample[0].to(device), one_batch_sample[1].to(device)\n",
        "X = (X + 0.5 * torch.randn(X.shape).to(device))\n",
        "rand_idx = np.random.randint(low = 0, high = len(X),size=(5*2))\n",
        "figure = plt.figure(figsize=(12, 4))\n",
        "print(\"||| Before passing throught Encoder Pipeline|||\")\n",
        "for i in range(5*2):\n",
        "  figure.add_subplot(2,5,i+1)\n",
        "  plt.imshow(X[rand_idx[i]].cpu().squeeze().numpy(),cmap = \"gray\")\n",
        "  plt.axis(\"off\")\n",
        "plt.show()\n",
        "\n",
        "print(\"||| After passing throught Encoder Pipeline|||\")\n",
        "with torch.inference_mode():\n",
        "  new_images = model_ae(X.view(-1,height*width)).reshape(BATCH_SIZE,1,28,28)\n",
        "  figure = plt.figure(figsize=(12, 4))\n",
        "  for i in range(5*2):\n",
        "    figure.add_subplot(2,5,i+1)\n",
        "    plt.imshow(new_images[rand_idx[i]].cpu().squeeze().numpy(),cmap = \"gray\")\n",
        "    # print((new_images[rand_idx[1]].cpu().squeeze().numpy() == new_images[rand_idx[i]].cpu().squeeze().numpy()).all())\n",
        "    plt.axis(\"off\")\n",
        "  plt.show()"
      ],
      "metadata": {
        "colab": {
          "base_uri": "https://localhost:8080/",
          "height": 0
        },
        "id": "XkngAEwIgQXW",
        "outputId": "5185cf8e-051f-494e-c54f-f8f9a7cbb3b0"
      },
      "execution_count": 14,
      "outputs": [
        {
          "output_type": "stream",
          "name": "stdout",
          "text": [
            "||| Before passing throught Encoder Pipeline|||\n"
          ]
        },
        {
          "output_type": "display_data",
          "data": {
            "text/plain": [
              "<Figure size 864x288 with 10 Axes>"
            ],
            "image/png": "[encoded data removed]"
          },
          "metadata": {
            "needs_background": "light"
          }
        },
        {
          "output_type": "stream",
          "name": "stdout",
          "text": [
            "||| After passing throught Encoder Pipeline|||\n"
          ]
        },
        {
          "output_type": "display_data",
          "data": {
            "text/plain": [
              "<Figure size 864x288 with 10 Axes>"
            ],
            "image/png": "[encoded data removed]"
          },
          "metadata": {
            "needs_background": "light"
          }
        }
      ]
    },
    {
      "cell_type": "markdown",
      "metadata": {
        "id": "W342rX4_d0Nr"
      },
      "source": [
        "### plot loss graphs"
      ]
    },
    {
      "cell_type": "markdown",
      "source": [
        "#### Defining Plot Fucntion"
      ],
      "metadata": {
        "id": "m_Sb1MhshrKH"
      }
    },
    {
      "cell_type": "code",
      "execution_count": 15,
      "metadata": {
        "id": "ugrC_X0idpAz"
      },
      "outputs": [],
      "source": [
        "from typing import Dict,List\n",
        "\n",
        "def plot_loss_curves(results: Dict[str, List[float]]):\n",
        "    \"\"\"\n",
        "    Desc:\n",
        "      Plots training curves of a results dictionary.\n",
        "\n",
        "    Args:\n",
        "      results (dict): dictionary containing list of values, e.g.\n",
        "          {\"train_loss\": [...],\n",
        "            \"train_acc\": [...],\n",
        "            \"test_loss\": [...],\n",
        "            \"test_acc\": [...]}\n",
        "    \"\"\"\n",
        "    acc_flag = True\n",
        "\n",
        "    # Get the loss values of the results dictionary (training and test)\n",
        "    loss = results['train_loss']\n",
        "    test_loss = results['test_loss']\n",
        "\n",
        "    # Get the accuracy values of the results dictionary (training and test)\n",
        "    try:\n",
        "      accuracy = results['train_acc']\n",
        "      test_accuracy = results['test_acc']\n",
        "    except:\n",
        "      acc_flag = False\n",
        "    \n",
        "\n",
        "    # Figure out how many epochs there were\n",
        "    epochs = range(len(results['train_loss']))\n",
        "\n",
        "    # Setup a plot \n",
        "    plt.figure(figsize=(15, 7))\n",
        "\n",
        "    # Plot loss\n",
        "    plt.subplot(1, 2, 1)\n",
        "    plt.plot(epochs, loss, label='train_loss')\n",
        "    plt.plot(epochs, test_loss, label='test_loss')\n",
        "    plt.title('Loss')\n",
        "    plt.xlabel('Epochs')\n",
        "    plt.legend()\n",
        "\n",
        "    # Plot accuracy\n",
        "    if acc_flag:\n",
        "      plt.subplot(1, 2, 2)\n",
        "      plt.plot(epochs, accuracy, label='train_accuracy')\n",
        "      plt.plot(epochs, test_accuracy, label='test_accuracy')\n",
        "      plt.title('Accuracy')\n",
        "      plt.xlabel('Epochs')\n",
        "      plt.legend()\n",
        "      plt.show()"
      ]
    },
    {
      "cell_type": "markdown",
      "source": [
        "### Ploting Curve for Noisy Auto Encoder"
      ],
      "metadata": {
        "id": "gaVn4hD1hz5L"
      }
    },
    {
      "cell_type": "code",
      "execution_count": 16,
      "metadata": {
        "id": "CgvJpmIqes-g",
        "colab": {
          "base_uri": "https://localhost:8080/",
          "height": 0
        },
        "outputId": "1a062b13-c19d-426e-8b05-d9322018c946"
      },
      "outputs": [
        {
          "output_type": "display_data",
          "data": {
            "text/plain": [
              "<Figure size 1080x504 with 1 Axes>"
            ],
            "image/png": "[encoded data removed]"
          },
          "metadata": {
            "needs_background": "light"
          }
        }
      ],
      "source": [
        "plot_loss_curves(model_ae_results)\n",
        "# model_ae_results"
      ]
    },
    {
      "cell_type": "markdown",
      "source": [
        "### Ploting T-SNE"
      ],
      "metadata": {
        "id": "R5xTdvt4x3hR"
      }
    },
    {
      "cell_type": "code",
      "source": [
        "tsne = TSNE(n_components=2, random_state=42,learning_rate='auto',init='random', perplexity=5)"
      ],
      "metadata": {
        "id": "pG2kQOrOx6vO"
      },
      "execution_count": 17,
      "outputs": []
    },
    {
      "cell_type": "code",
      "source": [
        "lt_embed = []\n",
        "lt_lb = []\n",
        "ln = 0 \n",
        "with torch.inference_mode():\n",
        "  for img, lb in test_dataloader:\n",
        "    embed = model_ae.encode(img.to(device).view(-1, 784))\n",
        "    lt_embed.append(embed.cpu())\n",
        "    lt_lb.append(lb)\n",
        "    ln+=len(img)\n",
        "    if(ln>=1000):\n",
        "      break\n"
      ],
      "metadata": {
        "id": "tqOvNADLcO_2"
      },
      "execution_count": 18,
      "outputs": []
    },
    {
      "cell_type": "code",
      "source": [
        "embed_tensor = torch.cat(lt_embed)\n",
        "label_tensor = torch.cat(lt_lb)"
      ],
      "metadata": {
        "id": "WADCTebqrb97"
      },
      "execution_count": 19,
      "outputs": []
    },
    {
      "cell_type": "code",
      "source": [
        "embed_tensor.shape,label_tensor"
      ],
      "metadata": {
        "colab": {
          "base_uri": "https://localhost:8080/"
        },
        "id": "jf6hZleKre2N",
        "outputId": "0cba2a3c-6715-48c4-9841-720f752c7d92"
      },
      "execution_count": 20,
      "outputs": [
        {
          "output_type": "execute_result",
          "data": {
            "text/plain": [
              "(torch.Size([1024, 32]), tensor([9, 2, 1,  ..., 2, 3, 8]))"
            ]
          },
          "metadata": {},
          "execution_count": 20
        }
      ]
    },
    {
      "cell_type": "code",
      "source": [
        "tsne_data = tsne.fit_transform(embed_tensor)"
      ],
      "metadata": {
        "id": "ufD1Y_k_zRd2"
      },
      "execution_count": 21,
      "outputs": []
    },
    {
      "cell_type": "code",
      "source": [
        "scatter_x = tsne_data[:,0]\n",
        "scatter_y = tsne_data[:,1]\n",
        "group = label_tensor\n",
        "\n",
        "fig, ax = plt.subplots(figsize=(7, 7))\n",
        "for g in np.unique(group):\n",
        "    ix = np.where(group == g)\n",
        "    ax.scatter(scatter_x[ix], scatter_y[ix],  label = g)\n",
        "ax.legend()\n",
        "plt.show()"
      ],
      "metadata": {
        "colab": {
          "base_uri": "https://localhost:8080/",
          "height": 0
        },
        "id": "0GDzWkGRzIq_",
        "outputId": "3cb59588-bfe6-48ae-d5b9-f12ad4b66b0e"
      },
      "execution_count": 22,
      "outputs": [
        {
          "output_type": "display_data",
          "data": {
            "text/plain": [
              "<Figure size 504x504 with 1 Axes>"
            ],
            "image/png": "[encoded data removed]"
          },
          "metadata": {
            "needs_background": "light"
          }
        }
      ]
    },
    {
      "cell_type": "markdown",
      "source": [
        "## Making classifer Class Model 1 FC"
      ],
      "metadata": {
        "id": "3hZdQ2xHQe_0"
      }
    },
    {
      "cell_type": "markdown",
      "source": [
        "### Defining Model class"
      ],
      "metadata": {
        "id": "yyqXiZbaT2tz"
      }
    },
    {
      "cell_type": "code",
      "source": [
        "class Clf1FC(nn.Module):\n",
        "  def __init__(\n",
        "      self,\n",
        "      in_channels:int,\n",
        "      hidden_units:int,\n",
        "      out_channels:int\n",
        "      ) -> None:\n",
        "    '''\n",
        "    args:\n",
        "      in_channels: input image shape\n",
        "      hidden_units: number of hidden in neural net.\n",
        "      out_channels: number of classes in the data\n",
        "    '''\n",
        "    super().__init__()\n",
        "    self.clf = nn.Sequential(\n",
        "        nn.Linear(in_channels, hidden_units), # FC layer 1\n",
        "        nn.Sigmoid(),\n",
        "        nn.Linear(hidden_units, out_channels), # output layer 1\n",
        "        nn.Sigmoid(),\n",
        "        )\n",
        "\n",
        "  def forward(self, x):\n",
        "    x = model_ae.encode(x)\n",
        "    # print(x.shape)\n",
        "    x = self.clf(x)\n",
        "    # print(x.shape)\n",
        "    return x"
      ],
      "metadata": {
        "id": "i8jXHTIfQmjz"
      },
      "execution_count": 23,
      "outputs": []
    },
    {
      "cell_type": "markdown",
      "source": [
        "### Making object Model"
      ],
      "metadata": {
        "id": "6g5buPTsUGld"
      }
    },
    {
      "cell_type": "code",
      "source": [
        "model_fc1_ac = Clf1FC(\n",
        "    in_channels = 32,# must be same as Encoder Output\n",
        "    hidden_units = 32,\n",
        "    out_channels = len(class_names)\n",
        "    ).to(device)\n",
        "\n",
        "model_fc1_ac"
      ],
      "metadata": {
        "colab": {
          "base_uri": "https://localhost:8080/"
        },
        "id": "Wugz58ODUJ0Q",
        "outputId": "8d7592a9-7f95-47f0-ba6d-8c5631c14171"
      },
      "execution_count": 24,
      "outputs": [
        {
          "output_type": "execute_result",
          "data": {
            "text/plain": [
              "Clf1FC(\n",
              "  (clf): Sequential(\n",
              "    (0): Linear(in_features=32, out_features=32, bias=True)\n",
              "    (1): Sigmoid()\n",
              "    (2): Linear(in_features=32, out_features=10, bias=True)\n",
              "    (3): Sigmoid()\n",
              "  )\n",
              ")"
            ]
          },
          "metadata": {},
          "execution_count": 24
        }
      ]
    },
    {
      "cell_type": "markdown",
      "source": [
        "### Training Model Clf1FC"
      ],
      "metadata": {
        "id": "OLxInY53mvjV"
      }
    },
    {
      "cell_type": "code",
      "source": [
        "def training_step(\n",
        "    model: nn.Module,\n",
        "    dataloader: torch.utils.data.DataLoader,\n",
        "    loss_fn: nn.Module,\n",
        "    acc_fn: torchmetrics.classification.accuracy.MulticlassAccuracy,\n",
        "    optimizer: torch.optim.Optimizer,\n",
        "    device: str\n",
        "    ):\n",
        "    \"\"\"\n",
        "    Desc:\n",
        "      funtion to perform traning step for one EPOCH\n",
        "\n",
        "    Args:\n",
        "      model (nn.Module): Pytorch model class object\n",
        "      dataloader (torch.utils.data.DataLoader): training dataloder from training dataset\n",
        "      loss_fn (nn.Module): Loss Function (object) of your choice\n",
        "      acc_fn (torchmetrics.classification.accuracy.MulticlassAccuracy): accuracy function from trochmetrics\n",
        "      optimizer (torch.optim.Optimizer): Optimizer Function (object) of your choice\n",
        "      device (str): Torch Device \"CPU/GPU\"\n",
        "    Returns:\n",
        "      train_loss (float), train_acc (float): training loss and training accuracy for one EPOCH\n",
        "    \"\"\"\n",
        "    model.train() # putting model in traing model\n",
        "\n",
        "    train_loss, train_acc = 0, 0 # initlizing loss and acc. for the epoch\n",
        "\n",
        "    # print(type(model.parameters()))\n",
        "    for (X,y) in dataloader: # loop in batches\n",
        "      # model_parms_before_forward_pass = np.array([x.detach().numpy() for x in model.parameters()].copy())\n",
        "      X,y = X.to(device), y.to(device) # sending the data to target device\n",
        "      # print(f\"shape of X: {X.shape}, shape of y: {y.shape}\")\n",
        "\n",
        "      # 1. forward pass\n",
        "      y_pred_logits = model(X.view(-1,height*width))\n",
        "\n",
        "      # 2. calculate the loss\n",
        "      loss = loss_fn(y_pred_logits, y)\n",
        "      train_loss += loss.item()\n",
        "\n",
        "      # 3. optimizer zero grad\n",
        "      optimizer.zero_grad()\n",
        "\n",
        "      # 4. loss backword\n",
        "      loss.backward()\n",
        "\n",
        "      # 5. optimizer step\n",
        "      optimizer.step()\n",
        "\n",
        "      train_acc += acc_fn(y_pred_logits.argmax(dim = 1), y).item()\n",
        "\n",
        "    # 6. returning actual loss and acc.x\n",
        "    return train_loss/len(dataloader), train_acc/len(dataloader)\n",
        "\n",
        "\n",
        "def testing_step(\n",
        "    model: nn.Module,\n",
        "    dataloader: torch.utils.data.DataLoader,\n",
        "    loss_fn: nn.Module,\n",
        "    acc_fn: torchmetrics.classification.accuracy.MulticlassAccuracy,\n",
        "    device: str\n",
        "    ):\n",
        "    \"\"\"\n",
        "    Desc:\n",
        "      funtion to perform testing step for one EPOCH\n",
        "\n",
        "    Args:\n",
        "      model (nn.Module): Pytorch model class object\n",
        "      dataloader (torch.utils.data.DataLoader): testing dataloder from training dataset\n",
        "      loss_fn (nn.Module): Loss Function (object) of your choice\n",
        "      acc_fn (torchmetrics.classification.accuracy.MulticlassAccuracy): accuracy function from trochmetrics\n",
        "      device (str): Torch Device \"CPU/GPU\"\n",
        "    Returns:\n",
        "      test_loss (float), test_acc (float): testing loss and testing accuracy for one EPOCH\n",
        "    \"\"\"\n",
        "    model.eval() # putting model in eval model\n",
        "\n",
        "    test_loss, test_acc = 0, 0 # initlizing loss and acc. for the epoch\n",
        "\n",
        "    with torch.inference_mode():\n",
        "      for (X,y) in dataloader: # loop in batches\n",
        "        X,y = X.to(device), y.to(device) # sending the data to target device\n",
        "        # print(f\"shape of X: {X.shape}, shape of y: {y.shape}\")\n",
        "\n",
        "        # 1. forward pass\n",
        "        y_pred_logits = model(X.view(-1,height*width))\n",
        "\n",
        "        # 2. calculate the loss\n",
        "        loss = loss_fn(y_pred_logits, y)\n",
        "        test_loss += loss.item()\n",
        "\n",
        "        # 3. calculating accuracy\n",
        "        test_acc += acc_fn(y_pred_logits.argmax(dim = 1), y).item()\n",
        "\n",
        "    # 6. returning actual loss and acc.\n",
        "    return test_loss/len(dataloader), test_acc/len(dataloader)\n",
        "\n",
        "\n",
        "from tqdm.auto import tqdm\n",
        "\n",
        "def train(\n",
        "    model: nn.Module,\n",
        "    train_dataloader: torch.utils.data.DataLoader,\n",
        "    test_dataloader: torch.utils.data.DataLoader,\n",
        "    loss_fn: nn.Module,\n",
        "    acc_fn: torchmetrics.classification.accuracy.MulticlassAccuracy,\n",
        "    optimizer: torch.optim.Optimizer,\n",
        "    device: str,\n",
        "    epochs: int,\n",
        "    regularizer = None,\n",
        "    dropout = None,\n",
        "  ):\n",
        "  \"\"\"\n",
        "    Desc:\n",
        "      funtion to perform training for one {epochs} param\n",
        "\n",
        "    Args:\n",
        "      model (nn.Module): Pytorch model class object\n",
        "      train_dataloader (torch.utils.data.DataLoader): training dataloder from training dataset\n",
        "      test_dataloader (torch.utils.data.DataLoader): testing dataloder from testing dataset\n",
        "      loss_fn (nn.Module): Loss Function (object) of your choice\n",
        "      acc_fn (torchmetrics.classification.accuracy.MulticlassAccuracy): accuracy function from trochmetrics\n",
        "      device (str): Torch Device \"CPU/GPU\"\n",
        "      regularizer (function) = None: A penalty function\n",
        "      dropout (function) = None: A dropout function takes input -> random_drop_neuron(model: nn.Module,seed:int = 42)\n",
        "    Returns:\n",
        "      result_dict ({str: List[float]}): testing loss and testing accuracy for one EPOCH\n",
        "  \"\"\"\n",
        "  # 1. init. result dict\n",
        "  result_dict = {\n",
        "      \"train_loss\": [],\n",
        "      \"train_acc\": [],\n",
        "      \"test_loss\": [],\n",
        "      \"test_acc\": []\n",
        "    }\n",
        "  \n",
        "  # 2. loop in range epochs performs train and test steps on the model\n",
        "  for epoch in tqdm(range(epochs)):\n",
        "    train_loss, train_acc = training_step(\n",
        "                                            model=model,\n",
        "                                            dataloader=train_dataloader,\n",
        "                                            loss_fn=loss_fn,\n",
        "                                            acc_fn=acc_fn,\n",
        "                                            optimizer=optimizer,\n",
        "                                            device=device\n",
        "                                          )\n",
        "\n",
        "    test_loss, test_acc = testing_step(\n",
        "                                        model=model,\n",
        "                                        dataloader=train_dataloader,\n",
        "                                        loss_fn=loss_fn,\n",
        "                                        acc_fn=acc_fn,\n",
        "                                        device=device\n",
        "                                      )\n",
        "  \n",
        "  # 3. print out results\n",
        "    print(\n",
        "              f\"Epoch: {epoch+1} | \"\n",
        "              f\"train_loss: {train_loss:.4f} | \"\n",
        "              f\"train_acc: {train_acc:.4f} | \"\n",
        "              f\"test_loss: {test_loss:.4f} | \"\n",
        "              f\"test_acc: {test_acc:.4f}\"\n",
        "          )\n",
        "    \n",
        "  # 4. adding results to result_dict\n",
        "    result_dict[\"train_loss\"].append(train_loss)\n",
        "    result_dict[\"train_acc\"].append(train_acc)\n",
        "    result_dict[\"test_loss\"].append(test_loss)\n",
        "    result_dict[\"test_acc\"].append(test_acc)\n",
        "\n",
        "  # 5. return result dict\n",
        "  return result_dict\n"
      ],
      "metadata": {
        "id": "ewgOYGpDbZro"
      },
      "execution_count": 25,
      "outputs": []
    },
    {
      "cell_type": "code",
      "source": [
        "# init. epochs\n",
        "NUM_EPOCHS = 15\n",
        "\n",
        "# init. loss function, accuracy function and optimizer\n",
        "loss_fn = nn.CrossEntropyLoss()\n",
        "acc_fn = MulticlassAccuracy(num_classes=len(class_names)).to(device=device)\n",
        "optimizer = torch.optim.Adam(params=model_fc1_ac.parameters(), lr=1e-2)\n",
        "\n",
        "# importing and init. the timer for checking model training time\n",
        "from timeit import default_timer as timer\n",
        "start_time = timer()\n",
        "\n",
        "# train model\n",
        "model_fc1_ac_result = train(model=model_fc1_ac, \n",
        "      train_dataloader=train_dataloader,\n",
        "      test_dataloader=test_dataloader,\n",
        "      optimizer=optimizer,\n",
        "      device=device,\n",
        "      loss_fn=loss_fn, \n",
        "      acc_fn=acc_fn,\n",
        "      epochs=NUM_EPOCHS)\n",
        "\n",
        "# end timer\n",
        "end_time = timer()\n",
        "# printing time taken\n",
        "print(f\"total training time: {end_time-start_time:.3f} sec.\")\n",
        "# print(\"model stats:\")\n",
        "# print(model_0_results)"
      ],
      "metadata": {
        "colab": {
          "base_uri": "https://localhost:8080/",
          "height": 335,
          "referenced_widgets": [
            "f34a091ea4eb4c5688020dbb15d69c12",
            "7eb647fc37224a4199c0ce81d34ab998",
            "ff96ee7db86a4c2e98cd7c495a9f98fd",
            "8001e11e40f440e6adfb41efa6bf9a1e",
            "89a8b1c5d6c846cba94fad74b009270a",
            "237397e8e2774104983c794103572947",
            "feca832557cc4e0cb07153a6900d3599",
            "6f34f5a28f9342bcbf4315ba4910b78d",
            "e67a6457348343e4b0c08858e4ecc223",
            "c7b68d56d1d74ce8bf7cc7ea3b4b7605",
            "a6d66b087955407e9322aec0b41b58a2"
          ]
        },
        "id": "dZD7KSfVbh-a",
        "outputId": "669d4a45-b8d0-4a90-88c8-fd760db72330"
      },
      "execution_count": 26,
      "outputs": [
        {
          "output_type": "display_data",
          "data": {
            "text/plain": [
              "  0%|          | 0/15 [00:00<?, ?it/s]"
            ],
            "application/vnd.jupyter.widget-view+json": {
              "version_major": 2,
              "version_minor": 0,
              "model_id": "f34a091ea4eb4c5688020dbb15d69c12"
            }
          },
          "metadata": {}
        },
        {
          "output_type": "stream",
          "name": "stdout",
          "text": [
            "Epoch: 1 | train_loss: 1.8116 | train_acc: 0.4905 | test_loss: 1.6900 | test_acc: 0.5871\n",
            "Epoch: 2 | train_loss: 1.6693 | train_acc: 0.6151 | test_loss: 1.6606 | test_acc: 0.6558\n",
            "Epoch: 3 | train_loss: 1.6575 | train_acc: 0.6294 | test_loss: 1.6549 | test_acc: 0.6296\n",
            "Epoch: 4 | train_loss: 1.6489 | train_acc: 0.6795 | test_loss: 1.6424 | test_acc: 0.7158\n",
            "Epoch: 5 | train_loss: 1.6393 | train_acc: 0.7103 | test_loss: 1.6360 | test_acc: 0.7169\n",
            "Epoch: 6 | train_loss: 1.6356 | train_acc: 0.7094 | test_loss: 1.6345 | test_acc: 0.7168\n",
            "Epoch: 7 | train_loss: 1.6336 | train_acc: 0.7150 | test_loss: 1.6321 | test_acc: 0.7171\n",
            "Epoch: 8 | train_loss: 1.6313 | train_acc: 0.7115 | test_loss: 1.6300 | test_acc: 0.7110\n",
            "Epoch: 9 | train_loss: 1.6300 | train_acc: 0.7122 | test_loss: 1.6298 | test_acc: 0.7106\n",
            "Epoch: 10 | train_loss: 1.6291 | train_acc: 0.7103 | test_loss: 1.6287 | test_acc: 0.7103\n",
            "Epoch: 11 | train_loss: 1.6285 | train_acc: 0.7113 | test_loss: 1.6278 | test_acc: 0.7084\n",
            "Epoch: 12 | train_loss: 1.6279 | train_acc: 0.7102 | test_loss: 1.6270 | test_acc: 0.7119\n",
            "Epoch: 13 | train_loss: 1.6272 | train_acc: 0.7103 | test_loss: 1.6275 | test_acc: 0.7107\n",
            "Epoch: 14 | train_loss: 1.6268 | train_acc: 0.7095 | test_loss: 1.6258 | test_acc: 0.7112\n",
            "Epoch: 15 | train_loss: 1.6265 | train_acc: 0.7102 | test_loss: 1.6259 | test_acc: 0.7112\n",
            "total training time: 218.696 sec.\n"
          ]
        }
      ]
    },
    {
      "cell_type": "markdown",
      "source": [
        "### plot Model Clf1FC"
      ],
      "metadata": {
        "id": "V7QaixSYm8kP"
      }
    },
    {
      "cell_type": "code",
      "source": [
        "plot_loss_curves(model_fc1_ac_result)"
      ],
      "metadata": {
        "colab": {
          "base_uri": "https://localhost:8080/",
          "height": 0
        },
        "id": "ZrfI0Ci7hYZR",
        "outputId": "fb5433a8-eb0c-4e38-9a02-9a4d8c1e1add"
      },
      "execution_count": 27,
      "outputs": [
        {
          "output_type": "display_data",
          "data": {
            "text/plain": [
              "<Figure size 1080x504 with 2 Axes>"
            ],
            "image/png": "[encoded data removed]"
          },
          "metadata": {
            "needs_background": "light"
          }
        }
      ]
    },
    {
      "cell_type": "markdown",
      "source": [
        "### Reconstruction of noisy image"
      ],
      "metadata": {
        "id": "qLTFTgasnH2R"
      }
    },
    {
      "cell_type": "code",
      "source": [
        "one_batch_sample = next(iter(test_dataloader))\n",
        "X, y = one_batch_sample[0].to(device), one_batch_sample[1].to(device)\n",
        "X = (X + 0.5 * torch.randn(X.shape).to(device))\n",
        "rand_idx = np.random.randint(low = 0, high = len(X),size=(5*2))\n",
        "figure = plt.figure(figsize=(12, 4))\n",
        "print(\"||| Before passing throught Encoder Pipeline|||\")\n",
        "for i in range(5*2):\n",
        "  figure.add_subplot(2,5,i+1)\n",
        "  plt.imshow(X[rand_idx[i]].cpu().squeeze().numpy(),cmap = \"gray\")\n",
        "  plt.axis(\"off\")\n",
        "plt.show()\n",
        "\n",
        "print(\"||| After passing throught Encoder Pipeline|||\")\n",
        "with torch.inference_mode():\n",
        "  new_images = model_ae(X.view(-1,height*width)).reshape(BATCH_SIZE,1,28,28)\n",
        "  figure = plt.figure(figsize=(12, 4))\n",
        "  for i in range(5*2):\n",
        "    figure.add_subplot(2,5,i+1)\n",
        "    plt.imshow(new_images[rand_idx[i]].cpu().squeeze().numpy(),cmap = \"gray\")\n",
        "    # print((new_images[rand_idx[1]].cpu().squeeze().numpy() == new_images[rand_idx[i]].cpu().squeeze().numpy()).all())\n",
        "    plt.axis(\"off\")\n",
        "  plt.show()"
      ],
      "metadata": {
        "colab": {
          "base_uri": "https://localhost:8080/",
          "height": 0
        },
        "id": "GrpmDUL4nOjx",
        "outputId": "78b69cb9-f082-487e-e802-908f3553a4d0"
      },
      "execution_count": 28,
      "outputs": [
        {
          "output_type": "stream",
          "name": "stdout",
          "text": [
            "||| Before passing throught Encoder Pipeline|||\n"
          ]
        },
        {
          "output_type": "display_data",
          "data": {
            "text/plain": [
              "<Figure size 864x288 with 10 Axes>"
            ],
            "image/png": "[encoded data removed]"
          },
          "metadata": {
            "needs_background": "light"
          }
        },
        {
          "output_type": "stream",
          "name": "stdout",
          "text": [
            "||| After passing throught Encoder Pipeline|||\n"
          ]
        },
        {
          "output_type": "display_data",
          "data": {
            "text/plain": [
              "<Figure size 864x288 with 10 Axes>"
            ],
            "image/png": "[encoded data removed]"
          },
          "metadata": {
            "needs_background": "light"
          }
        }
      ]
    },
    {
      "cell_type": "markdown",
      "source": [
        "### Ploting T-SNE"
      ],
      "metadata": {
        "id": "ZrFWR5xBzpKm"
      }
    },
    {
      "cell_type": "code",
      "source": [
        "tsne = TSNE(n_components=2, random_state=42,learning_rate='auto',init='random', perplexity=5)"
      ],
      "metadata": {
        "id": "0wlSPNaazpKn"
      },
      "execution_count": 29,
      "outputs": []
    },
    {
      "cell_type": "code",
      "source": [
        "lt_embed = []\n",
        "lt_lb = []\n",
        "ln = 0 \n",
        "with torch.inference_mode():\n",
        "  for img, lb in test_dataloader:\n",
        "    embed = model_fc1_ac(img.to(device).view(-1, 784))\n",
        "    lt_embed.append(embed.cpu())\n",
        "    lt_lb.append(lb)\n",
        "    ln+=len(img)\n",
        "    if(ln>=1000):\n",
        "      break\n"
      ],
      "metadata": {
        "id": "BFFaLERuzpKn"
      },
      "execution_count": 30,
      "outputs": []
    },
    {
      "cell_type": "code",
      "source": [
        "embed_tensor = torch.cat(lt_embed)\n",
        "label_tensor = torch.cat(lt_lb)"
      ],
      "metadata": {
        "id": "WYrmiZ7EzpKn"
      },
      "execution_count": 31,
      "outputs": []
    },
    {
      "cell_type": "code",
      "source": [
        "embed_tensor.shape,label_tensor"
      ],
      "metadata": {
        "colab": {
          "base_uri": "https://localhost:8080/"
        },
        "outputId": "cfe96dec-b6d8-4af2-bdbe-cc362b39bc73",
        "id": "PHDrPKslzpKn"
      },
      "execution_count": 32,
      "outputs": [
        {
          "output_type": "execute_result",
          "data": {
            "text/plain": [
              "(torch.Size([1024, 10]), tensor([9, 2, 1,  ..., 2, 3, 8]))"
            ]
          },
          "metadata": {},
          "execution_count": 32
        }
      ]
    },
    {
      "cell_type": "code",
      "source": [
        "tsne_data = tsne.fit_transform(embed_tensor)"
      ],
      "metadata": {
        "id": "2z6vGNiAzpKn"
      },
      "execution_count": 33,
      "outputs": []
    },
    {
      "cell_type": "code",
      "source": [
        "scatter_x = tsne_data[:,0]\n",
        "scatter_y = tsne_data[:,1]\n",
        "group = label_tensor\n",
        "\n",
        "fig, ax = plt.subplots(figsize=(7, 7))\n",
        "for g in np.unique(group):\n",
        "    ix = np.where(group == g)\n",
        "    ax.scatter(scatter_x[ix], scatter_y[ix],  label = g)\n",
        "ax.legend()\n",
        "plt.show()"
      ],
      "metadata": {
        "colab": {
          "base_uri": "https://localhost:8080/",
          "height": 0
        },
        "outputId": "09376c4f-9588-4e5f-a088-0fadbb2698cb",
        "id": "T5fvw6nEzpKn"
      },
      "execution_count": 34,
      "outputs": [
        {
          "output_type": "display_data",
          "data": {
            "text/plain": [
              "<Figure size 504x504 with 1 Axes>"
            ],
            "image/png": "[encoded data removed]"
          },
          "metadata": {
            "needs_background": "light"
          }
        }
      ]
    },
    {
      "cell_type": "markdown",
      "source": [
        "## Making classifer Class Model 3 FC"
      ],
      "metadata": {
        "id": "uhv3xtTqji4q"
      }
    },
    {
      "cell_type": "markdown",
      "source": [
        "### Defining Model class"
      ],
      "metadata": {
        "id": "OpWlY9ueji4q"
      }
    },
    {
      "cell_type": "code",
      "source": [
        "class Clf3FC(nn.Module):\n",
        "  def __init__(\n",
        "      self,\n",
        "      in_channels:int,\n",
        "      hidden_units:int,\n",
        "      out_channels:int\n",
        "      ) -> None:\n",
        "    '''\n",
        "    args:\n",
        "      in_channels: input image shape\n",
        "      hidden_units: number of hidden in neural net.\n",
        "      out_channels: number of classes in the data\n",
        "    '''\n",
        "    super().__init__()\n",
        "    self.clf = nn.Sequential(\n",
        "        nn.Linear(in_channels, hidden_units), # FC layer 1\n",
        "        nn.Sigmoid(),\n",
        "        nn.Linear(hidden_units, hidden_units), # FC layer 2\n",
        "        nn.Sigmoid(),\n",
        "        nn.Linear(hidden_units, hidden_units), # FC layer 3\n",
        "        nn.Sigmoid(),\n",
        "        nn.Linear(hidden_units, out_channels), # output layer 1\n",
        "        nn.Sigmoid(),\n",
        "        )\n",
        "\n",
        "  def forward(self, x):\n",
        "    x = model_ae.encode(x)\n",
        "    # print(x.shape)\n",
        "    x = self.clf(x)\n",
        "    # print(x.shape)\n",
        "    return x"
      ],
      "metadata": {
        "id": "tdWfl9Moji4q"
      },
      "execution_count": 35,
      "outputs": []
    },
    {
      "cell_type": "markdown",
      "source": [
        "### Making object Model"
      ],
      "metadata": {
        "id": "ET_ymFFrji4q"
      }
    },
    {
      "cell_type": "code",
      "source": [
        "model_fc3_ac = Clf3FC(\n",
        "    in_channels = 32,# must be same as Encoder Output\n",
        "    hidden_units = 32,\n",
        "    out_channels = len(class_names)\n",
        "    ).to(device)\n",
        "\n",
        "model_fc3_ac"
      ],
      "metadata": {
        "colab": {
          "base_uri": "https://localhost:8080/"
        },
        "outputId": "ff73faf1-0646-45b0-8104-9e651f771d76",
        "id": "-cuZ583xji4q"
      },
      "execution_count": 36,
      "outputs": [
        {
          "output_type": "execute_result",
          "data": {
            "text/plain": [
              "Clf3FC(\n",
              "  (clf): Sequential(\n",
              "    (0): Linear(in_features=32, out_features=32, bias=True)\n",
              "    (1): Sigmoid()\n",
              "    (2): Linear(in_features=32, out_features=32, bias=True)\n",
              "    (3): Sigmoid()\n",
              "    (4): Linear(in_features=32, out_features=32, bias=True)\n",
              "    (5): Sigmoid()\n",
              "    (6): Linear(in_features=32, out_features=10, bias=True)\n",
              "    (7): Sigmoid()\n",
              "  )\n",
              ")"
            ]
          },
          "metadata": {},
          "execution_count": 36
        }
      ]
    },
    {
      "cell_type": "markdown",
      "source": [
        "### Training Model Clf3FC"
      ],
      "metadata": {
        "id": "jb-LHj01mfxP"
      }
    },
    {
      "cell_type": "code",
      "source": [
        "def training_step(\n",
        "    model: nn.Module,\n",
        "    dataloader: torch.utils.data.DataLoader,\n",
        "    loss_fn: nn.Module,\n",
        "    acc_fn: torchmetrics.classification.accuracy.MulticlassAccuracy,\n",
        "    optimizer: torch.optim.Optimizer,\n",
        "    device: str\n",
        "    ):\n",
        "    \"\"\"\n",
        "    Desc:\n",
        "      funtion to perform traning step for one EPOCH\n",
        "\n",
        "    Args:\n",
        "      model (nn.Module): Pytorch model class object\n",
        "      dataloader (torch.utils.data.DataLoader): training dataloder from training dataset\n",
        "      loss_fn (nn.Module): Loss Function (object) of your choice\n",
        "      acc_fn (torchmetrics.classification.accuracy.MulticlassAccuracy): accuracy function from trochmetrics\n",
        "      optimizer (torch.optim.Optimizer): Optimizer Function (object) of your choice\n",
        "      device (str): Torch Device \"CPU/GPU\"\n",
        "    Returns:\n",
        "      train_loss (float), train_acc (float): training loss and training accuracy for one EPOCH\n",
        "    \"\"\"\n",
        "    model.train() # putting model in traing model\n",
        "\n",
        "    train_loss, train_acc = 0, 0 # initlizing loss and acc. for the epoch\n",
        "\n",
        "    # print(type(model.parameters()))\n",
        "    for (X,y) in dataloader: # loop in batches\n",
        "      # model_parms_before_forward_pass = np.array([x.detach().numpy() for x in model.parameters()].copy())\n",
        "      X,y = X.to(device), y.to(device) # sending the data to target device\n",
        "      # print(f\"shape of X: {X.shape}, shape of y: {y.shape}\")\n",
        "\n",
        "      # 1. forward pass\n",
        "      y_pred_logits = model(X.view(-1,height*width))\n",
        "\n",
        "      # 2. calculate the loss\n",
        "      loss = loss_fn(y_pred_logits, y)\n",
        "      train_loss += loss.item()\n",
        "\n",
        "      # 3. optimizer zero grad\n",
        "      optimizer.zero_grad()\n",
        "\n",
        "      # 4. loss backword\n",
        "      loss.backward()\n",
        "\n",
        "      # 5. optimizer step\n",
        "      optimizer.step()\n",
        "\n",
        "      train_acc += acc_fn(y_pred_logits.argmax(dim = 1), y).item()\n",
        "\n",
        "    # 6. returning actual loss and acc.x\n",
        "    return train_loss/len(dataloader), train_acc/len(dataloader)\n",
        "\n",
        "\n",
        "def testing_step(\n",
        "    model: nn.Module,\n",
        "    dataloader: torch.utils.data.DataLoader,\n",
        "    loss_fn: nn.Module,\n",
        "    acc_fn: torchmetrics.classification.accuracy.MulticlassAccuracy,\n",
        "    device: str\n",
        "    ):\n",
        "    \"\"\"\n",
        "    Desc:\n",
        "      funtion to perform testing step for one EPOCH\n",
        "\n",
        "    Args:\n",
        "      model (nn.Module): Pytorch model class object\n",
        "      dataloader (torch.utils.data.DataLoader): testing dataloder from training dataset\n",
        "      loss_fn (nn.Module): Loss Function (object) of your choice\n",
        "      acc_fn (torchmetrics.classification.accuracy.MulticlassAccuracy): accuracy function from trochmetrics\n",
        "      device (str): Torch Device \"CPU/GPU\"\n",
        "    Returns:\n",
        "      test_loss (float), test_acc (float): testing loss and testing accuracy for one EPOCH\n",
        "    \"\"\"\n",
        "    model.eval() # putting model in eval model\n",
        "\n",
        "    test_loss, test_acc = 0, 0 # initlizing loss and acc. for the epoch\n",
        "\n",
        "    with torch.inference_mode():\n",
        "      for (X,y) in dataloader: # loop in batches\n",
        "        X,y = X.to(device), y.to(device) # sending the data to target device\n",
        "        # print(f\"shape of X: {X.shape}, shape of y: {y.shape}\")\n",
        "\n",
        "        # 1. forward pass\n",
        "        y_pred_logits = model(X.view(-1,height*width))\n",
        "\n",
        "        # 2. calculate the loss\n",
        "        loss = loss_fn(y_pred_logits, y)\n",
        "        test_loss += loss.item()\n",
        "\n",
        "        # 3. calculating accuracy\n",
        "        test_acc += acc_fn(y_pred_logits.argmax(dim = 1), y).item()\n",
        "\n",
        "    # 6. returning actual loss and acc.\n",
        "    return test_loss/len(dataloader), test_acc/len(dataloader)\n",
        "\n",
        "\n",
        "from tqdm.auto import tqdm\n",
        "\n",
        "def train(\n",
        "    model: nn.Module,\n",
        "    train_dataloader: torch.utils.data.DataLoader,\n",
        "    test_dataloader: torch.utils.data.DataLoader,\n",
        "    loss_fn: nn.Module,\n",
        "    acc_fn: torchmetrics.classification.accuracy.MulticlassAccuracy,\n",
        "    optimizer: torch.optim.Optimizer,\n",
        "    device: str,\n",
        "    epochs: int,\n",
        "    regularizer = None,\n",
        "    dropout = None,\n",
        "  ):\n",
        "  \"\"\"\n",
        "    Desc:\n",
        "      funtion to perform training for one {epochs} param\n",
        "\n",
        "    Args:\n",
        "      model (nn.Module): Pytorch model class object\n",
        "      train_dataloader (torch.utils.data.DataLoader): training dataloder from training dataset\n",
        "      test_dataloader (torch.utils.data.DataLoader): testing dataloder from testing dataset\n",
        "      loss_fn (nn.Module): Loss Function (object) of your choice\n",
        "      acc_fn (torchmetrics.classification.accuracy.MulticlassAccuracy): accuracy function from trochmetrics\n",
        "      device (str): Torch Device \"CPU/GPU\"\n",
        "      regularizer (function) = None: A penalty function\n",
        "      dropout (function) = None: A dropout function takes input -> random_drop_neuron(model: nn.Module,seed:int = 42)\n",
        "    Returns:\n",
        "      result_dict ({str: List[float]}): testing loss and testing accuracy for one EPOCH\n",
        "  \"\"\"\n",
        "  # 1. init. result dict\n",
        "  result_dict = {\n",
        "      \"train_loss\": [],\n",
        "      \"train_acc\": [],\n",
        "      \"test_loss\": [],\n",
        "      \"test_acc\": []\n",
        "    }\n",
        "  \n",
        "  # 2. loop in range epochs performs train and test steps on the model\n",
        "  for epoch in tqdm(range(epochs)):\n",
        "    train_loss, train_acc = training_step(\n",
        "                                            model=model,\n",
        "                                            dataloader=train_dataloader,\n",
        "                                            loss_fn=loss_fn,\n",
        "                                            acc_fn=acc_fn,\n",
        "                                            optimizer=optimizer,\n",
        "                                            device=device\n",
        "                                          )\n",
        "\n",
        "    test_loss, test_acc = testing_step(\n",
        "                                        model=model,\n",
        "                                        dataloader=train_dataloader,\n",
        "                                        loss_fn=loss_fn,\n",
        "                                        acc_fn=acc_fn,\n",
        "                                        device=device\n",
        "                                      )\n",
        "  \n",
        "  # 3. print out results\n",
        "    print(\n",
        "              f\"Epoch: {epoch+1} | \"\n",
        "              f\"train_loss: {train_loss:.4f} | \"\n",
        "              f\"train_acc: {train_acc:.4f} | \"\n",
        "              f\"test_loss: {test_loss:.4f} | \"\n",
        "              f\"test_acc: {test_acc:.4f}\"\n",
        "          )\n",
        "    \n",
        "  # 4. adding results to result_dict\n",
        "    result_dict[\"train_loss\"].append(train_loss)\n",
        "    result_dict[\"train_acc\"].append(train_acc)\n",
        "    result_dict[\"test_loss\"].append(test_loss)\n",
        "    result_dict[\"test_acc\"].append(test_acc)\n",
        "\n",
        "  # 5. return result dict\n",
        "  return result_dict\n"
      ],
      "metadata": {
        "id": "NEPdmi3oji4q"
      },
      "execution_count": 37,
      "outputs": []
    },
    {
      "cell_type": "code",
      "source": [
        "# init. epochs\n",
        "NUM_EPOCHS = 15\n",
        "\n",
        "# init. loss function, accuracy function and optimizer\n",
        "loss_fn = nn.CrossEntropyLoss()\n",
        "acc_fn = MulticlassAccuracy(num_classes=len(class_names)).to(device=device)\n",
        "optimizer = torch.optim.Adam(params=model_fc3_ac.parameters(), lr=1e-2)\n",
        "\n",
        "# importing and init. the timer for checking model training time\n",
        "from timeit import default_timer as timer\n",
        "start_time = timer()\n",
        "\n",
        "# train model\n",
        "model_fc3_ac_result = train(model=model_fc3_ac, \n",
        "      train_dataloader=train_dataloader,\n",
        "      test_dataloader=test_dataloader,\n",
        "      optimizer=optimizer,\n",
        "      device=device,\n",
        "      loss_fn=loss_fn, \n",
        "      acc_fn=acc_fn,\n",
        "      epochs=NUM_EPOCHS)\n",
        "\n",
        "# end timer\n",
        "end_time = timer()\n",
        "# printing time taken\n",
        "print(f\"total training time: {end_time-start_time:.3f} sec.\")\n",
        "# print(\"model stats:\")\n",
        "# print(model_0_results)"
      ],
      "metadata": {
        "colab": {
          "base_uri": "https://localhost:8080/",
          "height": 335,
          "referenced_widgets": [
            "482d42fcd80a44abb8d3ed6cb940df59",
            "e55ecc867b23422795ac400739e07f2b",
            "326f1644abcf47349f58f0ed70a7e606",
            "3a8aafc0ea6547f6a7bc04338aaec044",
            "7dc1f89918cc4e99b7e8f4c409088b54",
            "cbf2ffa7f16b44489b67d47985882411",
            "2fd149fca8c84fda9176225015b884cd",
            "f71b92b953ad485e88779b5e0a35136d",
            "9538a9a70fd94710868ac7a8eab78a89",
            "cc55d5087f134bcdbbba1c9ecd533953",
            "8b5e978550eb492f9dad919188cf5d22"
          ]
        },
        "outputId": "d1582205-2788-43e2-e8d3-bbd65b4689a0",
        "id": "wS_5vX5Rji4q"
      },
      "execution_count": 38,
      "outputs": [
        {
          "output_type": "display_data",
          "data": {
            "text/plain": [
              "  0%|          | 0/15 [00:00<?, ?it/s]"
            ],
            "application/vnd.jupyter.widget-view+json": {
              "version_major": 2,
              "version_minor": 0,
              "model_id": "482d42fcd80a44abb8d3ed6cb940df59"
            }
          },
          "metadata": {}
        },
        {
          "output_type": "stream",
          "name": "stdout",
          "text": [
            "Epoch: 1 | train_loss: 1.8179 | train_acc: 0.3445 | test_loss: 1.7189 | test_acc: 0.3658\n",
            "Epoch: 2 | train_loss: 1.7153 | train_acc: 0.3524 | test_loss: 1.7109 | test_acc: 0.3419\n",
            "Epoch: 3 | train_loss: 1.7101 | train_acc: 0.3404 | test_loss: 1.7096 | test_acc: 0.3387\n",
            "Epoch: 4 | train_loss: 1.7049 | train_acc: 0.3563 | test_loss: 1.7019 | test_acc: 0.3698\n",
            "Epoch: 5 | train_loss: 1.7025 | train_acc: 0.3941 | test_loss: 1.7012 | test_acc: 0.3879\n",
            "Epoch: 6 | train_loss: 1.6987 | train_acc: 0.4510 | test_loss: 1.6838 | test_acc: 0.4360\n",
            "Epoch: 7 | train_loss: 1.6787 | train_acc: 0.4534 | test_loss: 1.6763 | test_acc: 0.4616\n",
            "Epoch: 8 | train_loss: 1.6772 | train_acc: 0.4682 | test_loss: 1.6758 | test_acc: 0.4665\n",
            "Epoch: 9 | train_loss: 1.6767 | train_acc: 0.4616 | test_loss: 1.6751 | test_acc: 0.4789\n",
            "Epoch: 10 | train_loss: 1.6741 | train_acc: 0.4599 | test_loss: 1.6660 | test_acc: 0.4614\n",
            "Epoch: 11 | train_loss: 1.6656 | train_acc: 0.4635 | test_loss: 1.6616 | test_acc: 0.4698\n",
            "Epoch: 12 | train_loss: 1.6611 | train_acc: 0.4550 | test_loss: 1.6583 | test_acc: 0.4648\n",
            "Epoch: 13 | train_loss: 1.6601 | train_acc: 0.4627 | test_loss: 1.6597 | test_acc: 0.4579\n",
            "Epoch: 14 | train_loss: 1.6598 | train_acc: 0.4624 | test_loss: 1.6584 | test_acc: 0.4695\n",
            "Epoch: 15 | train_loss: 1.6598 | train_acc: 0.4617 | test_loss: 1.6595 | test_acc: 0.4687\n",
            "total training time: 222.153 sec.\n"
          ]
        }
      ]
    },
    {
      "cell_type": "markdown",
      "source": [
        "### plot Model Clf3FC"
      ],
      "metadata": {
        "id": "WXPuv3DLmlz1"
      }
    },
    {
      "cell_type": "code",
      "source": [
        "plot_loss_curves(model_fc3_ac_result)"
      ],
      "metadata": {
        "colab": {
          "base_uri": "https://localhost:8080/",
          "height": 0
        },
        "outputId": "85a1c303-4f52-4d2e-f392-ac6cc66df5be",
        "id": "m75UlwORji4r"
      },
      "execution_count": 39,
      "outputs": [
        {
          "output_type": "display_data",
          "data": {
            "text/plain": [
              "<Figure size 1080x504 with 2 Axes>"
            ],
            "image/png": "[encoded data removed]"
          },
          "metadata": {
            "needs_background": "light"
          }
        }
      ]
    },
    {
      "cell_type": "markdown",
      "source": [
        "### Reconstruction of noisy image"
      ],
      "metadata": {
        "id": "bZYE3KNWn4mR"
      }
    },
    {
      "cell_type": "code",
      "source": [
        "one_batch_sample = next(iter(test_dataloader))\n",
        "X, y = one_batch_sample[0].to(device), one_batch_sample[1].to(device)\n",
        "X = (X + 0.5 * torch.randn(X.shape).to(device))\n",
        "rand_idx = np.random.randint(low = 0, high = len(X),size=(5*2))\n",
        "figure = plt.figure(figsize=(12, 4))\n",
        "print(\"||| Before passing throught Encoder Pipeline|||\")\n",
        "for i in range(5*2):\n",
        "  figure.add_subplot(2,5,i+1)\n",
        "  plt.imshow(X[rand_idx[i]].cpu().squeeze().numpy(),cmap = \"gray\")\n",
        "  plt.axis(\"off\")\n",
        "plt.show()\n",
        "\n",
        "print(\"||| After passing throught Encoder Pipeline|||\")\n",
        "with torch.inference_mode():\n",
        "  new_images = model_ae(X.view(-1,height*width)).reshape(BATCH_SIZE,1,28,28)\n",
        "  figure = plt.figure(figsize=(12, 4))\n",
        "  for i in range(5*2):\n",
        "    figure.add_subplot(2,5,i+1)\n",
        "    plt.imshow(new_images[rand_idx[i]].cpu().squeeze().numpy(),cmap = \"gray\")\n",
        "    # print((new_images[rand_idx[1]].cpu().squeeze().numpy() == new_images[rand_idx[i]].cpu().squeeze().numpy()).all())\n",
        "    plt.axis(\"off\")\n",
        "  plt.show()"
      ],
      "metadata": {
        "colab": {
          "base_uri": "https://localhost:8080/",
          "height": 0
        },
        "id": "T7qd0ko4n5kM",
        "outputId": "a7e5172b-36a8-44c8-deea-f047da1eaf8c"
      },
      "execution_count": 40,
      "outputs": [
        {
          "output_type": "stream",
          "name": "stdout",
          "text": [
            "||| Before passing throught Encoder Pipeline|||\n"
          ]
        },
        {
          "output_type": "display_data",
          "data": {
            "text/plain": [
              "<Figure size 864x288 with 10 Axes>"
            ],
            "image/png": "[encoded data removed]"
          },
          "metadata": {
            "needs_background": "light"
          }
        },
        {
          "output_type": "stream",
          "name": "stdout",
          "text": [
            "||| After passing throught Encoder Pipeline|||\n"
          ]
        },
        {
          "output_type": "display_data",
          "data": {
            "text/plain": [
              "<Figure size 864x288 with 10 Axes>"
            ],
            "image/png": "[encoded data removed]"
          },
          "metadata": {
            "needs_background": "light"
          }
        }
      ]
    },
    {
      "cell_type": "markdown",
      "source": [
        "### Ploting T-SNE"
      ],
      "metadata": {
        "id": "KX2-OOQb0Hzz"
      }
    },
    {
      "cell_type": "code",
      "source": [
        "tsne = TSNE(n_components=2, random_state=42, learning_rate='auto', init='random', perplexity=5)"
      ],
      "metadata": {
        "id": "qQxp0uMg0Hzz"
      },
      "execution_count": 41,
      "outputs": []
    },
    {
      "cell_type": "code",
      "source": [
        "lt_embed = []\n",
        "lt_lb = []\n",
        "ln = 0 \n",
        "with torch.inference_mode():\n",
        "  for img, lb in test_dataloader:\n",
        "    embed = model_fc3_ac(img.to(device).view(-1, 784))\n",
        "    lt_embed.append(embed.cpu())\n",
        "    lt_lb.append(lb)\n",
        "    ln+=len(img)\n",
        "    if(ln>=1000):\n",
        "      break\n"
      ],
      "metadata": {
        "id": "BS0U7h130Hzz"
      },
      "execution_count": 42,
      "outputs": []
    },
    {
      "cell_type": "code",
      "source": [
        "embed_tensor = torch.cat(lt_embed)\n",
        "label_tensor = torch.cat(lt_lb)"
      ],
      "metadata": {
        "id": "_MrAXLva0Hzz"
      },
      "execution_count": 43,
      "outputs": []
    },
    {
      "cell_type": "code",
      "source": [
        "embed_tensor.shape,label_tensor"
      ],
      "metadata": {
        "colab": {
          "base_uri": "https://localhost:8080/"
        },
        "outputId": "2910063e-8c07-4775-9d60-5d6a6b19f2e8",
        "id": "hqqjOEWf0Hzz"
      },
      "execution_count": 44,
      "outputs": [
        {
          "output_type": "execute_result",
          "data": {
            "text/plain": [
              "(torch.Size([1024, 10]), tensor([9, 2, 1,  ..., 2, 3, 8]))"
            ]
          },
          "metadata": {},
          "execution_count": 44
        }
      ]
    },
    {
      "cell_type": "code",
      "source": [
        "tsne_data = tsne.fit_transform(embed_tensor)"
      ],
      "metadata": {
        "id": "8ZaPU5hh0Hzz"
      },
      "execution_count": 45,
      "outputs": []
    },
    {
      "cell_type": "code",
      "source": [
        "scatter_x = tsne_data[:,0]\n",
        "scatter_y = tsne_data[:,1]\n",
        "group = label_tensor\n",
        "\n",
        "fig, ax = plt.subplots(figsize=(7, 7))\n",
        "for g in np.unique(group):\n",
        "    ix = np.where(group == g)\n",
        "    ax.scatter(scatter_x[ix], scatter_y[ix],  label = g)\n",
        "ax.legend()\n",
        "plt.show()"
      ],
      "metadata": {
        "colab": {
          "base_uri": "https://localhost:8080/",
          "height": 428
        },
        "outputId": "6b2abbf3-fc45-4568-ecda-e30a36d11632",
        "id": "Est_acSi0Hzz"
      },
      "execution_count": 46,
      "outputs": [
        {
          "output_type": "display_data",
          "data": {
            "text/plain": [
              "<Figure size 504x504 with 1 Axes>"
            ],
            "image/png": "[encoded data removed]"
          },
          "metadata": {
            "needs_background": "light"
          }
        }
      ]
    }
  ]
}