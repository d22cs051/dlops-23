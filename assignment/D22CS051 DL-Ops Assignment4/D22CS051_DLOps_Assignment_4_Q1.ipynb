{
  "cells": [
    {
      "cell_type": "markdown",
      "metadata": {
        "id": "Ii3UsNh3d9-E"
      },
      "source": [
        "## Checking Avilable GPU\n"
      ]
    },
    {
      "cell_type": "code",
      "execution_count": null,
      "metadata": {
        "colab": {
          "base_uri": "https://localhost:8080/"
        },
        "id": "OBic-Ci7d_cY",
        "outputId": "6de184ec-4c46-47a7-abfd-40f429a76a38"
      },
      "outputs": [],
      "source": [
        "!nvidia-smi"
      ]
    },
    {
      "cell_type": "markdown",
      "metadata": {
        "id": "22VmM3FfPGQH"
      },
      "source": [
        "## Importing requirements"
      ]
    },
    {
      "cell_type": "code",
      "execution_count": null,
      "metadata": {
        "id": "e7rlLC9ONUNj"
      },
      "outputs": [],
      "source": [
        "# pytorch libs\n",
        "import torch\n",
        "from torch import nn\n",
        "import torchvision\n",
        "\n",
        "# matplot libs\n",
        "import matplotlib.pyplot as plt\n",
        "\n",
        "# numpy\n",
        "import numpy as np\n",
        "\n",
        "# torch metrics\n",
        "try:\n",
        "  import torchmetrics\n",
        "except:\n",
        "  !pip3 -q install torchmetrics\n",
        "try:\n",
        "  import torchmetrics\n",
        "except:\n",
        "  !pip3 -q install torchmetrics\n",
        "finally:\n",
        "  from torchmetrics.classification import Accuracy\n",
        "\n",
        "try:\n",
        "  import torchinfo\n",
        "except:\n",
        "  !pip3 -q install torchinfo\n",
        "finally:\n",
        "  from torchinfo import summary\n",
        "\n",
        "try:\n",
        "  import torchattacks\n",
        "except:\n",
        "  !pip3 -q install torchattacks\n",
        "finally:\n",
        "  import torchattacks\n",
        " \n",
        "import torch.nn.parallel\n",
        "import torch.backends.cudnn as cudnn\n",
        "# import torch.optim as optim\n",
        "import torch.utils.data\n",
        "from torch.utils.data import DataLoader, Dataset, TensorDataset\n",
        "from torchvision import datasets, transforms, models\n",
        "from torchvision import utils as vutils\n",
        "\n",
        "import numpy as np\n",
        "import pandas as pd\n",
        "import matplotlib.pyplot as plt\n",
        "import matplotlib.animation as animation\n",
        "from sklearn.model_selection import train_test_split\n",
        "\n",
        "from timeit import default_timer as timer\n",
        "from tqdm.auto import tqdm\n",
        "import matplotlib.animation as animation\n",
        "from IPython.display import HTML"
      ]
    },
    {
      "cell_type": "markdown",
      "metadata": {
        "id": "2L-92bdYNY8d"
      },
      "source": [
        "## Device Agnostic code"
      ]
    },
    {
      "cell_type": "code",
      "execution_count": null,
      "metadata": {
        "colab": {
          "base_uri": "https://localhost:8080/"
        },
        "id": "Pt7wFupkNa2z",
        "outputId": "7e38abff-fc53-4168-e60c-1b83649fdf8e"
      },
      "outputs": [],
      "source": [
        "device = 'cuda' if torch.cuda.is_available() else 'cpu'\n",
        "device"
      ]
    },
    {
      "cell_type": "markdown",
      "metadata": {
        "id": "5_E15PnHNgl9"
      },
      "source": [
        "## Getting Dataset"
      ]
    },
    {
      "cell_type": "markdown",
      "metadata": {
        "id": "KNIjbMS5gr6d"
      },
      "source": [
        "### Downloading"
      ]
    },
    {
      "cell_type": "code",
      "execution_count": null,
      "metadata": {
        "colab": {
          "base_uri": "https://localhost:8080/"
        },
        "id": "zP2_v-3MH36-",
        "outputId": "75533243-d8e7-4e26-b6aa-837264510db9"
      },
      "outputs": [],
      "source": [
        "!gdown 1uPnpDXpJLDY6JZSNpB9eYYIadmnS3upj"
      ]
    },
    {
      "cell_type": "markdown",
      "metadata": {
        "id": "SB-ZTPm3gtr8"
      },
      "source": [
        "### Processing"
      ]
    },
    {
      "cell_type": "code",
      "execution_count": null,
      "metadata": {
        "id": "LzZyMNyS3ibx"
      },
      "outputs": [],
      "source": [
        "info = pd.read_csv(\"GAN_data.csv\", sep = ',', )"
      ]
    },
    {
      "cell_type": "code",
      "execution_count": null,
      "metadata": {
        "colab": {
          "base_uri": "https://localhost:8080/",
          "height": 300
        },
        "id": "-RiuzDC23iWk",
        "outputId": "2591ffcb-295a-4c98-a7e0-7ddaa5851ed7"
      },
      "outputs": [],
      "source": [
        "info.head()"
      ]
    },
    {
      "cell_type": "code",
      "execution_count": null,
      "metadata": {
        "id": "JyXy4k279vNW"
      },
      "outputs": [],
      "source": [
        "X, y = info.iloc[:,:1024].values, info.iloc[:, -1:].values"
      ]
    },
    {
      "cell_type": "code",
      "execution_count": null,
      "metadata": {
        "colab": {
          "base_uri": "https://localhost:8080/"
        },
        "id": "Bs7AgstA9vKj",
        "outputId": "c910fc9f-b437-47b5-e258-6bc2eb43afbc"
      },
      "outputs": [],
      "source": [
        "print(f\"X shape: {X.shape}\")"
      ]
    },
    {
      "cell_type": "code",
      "execution_count": null,
      "metadata": {
        "colab": {
          "base_uri": "https://localhost:8080/"
        },
        "id": "9cZh03SS9vIJ",
        "outputId": "9d044f39-4ee6-40ac-e600-d3f73408df87"
      },
      "outputs": [],
      "source": [
        "print(f\"y shape: {y.shape}\")"
      ]
    },
    {
      "cell_type": "code",
      "execution_count": null,
      "metadata": {
        "id": "n15BL4GL9vFx"
      },
      "outputs": [],
      "source": [
        "img_data = []\n",
        "for x in X:\n",
        "  # np.expand_dims(x.reshape(32,32), axis=0)\n",
        "  img_data.append(x.reshape(32,32))\n",
        "\n",
        "img_data = np.array(img_data)"
      ]
    },
    {
      "cell_type": "code",
      "execution_count": null,
      "metadata": {
        "colab": {
          "base_uri": "https://localhost:8080/",
          "height": 430
        },
        "id": "u1WbBI81-ERS",
        "outputId": "f2541fe8-d020-41d1-ced4-1f76a99b39f9"
      },
      "outputs": [],
      "source": [
        "# vis.\n",
        "plt.imshow(img_data[torch.randint(len(img_data),(1,))].reshape(32,32), cmap = \"gray\")\n",
        "\n",
        "plt.show()"
      ]
    },
    {
      "cell_type": "code",
      "execution_count": null,
      "metadata": {
        "id": "0V7l6zN4-EOf"
      },
      "outputs": [],
      "source": [
        "class_name = np.unique(y)"
      ]
    },
    {
      "cell_type": "code",
      "execution_count": null,
      "metadata": {
        "colab": {
          "base_uri": "https://localhost:8080/"
        },
        "id": "dpm6tYF6LEjh",
        "outputId": "52726877-65f8-48a4-c409-b094afb8c3d7"
      },
      "outputs": [],
      "source": [
        "class_name = list(class_name)\n",
        "class_name"
      ]
    },
    {
      "cell_type": "markdown",
      "metadata": {
        "id": "A7ymJ8bzCuPO"
      },
      "source": [
        "### label -> class idx"
      ]
    },
    {
      "cell_type": "code",
      "execution_count": null,
      "metadata": {
        "id": "Horc9hMQ-ELx"
      },
      "outputs": [],
      "source": [
        "for i in range(len(class_name)):\n",
        "  y[y == class_name[i]] = i"
      ]
    },
    {
      "cell_type": "code",
      "execution_count": null,
      "metadata": {
        "colab": {
          "base_uri": "https://localhost:8080/"
        },
        "id": "wMtVBNq4-EJQ",
        "outputId": "06abe674-2c26-4271-dca7-5bfa818f3456"
      },
      "outputs": [],
      "source": [
        "y"
      ]
    },
    {
      "cell_type": "code",
      "execution_count": null,
      "metadata": {
        "id": "1RQUCsB0-EGZ"
      },
      "outputs": [],
      "source": [
        "# split data\n",
        "x_train, x_test, y_train, y_test = train_test_split(img_data, y, test_size = 0.25, random_state = 64, shuffle = True)\n",
        "\n",
        "# converting\n",
        "y_train = y_train.astype(int)\n",
        "y_test = y_test.astype(int)\n",
        "\n",
        "up_x_train, up_x_test = [], []\n",
        "for x in x_train:\n",
        "  up_x_train.append(np.expand_dims(x, axis=0))\n",
        "\n",
        "for x in x_test:\n",
        "  up_x_test.append(np.expand_dims(x, axis=0))\n",
        "\n",
        "up_x_train, up_x_test = np.array(up_x_train), np.array(up_x_test)"
      ]
    },
    {
      "cell_type": "code",
      "execution_count": null,
      "metadata": {
        "colab": {
          "base_uri": "https://localhost:8080/"
        },
        "id": "LaQoky8yXzxo",
        "outputId": "389e0fc9-914e-416e-d81d-d94cf052ef6a"
      },
      "outputs": [],
      "source": [
        "up_x_train[0]"
      ]
    },
    {
      "cell_type": "code",
      "execution_count": null,
      "metadata": {
        "id": "zqqo8g-vMGk2"
      },
      "outputs": [],
      "source": [
        "train_data, test_data = [], []\n",
        "for x,y in zip(up_x_train, y_train):\n",
        "  x = torch.from_numpy(x)\n",
        "  # print(y[0])\n",
        "  y = int(y[0])\n",
        "  x = x.type(torch.float)\n",
        "  train_data.append((x,y))\n",
        "\n",
        "for x,y in zip(up_x_test, y_test):\n",
        "  x = torch.from_numpy(x)\n",
        "  y = int(y[0])\n",
        "  x = x.type(torch.float)\n",
        "  test_data.append((x,y))"
      ]
    },
    {
      "cell_type": "code",
      "execution_count": null,
      "metadata": {
        "id": "-M7_BQR6ZcwW"
      },
      "outputs": [],
      "source": [
        "class CustomTensorDataset(Dataset):\n",
        "    \"\"\"TensorDataset with support of transforms.\n",
        "    \"\"\"\n",
        "    def __init__(self, tensors, transform=None):\n",
        "        assert all(tensors[0].size(0) == tensor.size(0) for tensor in tensors)\n",
        "        self.tensors = tensors\n",
        "        self.transform = transform\n",
        "\n",
        "\n",
        "    def __len__(self):\n",
        "        return self.tensors[0].size(0)\n",
        "\n",
        "    def __getitem__(self, index):\n",
        "        x = self.tensors[0][index]\n",
        "\n",
        "        if self.transform:\n",
        "            x = self.transform(x)\n",
        "\n",
        "        y = self.tensors[1][index]\n",
        "\n",
        "        return x, y"
      ]
    },
    {
      "cell_type": "code",
      "execution_count": null,
      "metadata": {
        "id": "OGr1zu1fKqGY"
      },
      "outputs": [],
      "source": [
        "tensor_x_train = torch.Tensor(up_x_train) # transform to torch tensor\n",
        "tensor_y_train = torch.Tensor(y_train)\n",
        "\n",
        "tensor_x_test = torch.Tensor(up_x_test) # transform to torch tensor\n",
        "tensor_y_test = torch.Tensor(y_test)"
      ]
    },
    {
      "cell_type": "code",
      "execution_count": null,
      "metadata": {
        "id": "yUjV_yKSZs38"
      },
      "outputs": [],
      "source": [
        "transform = transforms.Compose([\n",
        "    transforms.Resize((64,64))\n",
        "])"
      ]
    },
    {
      "cell_type": "code",
      "execution_count": null,
      "metadata": {
        "id": "Sf3LFpB0Znek"
      },
      "outputs": [],
      "source": [
        "train_dataset = CustomTensorDataset(tensors=(tensor_x_train, tensor_y_train), transform=transform)\n",
        "test_dataset = CustomTensorDataset(tensors=(tensor_x_test, tensor_y_test), transform=transform)"
      ]
    },
    {
      "cell_type": "markdown",
      "metadata": {
        "id": "OGdDydrTOtT_"
      },
      "source": [
        "### Converting dataset to dataloader"
      ]
    },
    {
      "cell_type": "code",
      "execution_count": null,
      "metadata": {
        "id": "0XasXHjPOzYl"
      },
      "outputs": [],
      "source": [
        "BATCH_SIZE = 32\n",
        "train_dataloader = DataLoader(dataset = train_dataset, batch_size = BATCH_SIZE, shuffle = True)\n",
        "test_dataloader = DataLoader(dataset = test_dataset, batch_size = BATCH_SIZE, shuffle = False)"
      ]
    },
    {
      "cell_type": "code",
      "execution_count": null,
      "metadata": {
        "colab": {
          "base_uri": "https://localhost:8080/"
        },
        "id": "7QjEeVQLPLZ9",
        "outputId": "a2df1803-42f4-4bf7-d741-09208e7f8f6e"
      },
      "outputs": [],
      "source": [
        "print(f'Total {len(train_dataloader)} of train each of {BATCH_SIZE} batches.')\n",
        "print(f'Total {len(test_dataloader)} of test each of {BATCH_SIZE} batches.')"
      ]
    },
    {
      "cell_type": "markdown",
      "metadata": {
        "id": "9xkt5hSPPzPk"
      },
      "source": [
        "## HyperParameters"
      ]
    },
    {
      "cell_type": "code",
      "execution_count": null,
      "metadata": {
        "id": "bGH74ROdQBvP"
      },
      "outputs": [],
      "source": [
        "# Number of workers for dataloader\n",
        "workers = 2\n",
        "\n",
        "# Batch size during training\n",
        "batch_size = 32\n",
        "\n",
        "# Spatial size of training images. All images will be resized to this\n",
        "#   size using a transformer.\n",
        "image_size = 64\n",
        "\n",
        "# Number of channels in the training images. For color images this is 3\n",
        "nc = 1\n",
        "\n",
        "# Size of z latent vector (i.e. size of generator input)\n",
        "nz = 1\n",
        "\n",
        "# Size of feature maps in generator\n",
        "ngf = 64\n",
        "\n",
        "# Size of feature maps in discriminator\n",
        "ndf = 64\n",
        "\n",
        "# Number of training epochs\n",
        "num_epochs = 64\n",
        "\n",
        "# Learning rate for optimizers\n",
        "lr = 0.0003\n",
        "\n",
        "# Beta1 hyperparameter for Adam optimizers\n",
        "beta1 = 0.5\n",
        "\n",
        "# number of gpu\n",
        "ngpu = 1"
      ]
    },
    {
      "cell_type": "code",
      "execution_count": null,
      "metadata": {
        "colab": {
          "base_uri": "https://localhost:8080/",
          "height": 638
        },
        "id": "ZaWI26czQHN1",
        "outputId": "a9d78dd5-082c-45ee-e9f9-086868f8f899"
      },
      "outputs": [],
      "source": [
        "real_batch = next(iter(train_dataloader))\n",
        "plt.figure(figsize=(13,13))\n",
        "plt.axis(\"off\")\n",
        "plt.title(\"Training Images\")\n",
        "plt.imshow(np.transpose(vutils.make_grid(real_batch[0].to(device)[:64], padding=2, normalize=True).cpu(),(1,2,0)))"
      ]
    },
    {
      "cell_type": "markdown",
      "metadata": {
        "id": "xz4hKMtJQUPk"
      },
      "source": [
        "## Weight INIT"
      ]
    },
    {
      "cell_type": "code",
      "execution_count": null,
      "metadata": {
        "id": "CNleOO2gQsZb"
      },
      "outputs": [],
      "source": [
        "def weights_init(m):\n",
        "    classname = m.__class__.__name__\n",
        "    if classname.find('Conv') != -1:\n",
        "        nn.init.normal_(m.weight.data, 0.0, 0.02)\n",
        "    elif classname.find('BatchNorm') != -1:\n",
        "        nn.init.normal_(m.weight.data, 1.0, 0.02)\n",
        "        nn.init.constant_(m.bias.data, 0)"
      ]
    },
    {
      "cell_type": "markdown",
      "metadata": {
        "id": "KWZCc4wZQtCz"
      },
      "source": [
        "## Generator"
      ]
    },
    {
      "cell_type": "code",
      "execution_count": null,
      "metadata": {
        "id": "CeNvaGlgQzSS"
      },
      "outputs": [],
      "source": [
        "class Generator(nn.Module):\n",
        "    def __init__(self, ngpu):\n",
        "        super(Generator, self).__init__()\n",
        "        self.ngpu = ngpu\n",
        "        self.main = nn.Sequential(\n",
        "            # input is Z, going into a convolution\n",
        "            nn.ConvTranspose2d( nz, ngf * 8, 4, 1, 0, bias=False),\n",
        "            nn.BatchNorm2d(ngf * 8),\n",
        "            nn.ReLU(True),\n",
        "            # state size. ``(ngf*8) x 4 x 4``\n",
        "            nn.ConvTranspose2d(ngf * 8, ngf * 4, 4, 2, 1, bias=False),\n",
        "            nn.BatchNorm2d(ngf * 4),\n",
        "            nn.ReLU(True),\n",
        "            # state size. ``(ngf*4) x 8 x 8``\n",
        "            nn.ConvTranspose2d( ngf * 4, ngf * 2, 4, 2, 1, bias=False),\n",
        "            nn.BatchNorm2d(ngf * 2),\n",
        "            nn.ReLU(True),\n",
        "            # state size. ``(ngf*2) x 16 x 16``\n",
        "            nn.ConvTranspose2d( ngf * 2, ngf, 4, 2, 1, bias=False),\n",
        "            nn.BatchNorm2d(ngf),\n",
        "            nn.ReLU(True),\n",
        "            # state size. ``(ngf) x 32 x 32``\n",
        "            nn.ConvTranspose2d( ngf, nc, 4, 2, 1, bias=False),\n",
        "            nn.Tanh()\n",
        "            # state size. ``(nc) x 64 x 64``\n",
        "        )\n",
        "\n",
        "    def forward(self, input):\n",
        "        return self.main(input)"
      ]
    },
    {
      "cell_type": "markdown",
      "metadata": {
        "id": "LZnKnjp_Q8wp"
      },
      "source": [
        "## Discriminator"
      ]
    },
    {
      "cell_type": "code",
      "execution_count": null,
      "metadata": {
        "id": "q4Mx22bRRA3A"
      },
      "outputs": [],
      "source": [
        "class Discriminator(nn.Module):\n",
        "    def __init__(self, ngpu):\n",
        "        super(Discriminator, self).__init__()\n",
        "        self.ngpu = ngpu\n",
        "        self.main = nn.Sequential(\n",
        "            # input is ``(nc) x 64 x 64``\n",
        "            nn.Conv2d(nc, ndf, 4, 2, 1, bias=False),\n",
        "            nn.LeakyReLU(0.2, inplace=True),\n",
        "            # state size. ``(ndf) x 32 x 32``\n",
        "            nn.Conv2d(ndf, ndf * 2, 4, 2, 1, bias=False),\n",
        "            nn.BatchNorm2d(ndf * 2),\n",
        "            nn.LeakyReLU(0.2, inplace=True),\n",
        "            # state size. ``(ndf*2) x 16 x 16``\n",
        "            nn.Conv2d(ndf * 2, ndf * 4, 4, 2, 1, bias=False),\n",
        "            nn.BatchNorm2d(ndf * 4),\n",
        "            nn.LeakyReLU(0.2, inplace=True),\n",
        "            # state size. ``(ndf*4) x 8 x 8``\n",
        "            nn.Conv2d(ndf * 4, ndf * 8, 4, 2, 1, bias=False),\n",
        "            nn.BatchNorm2d(ndf * 8),\n",
        "            nn.LeakyReLU(0.2, inplace=True),\n",
        "            # state size. ``(ndf*8) x 4 x 4``\n",
        "            nn.Conv2d(ndf * 8, 1, 4, 1, 0, bias=False),\n",
        "            nn.Sigmoid()\n",
        "        )\n",
        "\n",
        "    def forward(self, input):\n",
        "        return self.main(input)"
      ]
    },
    {
      "cell_type": "markdown",
      "metadata": {
        "id": "hrZHwAFziGnr"
      },
      "source": [
        "## Models"
      ]
    },
    {
      "cell_type": "code",
      "execution_count": null,
      "metadata": {
        "colab": {
          "base_uri": "https://localhost:8080/"
        },
        "id": "zU751EMNRLcE",
        "outputId": "5e696ca9-708a-4f43-ac23-4ad018699abd"
      },
      "outputs": [],
      "source": [
        "# Create the generator\n",
        "netG = Generator(ngpu).to(device)\n",
        "\n",
        "# Handle multi-GPU if desired\n",
        "if (device == 'cuda') and (ngpu > 1):\n",
        "    netG = nn.DataParallel(netG, list(range(ngpu)))\n",
        "\n",
        "# Apply the ``weights_init`` function to randomly initialize all weights\n",
        "#  to ``mean=0``, ``stdev=0.02``.\n",
        "netG.apply(weights_init)\n",
        "\n",
        "# Print the model\n",
        "print(netG)"
      ]
    },
    {
      "cell_type": "code",
      "execution_count": null,
      "metadata": {
        "colab": {
          "base_uri": "https://localhost:8080/"
        },
        "id": "HWaJvfSIROmF",
        "outputId": "3bb9673b-84ae-4b06-982e-2430eb523b96"
      },
      "outputs": [],
      "source": [
        "# Create the Discriminator\n",
        "netD = Discriminator(ngpu).to(device)\n",
        "\n",
        "# Handle multi-GPU if desired\n",
        "if (device == 'cuda') and (ngpu > 1):\n",
        "    netD = nn.DataParallel(netD, list(range(ngpu)))\n",
        "\n",
        "# Apply the ``weights_init`` function to randomly initialize all weights\n",
        "# like this: ``to mean=0, stdev=0.2``.\n",
        "netD.apply(weights_init)\n",
        "\n",
        "# Print the model\n",
        "print(netD)"
      ]
    },
    {
      "cell_type": "markdown",
      "metadata": {
        "id": "FBNAjSC1RxVX"
      },
      "source": [
        "## Loss function and optimizer for GAN"
      ]
    },
    {
      "cell_type": "code",
      "execution_count": null,
      "metadata": {
        "id": "uarx_o9WR41P"
      },
      "outputs": [],
      "source": [
        "# Initialize the ``BCELoss`` function\n",
        "criterion = nn.BCELoss()\n",
        "\n",
        "# Create batch of latent vectors that we will use to visualize\n",
        "#  the progression of the generator\n",
        "fixed_noise = torch.randn(32, nz, 1, 1, device=device)\n",
        "\n",
        "# Establish convention for real and fake labels during training\n",
        "real_label = 1.\n",
        "fake_label = 0.\n",
        "\n",
        "# Setup Adam optimizers for both G and D\n",
        "optimizerD = torch.optim.Adam(netD.parameters(), lr=lr, betas=(beta1, 0.999))\n",
        "optimizerG = torch.optim.Adam(netG.parameters(), lr=lr, betas=(beta1, 0.999))"
      ]
    },
    {
      "cell_type": "code",
      "execution_count": null,
      "metadata": {
        "colab": {
          "base_uri": "https://localhost:8080/",
          "height": 1000,
          "referenced_widgets": [
            "8ac56d99d4734880a0a6158913ade26a",
            "301513af6dde4f318a25b0d978ae8784",
            "4868fdbe88774ced8b228064a53b35a9",
            "4f7b978d882a46109e23885262269b78",
            "54ed9f72ba604672bb18781feed666a7",
            "59612346f01f4935b6ac59223518bba7",
            "ffb88c3b7a074428901eb93df602b389",
            "56ba54eb46f34b52b1f5a0a9c1ab2f62",
            "0791b7404f9143ea8caa52d84ad1b30d",
            "b1a8099f006848cbb103aa409337228a",
            "0b9df0d2813045efbf901430b4cb61f8"
          ]
        },
        "id": "1_v_CLxLSFRO",
        "outputId": "5c3c1429-b4bb-4826-8849-9f531132e3ab"
      },
      "outputs": [],
      "source": [
        "img_list = []\n",
        "G_losses = []\n",
        "D_losses = []\n",
        "iters = 0\n",
        "\n",
        "print(\"Starting Training Loop...\")\n",
        "# For each epoch\n",
        "for epoch in tqdm(range(num_epochs)):\n",
        "    # For each batch in the dataloader\n",
        "    for i, data in enumerate(train_dataloader, 0):\n",
        "\n",
        "        ############################\n",
        "        # (1) Update D network: maximize log(D(x)) + log(1 - D(G(z)))\n",
        "        ###########################\n",
        "        ## Train with all-real batch\n",
        "        netD.zero_grad()\n",
        "        # Format batch\n",
        "        real_cpu = data[0].to(device)\n",
        "        b_size = real_cpu.size(0)\n",
        "        label = torch.full((b_size,), real_label, dtype=torch.float, device=device)\n",
        "        # Forward pass real batch through D\n",
        "        output = netD(real_cpu).view(-1)\n",
        "        # Calculate loss on all-real batch\n",
        "        errD_real = criterion(output, label)\n",
        "        # Calculate gradients for D in backward pass\n",
        "        errD_real.backward()\n",
        "        D_x = output.mean().item()\n",
        "\n",
        "        ## Train with all-fake batch\n",
        "        # Generate batch of latent vectors\n",
        "        noise = torch.randn(b_size, nz, 1, 1, device=device)\n",
        "        # Generate fake image batch with G\n",
        "        fake = netG(noise)\n",
        "        label.fill_(fake_label)\n",
        "        # Classify all fake batch with D\n",
        "        output = netD(fake.detach()).view(-1)\n",
        "        # Calculate D's loss on the all-fake batch\n",
        "        errD_fake = criterion(output, label)\n",
        "        # Calculate the gradients for this batch, accumulated (summed) with previous gradients\n",
        "        errD_fake.backward()\n",
        "        D_G_z1 = output.mean().item()\n",
        "        # Compute error of D as sum over the fake and the real batches\n",
        "        errD = errD_real + errD_fake\n",
        "        # Update D\n",
        "        optimizerD.step()\n",
        "\n",
        "        ############################\n",
        "        # (2) Update G network: maximize log(D(G(z)))\n",
        "        ###########################\n",
        "        netG.zero_grad()\n",
        "        label.fill_(real_label)  # fake labels are real for generator cost\n",
        "        # Since we just updated D, perform another forward pass of all-fake batch through D\n",
        "        output = netD(fake).view(-1)\n",
        "        # Calculate G's loss based on this output\n",
        "        errG = criterion(output, label)\n",
        "        # Calculate gradients for G\n",
        "        errG.backward()\n",
        "        D_G_z2 = output.mean().item()\n",
        "        # Update G\n",
        "        optimizerG.step()\n",
        "\n",
        "        # Output training stats\n",
        "        if i % 100 == 0:\n",
        "            print('[%d/%d][%d/%d]\\tLoss_D: %.4f\\tLoss_G: %.4f\\tD(x): %.4f\\tD(G(z)): %.4f / %.4f'\n",
        "                  % (epoch+1, num_epochs, i+1, len(train_dataloader),\n",
        "                     errD.item(), errG.item(), D_x, D_G_z1, D_G_z2))\n",
        "\n",
        "        # Save Losses for plotting later\n",
        "        G_losses.append(errG.item())\n",
        "        D_losses.append(errD.item())\n",
        "\n",
        "        # Check how the generator is doing by saving G's output on fixed_noise\n",
        "        if (iters % 500 == 0) or ((epoch == num_epochs-1) and (i == len(train_dataloader)-1)):\n",
        "            with torch.no_grad():\n",
        "                fake = netG(fixed_noise).detach().cpu()\n",
        "            img_list.append(vutils.make_grid(fake, padding=2, normalize=True))\n",
        "\n",
        "        iters += 1"
      ]
    },
    {
      "cell_type": "markdown",
      "metadata": {
        "id": "R7GaliHcpArO"
      },
      "source": [
        "## Save Model"
      ]
    },
    {
      "cell_type": "code",
      "execution_count": null,
      "metadata": {
        "id": "ets1Rl-K3fFe"
      },
      "outputs": [],
      "source": [
        "from pathlib import Path\n",
        "def save_model(MODEL_NAME, model: torch.nn.Module):\n",
        "\n",
        "  MODEL_PATH = Path(\"drive/MyDrive/Course/Sem2/DLOps/\")\n",
        "  MODEL_PATH.mkdir(parents = True, exist_ok = True)\n",
        "\n",
        "  # MODEL_NAME = \"ad_model.pth\"\n",
        "  MODEL_PATH_SAVE = MODEL_PATH / MODEL_NAME\n",
        "\n",
        "  print(f\"model saved at: {MODEL_PATH_SAVE}\")\n",
        "  torch.save(obj = model.state_dict(), f = MODEL_PATH_SAVE)"
      ]
    },
    {
      "cell_type": "code",
      "execution_count": null,
      "metadata": {
        "colab": {
          "base_uri": "https://localhost:8080/"
        },
        "id": "06Se1ZYssHhn",
        "outputId": "6ef24755-7927-40db-ad86-dd9e8b844439"
      },
      "outputs": [],
      "source": [
        "save_model('netD_2.pth', netD)\n",
        "save_model('netG_2.pth', netG)"
      ]
    },
    {
      "cell_type": "code",
      "execution_count": null,
      "metadata": {
        "colab": {
          "base_uri": "https://localhost:8080/",
          "height": 1000
        },
        "id": "-bvIycaL3gt5",
        "outputId": "d589a028-6538-4c98-eb0c-bf70c040c3aa"
      },
      "outputs": [],
      "source": [
        "fig = plt.figure(figsize=(8,8))\n",
        "plt.axis(\"off\")\n",
        "ims = [[plt.imshow(np.transpose(i,(1,2,0)), animated=True)] for i in img_list]\n",
        "ani = animation.ArtistAnimation(fig, ims, interval=1000, repeat_delay=1000, blit=True)\n",
        "\n",
        "HTML(ani.to_jshtml())"
      ]
    },
    {
      "cell_type": "code",
      "execution_count": null,
      "metadata": {
        "colab": {
          "base_uri": "https://localhost:8080/"
        },
        "id": "msEavhXq8Ked",
        "outputId": "5d565919-939d-4e50-9964-34e9e35b7b22"
      },
      "outputs": [],
      "source": [
        "len(img_list)"
      ]
    },
    {
      "cell_type": "code",
      "execution_count": null,
      "metadata": {
        "colab": {
          "base_uri": "https://localhost:8080/",
          "height": 331
        },
        "id": "j1jJzRA-3n7x",
        "outputId": "73d2c591-af53-43fb-f29b-04cc8500cb37"
      },
      "outputs": [],
      "source": [
        "plt.imshow(np.transpose(img_list[-1],(1,2,0)))"
      ]
    },
    {
      "cell_type": "code",
      "execution_count": null,
      "metadata": {
        "colab": {
          "base_uri": "https://localhost:8080/",
          "height": 504
        },
        "id": "t2NNc4Sz8j1C",
        "outputId": "aa6a44e7-c9c1-4b88-8ed2-73785dc2d6e1"
      },
      "outputs": [],
      "source": [
        "plt.imshow(train_dataset[1][0].permute(1,2,0), cmap = 'gray')"
      ]
    },
    {
      "cell_type": "markdown",
      "metadata": {
        "id": "10a3tkLIAoz3"
      },
      "source": [
        "## Load model"
      ]
    },
    {
      "cell_type": "code",
      "execution_count": null,
      "metadata": {
        "id": "LwD8vju4AATY"
      },
      "outputs": [],
      "source": [
        "netG = Generator(ngpu).to(device)\n",
        "\n",
        "# path\n",
        "MODEL_PATH = Path(\"drive/MyDrive/Course/Sem2/DLOps/\")\n",
        "\n",
        "MODEL_NAME = \"netG_2.pth\"\n",
        "MODEL_PATH_SAVE = MODEL_PATH / MODEL_NAME\n",
        "\n",
        "if torch.cuda.is_available() == False:\n",
        "  netG.load_state_dict(torch.load(f = MODEL_PATH_SAVE, map_location=torch.device('cpu')))\n",
        "else:\n",
        "  netG.load_state_dict(torch.load(f = MODEL_PATH_SAVE))\n",
        "\n",
        "# model_18.state_dict()\n",
        "\n",
        "netG = netG.to(device)"
      ]
    },
    {
      "cell_type": "code",
      "execution_count": null,
      "metadata": {
        "id": "AoAmXfRr_gze"
      },
      "outputs": [],
      "source": [
        "netD = Discriminator(ngpu).to(device)\n",
        "\n",
        "# path\n",
        "MODEL_PATH = Path(\"drive/MyDrive/Course/Sem2/DLOps/\")\n",
        "\n",
        "MODEL_NAME = \"netD_2.pth\"\n",
        "MODEL_PATH_SAVE = MODEL_PATH / MODEL_NAME\n",
        "\n",
        "if torch.cuda.is_available() == False:\n",
        "  netD.load_state_dict(torch.load(f = MODEL_PATH_SAVE, map_location=torch.device('cpu')))\n",
        "else:\n",
        "  netD.load_state_dict(torch.load(f = MODEL_PATH_SAVE))\n",
        "\n",
        "# model_18.state_dict()\n",
        "\n",
        "netD = netD.to(device)"
      ]
    },
    {
      "cell_type": "code",
      "execution_count": null,
      "metadata": {
        "id": "ai0tdBYZ_ipu"
      },
      "outputs": [],
      "source": [
        "optimizerD = torch.optim.Adam(netD.parameters(), lr=lr, betas=(beta1, 0.999))\n",
        "optimizerG = torch.optim.Adam(netG.parameters(), lr=lr, betas=(beta1, 0.999))"
      ]
    },
    {
      "cell_type": "code",
      "execution_count": null,
      "metadata": {
        "id": "CwpoCPs-AHtj"
      },
      "outputs": [],
      "source": [
        "fixed_noise = torch.randn(1, nz, 1, 1, device=device)"
      ]
    },
    {
      "cell_type": "code",
      "execution_count": null,
      "metadata": {
        "id": "hi8ZNR59APQD"
      },
      "outputs": [],
      "source": [
        "fake = netG(fixed_noise).detach().cpu()"
      ]
    },
    {
      "cell_type": "code",
      "execution_count": null,
      "metadata": {
        "colab": {
          "base_uri": "https://localhost:8080/",
          "height": 554
        },
        "id": "SI5vD6IyAtDB",
        "outputId": "4a8c5d59-915a-462b-a906-d7b7c6f7b25c"
      },
      "outputs": [],
      "source": [
        "plt.imshow(fake[0].permute(1,2,0), cmap = 'gray')\n",
        "print(fake)"
      ]
    },
    {
      "cell_type": "code",
      "execution_count": null,
      "metadata": {
        "colab": {
          "base_uri": "https://localhost:8080/"
        },
        "id": "l2cNnwIEBDpB",
        "outputId": "c699b1e6-9a8a-4311-b86a-876b6419b6ec"
      },
      "outputs": [],
      "source": [
        "len(fake[0])"
      ]
    },
    {
      "cell_type": "code",
      "execution_count": null,
      "metadata": {
        "colab": {
          "base_uri": "https://localhost:8080/"
        },
        "id": "Nqo1qm8JGZsg",
        "outputId": "f5c0c70c-0762-4959-faed-b5b739b5eb70"
      },
      "outputs": [],
      "source": [
        "train_dataset[1][0].unsqueeze(dim = 0).shape"
      ]
    },
    {
      "cell_type": "code",
      "execution_count": null,
      "metadata": {
        "colab": {
          "base_uri": "https://localhost:8080/"
        },
        "id": "lzA97ePVKRTr",
        "outputId": "216ecf53-79bb-47e9-a663-96e19903ce0d"
      },
      "outputs": [],
      "source": [
        "fake[0]"
      ]
    },
    {
      "cell_type": "code",
      "execution_count": null,
      "metadata": {
        "colab": {
          "base_uri": "https://localhost:8080/",
          "height": 452
        },
        "id": "DIaIKOOSBQdd",
        "outputId": "fd1559c1-3806-4fad-820e-2911321aafc0"
      },
      "outputs": [],
      "source": [
        "# fixed_noise = torch.randn(1, nz, 1, 1, device=device)\n",
        "fixed_noise = train_dataset[1][0].unsqueeze(dim = 0).to(device)\n",
        "fake = netG(fixed_noise).detach().cpu()\n",
        "plt.imshow(fake[0].permute(1,2,0), cmap = 'gray')"
      ]
    },
    {
      "cell_type": "code",
      "execution_count": null,
      "metadata": {
        "id": "BDKpzxKnNgYM"
      },
      "outputs": [],
      "source": [
        "import torchvision"
      ]
    },
    {
      "cell_type": "code",
      "execution_count": null,
      "metadata": {
        "id": "7EDaxuQ4B6Dz"
      },
      "outputs": [],
      "source": [
        "resize_fake = torchvision.transforms.functional.resize(fake[0], (64,64), interpolation=2)"
      ]
    },
    {
      "cell_type": "code",
      "execution_count": null,
      "metadata": {
        "colab": {
          "base_uri": "https://localhost:8080/"
        },
        "id": "NaGUWxR5NrEx",
        "outputId": "1d0ce9cf-75d2-4c02-ead7-ad132ac6e72c"
      },
      "outputs": [],
      "source": [
        "resize_fake.shape"
      ]
    },
    {
      "cell_type": "code",
      "execution_count": null,
      "metadata": {
        "colab": {
          "base_uri": "https://localhost:8080/",
          "height": 449
        },
        "id": "rnJjrH0LN6s7",
        "outputId": "493cff01-95d4-45ae-8eb5-f68d910e94f7"
      },
      "outputs": [],
      "source": [
        "plt.imshow(resize_fake.permute(1,2,0), cmap = 'gray')"
      ]
    },
    {
      "cell_type": "markdown",
      "metadata": {
        "id": "S70tkDz2I19l"
      },
      "source": [
        "## Generative image datasets"
      ]
    },
    {
      "cell_type": "code",
      "execution_count": null,
      "metadata": {
        "id": "eUYoYOqNG23Y"
      },
      "outputs": [],
      "source": [
        "test_data = []\n",
        "count = 0\n",
        "count_list = [0 for i in range(len(class_name))]\n",
        "# print(len(count_list))\n",
        "i = 0\n",
        "while count != 2300:\n",
        "  fixed_noise = train_dataset[i][0].unsqueeze(dim = 0).to(device)\n",
        "  label = train_dataset[i][1]\n",
        "  # print(int(label.item()))\n",
        "  fake = netG(fixed_noise).detach().cpu()\n",
        "  resize_fake = torchvision.transforms.functional.resize(fake[0], (64,64), interpolation=2)\n",
        "  # print(f\"count: {count} and  label: {label} i: {i}\")\n",
        "  if count_list[int(label.item())] >= 50:\n",
        "    i += 1\n",
        "    continue\n",
        "  else:\n",
        "    test_data.append((resize_fake, label))\n",
        "    count_list[int(label.item())] += 1\n",
        "    count += 1\n",
        "    i += 1"
      ]
    },
    {
      "cell_type": "code",
      "execution_count": null,
      "metadata": {
        "colab": {
          "base_uri": "https://localhost:8080/"
        },
        "id": "d2lF9lkwLSCQ",
        "outputId": "43fcfe24-7b6f-4582-878b-48e81e857610"
      },
      "outputs": [],
      "source": [
        "len(test_data)"
      ]
    },
    {
      "cell_type": "markdown",
      "metadata": {
        "id": "t14sbW7YLX_6"
      },
      "source": [
        "## make generated dataset"
      ]
    },
    {
      "cell_type": "code",
      "execution_count": null,
      "metadata": {
        "id": "MO0uyWRxLvx4"
      },
      "outputs": [],
      "source": [
        "new_test_data = torch.utils.data.ConcatDataset([test_data])"
      ]
    },
    {
      "cell_type": "markdown",
      "metadata": {
        "id": "Ly04IJ49UKkH"
      },
      "source": [
        "## dataloader"
      ]
    },
    {
      "cell_type": "code",
      "execution_count": null,
      "metadata": {
        "id": "5g9Du278MKNO"
      },
      "outputs": [],
      "source": [
        "BATCH_SIZE = 32\n",
        "\n",
        "gen_test_dataloader = DataLoader(dataset = new_test_data, batch_size = BATCH_SIZE, shuffle = False)"
      ]
    },
    {
      "cell_type": "markdown",
      "metadata": {
        "id": "T4mE58A4zl8w"
      },
      "source": [
        "## Train and Test Loop"
      ]
    },
    {
      "cell_type": "code",
      "execution_count": null,
      "metadata": {
        "id": "k51IWyESzkp4"
      },
      "outputs": [],
      "source": [
        "# Training Step\n",
        "def training_step(\n",
        "    model: nn.Module,\n",
        "    dataloader: torch.utils.data.DataLoader,\n",
        "    loss_fn: nn.Module,\n",
        "    acc_fn: torchmetrics.classification.accuracy.MulticlassAccuracy,\n",
        "    optimizer: torch.optim.Optimizer,\n",
        "    device: str,\n",
        "    profiler: torch.profiler.profile = None,\n",
        "):\n",
        "    \"\"\"\n",
        "    Desc:\n",
        "      funtion to perform traning step for one EPOCH\n",
        "\n",
        "    Args:\n",
        "      model (nn.Module): Pytorch model class object\n",
        "      dataloader (torch.utils.data.DataLoader): training dataloder from training dataset\n",
        "      loss_fn (nn.Module): Loss Function (object) of your choice\n",
        "      acc_fn (torchmetrics.classification.accuracy.MulticlassAccuracy): accuracy function from trochmetrics\n",
        "      optimizer (torch.optim.Optimizer): Optimizer Function (object) of your choice\n",
        "      device (str): Torch Device \"CPU/GPU\"\n",
        "      profiler (torch.profiler.profile, optional): Pytorch Profiler. Defaults to None.\n",
        "    Returns:\n",
        "      train_loss (float), train_acc (float): training loss and training accuracy for one EPOCH\n",
        "    \"\"\"\n",
        "    model.train()  # putting model in traing model\n",
        "\n",
        "    train_loss, train_acc = 0, 0  # initlizing loss and acc. for the epoch\n",
        "\n",
        "    if profiler != None:\n",
        "      profiler.start()\n",
        "      for step,(X, y) in enumerate(dataloader):  # loop in batches\n",
        "        if step >= (1 + 1 + 3) * 2:\n",
        "          break\n",
        "        X, y = X.to(device), y.to(device)  # sending the data to target device\n",
        "        # print(f\"shape of X: {X.shape}, shape of y: {y.shape}\")\n",
        "        \n",
        "        # 1. forward pass\n",
        "        y_pred_logits = model(X)\n",
        "        # y_pred = y_pred_logits.argmax(dim=1).type(torch.int)\n",
        "        # print(y_pred)\n",
        "        # 2. calculate the loss\n",
        "        loss = loss_fn(y_pred_logits, y)\n",
        "        train_loss += loss.item()\n",
        "\n",
        "        # 3. optimizer zero grad\n",
        "        optimizer.zero_grad()\n",
        "\n",
        "        # 4. loss backword\n",
        "        loss.backward()\n",
        "\n",
        "        # 5. optimizer step\n",
        "        optimizer.step()\n",
        "        \n",
        "        train_acc += acc_fn(y_pred_logits, y).item()\n",
        "        \n",
        "        profiler.step()\n",
        "      profiler.stop()\n",
        "    else:\n",
        "      for step,(X, y) in enumerate(dataloader):  # loop in batches\n",
        "        X, y = X.to(device), y.to(device)  # sending the data to target device\n",
        "        # print(f\"shape of X: {X.shape}, shape of y: {y.shape}\")\n",
        "        \n",
        "        # 1. forward pass\n",
        "        y_pred_logits = model(X)\n",
        "        # y_pred = y_pred_logits.argmax(dim=1).type(torch.int)\n",
        "        # print(y_pred)\n",
        "        # 2. calculate the loss\n",
        "        loss = loss_fn(y_pred_logits, y)\n",
        "        train_loss += loss.item()\n",
        "\n",
        "        # 3. optimizer zero grad\n",
        "        optimizer.zero_grad()\n",
        "\n",
        "        # 4. loss backword\n",
        "        loss.backward()\n",
        "\n",
        "        # 5. optimizer step\n",
        "        optimizer.step()\n",
        "        \n",
        "        train_acc += acc_fn(y_pred_logits, y).item()\n",
        "    # 6. returning actual loss and acc.x\n",
        "    return train_loss / len(dataloader), train_acc / len(dataloader)\n",
        "\n",
        "# Testing Step\n",
        "def testing_step(\n",
        "    model: nn.Module,\n",
        "    dataloader: torch.utils.data.DataLoader,\n",
        "    loss_fn: nn.Module,\n",
        "    acc_fn: torchmetrics.classification.accuracy.MulticlassAccuracy,\n",
        "    device: str,\n",
        "):\n",
        "    \"\"\"\n",
        "    Desc:\n",
        "      funtion to perform testing step for one EPOCH\n",
        "\n",
        "    Args:\n",
        "      model (nn.Module): Pytorch model class object\n",
        "      dataloader (torch.utils.data.DataLoader): testing dataloder from training dataset\n",
        "      loss_fn (nn.Module): Loss Function (object) of your choice\n",
        "      acc_fn (torchmetrics.classification.accuracy.MulticlassAccuracy): accuracy function from trochmetrics\n",
        "      device (str): Torch Device \"CPU/GPU\"\n",
        "    Returns:\n",
        "      test_loss (float), test_acc (float): testing loss and testing accuracy for one EPOCH\n",
        "    \"\"\"\n",
        "    model.eval()  # putting model in eval model\n",
        "\n",
        "    test_loss, test_acc = 0, 0  # initlizing loss and acc. for the epoch\n",
        "\n",
        "    # with torch.inference_mode(): # disabling inference mode for aqcuiring gradients of perturbed data\n",
        "    for (X, y) in dataloader:  # loop in batches\n",
        "        X, y = X.to(device), y.to(device)  # sending the data to target device\n",
        "        # print(f\"shape of X: {X.shape}, shape of y: {y.shape}\")\n",
        "\n",
        "        # 1. forward pass\n",
        "        y_pred_logits = model(X)\n",
        "\n",
        "        # 2. calculate the loss\n",
        "        loss = loss_fn(y_pred_logits, y)\n",
        "        test_loss += loss.item()\n",
        "\n",
        "        # printing the prediction and actual label\n",
        "        # print(y_pred_logits.argmax(dim=1), y,sep='\\n')\n",
        "        \n",
        "        # 3. calculating accuracy\n",
        "        test_acc += acc_fn(y_pred_logits, y).item()\n",
        "\n",
        "    # 6. returning actual loss and acc.\n",
        "    return test_loss / len(dataloader), test_acc / len(dataloader)\n",
        "\n",
        "\n",
        "# Training Function\n",
        "from tqdm.auto import tqdm\n",
        "\n",
        "\n",
        "def train(\n",
        "    model: nn.Module,\n",
        "    train_dataloader: torch.utils.data.DataLoader,\n",
        "    test_dataloader: torch.utils.data.DataLoader,\n",
        "    loss_fn: nn.Module,\n",
        "    acc_fn: torchmetrics.classification.accuracy.MulticlassAccuracy,\n",
        "    optimizer: torch.optim.Optimizer,\n",
        "    epochs: int,\n",
        "    save_info: str,\n",
        "    profiler:torch.profiler.profile = None,\n",
        "):\n",
        "    \"\"\"\n",
        "    Desc:\n",
        "      funtion to perform training for one {epochs} param\n",
        "\n",
        "    Args:\n",
        "      model (nn.Module): Pytorch model class object\n",
        "      train_dataloader (torch.utils.data.DataLoader): training dataloder from training dataset\n",
        "      test_dataloader (torch.utils.data.DataLoader): testing dataloder from testing dataset\n",
        "      loss_fn (nn.Module): Loss Function (object) of your choice\n",
        "      acc_fn (torchmetrics.classification.accuracy.MulticlassAccuracy): accuracy function from trochmetrics\n",
        "      device (str): Torch Device \"CPU/GPU\"\n",
        "      epochs (int): number of epochs to train the model\n",
        "      save_info (str): info for saving model\n",
        "      profiler (torch.profiler.profile, optional): Pytorch Profiler. Defaults to None.\n",
        "    Returns:\n",
        "      result_dict ({str: List[float]}): testing loss and testing accuracy for one EPOCH\n",
        "    \"\"\"\n",
        "    # 1. init. result dict\n",
        "    result_dict = {\"train_loss\": [], \"train_acc\": [], \"test_loss\": [], \"test_acc\": []}\n",
        "    best_test_acc = 0\n",
        "    best_model_params = None\n",
        "\n",
        "    # 2. loop in range epochs performs train and test steps on the model\n",
        "    for epoch in tqdm(range(epochs)):\n",
        "        train_loss, train_acc = training_step(\n",
        "            model=model,\n",
        "            dataloader=train_dataloader,\n",
        "            loss_fn=loss_fn,\n",
        "            acc_fn=acc_fn,\n",
        "            optimizer=optimizer,\n",
        "            device=device,\n",
        "            profiler=profiler,\n",
        "        )\n",
        "\n",
        "        test_loss, test_acc = testing_step(\n",
        "            model=model,\n",
        "            dataloader=test_dataloader,\n",
        "            loss_fn=loss_fn,\n",
        "            acc_fn=acc_fn,\n",
        "            device=device,\n",
        "        )\n",
        "\n",
        "        # 3. print out results\n",
        "        print(\n",
        "            f\"Epoch: {epoch+1} | \"\n",
        "            f\"train_loss: {train_loss:.4f} | \"\n",
        "            f\"train_acc: {train_acc:.4f} | \"\n",
        "            f\"test_loss: {test_loss:.4f} | \"\n",
        "            f\"test_acc: {test_acc:.4f}\"\n",
        "        )\n",
        "\n",
        "        # 4. adding results to result_dict\n",
        "        result_dict[\"train_loss\"].append(train_loss)\n",
        "        result_dict[\"train_acc\"].append(train_acc)\n",
        "        result_dict[\"test_loss\"].append(test_loss)\n",
        "        result_dict[\"test_acc\"].append(test_acc)\n",
        "        \n",
        "        if test_acc > best_test_acc:\n",
        "            best_test_acc = test_acc\n",
        "            best_model_params = model.state_dict()\n",
        "\n",
        "    # 5. saving the best model\n",
        "    torch.save(best_model_params, f\"{model.__class__.__name__}_epoch_{epochs}_optim_adam_\"+save_info+\".pth\")\n",
        "    # 6. return result dict\n",
        "    return result_dict"
      ]
    },
    {
      "cell_type": "markdown",
      "metadata": {
        "id": "ssQqlgtpV32J"
      },
      "source": [
        "## Plot graph"
      ]
    },
    {
      "cell_type": "code",
      "execution_count": null,
      "metadata": {
        "id": "0tQOWopaV6fs"
      },
      "outputs": [],
      "source": [
        "def plot_graph(train_losses, test_losses, train_accs, test_accs):\n",
        "  plt.figure(figsize = (20, 8))\n",
        "  plt.subplot(1, 2, 1)\n",
        "  plt.plot(range(len(train_losses)), train_losses, label = \"Train Loss\")\n",
        "  plt.plot(range(len(test_losses)), test_losses, label = \"Test Loss\")\n",
        "  plt.legend()\n",
        "  plt.xlabel(\"Epoches\")\n",
        "  plt.ylabel(\"Loss\")\n",
        "  # plt.show()\n",
        "\n",
        "  plt.subplot(1, 2, 2)\n",
        "  plt.plot(range(len(train_accs)), train_accs, label = \"Train Accuracy\")\n",
        "  plt.plot(range(len(test_accs)), test_accs, label = \"Test Accuracy\")\n",
        "  plt.legend()\n",
        "  plt.xlabel(\"Epoches\")\n",
        "  plt.ylabel(\"Accuracy\")\n",
        "  plt.show()"
      ]
    },
    {
      "cell_type": "markdown",
      "metadata": {
        "id": "chyuvfSsT9X6"
      },
      "source": [
        "## Load model"
      ]
    },
    {
      "cell_type": "code",
      "execution_count": null,
      "metadata": {
        "colab": {
          "base_uri": "https://localhost:8080/"
        },
        "id": "a8G_ozilUcpt",
        "outputId": "c04bbf7b-7c94-417d-8c54-385764f53276"
      },
      "outputs": [],
      "source": [
        "model_18 = models.resnet18(weights = models.ResNet18_Weights.IMAGENET1K_V1, progress = False).to(device)\n",
        "model_18.conv1 = torch.nn.Conv2d(1, 64, kernel_size=(7, 7), stride=(2, 2), padding=(3, 3), bias=False).to(device)\n",
        "feature_number = model_18.fc.in_features\n",
        "model_18.fc = nn.Linear(feature_number, len(class_name)).to(device)\n",
        "\n",
        "model_18"
      ]
    },
    {
      "cell_type": "markdown",
      "metadata": {
        "id": "e5uUffD0VNUY"
      },
      "source": [
        "## Loss and Accuracy Function"
      ]
    },
    {
      "cell_type": "code",
      "execution_count": null,
      "metadata": {
        "id": "HCvZH6ASVZD9"
      },
      "outputs": [],
      "source": [
        "# loss and accuracy function\n",
        "loss_fn = nn.CrossEntropyLoss()\n",
        "\n",
        "accuracy_fn = Accuracy(\"multiclass\",num_classes = len(class_name)).to(device)"
      ]
    },
    {
      "cell_type": "markdown",
      "metadata": {
        "id": "ccbmNURzAw85"
      },
      "source": [
        "## Train resnet18"
      ]
    },
    {
      "cell_type": "code",
      "execution_count": null,
      "metadata": {
        "colab": {
          "base_uri": "https://localhost:8080/",
          "height": 1000,
          "referenced_widgets": [
            "18c577370a4d4a2287cb5a01ad461cc1",
            "e2ddfaa3b3434ed0a02fbdd5c6f60e62",
            "504a059a397f4a9c9ec7812e4c8f9292",
            "20b561adbb0c4c9abee3aaed8bcde6ca",
            "e8d6f3fd28864f489f229c3dc35305c5",
            "d8ee44e1280c498a9d41de59cf9313cf",
            "6580e4199b2746b2b184f6f20e85d3e5",
            "affd7b8ec1a9477894456cb00135709f",
            "d9102946aa224c6d97c1011d854c88c9",
            "4134205c89924d70b540076e4aedeb5e",
            "c0a1419ff31a49e4b18c2c4978c2dcec"
          ]
        },
        "id": "iSUITmbgOGaC",
        "outputId": "24fd997d-b6b5-4768-854f-b0526bd2f4ce"
      },
      "outputs": [],
      "source": [
        "# init. epochs\n",
        "epoches = 15\n",
        "\n",
        "\n",
        "model_18 = models.resnet18(weights = 'DEFAULT', progress = False)\n",
        "model_18.conv1 = torch.nn.Conv2d(1, 64, kernel_size=(7, 7), stride=(2, 2), padding=(3, 3), bias=False)\n",
        "feature_number = model_18.fc.in_features\n",
        "model_18.fc = nn.Linear(feature_number, len(class_name))\n",
        "model_18 = model_18.to(device)\n",
        "\n",
        "\n",
        "optimizer = torch.optim.Adam(params = model_18.parameters(), lr = 1e-3)\n",
        "\n",
        "model_18_train_loss, model_18_test_loss = [], []\n",
        "model_18_train_accs, model_18_test_accs = [], []\n",
        "print()\n",
        "\n",
        "start_time = timer()\n",
        "torch.manual_seed(64)\n",
        "torch.cuda.manual_seed(64)\n",
        "for epoch in tqdm(range(epoches)):\n",
        "  print(f\"Epoch: {epoch+1}\")\n",
        "  train_loss, train_acc = training_step(\n",
        "      model = model_18,\n",
        "      dataloader = train_dataloader,\n",
        "      loss_fn = loss_fn,\n",
        "      optimizer = optimizer,\n",
        "      accuracy_fn = accuracy_fn,\n",
        "      device = device\n",
        "      )\n",
        "  \n",
        "  test_loss, test_acc = testing_step(\n",
        "      model = model_18, \n",
        "      dataloader = gen_test_dataloader,\n",
        "      loss_fn = loss_fn,\n",
        "      accuracy_fn = accuracy_fn,\n",
        "      device = device\n",
        "      )\n",
        "  \n",
        "  model_18_train_loss.append(train_loss.item())\n",
        "  model_18_test_loss.append(test_loss.item())\n",
        "  model_18_train_accs.append(train_acc.item())\n",
        "  model_18_test_accs.append(test_acc.item())\n",
        "\n",
        "\n",
        "  print(f\"Train Loss: {train_loss:.4f} | Test Loss: {test_loss:.4f} | Train Accuray: {train_acc:.4f} | Test Accuracy: {test_acc:.4f}\")\n",
        "  print()\n",
        "\n",
        "plot_graph(model_18_train_loss, model_18_test_loss, model_18_train_accs, model_18_test_accs)\n",
        "\n",
        "end_time = timer()\n",
        "\n",
        "print(f\"Execution time: {end_time - start_time} Seconds.\")"
      ]
    },
    {
      "cell_type": "markdown",
      "metadata": {
        "id": "1j7rAClKceZV"
      },
      "source": [
        "## F1 Score"
      ]
    },
    {
      "cell_type": "code",
      "execution_count": null,
      "metadata": {
        "colab": {
          "base_uri": "https://localhost:8080/",
          "height": 66,
          "referenced_widgets": [
            "535fb05393a14c97a4d7b9dd5e793fc5",
            "7ba809770e4b4dca8f3073dd2ce6da88",
            "cce79375114b4927a7ee86d1e9b53ca5",
            "6c540b60eee74f78a8447d4015f7f1bd",
            "bcfaccb8db324032a8ed3f12f151e88c",
            "1a19d13d669b482ba5a7a5ba3cdab0f2",
            "1e3f4dc73e22489bb40de0c6436c9e07",
            "2b2610d6bf51437ba4be6f872df8bd16",
            "369f2e1484144043b6b3836b7d96d5b6",
            "7deb98b915884b04bf75340e4ec79c2d",
            "46f53a7436e546ca8a4978ff3e444c37"
          ]
        },
        "id": "e2vBCJSsOJim",
        "outputId": "0f1a396f-ff9c-4a49-959b-04f6643c745d"
      },
      "outputs": [],
      "source": [
        "from torchmetrics.classification import MulticlassF1Score\n",
        "\n",
        "\n",
        "y_preds = []\n",
        "target = []\n",
        "with torch.inference_mode():\n",
        "  for x, y in tqdm(gen_test_dataloader, desc = \"Making prediction...\"):\n",
        "    y = y.squeeze()\n",
        "    y = y.type(torch.LongTensor)\n",
        "    x, y = x.to(device), y.to(device)\n",
        "\n",
        "    logit = model_18(x)\n",
        "    pred = torch.softmax(logit.squeeze(), dim = 1).argmax(dim = 1)\n",
        "\n",
        "    y_preds.append(pred)\n",
        "    target.append(y)\n",
        "\n",
        "y_tensor_preds = torch.cat(y_preds).to(device)\n",
        "target_val = torch.cat(target).to(device)\n",
        "\n",
        "\n",
        "metric = MulticlassF1Score(len(class_name)).to(device)\n",
        "metric(target_val, y_tensor_preds)\n"
      ]
    },
    {
      "cell_type": "markdown",
      "metadata": {
        "id": "0W1-zHQSctZC"
      },
      "source": [
        "## Confusion Matrix"
      ]
    },
    {
      "cell_type": "code",
      "execution_count": null,
      "metadata": {
        "colab": {
          "base_uri": "https://localhost:8080/",
          "height": 879
        },
        "id": "Nf0fEjvcOLl4",
        "outputId": "4dcf6150-97c5-4b81-d231-e98a803deca2"
      },
      "outputs": [],
      "source": [
        "from torchmetrics import ConfusionMatrix\n",
        "from mlxtend.plotting import plot_confusion_matrix\n",
        "\n",
        "confmat = ConfusionMatrix(num_classes = len(class_name), task = 'multiclass')\n",
        "confmat_tensor = confmat(preds = y_tensor_preds.cpu(), target = target_val.cpu())\n",
        "\n",
        "fix, ax = plot_confusion_matrix(conf_mat = confmat_tensor.numpy(), figsize = (13,13))"
      ]
    }
  ],
  "metadata": {
    "colab": {
      "provenance": []
    },
    "gpuClass": "standard",
    "kernelspec": {
      "display_name": "Python 3",
      "name": "python3"
    },
    "language_info": {
      "name": "python"
    },
    "widgets": {
      "application/vnd.jupyter.widget-state+json": {
        "0791b7404f9143ea8caa52d84ad1b30d": {
          "model_module": "@jupyter-widgets/controls",
          "model_module_version": "1.5.0",
          "model_name": "ProgressStyleModel",
          "state": {
            "_model_module": "@jupyter-widgets/controls",
            "_model_module_version": "1.5.0",
            "_model_name": "ProgressStyleModel",
            "_view_count": null,
            "_view_module": "@jupyter-widgets/base",
            "_view_module_version": "1.2.0",
            "_view_name": "StyleView",
            "bar_color": null,
            "description_width": ""
          }
        },
        "0b9df0d2813045efbf901430b4cb61f8": {
          "model_module": "@jupyter-widgets/controls",
          "model_module_version": "1.5.0",
          "model_name": "DescriptionStyleModel",
          "state": {
            "_model_module": "@jupyter-widgets/controls",
            "_model_module_version": "1.5.0",
            "_model_name": "DescriptionStyleModel",
            "_view_count": null,
            "_view_module": "@jupyter-widgets/base",
            "_view_module_version": "1.2.0",
            "_view_name": "StyleView",
            "description_width": ""
          }
        },
        "18c577370a4d4a2287cb5a01ad461cc1": {
          "model_module": "@jupyter-widgets/controls",
          "model_module_version": "1.5.0",
          "model_name": "HBoxModel",
          "state": {
            "_dom_classes": [],
            "_model_module": "@jupyter-widgets/controls",
            "_model_module_version": "1.5.0",
            "_model_name": "HBoxModel",
            "_view_count": null,
            "_view_module": "@jupyter-widgets/controls",
            "_view_module_version": "1.5.0",
            "_view_name": "HBoxView",
            "box_style": "",
            "children": [
              "IPY_MODEL_e2ddfaa3b3434ed0a02fbdd5c6f60e62",
              "IPY_MODEL_504a059a397f4a9c9ec7812e4c8f9292",
              "IPY_MODEL_20b561adbb0c4c9abee3aaed8bcde6ca"
            ],
            "layout": "IPY_MODEL_e8d6f3fd28864f489f229c3dc35305c5"
          }
        },
        "1a19d13d669b482ba5a7a5ba3cdab0f2": {
          "model_module": "@jupyter-widgets/base",
          "model_module_version": "1.2.0",
          "model_name": "LayoutModel",
          "state": {
            "_model_module": "@jupyter-widgets/base",
            "_model_module_version": "1.2.0",
            "_model_name": "LayoutModel",
            "_view_count": null,
            "_view_module": "@jupyter-widgets/base",
            "_view_module_version": "1.2.0",
            "_view_name": "LayoutView",
            "align_content": null,
            "align_items": null,
            "align_self": null,
            "border": null,
            "bottom": null,
            "display": null,
            "flex": null,
            "flex_flow": null,
            "grid_area": null,
            "grid_auto_columns": null,
            "grid_auto_flow": null,
            "grid_auto_rows": null,
            "grid_column": null,
            "grid_gap": null,
            "grid_row": null,
            "grid_template_areas": null,
            "grid_template_columns": null,
            "grid_template_rows": null,
            "height": null,
            "justify_content": null,
            "justify_items": null,
            "left": null,
            "margin": null,
            "max_height": null,
            "max_width": null,
            "min_height": null,
            "min_width": null,
            "object_fit": null,
            "object_position": null,
            "order": null,
            "overflow": null,
            "overflow_x": null,
            "overflow_y": null,
            "padding": null,
            "right": null,
            "top": null,
            "visibility": null,
            "width": null
          }
        },
        "1e3f4dc73e22489bb40de0c6436c9e07": {
          "model_module": "@jupyter-widgets/controls",
          "model_module_version": "1.5.0",
          "model_name": "DescriptionStyleModel",
          "state": {
            "_model_module": "@jupyter-widgets/controls",
            "_model_module_version": "1.5.0",
            "_model_name": "DescriptionStyleModel",
            "_view_count": null,
            "_view_module": "@jupyter-widgets/base",
            "_view_module_version": "1.2.0",
            "_view_name": "StyleView",
            "description_width": ""
          }
        },
        "20b561adbb0c4c9abee3aaed8bcde6ca": {
          "model_module": "@jupyter-widgets/controls",
          "model_module_version": "1.5.0",
          "model_name": "HTMLModel",
          "state": {
            "_dom_classes": [],
            "_model_module": "@jupyter-widgets/controls",
            "_model_module_version": "1.5.0",
            "_model_name": "HTMLModel",
            "_view_count": null,
            "_view_module": "@jupyter-widgets/controls",
            "_view_module_version": "1.5.0",
            "_view_name": "HTMLView",
            "description": "",
            "description_tooltip": null,
            "layout": "IPY_MODEL_4134205c89924d70b540076e4aedeb5e",
            "placeholder": "​",
            "style": "IPY_MODEL_c0a1419ff31a49e4b18c2c4978c2dcec",
            "value": " 15/15 [12:49&lt;00:00, 51.29s/it]"
          }
        },
        "2b2610d6bf51437ba4be6f872df8bd16": {
          "model_module": "@jupyter-widgets/base",
          "model_module_version": "1.2.0",
          "model_name": "LayoutModel",
          "state": {
            "_model_module": "@jupyter-widgets/base",
            "_model_module_version": "1.2.0",
            "_model_name": "LayoutModel",
            "_view_count": null,
            "_view_module": "@jupyter-widgets/base",
            "_view_module_version": "1.2.0",
            "_view_name": "LayoutView",
            "align_content": null,
            "align_items": null,
            "align_self": null,
            "border": null,
            "bottom": null,
            "display": null,
            "flex": null,
            "flex_flow": null,
            "grid_area": null,
            "grid_auto_columns": null,
            "grid_auto_flow": null,
            "grid_auto_rows": null,
            "grid_column": null,
            "grid_gap": null,
            "grid_row": null,
            "grid_template_areas": null,
            "grid_template_columns": null,
            "grid_template_rows": null,
            "height": null,
            "justify_content": null,
            "justify_items": null,
            "left": null,
            "margin": null,
            "max_height": null,
            "max_width": null,
            "min_height": null,
            "min_width": null,
            "object_fit": null,
            "object_position": null,
            "order": null,
            "overflow": null,
            "overflow_x": null,
            "overflow_y": null,
            "padding": null,
            "right": null,
            "top": null,
            "visibility": null,
            "width": null
          }
        },
        "301513af6dde4f318a25b0d978ae8784": {
          "model_module": "@jupyter-widgets/controls",
          "model_module_version": "1.5.0",
          "model_name": "HTMLModel",
          "state": {
            "_dom_classes": [],
            "_model_module": "@jupyter-widgets/controls",
            "_model_module_version": "1.5.0",
            "_model_name": "HTMLModel",
            "_view_count": null,
            "_view_module": "@jupyter-widgets/controls",
            "_view_module_version": "1.5.0",
            "_view_name": "HTMLView",
            "description": "",
            "description_tooltip": null,
            "layout": "IPY_MODEL_59612346f01f4935b6ac59223518bba7",
            "placeholder": "​",
            "style": "IPY_MODEL_ffb88c3b7a074428901eb93df602b389",
            "value": "100%"
          }
        },
        "369f2e1484144043b6b3836b7d96d5b6": {
          "model_module": "@jupyter-widgets/controls",
          "model_module_version": "1.5.0",
          "model_name": "ProgressStyleModel",
          "state": {
            "_model_module": "@jupyter-widgets/controls",
            "_model_module_version": "1.5.0",
            "_model_name": "ProgressStyleModel",
            "_view_count": null,
            "_view_module": "@jupyter-widgets/base",
            "_view_module_version": "1.2.0",
            "_view_name": "StyleView",
            "bar_color": null,
            "description_width": ""
          }
        },
        "4134205c89924d70b540076e4aedeb5e": {
          "model_module": "@jupyter-widgets/base",
          "model_module_version": "1.2.0",
          "model_name": "LayoutModel",
          "state": {
            "_model_module": "@jupyter-widgets/base",
            "_model_module_version": "1.2.0",
            "_model_name": "LayoutModel",
            "_view_count": null,
            "_view_module": "@jupyter-widgets/base",
            "_view_module_version": "1.2.0",
            "_view_name": "LayoutView",
            "align_content": null,
            "align_items": null,
            "align_self": null,
            "border": null,
            "bottom": null,
            "display": null,
            "flex": null,
            "flex_flow": null,
            "grid_area": null,
            "grid_auto_columns": null,
            "grid_auto_flow": null,
            "grid_auto_rows": null,
            "grid_column": null,
            "grid_gap": null,
            "grid_row": null,
            "grid_template_areas": null,
            "grid_template_columns": null,
            "grid_template_rows": null,
            "height": null,
            "justify_content": null,
            "justify_items": null,
            "left": null,
            "margin": null,
            "max_height": null,
            "max_width": null,
            "min_height": null,
            "min_width": null,
            "object_fit": null,
            "object_position": null,
            "order": null,
            "overflow": null,
            "overflow_x": null,
            "overflow_y": null,
            "padding": null,
            "right": null,
            "top": null,
            "visibility": null,
            "width": null
          }
        },
        "46f53a7436e546ca8a4978ff3e444c37": {
          "model_module": "@jupyter-widgets/controls",
          "model_module_version": "1.5.0",
          "model_name": "DescriptionStyleModel",
          "state": {
            "_model_module": "@jupyter-widgets/controls",
            "_model_module_version": "1.5.0",
            "_model_name": "DescriptionStyleModel",
            "_view_count": null,
            "_view_module": "@jupyter-widgets/base",
            "_view_module_version": "1.2.0",
            "_view_name": "StyleView",
            "description_width": ""
          }
        },
        "4868fdbe88774ced8b228064a53b35a9": {
          "model_module": "@jupyter-widgets/controls",
          "model_module_version": "1.5.0",
          "model_name": "FloatProgressModel",
          "state": {
            "_dom_classes": [],
            "_model_module": "@jupyter-widgets/controls",
            "_model_module_version": "1.5.0",
            "_model_name": "FloatProgressModel",
            "_view_count": null,
            "_view_module": "@jupyter-widgets/controls",
            "_view_module_version": "1.5.0",
            "_view_name": "ProgressView",
            "bar_style": "success",
            "description": "",
            "description_tooltip": null,
            "layout": "IPY_MODEL_56ba54eb46f34b52b1f5a0a9c1ab2f62",
            "max": 64,
            "min": 0,
            "orientation": "horizontal",
            "style": "IPY_MODEL_0791b7404f9143ea8caa52d84ad1b30d",
            "value": 64
          }
        },
        "4f7b978d882a46109e23885262269b78": {
          "model_module": "@jupyter-widgets/controls",
          "model_module_version": "1.5.0",
          "model_name": "HTMLModel",
          "state": {
            "_dom_classes": [],
            "_model_module": "@jupyter-widgets/controls",
            "_model_module_version": "1.5.0",
            "_model_name": "HTMLModel",
            "_view_count": null,
            "_view_module": "@jupyter-widgets/controls",
            "_view_module_version": "1.5.0",
            "_view_name": "HTMLView",
            "description": "",
            "description_tooltip": null,
            "layout": "IPY_MODEL_b1a8099f006848cbb103aa409337228a",
            "placeholder": "​",
            "style": "IPY_MODEL_0b9df0d2813045efbf901430b4cb61f8",
            "value": " 64/64 [1:33:59&lt;00:00, 88.10s/it]"
          }
        },
        "504a059a397f4a9c9ec7812e4c8f9292": {
          "model_module": "@jupyter-widgets/controls",
          "model_module_version": "1.5.0",
          "model_name": "FloatProgressModel",
          "state": {
            "_dom_classes": [],
            "_model_module": "@jupyter-widgets/controls",
            "_model_module_version": "1.5.0",
            "_model_name": "FloatProgressModel",
            "_view_count": null,
            "_view_module": "@jupyter-widgets/controls",
            "_view_module_version": "1.5.0",
            "_view_name": "ProgressView",
            "bar_style": "success",
            "description": "",
            "description_tooltip": null,
            "layout": "IPY_MODEL_affd7b8ec1a9477894456cb00135709f",
            "max": 15,
            "min": 0,
            "orientation": "horizontal",
            "style": "IPY_MODEL_d9102946aa224c6d97c1011d854c88c9",
            "value": 15
          }
        },
        "535fb05393a14c97a4d7b9dd5e793fc5": {
          "model_module": "@jupyter-widgets/controls",
          "model_module_version": "1.5.0",
          "model_name": "HBoxModel",
          "state": {
            "_dom_classes": [],
            "_model_module": "@jupyter-widgets/controls",
            "_model_module_version": "1.5.0",
            "_model_name": "HBoxModel",
            "_view_count": null,
            "_view_module": "@jupyter-widgets/controls",
            "_view_module_version": "1.5.0",
            "_view_name": "HBoxView",
            "box_style": "",
            "children": [
              "IPY_MODEL_7ba809770e4b4dca8f3073dd2ce6da88",
              "IPY_MODEL_cce79375114b4927a7ee86d1e9b53ca5",
              "IPY_MODEL_6c540b60eee74f78a8447d4015f7f1bd"
            ],
            "layout": "IPY_MODEL_bcfaccb8db324032a8ed3f12f151e88c"
          }
        },
        "54ed9f72ba604672bb18781feed666a7": {
          "model_module": "@jupyter-widgets/base",
          "model_module_version": "1.2.0",
          "model_name": "LayoutModel",
          "state": {
            "_model_module": "@jupyter-widgets/base",
            "_model_module_version": "1.2.0",
            "_model_name": "LayoutModel",
            "_view_count": null,
            "_view_module": "@jupyter-widgets/base",
            "_view_module_version": "1.2.0",
            "_view_name": "LayoutView",
            "align_content": null,
            "align_items": null,
            "align_self": null,
            "border": null,
            "bottom": null,
            "display": null,
            "flex": null,
            "flex_flow": null,
            "grid_area": null,
            "grid_auto_columns": null,
            "grid_auto_flow": null,
            "grid_auto_rows": null,
            "grid_column": null,
            "grid_gap": null,
            "grid_row": null,
            "grid_template_areas": null,
            "grid_template_columns": null,
            "grid_template_rows": null,
            "height": null,
            "justify_content": null,
            "justify_items": null,
            "left": null,
            "margin": null,
            "max_height": null,
            "max_width": null,
            "min_height": null,
            "min_width": null,
            "object_fit": null,
            "object_position": null,
            "order": null,
            "overflow": null,
            "overflow_x": null,
            "overflow_y": null,
            "padding": null,
            "right": null,
            "top": null,
            "visibility": null,
            "width": null
          }
        },
        "56ba54eb46f34b52b1f5a0a9c1ab2f62": {
          "model_module": "@jupyter-widgets/base",
          "model_module_version": "1.2.0",
          "model_name": "LayoutModel",
          "state": {
            "_model_module": "@jupyter-widgets/base",
            "_model_module_version": "1.2.0",
            "_model_name": "LayoutModel",
            "_view_count": null,
            "_view_module": "@jupyter-widgets/base",
            "_view_module_version": "1.2.0",
            "_view_name": "LayoutView",
            "align_content": null,
            "align_items": null,
            "align_self": null,
            "border": null,
            "bottom": null,
            "display": null,
            "flex": null,
            "flex_flow": null,
            "grid_area": null,
            "grid_auto_columns": null,
            "grid_auto_flow": null,
            "grid_auto_rows": null,
            "grid_column": null,
            "grid_gap": null,
            "grid_row": null,
            "grid_template_areas": null,
            "grid_template_columns": null,
            "grid_template_rows": null,
            "height": null,
            "justify_content": null,
            "justify_items": null,
            "left": null,
            "margin": null,
            "max_height": null,
            "max_width": null,
            "min_height": null,
            "min_width": null,
            "object_fit": null,
            "object_position": null,
            "order": null,
            "overflow": null,
            "overflow_x": null,
            "overflow_y": null,
            "padding": null,
            "right": null,
            "top": null,
            "visibility": null,
            "width": null
          }
        },
        "59612346f01f4935b6ac59223518bba7": {
          "model_module": "@jupyter-widgets/base",
          "model_module_version": "1.2.0",
          "model_name": "LayoutModel",
          "state": {
            "_model_module": "@jupyter-widgets/base",
            "_model_module_version": "1.2.0",
            "_model_name": "LayoutModel",
            "_view_count": null,
            "_view_module": "@jupyter-widgets/base",
            "_view_module_version": "1.2.0",
            "_view_name": "LayoutView",
            "align_content": null,
            "align_items": null,
            "align_self": null,
            "border": null,
            "bottom": null,
            "display": null,
            "flex": null,
            "flex_flow": null,
            "grid_area": null,
            "grid_auto_columns": null,
            "grid_auto_flow": null,
            "grid_auto_rows": null,
            "grid_column": null,
            "grid_gap": null,
            "grid_row": null,
            "grid_template_areas": null,
            "grid_template_columns": null,
            "grid_template_rows": null,
            "height": null,
            "justify_content": null,
            "justify_items": null,
            "left": null,
            "margin": null,
            "max_height": null,
            "max_width": null,
            "min_height": null,
            "min_width": null,
            "object_fit": null,
            "object_position": null,
            "order": null,
            "overflow": null,
            "overflow_x": null,
            "overflow_y": null,
            "padding": null,
            "right": null,
            "top": null,
            "visibility": null,
            "width": null
          }
        },
        "6580e4199b2746b2b184f6f20e85d3e5": {
          "model_module": "@jupyter-widgets/controls",
          "model_module_version": "1.5.0",
          "model_name": "DescriptionStyleModel",
          "state": {
            "_model_module": "@jupyter-widgets/controls",
            "_model_module_version": "1.5.0",
            "_model_name": "DescriptionStyleModel",
            "_view_count": null,
            "_view_module": "@jupyter-widgets/base",
            "_view_module_version": "1.2.0",
            "_view_name": "StyleView",
            "description_width": ""
          }
        },
        "6c540b60eee74f78a8447d4015f7f1bd": {
          "model_module": "@jupyter-widgets/controls",
          "model_module_version": "1.5.0",
          "model_name": "HTMLModel",
          "state": {
            "_dom_classes": [],
            "_model_module": "@jupyter-widgets/controls",
            "_model_module_version": "1.5.0",
            "_model_name": "HTMLModel",
            "_view_count": null,
            "_view_module": "@jupyter-widgets/controls",
            "_view_module_version": "1.5.0",
            "_view_name": "HTMLView",
            "description": "",
            "description_tooltip": null,
            "layout": "IPY_MODEL_7deb98b915884b04bf75340e4ec79c2d",
            "placeholder": "​",
            "style": "IPY_MODEL_46f53a7436e546ca8a4978ff3e444c37",
            "value": " 72/72 [00:00&lt;00:00, 236.04it/s]"
          }
        },
        "7ba809770e4b4dca8f3073dd2ce6da88": {
          "model_module": "@jupyter-widgets/controls",
          "model_module_version": "1.5.0",
          "model_name": "HTMLModel",
          "state": {
            "_dom_classes": [],
            "_model_module": "@jupyter-widgets/controls",
            "_model_module_version": "1.5.0",
            "_model_name": "HTMLModel",
            "_view_count": null,
            "_view_module": "@jupyter-widgets/controls",
            "_view_module_version": "1.5.0",
            "_view_name": "HTMLView",
            "description": "",
            "description_tooltip": null,
            "layout": "IPY_MODEL_1a19d13d669b482ba5a7a5ba3cdab0f2",
            "placeholder": "​",
            "style": "IPY_MODEL_1e3f4dc73e22489bb40de0c6436c9e07",
            "value": "Making prediction...: 100%"
          }
        },
        "7deb98b915884b04bf75340e4ec79c2d": {
          "model_module": "@jupyter-widgets/base",
          "model_module_version": "1.2.0",
          "model_name": "LayoutModel",
          "state": {
            "_model_module": "@jupyter-widgets/base",
            "_model_module_version": "1.2.0",
            "_model_name": "LayoutModel",
            "_view_count": null,
            "_view_module": "@jupyter-widgets/base",
            "_view_module_version": "1.2.0",
            "_view_name": "LayoutView",
            "align_content": null,
            "align_items": null,
            "align_self": null,
            "border": null,
            "bottom": null,
            "display": null,
            "flex": null,
            "flex_flow": null,
            "grid_area": null,
            "grid_auto_columns": null,
            "grid_auto_flow": null,
            "grid_auto_rows": null,
            "grid_column": null,
            "grid_gap": null,
            "grid_row": null,
            "grid_template_areas": null,
            "grid_template_columns": null,
            "grid_template_rows": null,
            "height": null,
            "justify_content": null,
            "justify_items": null,
            "left": null,
            "margin": null,
            "max_height": null,
            "max_width": null,
            "min_height": null,
            "min_width": null,
            "object_fit": null,
            "object_position": null,
            "order": null,
            "overflow": null,
            "overflow_x": null,
            "overflow_y": null,
            "padding": null,
            "right": null,
            "top": null,
            "visibility": null,
            "width": null
          }
        },
        "8ac56d99d4734880a0a6158913ade26a": {
          "model_module": "@jupyter-widgets/controls",
          "model_module_version": "1.5.0",
          "model_name": "HBoxModel",
          "state": {
            "_dom_classes": [],
            "_model_module": "@jupyter-widgets/controls",
            "_model_module_version": "1.5.0",
            "_model_name": "HBoxModel",
            "_view_count": null,
            "_view_module": "@jupyter-widgets/controls",
            "_view_module_version": "1.5.0",
            "_view_name": "HBoxView",
            "box_style": "",
            "children": [
              "IPY_MODEL_301513af6dde4f318a25b0d978ae8784",
              "IPY_MODEL_4868fdbe88774ced8b228064a53b35a9",
              "IPY_MODEL_4f7b978d882a46109e23885262269b78"
            ],
            "layout": "IPY_MODEL_54ed9f72ba604672bb18781feed666a7"
          }
        },
        "affd7b8ec1a9477894456cb00135709f": {
          "model_module": "@jupyter-widgets/base",
          "model_module_version": "1.2.0",
          "model_name": "LayoutModel",
          "state": {
            "_model_module": "@jupyter-widgets/base",
            "_model_module_version": "1.2.0",
            "_model_name": "LayoutModel",
            "_view_count": null,
            "_view_module": "@jupyter-widgets/base",
            "_view_module_version": "1.2.0",
            "_view_name": "LayoutView",
            "align_content": null,
            "align_items": null,
            "align_self": null,
            "border": null,
            "bottom": null,
            "display": null,
            "flex": null,
            "flex_flow": null,
            "grid_area": null,
            "grid_auto_columns": null,
            "grid_auto_flow": null,
            "grid_auto_rows": null,
            "grid_column": null,
            "grid_gap": null,
            "grid_row": null,
            "grid_template_areas": null,
            "grid_template_columns": null,
            "grid_template_rows": null,
            "height": null,
            "justify_content": null,
            "justify_items": null,
            "left": null,
            "margin": null,
            "max_height": null,
            "max_width": null,
            "min_height": null,
            "min_width": null,
            "object_fit": null,
            "object_position": null,
            "order": null,
            "overflow": null,
            "overflow_x": null,
            "overflow_y": null,
            "padding": null,
            "right": null,
            "top": null,
            "visibility": null,
            "width": null
          }
        },
        "b1a8099f006848cbb103aa409337228a": {
          "model_module": "@jupyter-widgets/base",
          "model_module_version": "1.2.0",
          "model_name": "LayoutModel",
          "state": {
            "_model_module": "@jupyter-widgets/base",
            "_model_module_version": "1.2.0",
            "_model_name": "LayoutModel",
            "_view_count": null,
            "_view_module": "@jupyter-widgets/base",
            "_view_module_version": "1.2.0",
            "_view_name": "LayoutView",
            "align_content": null,
            "align_items": null,
            "align_self": null,
            "border": null,
            "bottom": null,
            "display": null,
            "flex": null,
            "flex_flow": null,
            "grid_area": null,
            "grid_auto_columns": null,
            "grid_auto_flow": null,
            "grid_auto_rows": null,
            "grid_column": null,
            "grid_gap": null,
            "grid_row": null,
            "grid_template_areas": null,
            "grid_template_columns": null,
            "grid_template_rows": null,
            "height": null,
            "justify_content": null,
            "justify_items": null,
            "left": null,
            "margin": null,
            "max_height": null,
            "max_width": null,
            "min_height": null,
            "min_width": null,
            "object_fit": null,
            "object_position": null,
            "order": null,
            "overflow": null,
            "overflow_x": null,
            "overflow_y": null,
            "padding": null,
            "right": null,
            "top": null,
            "visibility": null,
            "width": null
          }
        },
        "bcfaccb8db324032a8ed3f12f151e88c": {
          "model_module": "@jupyter-widgets/base",
          "model_module_version": "1.2.0",
          "model_name": "LayoutModel",
          "state": {
            "_model_module": "@jupyter-widgets/base",
            "_model_module_version": "1.2.0",
            "_model_name": "LayoutModel",
            "_view_count": null,
            "_view_module": "@jupyter-widgets/base",
            "_view_module_version": "1.2.0",
            "_view_name": "LayoutView",
            "align_content": null,
            "align_items": null,
            "align_self": null,
            "border": null,
            "bottom": null,
            "display": null,
            "flex": null,
            "flex_flow": null,
            "grid_area": null,
            "grid_auto_columns": null,
            "grid_auto_flow": null,
            "grid_auto_rows": null,
            "grid_column": null,
            "grid_gap": null,
            "grid_row": null,
            "grid_template_areas": null,
            "grid_template_columns": null,
            "grid_template_rows": null,
            "height": null,
            "justify_content": null,
            "justify_items": null,
            "left": null,
            "margin": null,
            "max_height": null,
            "max_width": null,
            "min_height": null,
            "min_width": null,
            "object_fit": null,
            "object_position": null,
            "order": null,
            "overflow": null,
            "overflow_x": null,
            "overflow_y": null,
            "padding": null,
            "right": null,
            "top": null,
            "visibility": null,
            "width": null
          }
        },
        "c0a1419ff31a49e4b18c2c4978c2dcec": {
          "model_module": "@jupyter-widgets/controls",
          "model_module_version": "1.5.0",
          "model_name": "DescriptionStyleModel",
          "state": {
            "_model_module": "@jupyter-widgets/controls",
            "_model_module_version": "1.5.0",
            "_model_name": "DescriptionStyleModel",
            "_view_count": null,
            "_view_module": "@jupyter-widgets/base",
            "_view_module_version": "1.2.0",
            "_view_name": "StyleView",
            "description_width": ""
          }
        },
        "cce79375114b4927a7ee86d1e9b53ca5": {
          "model_module": "@jupyter-widgets/controls",
          "model_module_version": "1.5.0",
          "model_name": "FloatProgressModel",
          "state": {
            "_dom_classes": [],
            "_model_module": "@jupyter-widgets/controls",
            "_model_module_version": "1.5.0",
            "_model_name": "FloatProgressModel",
            "_view_count": null,
            "_view_module": "@jupyter-widgets/controls",
            "_view_module_version": "1.5.0",
            "_view_name": "ProgressView",
            "bar_style": "success",
            "description": "",
            "description_tooltip": null,
            "layout": "IPY_MODEL_2b2610d6bf51437ba4be6f872df8bd16",
            "max": 72,
            "min": 0,
            "orientation": "horizontal",
            "style": "IPY_MODEL_369f2e1484144043b6b3836b7d96d5b6",
            "value": 72
          }
        },
        "d8ee44e1280c498a9d41de59cf9313cf": {
          "model_module": "@jupyter-widgets/base",
          "model_module_version": "1.2.0",
          "model_name": "LayoutModel",
          "state": {
            "_model_module": "@jupyter-widgets/base",
            "_model_module_version": "1.2.0",
            "_model_name": "LayoutModel",
            "_view_count": null,
            "_view_module": "@jupyter-widgets/base",
            "_view_module_version": "1.2.0",
            "_view_name": "LayoutView",
            "align_content": null,
            "align_items": null,
            "align_self": null,
            "border": null,
            "bottom": null,
            "display": null,
            "flex": null,
            "flex_flow": null,
            "grid_area": null,
            "grid_auto_columns": null,
            "grid_auto_flow": null,
            "grid_auto_rows": null,
            "grid_column": null,
            "grid_gap": null,
            "grid_row": null,
            "grid_template_areas": null,
            "grid_template_columns": null,
            "grid_template_rows": null,
            "height": null,
            "justify_content": null,
            "justify_items": null,
            "left": null,
            "margin": null,
            "max_height": null,
            "max_width": null,
            "min_height": null,
            "min_width": null,
            "object_fit": null,
            "object_position": null,
            "order": null,
            "overflow": null,
            "overflow_x": null,
            "overflow_y": null,
            "padding": null,
            "right": null,
            "top": null,
            "visibility": null,
            "width": null
          }
        },
        "d9102946aa224c6d97c1011d854c88c9": {
          "model_module": "@jupyter-widgets/controls",
          "model_module_version": "1.5.0",
          "model_name": "ProgressStyleModel",
          "state": {
            "_model_module": "@jupyter-widgets/controls",
            "_model_module_version": "1.5.0",
            "_model_name": "ProgressStyleModel",
            "_view_count": null,
            "_view_module": "@jupyter-widgets/base",
            "_view_module_version": "1.2.0",
            "_view_name": "StyleView",
            "bar_color": null,
            "description_width": ""
          }
        },
        "e2ddfaa3b3434ed0a02fbdd5c6f60e62": {
          "model_module": "@jupyter-widgets/controls",
          "model_module_version": "1.5.0",
          "model_name": "HTMLModel",
          "state": {
            "_dom_classes": [],
            "_model_module": "@jupyter-widgets/controls",
            "_model_module_version": "1.5.0",
            "_model_name": "HTMLModel",
            "_view_count": null,
            "_view_module": "@jupyter-widgets/controls",
            "_view_module_version": "1.5.0",
            "_view_name": "HTMLView",
            "description": "",
            "description_tooltip": null,
            "layout": "IPY_MODEL_d8ee44e1280c498a9d41de59cf9313cf",
            "placeholder": "​",
            "style": "IPY_MODEL_6580e4199b2746b2b184f6f20e85d3e5",
            "value": "100%"
          }
        },
        "e8d6f3fd28864f489f229c3dc35305c5": {
          "model_module": "@jupyter-widgets/base",
          "model_module_version": "1.2.0",
          "model_name": "LayoutModel",
          "state": {
            "_model_module": "@jupyter-widgets/base",
            "_model_module_version": "1.2.0",
            "_model_name": "LayoutModel",
            "_view_count": null,
            "_view_module": "@jupyter-widgets/base",
            "_view_module_version": "1.2.0",
            "_view_name": "LayoutView",
            "align_content": null,
            "align_items": null,
            "align_self": null,
            "border": null,
            "bottom": null,
            "display": null,
            "flex": null,
            "flex_flow": null,
            "grid_area": null,
            "grid_auto_columns": null,
            "grid_auto_flow": null,
            "grid_auto_rows": null,
            "grid_column": null,
            "grid_gap": null,
            "grid_row": null,
            "grid_template_areas": null,
            "grid_template_columns": null,
            "grid_template_rows": null,
            "height": null,
            "justify_content": null,
            "justify_items": null,
            "left": null,
            "margin": null,
            "max_height": null,
            "max_width": null,
            "min_height": null,
            "min_width": null,
            "object_fit": null,
            "object_position": null,
            "order": null,
            "overflow": null,
            "overflow_x": null,
            "overflow_y": null,
            "padding": null,
            "right": null,
            "top": null,
            "visibility": null,
            "width": null
          }
        },
        "ffb88c3b7a074428901eb93df602b389": {
          "model_module": "@jupyter-widgets/controls",
          "model_module_version": "1.5.0",
          "model_name": "DescriptionStyleModel",
          "state": {
            "_model_module": "@jupyter-widgets/controls",
            "_model_module_version": "1.5.0",
            "_model_name": "DescriptionStyleModel",
            "_view_count": null,
            "_view_module": "@jupyter-widgets/base",
            "_view_module_version": "1.2.0",
            "_view_name": "StyleView",
            "description_width": ""
          }
        }
      }
    }
  },
  "nbformat": 4,
  "nbformat_minor": 0
}
